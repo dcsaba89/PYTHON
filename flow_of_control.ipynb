{
 "cells": [
  {
   "cell_type": "code",
   "execution_count": 10,
   "metadata": {},
   "outputs": [],
   "source": [
    "# if statement\n",
    "# This statement is used to control the flow of execution within a program based on some condition.\n",
    "# These conditions represent some choice point that will be evaluated to True or False.\n"
   ]
  },
  {
   "cell_type": "code",
   "execution_count": 35,
   "metadata": {},
   "outputs": [],
   "source": [
    "# syntax:\n",
    "\n",
    "# if (condition):\n",
    "#     statements_to_be_executed_if_the_condition_is_true"
   ]
  },
  {
   "cell_type": "code",
   "execution_count": null,
   "metadata": {},
   "outputs": [],
   "source": [
    "# ':' character is key in separating out the conditional part of the if statement from the statements \n",
    "#    that will be executed depending on the condition."
   ]
  },
  {
   "cell_type": "code",
   "execution_count": 2,
   "metadata": {},
   "outputs": [],
   "source": [
    "n = 10\n",
    "if n < 0:\n",
    "    print(n, 'is negative')"
   ]
  },
  {
   "cell_type": "code",
   "execution_count": 11,
   "metadata": {},
   "outputs": [
    {
     "name": "stdout",
     "output_type": "stream",
     "text": [
      "-1 is negative\n"
     ]
    }
   ],
   "source": [
    "n = -1\n",
    "if n < 0:\n",
    "    print(n, 'is negative')"
   ]
  },
  {
   "cell_type": "code",
   "execution_count": null,
   "metadata": {},
   "outputs": [],
   "source": [
    "# syntax:\n",
    "\n",
    "# if (condition):\n",
    "#     statements_to_be_executed_if_the_condition_is_true\n",
    "# else: # else is optional\n",
    "#     statements_to_be_executed_if_the_condition_is_false"
   ]
  },
  {
   "cell_type": "code",
   "execution_count": 4,
   "metadata": {},
   "outputs": [
    {
     "name": "stdout",
     "output_type": "stream",
     "text": [
      "-1 is negative\n"
     ]
    }
   ],
   "source": [
    "n = -1\n",
    "if n < 0:\n",
    "    print(n, 'is negative')\n",
    "else:\n",
    "    print(n, 'is not negative')"
   ]
  },
  {
   "cell_type": "code",
   "execution_count": 12,
   "metadata": {},
   "outputs": [
    {
     "name": "stdout",
     "output_type": "stream",
     "text": [
      "10 is not negative\n"
     ]
    }
   ],
   "source": [
    "n = 10\n",
    "if n < 0:\n",
    "    print(n, 'is negative')\n",
    "else:\n",
    "    print(n, 'is not negative')"
   ]
  },
  {
   "cell_type": "code",
   "execution_count": null,
   "metadata": {},
   "outputs": [],
   "source": [
    "# In some cases there may be several conditions you want to test, with each condition being tested if the previous one failed.\n",
    "# once a condition is true, that block is executed, but the next ones are being ignored.\n",
    "# syntax:\n",
    "\n",
    "\n",
    "# if (condition1):\n",
    "#     statements_to_be_executed_if_the_condition1_is_true\n",
    "# elif (condition2):\n",
    "#     statements_to_be_executed_if_the_condition2_is_true\n",
    "# else: # else is optional\n",
    "#     statements_to_be_executed_if_the_condition1_and_condition2_are_both_false"
   ]
  },
  {
   "cell_type": "code",
   "execution_count": 6,
   "metadata": {},
   "outputs": [
    {
     "name": "stdout",
     "output_type": "stream",
     "text": [
      "-1 is negative\n"
     ]
    }
   ],
   "source": [
    "n = -1\n",
    "if n < 0:\n",
    "    print(n, 'is negative')\n",
    "elif n > 0:\n",
    "    print(n, 'is positive')\n",
    "else:\n",
    "    print(n, 'is zero')      "
   ]
  },
  {
   "cell_type": "code",
   "execution_count": 7,
   "metadata": {},
   "outputs": [
    {
     "name": "stdout",
     "output_type": "stream",
     "text": [
      "0 is zero\n"
     ]
    }
   ],
   "source": [
    "n = 0\n",
    "if n < 0:\n",
    "    print(n, 'is negative')\n",
    "elif n > 0:\n",
    "    print(n, 'is positive')\n",
    "else:\n",
    "    print(n, 'is zero')      "
   ]
  },
  {
   "cell_type": "code",
   "execution_count": 8,
   "metadata": {},
   "outputs": [
    {
     "name": "stdout",
     "output_type": "stream",
     "text": [
      "10 is positive\n"
     ]
    }
   ],
   "source": [
    "n = 10\n",
    "if n < 0:\n",
    "    print(n, 'is negative')\n",
    "elif n > 0:\n",
    "    print(n, 'is positive')\n",
    "else:\n",
    "    print(n, 'is zero')      "
   ]
  },
  {
   "cell_type": "code",
   "execution_count": 9,
   "metadata": {},
   "outputs": [
    {
     "name": "stdout",
     "output_type": "stream",
     "text": [
      "-1 is negative\n"
     ]
    }
   ],
   "source": [
    "n = -1 # all the conditions are true but only the first one is executed\n",
    "if n < 0:\n",
    "    print(n, 'is negative')\n",
    "    n *= -1\n",
    "elif n > 0:\n",
    "    print(n, 'is positive')\n",
    "    n = 0\n",
    "else:\n",
    "    print(n, 'is zero')  "
   ]
  },
  {
   "cell_type": "code",
   "execution_count": 13,
   "metadata": {},
   "outputs": [
    {
     "name": "stdout",
     "output_type": "stream",
     "text": [
      "-1 is negative\n",
      "1 is positive\n",
      "0 is zero\n"
     ]
    }
   ],
   "source": [
    "n = -1\n",
    "if n < 0:\n",
    "    print(n, 'is negative')\n",
    "    n *= -1\n",
    "    \n",
    "if n > 0:\n",
    "    print(n, 'is positive')\n",
    "    n = 0\n",
    "\n",
    "if n == 0:\n",
    "    print(n, 'is zero') "
   ]
  },
  {
   "cell_type": "code",
   "execution_count": 18,
   "metadata": {},
   "outputs": [],
   "source": [
    "if (True):\n",
    "    x = 5\n",
    "else:\n",
    "    x = 10"
   ]
  },
  {
   "cell_type": "code",
   "execution_count": 21,
   "metadata": {},
   "outputs": [
    {
     "data": {
      "text/plain": [
       "5"
      ]
     },
     "execution_count": 21,
     "metadata": {},
     "output_type": "execute_result"
    }
   ],
   "source": [
    "x # variables created within the block are not destroyed automatically"
   ]
  },
  {
   "cell_type": "code",
   "execution_count": null,
   "metadata": {},
   "outputs": [],
   "source": [
    "# If Expressions"
   ]
  },
  {
   "cell_type": "code",
   "execution_count": null,
   "metadata": {},
   "outputs": [],
   "source": [
    "# syntax\n",
    "# do_this_if_the_condition_is_true if condition else do_this_othrewise"
   ]
  },
  {
   "cell_type": "code",
   "execution_count": 22,
   "metadata": {},
   "outputs": [],
   "source": [
    "fruit = 'Apple'"
   ]
  },
  {
   "cell_type": "code",
   "execution_count": 23,
   "metadata": {},
   "outputs": [
    {
     "name": "stdout",
     "output_type": "stream",
     "text": [
      "Apple is a fruit\n"
     ]
    }
   ],
   "source": [
    "print(fruit + \" is a fruit\") if fruit == 'Apple' else print(fruit + \" is not a fruit\") "
   ]
  },
  {
   "cell_type": "code",
   "execution_count": 36,
   "metadata": {},
   "outputs": [
    {
     "name": "stdout",
     "output_type": "stream",
     "text": [
      "10 is even\n"
     ]
    }
   ],
   "source": [
    "x = 10\n",
    "print(str(x) + \" is even\") if x % 2 == 0 else print(str(x) + \" is odd\")"
   ]
  },
  {
   "cell_type": "code",
   "execution_count": 37,
   "metadata": {},
   "outputs": [
    {
     "name": "stdout",
     "output_type": "stream",
     "text": [
      "11 is odd\n"
     ]
    }
   ],
   "source": [
    "x = 11\n",
    "print(str(x) + \" is even\") if x % 2 == 0 else print(str(x) + \" is odd\")"
   ]
  },
  {
   "cell_type": "code",
   "execution_count": 34,
   "metadata": {},
   "outputs": [],
   "source": [
    "# if a value of a variable is used as condition, 0, '' (empty string), None equate to False\n",
    "# Non zero, non empty strings, any object equate to True."
   ]
  },
  {
   "cell_type": "code",
   "execution_count": 28,
   "metadata": {},
   "outputs": [
    {
     "name": "stdout",
     "output_type": "stream",
     "text": [
      "n is None\n"
     ]
    }
   ],
   "source": [
    "n = None\n",
    "print(\"n is not None\") if n is not None else print(\"n is None\") "
   ]
  },
  {
   "cell_type": "code",
   "execution_count": 29,
   "metadata": {},
   "outputs": [
    {
     "name": "stdout",
     "output_type": "stream",
     "text": [
      "n is not None\n"
     ]
    }
   ],
   "source": [
    "n = not None\n",
    "print(\"n is not None\") if n is not None else print(\"n is None\") "
   ]
  },
  {
   "cell_type": "code",
   "execution_count": 30,
   "metadata": {},
   "outputs": [
    {
     "data": {
      "text/plain": [
       "True"
      ]
     },
     "execution_count": 30,
     "metadata": {},
     "output_type": "execute_result"
    }
   ],
   "source": [
    "n"
   ]
  },
  {
   "cell_type": "code",
   "execution_count": 31,
   "metadata": {},
   "outputs": [
    {
     "data": {
      "text/plain": [
       "False"
      ]
     },
     "execution_count": 31,
     "metadata": {},
     "output_type": "execute_result"
    }
   ],
   "source": [
    "n == False"
   ]
  },
  {
   "cell_type": "code",
   "execution_count": null,
   "metadata": {},
   "outputs": [],
   "source": []
  }
 ],
 "metadata": {
  "kernelspec": {
   "display_name": "Python 3",
   "language": "python",
   "name": "python3"
  },
  "language_info": {
   "codemirror_mode": {
    "name": "ipython",
    "version": 3
   },
   "file_extension": ".py",
   "mimetype": "text/x-python",
   "name": "python",
   "nbconvert_exporter": "python",
   "pygments_lexer": "ipython3",
   "version": "3.7.4"
  }
 },
 "nbformat": 4,
 "nbformat_minor": 2
}
