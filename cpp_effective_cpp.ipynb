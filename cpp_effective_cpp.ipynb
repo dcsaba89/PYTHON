{
 "cells": [
  {
   "cell_type": "markdown",
   "metadata": {},
   "source": [
    "# EFFECTIVE C++"
   ]
  },
  {
   "cell_type": "code",
   "execution_count": null,
   "metadata": {},
   "outputs": [],
   "source": [
    "# // Properly used, C++ can be a joy to work with."
   ]
  },
  {
   "cell_type": "code",
   "execution_count": null,
   "metadata": {},
   "outputs": [],
   "source": [
    "# // An enormous variety of designs, both object-oriented and conventional, \n",
    "# // can be expressed directly and implemented efficiently."
   ]
  },
  {
   "cell_type": "code",
   "execution_count": null,
   "metadata": {},
   "outputs": [],
   "source": [
    "# // How to choose between \n",
    "# //     inheritance and templates,\n",
    "# //     templates and generic pointers,\n",
    "# //     public and private inheritance,\n",
    "# //     private inheritance and layering,\n",
    "# //     private inheritance and composition,\n",
    "# //     member and non-member functions,\n",
    "# //     function overloading and parameter defaulting,\n",
    "# //     virtual and nonvirtual functions,\n",
    "# //     pass-by-value and pass-by-reference?"
   ]
  },
  {
   "cell_type": "code",
   "execution_count": null,
   "metadata": {},
   "outputs": [],
   "source": [
    "# // What's the proper return type for the assignment operator? \n",
    "# // How should operator new behave when it can't find enough memory? \n",
    "# // When should a destructor be virtual? \n",
    "# // How should you write a member initialization list?"
   ]
  },
  {
   "cell_type": "code",
   "execution_count": null,
   "metadata": {},
   "outputs": [],
   "source": [
    "# // Other books tell you how to get your programs to compile. \n",
    "# // This book tells you how to avoid problems that compilers will not tell you about."
   ]
  },
  {
   "cell_type": "code",
   "execution_count": null,
   "metadata": {},
   "outputs": [],
   "source": [
    "# // A declaration tells compilers about the name and type of something, but it omits certain details."
   ]
  },
  {
   "cell_type": "code",
   "execution_count": null,
   "metadata": {},
   "outputs": [],
   "source": [
    "# // object declaration\n",
    "extern int x;"
   ]
  },
  {
   "cell_type": "code",
   "execution_count": null,
   "metadata": {},
   "outputs": [],
   "source": [
    "# // function declaration\n",
    "int numDigits(int number);\n",
    "std::size_t numDigits(int number);"
   ]
  },
  {
   "cell_type": "code",
   "execution_count": null,
   "metadata": {},
   "outputs": [],
   "source": [
    "# // class declaration\n",
    "class Clock;\n",
    "class Widget;"
   ]
  },
  {
   "cell_type": "code",
   "execution_count": null,
   "metadata": {},
   "outputs": [],
   "source": [
    "# // template declaration\n",
    "template<class T>\n",
    "class SmartPointer;\n",
    "\n",
    "template<typename T>\n",
    "class GraphNode;"
   ]
  },
  {
   "cell_type": "code",
   "execution_count": null,
   "metadata": {},
   "outputs": [],
   "source": [
    "# // Each function’s declaration reveals its signature, \n",
    "# // i.e., its parameter and return types. \n",
    "# // A function’s signature is the same as its type. \n",
    "# // In the case of numDigits, the signature is std::size_t (int), \n",
    "# // i.e., “function taking an int and returning a std::size_t.”"
   ]
  },
  {
   "cell_type": "code",
   "execution_count": null,
   "metadata": {},
   "outputs": [],
   "source": [
    "# // The official C++ definition of “signature” excludes the function’s return type, \n",
    "# // but it’s more useful to have the return type be considered part of the signature."
   ]
  },
  {
   "cell_type": "code",
   "execution_count": null,
   "metadata": {},
   "outputs": [],
   "source": [
    "# // A definition provides compilers with the details a declaration omits.\n",
    "# // For an object, the definition is where compilers set aside memory for the object.\n",
    "# // For a function or a function template, the definition provides the code body. \n",
    "# // For a class or a class template, the definition lists the members of the class or template:"
   ]
  },
  {
   "cell_type": "code",
   "execution_count": null,
   "metadata": {},
   "outputs": [],
   "source": [
    "# // object definition\n",
    "int x;"
   ]
  },
  {
   "cell_type": "code",
   "execution_count": null,
   "metadata": {},
   "outputs": [],
   "source": [
    "# // function definition (this function returns the number of digits in its parameter)\n",
    "\n",
    "std::size_t numDigits(int number)\n",
    "{\n",
    "    std::size_t digitsSoFar = 1;\n",
    "    while ((number /= 10) != 0) ++digitsSoFar;\n",
    "    return digitsSoFar;\n",
    "}"
   ]
  },
  {
   "cell_type": "code",
   "execution_count": null,
   "metadata": {},
   "outputs": [],
   "source": [
    "# // class definition\n",
    "class Widget\n",
    "{\n",
    "    public:\n",
    "        Widget();\n",
    "        ~Widget();\n",
    "        ...\n",
    "};"
   ]
  },
  {
   "cell_type": "code",
   "execution_count": null,
   "metadata": {},
   "outputs": [],
   "source": [
    "# // template definition\n",
    "template<typename T>\n",
    "class GraphNode\n",
    "{\n",
    "    public:\n",
    "        GraphNode();\n",
    "        ~GraphNode();\n",
    "        ...\n",
    "};"
   ]
  },
  {
   "cell_type": "code",
   "execution_count": null,
   "metadata": {},
   "outputs": [],
   "source": [
    "# // Initialization is the process of giving an object its first value.\n",
    "# // For objects generated from structs and classes, initialization is performed by constructors.\n",
    "# // A default constructor is one that can be called without any arguments.\n",
    "# // Such a constructor either has no parameters or has a default value for every parameter:"
   ]
  },
  {
   "cell_type": "code",
   "execution_count": null,
   "metadata": {},
   "outputs": [],
   "source": [
    "class A \n",
    "{\n",
    "    public:\n",
    "        A(); # // default constructor\n",
    "};"
   ]
  },
  {
   "cell_type": "code",
   "execution_count": null,
   "metadata": {},
   "outputs": [],
   "source": [
    "class B \n",
    "{\n",
    "    public:\n",
    "        explicit B(int x = 0, bool b = true); # // default constructor; see below for info on “explicit”\n",
    "};"
   ]
  },
  {
   "cell_type": "code",
   "execution_count": null,
   "metadata": {},
   "outputs": [],
   "source": [
    "class C \n",
    "{\n",
    "    public:\n",
    "        explicit C(int x); # // not a default constructor\n",
    "};"
   ]
  },
  {
   "cell_type": "code",
   "execution_count": null,
   "metadata": {},
   "outputs": [],
   "source": [
    "# // The constructors for classes B and C are declared explicit here.\n",
    "# // That prevents them from being used to perform implicit type conversions,\n",
    "# // though they may still be used for explicit type conversions:"
   ]
  },
  {
   "cell_type": "code",
   "execution_count": null,
   "metadata": {},
   "outputs": [],
   "source": [
    "# // an object of type B\n",
    "B bObj1;"
   ]
  },
  {
   "cell_type": "code",
   "execution_count": null,
   "metadata": {},
   "outputs": [],
   "source": [
    "# // a function taking an object of type B\n",
    "void doSomething(B bObject);"
   ]
  },
  {
   "cell_type": "code",
   "execution_count": null,
   "metadata": {},
   "outputs": [],
   "source": [
    "# // passing a B to doSomething -- correct\n",
    "doSomething(bObj1);"
   ]
  },
  {
   "cell_type": "code",
   "execution_count": null,
   "metadata": {},
   "outputs": [],
   "source": [
    "# // creates a B from the int 28 (the bool defaults to true) -- correct\n",
    "B bObj2(28);"
   ]
  },
  {
   "cell_type": "code",
   "execution_count": null,
   "metadata": {},
   "outputs": [],
   "source": [
    "// # doSomething takes a B, not an int, and there is no implicit conversion from int to B -- incorrect\n",
    "doSomething(28);"
   ]
  },
  {
   "cell_type": "code",
   "execution_count": null,
   "metadata": {},
   "outputs": [],
   "source": [
    "# // uses the B constructor to explicitly convert (i.e., cast) the int to a B for this call. -- correct\n",
    "doSomething(B(28));"
   ]
  },
  {
   "cell_type": "code",
   "execution_count": null,
   "metadata": {},
   "outputs": [],
   "source": [
    "# // Constructors declared explicit are usually preferable to non-explicit ones, \n",
    "# // because they prevent compilers from performing unexpected (often unintended) type conversions."
   ]
  },
  {
   "cell_type": "code",
   "execution_count": null,
   "metadata": {},
   "outputs": [],
   "source": [
    "# // The copy constructor is used to initialize an object with a different object of the same type"
   ]
  },
  {
   "cell_type": "code",
   "execution_count": null,
   "metadata": {},
   "outputs": [],
   "source": [
    "# // the copy assignment operator is used to copy the value from one object to another of the same type"
   ]
  },
  {
   "cell_type": "code",
   "execution_count": null,
   "metadata": {},
   "outputs": [],
   "source": [
    "class Widget \n",
    "{\n",
    "    public:\n",
    "        Widget(); # // default constructor\n",
    "        Widget(const Widget& rhs); # // copy constructor\n",
    "        Widget& operator=(const Widget& rhs); // copy assignment operator\n",
    "        ...\n",
    "};"
   ]
  },
  {
   "cell_type": "code",
   "execution_count": null,
   "metadata": {},
   "outputs": [],
   "source": [
    "# // invoke default constructor\n",
    "Widget w1;"
   ]
  },
  {
   "cell_type": "code",
   "execution_count": null,
   "metadata": {},
   "outputs": [],
   "source": [
    "# // invoke copy constructor\n",
    "Widget w2(w1);"
   ]
  },
  {
   "cell_type": "code",
   "execution_count": null,
   "metadata": {},
   "outputs": [],
   "source": [
    "# // invoke copy assignment operator\n",
    "w1 = w2;"
   ]
  },
  {
   "cell_type": "code",
   "execution_count": null,
   "metadata": {},
   "outputs": [],
   "source": [
    "# // the \"\"=\" syntax can also be used to call the copy constructor\n",
    "# // invoke copy constructor\n",
    "Widget w3 = w2;"
   ]
  },
  {
   "cell_type": "code",
   "execution_count": null,
   "metadata": {},
   "outputs": [],
   "source": [
    "# // Fortunately, copy construction is easy to distinguish from copy assignment. \n",
    "# // If a new object is being defined (such as w3 in the statement above), a constructor has to be called; \n",
    "# // it can’t be an assignment. \n",
    "# // If no new object is being defined (such as in the “w1 = w2” statement above),\n",
    "# // no constructor can be involved, so it’s an assignment."
   ]
  },
  {
   "cell_type": "code",
   "execution_count": null,
   "metadata": {},
   "outputs": [],
   "source": [
    "# // The copy constructor is a particularly important function, \n",
    "# // because it defines how an object is passed by value."
   ]
  },
  {
   "cell_type": "code",
   "execution_count": null,
   "metadata": {},
   "outputs": [],
   "source": [
    "bool hasAcceptableQuality(Widget w);\n",
    "...\n",
    "Widget aWidget;\n",
    "if (hasAcceptableQuality(aWidget)) \n",
    "..."
   ]
  },
  {
   "cell_type": "code",
   "execution_count": null,
   "metadata": {},
   "outputs": [],
   "source": [
    "# // The parameter w is passed to hasAcceptableQuality by value, \n",
    "# // so in the call above, aWidget is copied into w. \n",
    "# // The copying is done by Widget’s copy constructor. \n",
    "# // Pass-by-value means “call the copy constructor.”\n",
    "\n",
    "# // However, it’s generally a bad idea to pass user-defined types by value. \n",
    "# // Pass-by-reference-to-const is typically a better choice."
   ]
  },
  {
   "cell_type": "code",
   "execution_count": null,
   "metadata": {},
   "outputs": [],
   "source": [
    "# // The STL is the Standard Template Library, the part of C++’s standard library devoted to \n",
    "# // containers (e.g., vector, list, set, map, etc.), \n",
    "# // iterators (e.g., vector<int>::iterator, set<string>::iterator, etc.), \n",
    "# // algorithms (e.g., for_each, find, sort, etc.), and related functionality."
   ]
  },
  {
   "cell_type": "code",
   "execution_count": null,
   "metadata": {},
   "outputs": [],
   "source": [
    "# // Much of that related functionality has to do with function objects\n",
    "# // objects that act like functions"
   ]
  },
  {
   "cell_type": "code",
   "execution_count": null,
   "metadata": {},
   "outputs": [],
   "source": [
    "# // Undefined behavior: \n",
    "# // program will behave erratically, sometimes running normally, \n",
    "# // other times crashing or producing incorrect results\n",
    "\n",
    "# // the behavior of some constructs in C++ is literally not defined\n",
    "# // you can’t reliably predict what will happen at runtime"
   ]
  },
  {
   "cell_type": "code",
   "execution_count": null,
   "metadata": {},
   "outputs": [],
   "source": [
    "# // p is a null pointer\n",
    "int *p = 0;"
   ]
  },
  {
   "cell_type": "code",
   "execution_count": null,
   "metadata": {},
   "outputs": [],
   "source": [
    "# // dereferencing a null pointer --> yields undefined behavior\n",
    "std::cout << *p;"
   ]
  },
  {
   "cell_type": "code",
   "execution_count": null,
   "metadata": {},
   "outputs": [],
   "source": [
    "# name is an array of size 6 (don’t forget the trailing null!)\n",
    "char name[] = \"Darla\";"
   ]
  },
  {
   "cell_type": "code",
   "execution_count": null,
   "metadata": {},
   "outputs": [],
   "source": [
    "# // referring to an invalid array index --> yields undefined behavior\n",
    "char c = name[10];"
   ]
  },
  {
   "cell_type": "markdown",
   "metadata": {},
   "source": [
    "## Accustoming Yourself to C++"
   ]
  },
  {
   "cell_type": "markdown",
   "metadata": {},
   "source": [
    "#### Item 1: View C++ as a federation of languages."
   ]
  },
  {
   "cell_type": "code",
   "execution_count": null,
   "metadata": {},
   "outputs": [],
   "source": [
    "# // In the beginning, C++ was just C with some object-oriented features tacked on. \n",
    "# // Even C++’s original name, “C with Classes,” reflected this simple heritage."
   ]
  },
  {
   "cell_type": "code",
   "execution_count": null,
   "metadata": {},
   "outputs": [],
   "source": [
    "# // Primary sublanguages in C++:"
   ]
  },
  {
   "cell_type": "code",
   "execution_count": null,
   "metadata": {},
   "outputs": [],
   "source": [
    "# // C. \n",
    "# // -----------------------------\n",
    "# // Way down deep, C++ is still based on C. Blocks, statements, the preprocessor, built-in data types, \n",
    "# // arrays, pointers, etc., all come from C.\n",
    "# // In many cases, C++ offers approaches to problems that are superior to their C counterparts \n",
    "# // (e.g., alternatives to the preprocessor and using objects to manage resources),\n",
    "# // but when you find yourself working with the C part of C++, \n",
    "# // the rules for effective programming reflect C’s more limited scope: \n",
    "# // no templates, no exceptions, no overloading, etc."
   ]
  },
  {
   "cell_type": "code",
   "execution_count": null,
   "metadata": {},
   "outputs": [],
   "source": [
    "# // Object-Oriented C++. \n",
    "# // ------------------------------\n",
    "# // This part of C++ is what C with Classes was all about: \n",
    "# // classes (including constructors and destructors), \n",
    "# // encapsulation, inheritance, polymorphism, virtual functions (dynamic binding), etc. \n",
    "# // This is the part of C++ to which the classic rules for object-oriented design most directly apply."
   ]
  },
  {
   "cell_type": "code",
   "execution_count": null,
   "metadata": {},
   "outputs": [],
   "source": [
    "# // Template C++. \n",
    "# // -------------------------------\n",
    "# // This is the generic programming part of C++, the one that most programmers have the least experience with. \n",
    "# // Template considerations pervade C++, and it’s not uncommon for rules of good programming \n",
    "# / to include special template-only clauses (e.g., on facilitating type conversions in calls to template functions). \n",
    "# // In fact, templates are so powerful, they give rise to a completely new programming paradigm, \n",
    "# // template metaprogramming (TMP)\n",
    "# // The rules for TMP rarely interact with mainstream C++ programming."
   ]
  },
  {
   "cell_type": "code",
   "execution_count": null,
   "metadata": {},
   "outputs": [],
   "source": [
    "# // The STL. The STL is a template library, of course, but it’s a very special template library. \n",
    "# // Its conventions regarding containers, iterators, algorithms, and function objects mesh beautifully, \n",
    "# // but templates and libraries can be built around other ideas, too. \n",
    "# // The STL has particular ways of doing things, and when you’re working with the STL, \n",
    "# //you need to be sure to follow its conventions."
   ]
  },
  {
   "cell_type": "code",
   "execution_count": null,
   "metadata": {},
   "outputs": [],
   "source": [
    "# // For example, pass-by-value is generally more efficient than pass-by-reference for built-in (i.e., C-like) types,\n",
    "# // but when you move from the C part of C++ to Object-Oriented C++, \n",
    "# //the existence of user-defined constructors and destructors means that \n",
    "# // pass-by-reference-to-const is usually better"
   ]
  },
  {
   "cell_type": "code",
   "execution_count": null,
   "metadata": {},
   "outputs": [],
   "source": [
    "# // This is especially the case when working in Template C++, \n",
    "# // because there, you don’t even know the type of object you’re dealing with.\n",
    "# // When you cross into the STL, however, you know that iterators and function objects are modeled on pointers in C, \n",
    "# // so for iterators and function objects in the STL, \n",
    "# // the old C pass-by-value rule applies again."
   ]
  },
  {
   "cell_type": "code",
   "execution_count": null,
   "metadata": {},
   "outputs": [],
   "source": [
    "# // C++, then, isn’t a unified language with a single set of rules; \n",
    "# // it’s a federation of four sublanguages, each with its own conventions. \n",
    "# // Keep these sublanguages in mind, and you’ll find that C++ is a lot easier to understand."
   ]
  },
  {
   "cell_type": "code",
   "execution_count": null,
   "metadata": {},
   "outputs": [],
   "source": [
    "# // Rules for effective C++ programming vary, depending on the part of C++ you are using."
   ]
  },
  {
   "cell_type": "code",
   "execution_count": null,
   "metadata": {},
   "outputs": [],
   "source": []
  },
  {
   "cell_type": "markdown",
   "metadata": {},
   "source": [
    "#### Item 2: Prefer consts, enums, and inlines to #defines."
   ]
  },
  {
   "cell_type": "code",
   "execution_count": null,
   "metadata": {},
   "outputs": [],
   "source": [
    "# prefer the compiler to the preprocessor"
   ]
  },
  {
   "cell_type": "code",
   "execution_count": null,
   "metadata": {},
   "outputs": [],
   "source": [
    "# // instead of using a macro:\n",
    "# // uppercase names are usually for macros, hence the name will change\n",
    "#define ASPECT_RATIO 1.653\n",
    "# // replace the macro with a constant\n",
    "const double AspectRatio = 1.653;"
   ]
  },
  {
   "cell_type": "code",
   "execution_count": null,
   "metadata": {},
   "outputs": [],
   "source": [
    "# // As a language constant, AspectRatio is definitely seen by compilers and is certainly entered into their symbol tables.\n",
    "\n",
    "# // In addition, in the case of a floating point constant (such as in this example), \n",
    "# // use of the constant may yield smaller code than using a #define. \n",
    "# // That’s because the preprocessor’s blind substitution of the macro name ASPECT_RATIO with 1.653 \n",
    "# // could result in multiple copies of 1.653 in your object code,\n",
    "# // while the use of the constant AspectRatio should never result in more than one copy."
   ]
  },
  {
   "cell_type": "code",
   "execution_count": null,
   "metadata": {},
   "outputs": [],
   "source": [
    "# When replacing #defines with constants, two special cases are worth mentioning."
   ]
  },
  {
   "cell_type": "code",
   "execution_count": null,
   "metadata": {},
   "outputs": [],
   "source": [
    "# // The first is defining constant pointers. \n",
    "# // Because constant definitions are typically put in header files \n",
    "# // (where many different source files will include them), \n",
    "# // it’s important that the pointer be declared const, usually in addition to what the pointer points to. \n",
    "# // To define a constant char*-based string in a header file, for example, you have to write const twice:\n",
    "const char * const authorName = \"Scott Meyers\";"
   ]
  },
  {
   "cell_type": "code",
   "execution_count": null,
   "metadata": {},
   "outputs": [],
   "source": [
    "# // string objects are generally preferable to their char*-based progenitors, \n",
    "# // so authorName is often better defined this way:\n",
    "const std::string authorName(\"Scott Meyers\");"
   ]
  },
  {
   "cell_type": "code",
   "execution_count": null,
   "metadata": {},
   "outputs": [],
   "source": [
    "# // The second special case concerns class-specific constants. \n",
    "# // To limit the scope of a constant to a class, you must make it a member, \n",
    "# // and to ensure there’s at most one copy of the constant, you must make it a static member:\n",
    "\n",
    "class GamePlayer \n",
    "{\n",
    "    private:\n",
    "        static const int NumTurns = 5; # // constant declaration\n",
    "        int scores[NumTurns]; // use of constant\n",
    "        ...\n",
    "};"
   ]
  },
  {
   "cell_type": "code",
   "execution_count": null,
   "metadata": {},
   "outputs": [],
   "source": [
    "# // Usually, C++ requires that you provide a definition for anything you use, \n",
    "# // but class-specific constants that are static and of integral type (e.g., integers, chars, bools) are exceptions."
   ]
  },
  {
   "cell_type": "code",
   "execution_count": null,
   "metadata": {},
   "outputs": [],
   "source": [
    "# // As long as you don’t take their address, you can declare them and use them without providing a definition."
   ]
  },
  {
   "cell_type": "code",
   "execution_count": null,
   "metadata": {},
   "outputs": [],
   "source": [
    "# // If you do take the address of a class constant, or if your compiler incorrectly insists on a definition \n",
    "# // even if you don’t take the address, you provide a separate definition like this:\n",
    "const int GamePlayer::NumTurns; # // definition of NumTurns"
   ]
  },
  {
   "cell_type": "code",
   "execution_count": null,
   "metadata": {},
   "outputs": [],
   "source": [
    "# // There’s no way to create a class-specific constant using a #define, \n",
    "# // because #defines don’t respect scope. \n",
    "# // Once a macro is defined, it’s in force for the rest of the compilation \n",
    "# // (unless it’s #undefed somewhere along the line)."
   ]
  },
  {
   "cell_type": "code",
   "execution_count": null,
   "metadata": {},
   "outputs": [],
   "source": [
    "# // Which means that not only can’t #defines be used for class-specific constants, \n",
    "# // they also can’t be used to provide any kind of encapsulation, \n",
    "# // i.e., there is no such thing as a “private” #define. \n",
    "# // Of course, const data members can be encapsulated; NumTurns is."
   ]
  },
  {
   "cell_type": "code",
   "execution_count": null,
   "metadata": {},
   "outputs": [],
   "source": [
    "# // Older compilers may not accept the syntax above, \n",
    "# // because it used to be illegal to provide an initial value for a static class member at its point of declaration. \n",
    "# // Furthermore, in-class initialization is allowed only for integral types and only for constants."
   ]
  },
  {
   "cell_type": "code",
   "execution_count": null,
   "metadata": {},
   "outputs": [],
   "source": [
    "# // In cases where the above syntax can’t be used, you put the initial value at the point of definition:\n",
    "class CostEstimate \n",
    "{\n",
    "    private:\n",
    "        static const double FudgeFactor; # // declaration of static class\n",
    "        ... # // constant; goes in header file\n",
    "};\n",
    "\n",
    "const double                                   # // definition of static class\n",
    "             CostEstimate::FudgeFactor = 1.35; # // constant"
   ]
  },
  {
   "cell_type": "code",
   "execution_count": null,
   "metadata": {},
   "outputs": [],
   "source": [
    "# // The only exception is when you need the value of a class constant during compilation of the class\n",
    "# // Then the accepted way to compensate for compilers that (incorrectly) \n",
    "# // forbid the in-class specification of initial values for static integral class\n",
    "# // constants is to use what is affectionately (and non-pejoratively) known as “the enum hack.”"
   ]
  },
  {
   "cell_type": "code",
   "execution_count": null,
   "metadata": {},
   "outputs": [],
   "source": [
    "# // This technique takes advantage of the fact that the values of an enumerated type can be used where ints are expected,\n",
    "# // so GamePlayer could just as well be defined like this:\n",
    "class GamePlayer \n",
    "{\n",
    "    private:\n",
    "        enum { NumTurns = 5 }; // “the enum hack” — makes NumTurns a symbolic name for 5\n",
    "        int scores[NumTurns];\n",
    "        ...\n",
    "};"
   ]
  },
  {
   "cell_type": "code",
   "execution_count": null,
   "metadata": {},
   "outputs": [],
   "source": [
    "# // The enum hack is worth knowing about for several reasons. \n",
    "# // First, the enum hack behaves in some ways more like a #define than a const does, \n",
    "# // and sometimes that’s what you want. \n",
    "# // For example, it’s legal to take the address of a const, \n",
    "# // but it’s not legal to take the address of an enum, \n",
    "# // and it’s typically not legal to take the address of a #define, either."
   ]
  },
  {
   "cell_type": "code",
   "execution_count": null,
   "metadata": {},
   "outputs": [],
   "source": [
    "# // If you don’t want to let people get a pointer or reference to one of your integral constants,\n",
    "# // an enum is a good way to enforce that constraint."
   ]
  },
  {
   "cell_type": "code",
   "execution_count": null,
   "metadata": {},
   "outputs": [],
   "source": [
    "# // Also, though good compilers won’t set aside storage for const objects of integral types \n",
    "# // (unless you create a pointer or reference to the object), \n",
    "# // sloppy compilers may, and you may not be willing to set aside memory for such objects. \n",
    "# // Like #defines, enums never result in that kind of unnecessary memory allocation."
   ]
  },
  {
   "cell_type": "code",
   "execution_count": null,
   "metadata": {},
   "outputs": [],
   "source": [
    "# // A second reason to know about the enum hack is purely pragmatic.\n",
    "# // Lots of code employs it, so you need to recognize it when you see it. \n",
    "# // In fact, the enum hack is a fundamental technique of template metaprogramming"
   ]
  },
  {
   "cell_type": "code",
   "execution_count": null,
   "metadata": {},
   "outputs": [],
   "source": [
    "# // Getting back to the preprocessor, another common (mis)use of the #define directive is \n",
    "# // using it to implement macros that look like functions, but that don’t incur the overhead of a function call. \n",
    "# // Here’s a macro that calls some function f with the greater of the macro’s arguments:\n",
    "\n",
    "#// call f with the maximum of a and b\n",
    "#define CALL_WITH_MAX(a, b) f((a) > (b) ? (a) : (b))"
   ]
  },
  {
   "cell_type": "code",
   "execution_count": null,
   "metadata": {},
   "outputs": [],
   "source": [
    "# // Whenever you write this kind of macro, you have to remember to parenthesize all the arguments in the macro body. \n",
    "# // Otherwise you can run into trouble when somebody calls the macro with an expression.\n",
    "# // But even if you get that right, look at the weird things that can happen:\n",
    "int a = 5, b = 0;\n",
    "CALL_WITH_MAX(++a, b); # // a is incremented twice\n",
    "CALL_WITH_MAX(++a, b+10); # // a is incremented once"
   ]
  },
  {
   "cell_type": "code",
   "execution_count": null,
   "metadata": {},
   "outputs": [],
   "source": [
    "# // Here, the number of times that a is incremented before calling f depends on what it is being compared with!\n",
    "# // Fortunately, you don’t need to put up with this nonsense. \n",
    "# // You can get all the efficiency of a macro plus all the predictable behavior and type safety of a \n",
    "# // regular function by using a template for an inline function\n",
    "\n",
    "# // This template generates a whole family of functions, \n",
    "# // each of which takes two objects of the same type and calls f with the greater of the two objects.\n",
    "template<typename T> # // because we don’t know what T is, we pass by reference-to-const\n",
    "inline void callWithMax(const T& a, const T& b)\n",
    "{ \n",
    "    f(a > b ? a : b); \n",
    "}"
   ]
  },
  {
   "cell_type": "code",
   "execution_count": null,
   "metadata": {},
   "outputs": [],
   "source": [
    "# // There’s no need to parenthesize parameters inside the function body, \n",
    "# // no need to worry about evaluating parameters multiple times, etc. \n",
    "# // Furthermore, because callWithMax is a real function, it obeys scope and access rules. \n",
    "# // For example, it makes perfect sense to talk about an inline function that is private to a class. \n",
    "# // In general, there’s just no way to do that with a macro."
   ]
  },
  {
   "cell_type": "code",
   "execution_count": null,
   "metadata": {},
   "outputs": [],
   "source": [
    "# // Given the availability of consts, enums, and inlines, your need for the preprocessor \n",
    "# // (especially #define) is reduced, but it’s not eliminated. \n",
    "# // #include remains essential, and #ifdef/#ifndef continue to play important roles in controlling compilation. \n",
    "# // It’s not yet time to retire the preprocessor, but you should definitely give it long and frequent vacations."
   ]
  },
  {
   "cell_type": "code",
   "execution_count": null,
   "metadata": {},
   "outputs": [],
   "source": [
    "# // ✦ For simple constants, prefer const objects or enums to #defines.\n",
    "# // ✦ For function-like macros, prefer inline functions to #defines."
   ]
  },
  {
   "cell_type": "markdown",
   "metadata": {},
   "source": [
    "#### Item 3: Use const whenever possible."
   ]
  },
  {
   "cell_type": "code",
   "execution_count": null,
   "metadata": {},
   "outputs": [],
   "source": [
    "# // The wonderful thing about const is that it allows you to specify a semantic constraint \n",
    "# // — a particular object should not be modified — and compilers will enforce that constraint. \n",
    "# // It allows you to communicate to both compilers and other programmers that a value should remain invariant. \n",
    "# // Whenever that is true, you should be sure to say so, because that way you enlist your compilers’ aid \n",
    "# // in making sure the constraint isn’t violated."
   ]
  },
  {
   "cell_type": "code",
   "execution_count": null,
   "metadata": {},
   "outputs": [],
   "source": [
    "# // The const keyword is remarkably versatile. \n",
    "# // Outside of classes, you can use it for constants at global or namespace scope, as well\n",
    "# // as for objects declared static at file, function, or block scope. \n",
    "# // Inside classes, you can use it for both static and non-static data members.\n",
    "# // For pointers, you can specify whether the pointer itself is const, the data it points to is const, both, or neither:\n"
   ]
  },
  {
   "cell_type": "code",
   "execution_count": null,
   "metadata": {},
   "outputs": [],
   "source": [
    "char greeting[] = \"Hello\";\n",
    "# // non-const pointer, non-const data\n",
    "char *p = greeting; \n",
    "# // non-const pointer, const data\n",
    "const char *p = greeting;\n",
    "# // const pointer, non-const data\n",
    "char * const p = greeting; \n",
    "# // const pointer, const data\n",
    "const char * const p = greeting;"
   ]
  },
  {
   "cell_type": "code",
   "execution_count": null,
   "metadata": {},
   "outputs": [],
   "source": [
    "# // If the word const appears to the left of the asterisk, what’s pointed to is constant"
   ]
  },
  {
   "cell_type": "code",
   "execution_count": null,
   "metadata": {},
   "outputs": [],
   "source": [
    "# // If the word const appears to the right of the asterisk, the pointer itself is constant"
   ]
  },
  {
   "cell_type": "code",
   "execution_count": null,
   "metadata": {},
   "outputs": [],
   "source": [
    "# // If const appears on both sides, both are constant"
   ]
  },
  {
   "cell_type": "code",
   "execution_count": null,
   "metadata": {},
   "outputs": [],
   "source": [
    "# // Some programmers list const before the type. \n",
    "# // Others list it after the type but before the asterisk.\n",
    "# // There is no difference in meaning, so the following functions take the same parameter type:\n",
    "\n",
    "# // f1 takes a pointer to a constant Widget object\n",
    "void f1(const Widget *pw);\n",
    "# // so does f2\n",
    "void f2(Widget const *pw); "
   ]
  },
  {
   "cell_type": "code",
   "execution_count": null,
   "metadata": {},
   "outputs": [],
   "source": [
    "# Because both forms exist in real code, you should accustom yourself to both of them."
   ]
  },
  {
   "cell_type": "code",
   "execution_count": null,
   "metadata": {},
   "outputs": [],
   "source": []
  },
  {
   "cell_type": "code",
   "execution_count": null,
   "metadata": {},
   "outputs": [],
   "source": [
    "# // STL iterators are modeled on pointers, so an iterator acts much like a T* pointer. \n",
    "# // Declaring an iterator const is like declaring a pointer const (i.e., declaring a T* const pointer): \n",
    "# // the iterator isn’t allowed to point to something different, but the thing it points to may be modified. \n",
    "# // If you want an iterator that points to something that can’t be modified (i.e., the STL analogue of a const T* pointer), \n",
    "# // you want a const_iterator:\n",
    "std::vector<int> vec;\n",
    "...\n",
    "# // iter acts like a T* const\n",
    "const std::vector<int>::iterator iter = vec.begin();\n",
    "# // changes what iter points to -- correct             \n",
    "*iter = 10;\n",
    "# // // iter is const -- incorrect\n",
    "++iter;"
   ]
  },
  {
   "cell_type": "code",
   "execution_count": null,
   "metadata": {},
   "outputs": [],
   "source": [
    "# // cIter acts like a const T*\n",
    "std::vector<int>::const_iterator cIter = vec.begin();\n",
    "# // *cIter is const -- incorrect\n",
    "*cIter = 10;\n",
    "# // changes cIter -- correct\n",
    "++cIter;"
   ]
  },
  {
   "cell_type": "code",
   "execution_count": null,
   "metadata": {},
   "outputs": [],
   "source": [
    "# // Some of the most powerful uses of const stem from its application to function declarations. \n",
    "# // Within a function declaration, const can refer to the function’s return value, to individual parameters, \n",
    "# // and, for member functions, to the function as a whole."
   ]
  },
  {
   "cell_type": "code",
   "execution_count": null,
   "metadata": {},
   "outputs": [],
   "source": [
    "# // Having a function return a constant value is generally inappropriate,\n",
    "# // but sometimes doing so can reduce the incidence of client errors without giving up safety or efficiency. \n",
    "# // For example, consider the declaration of the operator* function for rational numbers\n",
    "class Rational \n",
    "{\n",
    "    ...\n",
    "};\n",
    "const Rational operator*(const Rational& p, const Rational& q);"
   ]
  },
  {
   "cell_type": "code",
   "execution_count": null,
   "metadata": {},
   "outputs": [],
   "source": [
    "# // Why should the result of operator* be a const object? \n",
    "# // Because if it weren’t, clients would be able to commit atrocities like this:\n",
    "Rational a, b, c;\n",
    "...\n",
    "# // invoke operator= on the result of a*b!\n",
    "(a * b) = c;"
   ]
  },
  {
   "cell_type": "code",
   "execution_count": null,
   "metadata": {},
   "outputs": [],
   "source": [
    "# // I don’t know why any programmer would want to make an assignment to the product of two numbers, \n",
    "# // but I do know that many programmers have tried to do it without wanting to. \n",
    "# // All it takes is a simple typo (and a type that can be implicitly converted to bool):\n",
    "# // oops, meant to do a comparison!\n",
    "if (a * b = c) ...\n",
    "# // Declaring operator*’s return value const prevents it, and that’s why it’s The Right Thing To Do in this case."
   ]
  },
  {
   "cell_type": "code",
   "execution_count": null,
   "metadata": {},
   "outputs": [],
   "source": [
    "# // const parameters act like local const objects"
   ]
  },
  {
   "cell_type": "code",
   "execution_count": null,
   "metadata": {},
   "outputs": [],
   "source": [
    "# // Unless you need to be able to modify a parameter or local object, be sure to declare it const."
   ]
  },
  {
   "cell_type": "code",
   "execution_count": null,
   "metadata": {},
   "outputs": [],
   "source": [
    "# The purpose of const on member functions is to identify which member functions may be invoked on const objects."
   ]
  },
  {
   "cell_type": "code",
   "execution_count": null,
   "metadata": {},
   "outputs": [],
   "source": [
    "# // make the interface of a class easier to understand.\n",
    "# // make it possible to work with const objects."
   ]
  },
  {
   "cell_type": "code",
   "execution_count": null,
   "metadata": {},
   "outputs": [],
   "source": [
    "# // That’s a critical aspect of writing efficient code, because one of the fundamental ways to improve a \n",
    "# // C++ program’s performance is to pass objects by reference-to-const.\n",
    "# // That technique is viable only if there are const member functions with which \n",
    "# // to manipulate the resulting const-qualified objects."
   ]
  },
  {
   "cell_type": "code",
   "execution_count": null,
   "metadata": {},
   "outputs": [],
   "source": [
    "# // member functions differing only in their constness can be overloaded, but this is an important feature of C++"
   ]
  },
  {
   "cell_type": "code",
   "execution_count": null,
   "metadata": {},
   "outputs": [],
   "source": [
    "class TextBlock \n",
    "{\n",
    "    public:\n",
    "        ...\n",
    "    # // operator[] for const objects\n",
    "    const char& operator[](std::size_t position) const \n",
    "    {\n",
    "        return text[position];\n",
    "    }\n",
    "    # // operator[] for non-const objects\n",
    "    char& operator[](std::size_t position) \n",
    "    {\n",
    "        return text[position];\n",
    "    }\n",
    "    private:\n",
    "        std::string text;\n",
    "};"
   ]
  },
  {
   "cell_type": "code",
   "execution_count": null,
   "metadata": {},
   "outputs": [],
   "source": [
    "# // TextBlock’s operator[]s can be used like this:\n",
    "TextBlock tb(\"Hello\");\n",
    "# // calls non-const TextBlock::operator[]\n",
    "std::cout << tb[0];\n",
    "# // calls const TextBlock::operator[]\n",
    "const TextBlock ctb(\"World\");\n",
    "std::cout << ctb[0];"
   ]
  },
  {
   "cell_type": "code",
   "execution_count": null,
   "metadata": {},
   "outputs": [],
   "source": [
    "# // Incidentally, const objects most often arise in real programs as a result of being \n",
    "# // passed by pointer- or reference-to-const."
   ]
  },
  {
   "cell_type": "code",
   "execution_count": null,
   "metadata": {},
   "outputs": [],
   "source": [
    "# // in this function, ctb is const\n",
    "void print(const TextBlock& ctb)\n",
    "{\n",
    "    # // calls const TextBlock::operator[]\n",
    "    std::cout << ctb[0];\n",
    "    ...\n",
    "}"
   ]
  },
  {
   "cell_type": "code",
   "execution_count": null,
   "metadata": {},
   "outputs": [],
   "source": [
    "# const and non-const TextBlocks handled differently\n",
    "# // reading a non-const TextBlock -- correct\n",
    "std::cout << tb[0];"
   ]
  },
  {
   "cell_type": "code",
   "execution_count": null,
   "metadata": {},
   "outputs": [],
   "source": [
    "# // writing a non-const TextBlock -- correct\n",
    "tb[0] = 'x';"
   ]
  },
  {
   "cell_type": "code",
   "execution_count": null,
   "metadata": {},
   "outputs": [],
   "source": [
    "# // reading a const TextBlock -- correct\n",
    "std::cout << ctb[0];"
   ]
  },
  {
   "cell_type": "code",
   "execution_count": null,
   "metadata": {},
   "outputs": [],
   "source": [
    "# // writing a const TextBlock -- incorrect\n",
    "# // error arises out of an attempt to make an assignment to a const char&, \n",
    "# // because that’s the return type from the const version of operator[]\n",
    "ctb[0] = 'x';"
   ]
  },
  {
   "cell_type": "code",
   "execution_count": null,
   "metadata": {},
   "outputs": [],
   "source": [
    "# // the return type of the non-const operator[] is a reference to a char — a char itself would not do."
   ]
  },
  {
   "cell_type": "code",
   "execution_count": null,
   "metadata": {},
   "outputs": [],
   "source": [
    "# // If operator[] did return a simple char, statements like this wouldn’t compile:\n",
    "tb[0] = 'x';"
   ]
  },
  {
   "cell_type": "code",
   "execution_count": null,
   "metadata": {},
   "outputs": [],
   "source": [
    "# // That’s because it’s never legal to modify the return value of a function that returns a built-in type."
   ]
  },
  {
   "cell_type": "code",
   "execution_count": null,
   "metadata": {},
   "outputs": [],
   "source": [
    "# There are two prevailing notions: bitwise constness (also known as physical constness) and logical constness"
   ]
  },
  {
   "cell_type": "code",
   "execution_count": null,
   "metadata": {},
   "outputs": [],
   "source": [
    "# // member function is const if and only if it doesn’t modify any of the object’s data members \n",
    "# //(excluding those that are static)"
   ]
  },
  {
   "cell_type": "code",
   "execution_count": null,
   "metadata": {},
   "outputs": [],
   "source": []
  },
  {
   "cell_type": "code",
   "execution_count": null,
   "metadata": {},
   "outputs": [],
   "source": []
  }
 ],
 "metadata": {
  "kernelspec": {
   "display_name": "Python 3",
   "language": "python",
   "name": "python3"
  },
  "language_info": {
   "codemirror_mode": {
    "name": "ipython",
    "version": 3
   },
   "file_extension": ".py",
   "mimetype": "text/x-python",
   "name": "python",
   "nbconvert_exporter": "python",
   "pygments_lexer": "ipython3",
   "version": "3.7.4"
  }
 },
 "nbformat": 4,
 "nbformat_minor": 2
}
