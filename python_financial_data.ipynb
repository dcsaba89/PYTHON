{
 "cells": [
  {
   "cell_type": "code",
   "execution_count": 350,
   "metadata": {},
   "outputs": [],
   "source": [
    "import matplotlib.pyplot as plt\n",
    "import pandas as pd\n",
    "import numpy as np\n",
    "import datetime as dt\n",
    "import time\n",
    "\n",
    "import scipy as sp\n",
    "import scipy.stats as stats\n",
    "from scipy import stats\n",
    "from scipy.stats import norm\n"
   ]
  },
  {
   "cell_type": "code",
   "execution_count": 475,
   "metadata": {},
   "outputs": [],
   "source": [
    "# conda install -c anaconda pandas-datareader\n",
    "from pandas_datareader import data, wb"
   ]
  },
  {
   "cell_type": "code",
   "execution_count": 476,
   "metadata": {},
   "outputs": [],
   "source": [
    "# pip install bs4\n",
    "from bs4 import BeautifulSoup\n",
    "import requests"
   ]
  },
  {
   "cell_type": "code",
   "execution_count": 4,
   "metadata": {},
   "outputs": [],
   "source": [
    "# Define the instruments to download. We would like to see Apple, Microsoft and the S&P500 index.\n",
    "tickers = ['AAPL', 'MSFT', '^GSPC']"
   ]
  },
  {
   "cell_type": "code",
   "execution_count": 5,
   "metadata": {},
   "outputs": [],
   "source": [
    "# We would like all available data from 01/01/2000 until 12/31/2016.\n",
    "start_date = '2010-01-01'\n",
    "end_date = '2016-12-31'"
   ]
  },
  {
   "cell_type": "code",
   "execution_count": 6,
   "metadata": {},
   "outputs": [
    {
     "ename": "NotImplementedError",
     "evalue": "data_source='google' is not implemented",
     "output_type": "error",
     "traceback": [
      "\u001b[1;31m---------------------------------------------------------------------------\u001b[0m",
      "\u001b[1;31mNotImplementedError\u001b[0m                       Traceback (most recent call last)",
      "\u001b[1;32m<ipython-input-6-f3351d1f6ea3>\u001b[0m in \u001b[0;36m<module>\u001b[1;34m\u001b[0m\n\u001b[0;32m      1\u001b[0m \u001b[1;31m# User pandas_reader.data.DataReader to load the desired data. As simple as that.\u001b[0m\u001b[1;33m\u001b[0m\u001b[1;33m\u001b[0m\u001b[1;33m\u001b[0m\u001b[0m\n\u001b[1;32m----> 2\u001b[1;33m \u001b[0mpanel_data\u001b[0m \u001b[1;33m=\u001b[0m \u001b[0mdata\u001b[0m\u001b[1;33m.\u001b[0m\u001b[0mDataReader\u001b[0m\u001b[1;33m(\u001b[0m\u001b[1;34m'INPX'\u001b[0m\u001b[1;33m,\u001b[0m \u001b[1;34m'google'\u001b[0m\u001b[1;33m,\u001b[0m \u001b[0mstart_date\u001b[0m\u001b[1;33m,\u001b[0m \u001b[0mend_date\u001b[0m\u001b[1;33m)\u001b[0m\u001b[1;33m\u001b[0m\u001b[1;33m\u001b[0m\u001b[0m\n\u001b[0m",
      "\u001b[1;32mC:\\ProgramData\\Anaconda3\\lib\\site-packages\\pandas\\util\\_decorators.py\u001b[0m in \u001b[0;36mwrapper\u001b[1;34m(*args, **kwargs)\u001b[0m\n\u001b[0;32m    206\u001b[0m                 \u001b[1;32melse\u001b[0m\u001b[1;33m:\u001b[0m\u001b[1;33m\u001b[0m\u001b[1;33m\u001b[0m\u001b[0m\n\u001b[0;32m    207\u001b[0m                     \u001b[0mkwargs\u001b[0m\u001b[1;33m[\u001b[0m\u001b[0mnew_arg_name\u001b[0m\u001b[1;33m]\u001b[0m \u001b[1;33m=\u001b[0m \u001b[0mnew_arg_value\u001b[0m\u001b[1;33m\u001b[0m\u001b[1;33m\u001b[0m\u001b[0m\n\u001b[1;32m--> 208\u001b[1;33m             \u001b[1;32mreturn\u001b[0m \u001b[0mfunc\u001b[0m\u001b[1;33m(\u001b[0m\u001b[1;33m*\u001b[0m\u001b[0margs\u001b[0m\u001b[1;33m,\u001b[0m \u001b[1;33m**\u001b[0m\u001b[0mkwargs\u001b[0m\u001b[1;33m)\u001b[0m\u001b[1;33m\u001b[0m\u001b[1;33m\u001b[0m\u001b[0m\n\u001b[0m\u001b[0;32m    209\u001b[0m \u001b[1;33m\u001b[0m\u001b[0m\n\u001b[0;32m    210\u001b[0m         \u001b[1;32mreturn\u001b[0m \u001b[0mwrapper\u001b[0m\u001b[1;33m\u001b[0m\u001b[1;33m\u001b[0m\u001b[0m\n",
      "\u001b[1;32mC:\\ProgramData\\Anaconda3\\lib\\site-packages\\pandas_datareader\\data.py\u001b[0m in \u001b[0;36mDataReader\u001b[1;34m(name, data_source, start, end, retry_count, pause, session, api_key)\u001b[0m\n\u001b[0;32m    374\u001b[0m     \u001b[1;32mif\u001b[0m \u001b[0mdata_source\u001b[0m \u001b[1;32mnot\u001b[0m \u001b[1;32min\u001b[0m \u001b[0mexpected_source\u001b[0m\u001b[1;33m:\u001b[0m\u001b[1;33m\u001b[0m\u001b[1;33m\u001b[0m\u001b[0m\n\u001b[0;32m    375\u001b[0m         \u001b[0mmsg\u001b[0m \u001b[1;33m=\u001b[0m \u001b[1;34m\"data_source=%r is not implemented\"\u001b[0m \u001b[1;33m%\u001b[0m \u001b[0mdata_source\u001b[0m\u001b[1;33m\u001b[0m\u001b[1;33m\u001b[0m\u001b[0m\n\u001b[1;32m--> 376\u001b[1;33m         \u001b[1;32mraise\u001b[0m \u001b[0mNotImplementedError\u001b[0m\u001b[1;33m(\u001b[0m\u001b[0mmsg\u001b[0m\u001b[1;33m)\u001b[0m\u001b[1;33m\u001b[0m\u001b[1;33m\u001b[0m\u001b[0m\n\u001b[0m\u001b[0;32m    377\u001b[0m \u001b[1;33m\u001b[0m\u001b[0m\n\u001b[0;32m    378\u001b[0m     \u001b[1;32mif\u001b[0m \u001b[0mdata_source\u001b[0m \u001b[1;33m==\u001b[0m \u001b[1;34m\"yahoo\"\u001b[0m\u001b[1;33m:\u001b[0m\u001b[1;33m\u001b[0m\u001b[1;33m\u001b[0m\u001b[0m\n",
      "\u001b[1;31mNotImplementedError\u001b[0m: data_source='google' is not implemented"
     ]
    }
   ],
   "source": [
    "# User pandas_reader.data.DataReader to load the desired data. As simple as that.\n",
    "panel_data = data.DataReader('INPX', 'google', start_date, end_date)"
   ]
  },
  {
   "cell_type": "code",
   "execution_count": 10,
   "metadata": {},
   "outputs": [
    {
     "data": {
      "text/html": [
       "<div>\n",
       "<style scoped>\n",
       "    .dataframe tbody tr th:only-of-type {\n",
       "        vertical-align: middle;\n",
       "    }\n",
       "\n",
       "    .dataframe tbody tr th {\n",
       "        vertical-align: top;\n",
       "    }\n",
       "\n",
       "    .dataframe thead th {\n",
       "        text-align: right;\n",
       "    }\n",
       "</style>\n",
       "<table border=\"1\" class=\"dataframe\">\n",
       "  <thead>\n",
       "    <tr style=\"text-align: right;\">\n",
       "      <th></th>\n",
       "      <th>High</th>\n",
       "      <th>Low</th>\n",
       "      <th>Open</th>\n",
       "      <th>Close</th>\n",
       "      <th>Volume</th>\n",
       "      <th>Adj Close</th>\n",
       "    </tr>\n",
       "    <tr>\n",
       "      <th>Date</th>\n",
       "      <th></th>\n",
       "      <th></th>\n",
       "      <th></th>\n",
       "      <th></th>\n",
       "      <th></th>\n",
       "      <th></th>\n",
       "    </tr>\n",
       "  </thead>\n",
       "  <tbody>\n",
       "    <tr>\n",
       "      <td>2015-01-02</td>\n",
       "      <td>535.799988</td>\n",
       "      <td>527.880005</td>\n",
       "      <td>532.599976</td>\n",
       "      <td>529.549988</td>\n",
       "      <td>1324000</td>\n",
       "      <td>529.549988</td>\n",
       "    </tr>\n",
       "    <tr>\n",
       "      <td>2015-01-05</td>\n",
       "      <td>527.989990</td>\n",
       "      <td>517.750000</td>\n",
       "      <td>527.150024</td>\n",
       "      <td>519.460022</td>\n",
       "      <td>2059100</td>\n",
       "      <td>519.460022</td>\n",
       "    </tr>\n",
       "    <tr>\n",
       "      <td>2015-01-06</td>\n",
       "      <td>521.210022</td>\n",
       "      <td>505.549988</td>\n",
       "      <td>520.500000</td>\n",
       "      <td>506.640015</td>\n",
       "      <td>2722800</td>\n",
       "      <td>506.640015</td>\n",
       "    </tr>\n",
       "    <tr>\n",
       "      <td>2015-01-07</td>\n",
       "      <td>511.489990</td>\n",
       "      <td>503.649994</td>\n",
       "      <td>510.950012</td>\n",
       "      <td>505.149994</td>\n",
       "      <td>2345900</td>\n",
       "      <td>505.149994</td>\n",
       "    </tr>\n",
       "    <tr>\n",
       "      <td>2015-01-08</td>\n",
       "      <td>507.500000</td>\n",
       "      <td>495.019989</td>\n",
       "      <td>501.510010</td>\n",
       "      <td>506.910004</td>\n",
       "      <td>3652700</td>\n",
       "      <td>506.910004</td>\n",
       "    </tr>\n",
       "    <tr>\n",
       "      <td>...</td>\n",
       "      <td>...</td>\n",
       "      <td>...</td>\n",
       "      <td>...</td>\n",
       "      <td>...</td>\n",
       "      <td>...</td>\n",
       "      <td>...</td>\n",
       "    </tr>\n",
       "    <tr>\n",
       "      <td>2019-10-25</td>\n",
       "      <td>1268.000000</td>\n",
       "      <td>1249.150024</td>\n",
       "      <td>1252.000000</td>\n",
       "      <td>1264.300049</td>\n",
       "      <td>1352200</td>\n",
       "      <td>1264.300049</td>\n",
       "    </tr>\n",
       "    <tr>\n",
       "      <td>2019-10-28</td>\n",
       "      <td>1299.239990</td>\n",
       "      <td>1272.310059</td>\n",
       "      <td>1275.000000</td>\n",
       "      <td>1288.979980</td>\n",
       "      <td>3271400</td>\n",
       "      <td>1288.979980</td>\n",
       "    </tr>\n",
       "    <tr>\n",
       "      <td>2019-10-29</td>\n",
       "      <td>1280.800049</td>\n",
       "      <td>1255.609985</td>\n",
       "      <td>1276.000000</td>\n",
       "      <td>1260.660034</td>\n",
       "      <td>2622500</td>\n",
       "      <td>1260.660034</td>\n",
       "    </tr>\n",
       "    <tr>\n",
       "      <td>2019-10-30</td>\n",
       "      <td>1268.020020</td>\n",
       "      <td>1250.650024</td>\n",
       "      <td>1255.150024</td>\n",
       "      <td>1260.699951</td>\n",
       "      <td>1458600</td>\n",
       "      <td>1260.699951</td>\n",
       "    </tr>\n",
       "    <tr>\n",
       "      <td>2019-10-31</td>\n",
       "      <td>1266.520020</td>\n",
       "      <td>1249.479980</td>\n",
       "      <td>1260.000000</td>\n",
       "      <td>1258.800049</td>\n",
       "      <td>159500000</td>\n",
       "      <td>1258.800049</td>\n",
       "    </tr>\n",
       "  </tbody>\n",
       "</table>\n",
       "<p>1217 rows × 6 columns</p>\n",
       "</div>"
      ],
      "text/plain": [
       "                   High          Low         Open        Close     Volume  \\\n",
       "Date                                                                        \n",
       "2015-01-02   535.799988   527.880005   532.599976   529.549988    1324000   \n",
       "2015-01-05   527.989990   517.750000   527.150024   519.460022    2059100   \n",
       "2015-01-06   521.210022   505.549988   520.500000   506.640015    2722800   \n",
       "2015-01-07   511.489990   503.649994   510.950012   505.149994    2345900   \n",
       "2015-01-08   507.500000   495.019989   501.510010   506.910004    3652700   \n",
       "...                 ...          ...          ...          ...        ...   \n",
       "2019-10-25  1268.000000  1249.150024  1252.000000  1264.300049    1352200   \n",
       "2019-10-28  1299.239990  1272.310059  1275.000000  1288.979980    3271400   \n",
       "2019-10-29  1280.800049  1255.609985  1276.000000  1260.660034    2622500   \n",
       "2019-10-30  1268.020020  1250.650024  1255.150024  1260.699951    1458600   \n",
       "2019-10-31  1266.520020  1249.479980  1260.000000  1258.800049  159500000   \n",
       "\n",
       "              Adj Close  \n",
       "Date                     \n",
       "2015-01-02   529.549988  \n",
       "2015-01-05   519.460022  \n",
       "2015-01-06   506.640015  \n",
       "2015-01-07   505.149994  \n",
       "2015-01-08   506.910004  \n",
       "...                 ...  \n",
       "2019-10-25  1264.300049  \n",
       "2019-10-28  1288.979980  \n",
       "2019-10-29  1260.660034  \n",
       "2019-10-30  1260.699951  \n",
       "2019-10-31  1258.800049  \n",
       "\n",
       "[1217 rows x 6 columns]"
      ]
     },
     "execution_count": 10,
     "metadata": {},
     "output_type": "execute_result"
    }
   ],
   "source": [
    "import pandas as pd\n",
    "import pandas_datareader as pdr\n",
    "from pandas_datareader import data as wb\n",
    "\n",
    "ticker = 'GOOGL'\n",
    "start_date = '2015-01-01'\n",
    "end_date = '2019-10-31'\n",
    "data_source = 'yahoo'\n",
    "\n",
    "# get stock prices\n",
    "ticker_data=wb.DataReader(ticker, data_source=data_source, start=start_date, end=end_date)\n",
    "df = pd.DataFrame(ticker_data)\n",
    "df"
   ]
  },
  {
   "cell_type": "code",
   "execution_count": 465,
   "metadata": {},
   "outputs": [],
   "source": []
  },
  {
   "cell_type": "code",
   "execution_count": 473,
   "metadata": {},
   "outputs": [],
   "source": [
    "from pandas_datareader import Options\n",
    "\n",
    "# >>> aapl = Options('AAPL')\n",
    "# FutureWarning: Options(symbol) is deprecated, use Options(symbol, data_source) instead\n",
    "#                after removing the cwd from sys.path.\n",
    "\n",
    "# >>> aapl = Options('AAPL', 'google')\n",
    "# NotImplementedError: currently only yahoo supported\n",
    "\n",
    "# >>> aapl = Options('AAPL', 'yahoo')\n",
    "# ImmediateDeprecationError: \n",
    "# Yahoo Options has been immediately deprecated due to large breaks in the API without the\n",
    "# introduction of a stable replacement. Pull Requests to re-enable these data\n",
    "# connectors are welcome.\n",
    "\n",
    "# >>> puts, calls = appl.get_options_data()"
   ]
  },
  {
   "cell_type": "code",
   "execution_count": 485,
   "metadata": {},
   "outputs": [],
   "source": [
    "# pip install yahoo-finance\n",
    "# >>> from yahoo_finance import Options"
   ]
  },
  {
   "cell_type": "code",
   "execution_count": 479,
   "metadata": {},
   "outputs": [],
   "source": [
    "# This fetches the page’s full HTML content\n",
    "data_url = \"https://finance.yahoo.com/quote/SPY/options\"\n",
    "data_html = requests.get(data_url).content"
   ]
  },
  {
   "cell_type": "code",
   "execution_count": 483,
   "metadata": {},
   "outputs": [],
   "source": [
    "# BeautifulSoup is the perfect tool for working with HTML data in Python.\n",
    "content = BeautifulSoup(data_html, \"html.parser\")\n",
    "options_tables = content.find_all(\"table\")"
   ]
  },
  {
   "cell_type": "code",
   "execution_count": 484,
   "metadata": {},
   "outputs": [],
   "source": [
    "# Break it down into two tables, for calls and puts\n",
    "options_tables = [] \n",
    "tables = content.find_all(\"table\")\n",
    "for i in range(len(content.find_all(\"table\"))):\n",
    "    options_tables.append(tables[i])"
   ]
  },
  {
   "cell_type": "code",
   "execution_count": null,
   "metadata": {},
   "outputs": [],
   "source": []
  },
  {
   "cell_type": "code",
   "execution_count": 486,
   "metadata": {},
   "outputs": [],
   "source": [
    "# Yahoo’s data contains options that are pretty deep in- and out-of-the-money, \n",
    "# which might be great for certain purposes. \n",
    "# calls\n",
    "calls = options_tables[0].find_all(\"tr\")[1:] # first row is header\n",
    "# puts\n",
    "puts = options_tables[1].find_all(\"tr\")[1:]  # first row is header"
   ]
  },
  {
   "cell_type": "code",
   "execution_count": null,
   "metadata": {},
   "outputs": [],
   "source": [
    "# Let’s find these, using BeautifulSoup and Yahoo’s differential table entries for in-the-money and out-of-the-money options:"
   ]
  },
  {
   "cell_type": "code",
   "execution_count": 217,
   "metadata": {},
   "outputs": [],
   "source": [
    "itm_calls = []\n",
    "otm_calls = []\n",
    "\n",
    "itm_puts = []\n",
    "otm_puts = []\n",
    "for call_option in calls:\n",
    "    if \"in-the-money\" in str(call_option):  \n",
    "        itm_calls.append(call_option)\n",
    "    else:\n",
    "        otm_calls.append(call_option)\n",
    "for put_option in puts:\n",
    "    if \"in-the-money\" in str(put_option):\n",
    "        itm_puts.append(put_option)\n",
    "    else:\n",
    "        otm_puts.append(put_option)"
   ]
  },
  {
   "cell_type": "code",
   "execution_count": 324,
   "metadata": {},
   "outputs": [
    {
     "name": "stdout",
     "output_type": "stream",
     "text": [
      "57\n"
     ]
    }
   ],
   "source": [
    "def options5(put_call, moneyness):\n",
    "    moneyness = moneyness.upper()\n",
    "    put_call = put_call.upper()\n",
    "    \n",
    "    # SPDR S&P 500 ETF (SPY)\n",
    "    data_url = \"https://finance.yahoo.com/quote/SPY/options\"\n",
    "    data_html = requests.get(data_url).content\n",
    "    content = BeautifulSoup(data_html, \"html.parser\")\n",
    "    tables = [v for v in content.find_all(\"table\")]\n",
    "    \n",
    "    if put_call == \"C\":\n",
    "        t = tables[0].find_all(\"tr\")[1:]\n",
    "    elif put_call == \"P\":\n",
    "        t = tables[1].find_all(\"tr\")[1:]\n",
    "    \n",
    "    if moneyness == \"ITM\":\n",
    "        g = [option for option in t if \"in-the-money\" in str(option)]\n",
    "    elif moneyness == \"OTM\":\n",
    "        g = [option for option in t if not \"in-the-money\" in str(option)]\n",
    "\n",
    "    x = [[td.text for td in BeautifulSoup(str(opt), \"html.parser\").find_all(\"td\")] for opt in g]        \n",
    "    header = ['Contract Name', 'Last Trade Date', 'Strike', 'Last Price', 'Bid', 'Ask', \n",
    "              'Change', 'Change (%)', 'Volume', 'Open Interest', 'Implied Volatility']\n",
    "    return pd.DataFrame(data=x, columns=header)\n",
    "print(len(options5(\"C\", \"ITM\")))"
   ]
  },
  {
   "cell_type": "code",
   "execution_count": 337,
   "metadata": {},
   "outputs": [
    {
     "name": "stdout",
     "output_type": "stream",
     "text": [
      "121\n"
     ]
    }
   ],
   "source": [
    "def options6(put_call):\n",
    "    # moneyness = moneyness.upper()\n",
    "    put_call = put_call.upper()\n",
    "    \n",
    "    # SPDR S&P 500 ETF (SPY)\n",
    "    data_url = \"https://finance.yahoo.com/quote/SPY/options\"\n",
    "    data_html = requests.get(data_url).content\n",
    "    content = BeautifulSoup(data_html, \"html.parser\")\n",
    "    tables = [v for v in content.find_all(\"table\")]\n",
    "    \n",
    "    g = [option for t in tables for option in t.find_all(\"tr\")[1:]]\n",
    "\n",
    "    x = [[td.text for td in BeautifulSoup(str(opt), \"html.parser\").find_all(\"td\")] for opt in g]        \n",
    "    header = ['Contract Name', 'Last Trade Date', 'Strike', 'Last Price', 'Bid', 'Ask', \n",
    "              'Change', 'Change (%)', 'Volume', 'Open Interest', 'Implied Volatility']\n",
    "    return pd.DataFrame(data=x, columns=header)\n",
    "print(len(options6(\"C\")))"
   ]
  },
  {
   "cell_type": "code",
   "execution_count": 408,
   "metadata": {},
   "outputs": [],
   "source": [
    "def options8(underlying, date=[]):\n",
    "    \n",
    "    if date == [] or date == \"\":\n",
    "        z = \"\"\n",
    "    else:\n",
    "        if type(date) == dt.datetime:\n",
    "            date = date.date()\n",
    "        elif type(date) == str or type(date) == int:\n",
    "            date = dt.datetime.strptime(str(date), \"%Y%m%d\")\n",
    "            print(date)\n",
    "        time_stamp = int(date.replace(tzinfo=datetime.timezone.utc).timestamp())\n",
    "            #date = dt.datetime.strptime(date,\"%Y%m%d\").date()\n",
    "        # date_stamp = str(int(time.mktime(date.timetuple())))\n",
    "        z = \"?date=\" + str(time_stamp)\n",
    "    # moneyness = moneyness.upper()\n",
    "    # put_call = put_call.upper()\n",
    "    \n",
    "    # ^ = \"5E\" -- honnan jön a % jel ?\n",
    "    underlying = underlying.replace(\"^\",\"%5E\")\n",
    "    # data_url = \"https://finance.yahoo.com/quote/\" + underlying + \"/options\"\n",
    "    \n",
    "    data_url = \"https://finance.yahoo.com/quote/\" + underlying + \"/options\" + z\n",
    "    print(data_url)\n",
    "    # NASDAQ Composite (^IXIC)\n",
    "    # SPDR S&P 500 ETF (SPY)\n",
    "    # CBOE Volatility Index (^VIX)\n",
    "    # FTSE 100 (^FTSE)\n",
    "    # Nikkei 225 (^N225)\n",
    "    data_html = requests.get(data_url).content\n",
    "    content = BeautifulSoup(data_html, \"html.parser\")\n",
    "    \n",
    "    g = [o for t in [v for v in content.find_all(\"table\")] for o in t.find_all(\"tr\")[1:]]\n",
    "    x = [[td.text for td in BeautifulSoup(str(opt), \"html.parser\").find_all(\"td\")] for opt in g]\n",
    "    \n",
    "    header = ['Contract Name', 'Last Trade Date', 'Strike', 'Last Price', 'Bid', 'Ask', \n",
    "              'Change', 'Change (%)', 'Volume', 'Open Interest', 'Implied Volatility']\n",
    "    return pd.DataFrame(data=x, columns=header)"
   ]
  },
  {
   "cell_type": "code",
   "execution_count": 569,
   "metadata": {},
   "outputs": [],
   "source": [
    "def options9(underlying, date=[]):\n",
    "    if date == [] or date == \"\":\n",
    "        z = \"\"\n",
    "    else:\n",
    "        if type(date) == dt.datetime:\n",
    "            # date = date.date()\n",
    "            s = dt.datetime.strftime(date, \"%Y%m%d\")\n",
    "        elif type(date) == str or type(date) == int:\n",
    "            s = str(date)   \n",
    "        time_stamp = int(dt.datetime.strptime(s, \"%Y%m%d\").replace(tzinfo=datetime.timezone.utc).timestamp())\n",
    "        #time_stamp = int(dt.datetime.strptime(str(s), \"%Y%m%d\").replace(tzinfo=datetime.timezone.utc).timestamp())\n",
    "        \n",
    "        z = \"?date=\" + str(time_stamp)\n",
    "    \n",
    "    # ^ = \"5E\" -- honnan jön a % jel ?\n",
    "    underlying = underlying.replace(\"^\",\"%5E\")\n",
    "    data_url = \"https://finance.yahoo.com/quote/\" + underlying + \"/options\" + z\n",
    "    data_html = requests.get(data_url).content\n",
    "    content = BeautifulSoup(data_html, \"html.parser\")\n",
    "    \n",
    "    g = [o for t in [v for v in content.find_all(\"table\")] for o in t.find_all(\"tr\")[1:]]\n",
    "    x = [[td.text for td in BeautifulSoup(str(opt), \"html.parser\").find_all(\"td\")] for opt in g]\n",
    "    \n",
    "    header = ['Contract Name', 'Last Trade Date', 'Strike', 'Last Price', 'Bid', 'Ask', \n",
    "              'Change', 'Change (%)', 'Volume', 'Open Interest', 'Implied Volatility']\n",
    "    df = pd.DataFrame(data=x, columns=header)\n",
    "    df.insert(0, \"Expiry Date\", date)\n",
    "    if len(df) > 0:\n",
    "        print(date.date())\n",
    "        print(data_url)\n",
    "        print(len(df))\n",
    "        \n",
    "    return df"
   ]
  },
  {
   "cell_type": "code",
   "execution_count": 487,
   "metadata": {},
   "outputs": [],
   "source": [
    "def options(ticker):\n",
    "    # ^ = \"5E\" -- honnan jön a % jel ?\n",
    "    # VIX Dec Futures Index (^VIXDEC)\n",
    "    # VIX Nov Futures Index (^VIXNOV) ...\n",
    "    ticker = ticker.replace(\"^\",\"%5E\")\n",
    "    \n",
    "    data_url = \"https://finance.yahoo.com/quote/\" + ticker + \"/options\"\n",
    "    data_html = requests.get(data_url).content\n",
    "    r = str(BeautifulSoup(data_html, \"html.parser\"))\n",
    "    r=r[r.index(\"OptionContracts-Proxy\"):]\n",
    "    r=r[r.index(\"expirationDates\"):].split(\"[\")[1].split(\"]\")[0].split(\",\")\n",
    "    df = pd.DataFrame([])\n",
    "    header = ['Contract Name', 'Last Trade Date', 'Strike', 'Last Price', 'Bid', 'Ask', \n",
    "              'Change', 'Change (%)', 'Volume', 'Open Interest', 'Implied Volatility']\n",
    "    for stamp in r:\n",
    "        data_html1 = requests.get(data_url + \"?date=\" + stamp).content\n",
    "        content = BeautifulSoup(data_html1, \"html.parser\")\n",
    "\n",
    "        g = [o for t in [v for v in content.find_all(\"table\")] for o in t.find_all(\"tr\")[1:]]\n",
    "        x = [[td.text for td in BeautifulSoup(str(opt), \"html.parser\").find_all(\"td\")] for opt in g]\n",
    "    \n",
    "        df1 = pd.DataFrame(data=x, columns=header)\n",
    "        df1.insert(0, \"Expiry Date\", dt.datetime.utcfromtimestamp(int(stamp)))\n",
    "        df = pd.concat([df, df1])\n",
    "    \n",
    "    df.reset_index(drop=True, inplace=True)\n",
    "    df[\"Expiry Date\"] = pd.to_datetime(df[\"Expiry Date\"], format=\"%Y-%m-%d\")\n",
    "    df[\"Option Type\"] = df[\"Contract Name\"].apply(lambda y : y[[i for (i, v) in enumerate([not z.isdigit() for z in y]) if v][-1]])\n",
    "    df.drop([\"Last Trade Date\", \"Bid\", \"Ask\"], axis=1, inplace=True)\n",
    "    # there are some \"-\" in Bid prices, Ask can be used (what changing if we remove \"-\" lines in Bid and recalc?)\n",
    "    for x in [\"Strike\", \"Last Price\"]:\n",
    "        df[x] = df[x].astype(np.float)\n",
    "    return df"
   ]
  },
  {
   "cell_type": "code",
   "execution_count": 488,
   "metadata": {},
   "outputs": [
    {
     "data": {
      "text/html": [
       "<div>\n",
       "<style scoped>\n",
       "    .dataframe tbody tr th:only-of-type {\n",
       "        vertical-align: middle;\n",
       "    }\n",
       "\n",
       "    .dataframe tbody tr th {\n",
       "        vertical-align: top;\n",
       "    }\n",
       "\n",
       "    .dataframe thead th {\n",
       "        text-align: right;\n",
       "    }\n",
       "</style>\n",
       "<table border=\"1\" class=\"dataframe\">\n",
       "  <thead>\n",
       "    <tr style=\"text-align: right;\">\n",
       "      <th></th>\n",
       "      <th>Expiry Date</th>\n",
       "      <th>Contract Name</th>\n",
       "      <th>Strike</th>\n",
       "      <th>Last Price</th>\n",
       "      <th>Change</th>\n",
       "      <th>Change (%)</th>\n",
       "      <th>Volume</th>\n",
       "      <th>Open Interest</th>\n",
       "      <th>Implied Volatility</th>\n",
       "      <th>Option Type</th>\n",
       "    </tr>\n",
       "  </thead>\n",
       "  <tbody>\n",
       "    <tr>\n",
       "      <td>0</td>\n",
       "      <td>2019-11-06</td>\n",
       "      <td>VIXW191106C00010000</td>\n",
       "      <td>10.0</td>\n",
       "      <td>4.40</td>\n",
       "      <td>0.00</td>\n",
       "      <td>-</td>\n",
       "      <td>52</td>\n",
       "      <td>298</td>\n",
       "      <td>352.34%</td>\n",
       "      <td>C</td>\n",
       "    </tr>\n",
       "    <tr>\n",
       "      <td>1</td>\n",
       "      <td>2019-11-06</td>\n",
       "      <td>VIXW191106C00010500</td>\n",
       "      <td>10.5</td>\n",
       "      <td>3.20</td>\n",
       "      <td>0.00</td>\n",
       "      <td>-</td>\n",
       "      <td>4</td>\n",
       "      <td>54</td>\n",
       "      <td>271.09%</td>\n",
       "      <td>C</td>\n",
       "    </tr>\n",
       "    <tr>\n",
       "      <td>2</td>\n",
       "      <td>2019-11-06</td>\n",
       "      <td>VIXW191106C00011000</td>\n",
       "      <td>11.0</td>\n",
       "      <td>3.70</td>\n",
       "      <td>0.00</td>\n",
       "      <td>-</td>\n",
       "      <td>10</td>\n",
       "      <td>-</td>\n",
       "      <td>262.50%</td>\n",
       "      <td>C</td>\n",
       "    </tr>\n",
       "    <tr>\n",
       "      <td>3</td>\n",
       "      <td>2019-11-06</td>\n",
       "      <td>VIXW191106C00012000</td>\n",
       "      <td>12.0</td>\n",
       "      <td>0.69</td>\n",
       "      <td>-1.01</td>\n",
       "      <td>-59.41%</td>\n",
       "      <td>21</td>\n",
       "      <td>55</td>\n",
       "      <td>191.80%</td>\n",
       "      <td>C</td>\n",
       "    </tr>\n",
       "    <tr>\n",
       "      <td>4</td>\n",
       "      <td>2019-11-06</td>\n",
       "      <td>VIXW191106C00012500</td>\n",
       "      <td>12.5</td>\n",
       "      <td>0.80</td>\n",
       "      <td>-0.40</td>\n",
       "      <td>-33.33%</td>\n",
       "      <td>48</td>\n",
       "      <td>80</td>\n",
       "      <td>125.00%</td>\n",
       "      <td>C</td>\n",
       "    </tr>\n",
       "  </tbody>\n",
       "</table>\n",
       "</div>"
      ],
      "text/plain": [
       "  Expiry Date        Contract Name  Strike  Last Price Change Change (%)  \\\n",
       "0  2019-11-06  VIXW191106C00010000    10.0        4.40   0.00          -   \n",
       "1  2019-11-06  VIXW191106C00010500    10.5        3.20   0.00          -   \n",
       "2  2019-11-06  VIXW191106C00011000    11.0        3.70   0.00          -   \n",
       "3  2019-11-06  VIXW191106C00012000    12.0        0.69  -1.01    -59.41%   \n",
       "4  2019-11-06  VIXW191106C00012500    12.5        0.80  -0.40    -33.33%   \n",
       "\n",
       "  Volume Open Interest Implied Volatility Option Type  \n",
       "0     52           298            352.34%           C  \n",
       "1      4            54            271.09%           C  \n",
       "2     10             -            262.50%           C  \n",
       "3     21            55            191.80%           C  \n",
       "4     48            80            125.00%           C  "
      ]
     },
     "execution_count": 488,
     "metadata": {},
     "output_type": "execute_result"
    }
   ],
   "source": [
    "# test call\n",
    "options(\"^VIX\").head()"
   ]
  },
  {
   "cell_type": "code",
   "execution_count": 136,
   "metadata": {},
   "outputs": [
    {
     "data": {
      "text/plain": [
       "'C'"
      ]
     },
     "execution_count": 136,
     "metadata": {},
     "output_type": "execute_result"
    }
   ],
   "source": [
    "# get the last charachter from a string (what is not a digit)\n",
    "y = \"VIXW191106C00010000\"\n",
    "b =[not z.isdigit() for z in y]\n",
    "b\n",
    "y[[i for (i, value) in enumerate([not z.isdigit() for z in y]) if value][-1]]"
   ]
  },
  {
   "cell_type": "code",
   "execution_count": 489,
   "metadata": {},
   "outputs": [],
   "source": [
    "def stocks(ticker):\n",
    "\n",
    "    ticker = ticker.replace(\"^\",\"%5E\")\n",
    "    data_url = \"https://finance.yahoo.com/quote/\" + ticker + \"/history\"\n",
    "    data_html = requests.get(data_url).content\n",
    "    content = BeautifulSoup(data_html, \"html.parser\")\n",
    "    g = [o for t in [v for v in content.find_all(\"table\")] for o in t.find_all(\"tr\")[1:-1]]\n",
    "    x = [[td.text for td in BeautifulSoup(str(opt), \"html.parser\").find_all(\"td\")] for opt in g]\n",
    "    \n",
    "    header = [\"Date\", \"Open\", \"High\", \"Low\", \"Close\", \"Adj Close\", \"Volume\"]\n",
    "    df = pd.DataFrame(data=x, columns=header)\n",
    "    # Date is in format Mar 04, 2019 (format=\"%b %d, %Y\")--> it has to be converted to dataframe\n",
    "    df[\"Date\"] = pd.to_datetime(pd.to_datetime(df[\"Date\"], format=\"%b %d, %Y\"), format=\"%Y-%m-%d\")\n",
    "    \n",
    "    for x in [\"Open\", \"High\", \"Low\", \"Close\", \"Adj Close\"]:\n",
    "        df[x] = df[x].astype(np.float)\n",
    "    \n",
    "    return df"
   ]
  },
  {
   "cell_type": "code",
   "execution_count": 541,
   "metadata": {},
   "outputs": [
    {
     "data": {
      "text/html": [
       "<div>\n",
       "<style scoped>\n",
       "    .dataframe tbody tr th:only-of-type {\n",
       "        vertical-align: middle;\n",
       "    }\n",
       "\n",
       "    .dataframe tbody tr th {\n",
       "        vertical-align: top;\n",
       "    }\n",
       "\n",
       "    .dataframe thead th {\n",
       "        text-align: right;\n",
       "    }\n",
       "</style>\n",
       "<table border=\"1\" class=\"dataframe\">\n",
       "  <thead>\n",
       "    <tr style=\"text-align: right;\">\n",
       "      <th></th>\n",
       "      <th>Date</th>\n",
       "      <th>Open</th>\n",
       "      <th>High</th>\n",
       "      <th>Low</th>\n",
       "      <th>Close</th>\n",
       "      <th>Adj Close</th>\n",
       "      <th>Volume</th>\n",
       "    </tr>\n",
       "  </thead>\n",
       "  <tbody>\n",
       "    <tr>\n",
       "      <td>0</td>\n",
       "      <td>2019-11-04</td>\n",
       "      <td>12.68</td>\n",
       "      <td>13.13</td>\n",
       "      <td>12.44</td>\n",
       "      <td>12.83</td>\n",
       "      <td>12.83</td>\n",
       "      <td>-</td>\n",
       "    </tr>\n",
       "    <tr>\n",
       "      <td>1</td>\n",
       "      <td>2019-11-01</td>\n",
       "      <td>12.50</td>\n",
       "      <td>12.60</td>\n",
       "      <td>12.26</td>\n",
       "      <td>12.30</td>\n",
       "      <td>12.30</td>\n",
       "      <td>-</td>\n",
       "    </tr>\n",
       "    <tr>\n",
       "      <td>2</td>\n",
       "      <td>2019-10-31</td>\n",
       "      <td>13.51</td>\n",
       "      <td>13.95</td>\n",
       "      <td>13.18</td>\n",
       "      <td>13.22</td>\n",
       "      <td>13.22</td>\n",
       "      <td>-</td>\n",
       "    </tr>\n",
       "    <tr>\n",
       "      <td>3</td>\n",
       "      <td>2019-10-30</td>\n",
       "      <td>13.08</td>\n",
       "      <td>13.37</td>\n",
       "      <td>12.27</td>\n",
       "      <td>12.33</td>\n",
       "      <td>12.33</td>\n",
       "      <td>-</td>\n",
       "    </tr>\n",
       "    <tr>\n",
       "      <td>4</td>\n",
       "      <td>2019-10-29</td>\n",
       "      <td>13.16</td>\n",
       "      <td>13.52</td>\n",
       "      <td>13.07</td>\n",
       "      <td>13.20</td>\n",
       "      <td>13.20</td>\n",
       "      <td>-</td>\n",
       "    </tr>\n",
       "    <tr>\n",
       "      <td>...</td>\n",
       "      <td>...</td>\n",
       "      <td>...</td>\n",
       "      <td>...</td>\n",
       "      <td>...</td>\n",
       "      <td>...</td>\n",
       "      <td>...</td>\n",
       "      <td>...</td>\n",
       "    </tr>\n",
       "    <tr>\n",
       "      <td>95</td>\n",
       "      <td>2019-06-20</td>\n",
       "      <td>14.04</td>\n",
       "      <td>16.03</td>\n",
       "      <td>13.19</td>\n",
       "      <td>14.75</td>\n",
       "      <td>14.75</td>\n",
       "      <td>-</td>\n",
       "    </tr>\n",
       "    <tr>\n",
       "      <td>96</td>\n",
       "      <td>2019-06-19</td>\n",
       "      <td>15.05</td>\n",
       "      <td>15.71</td>\n",
       "      <td>14.15</td>\n",
       "      <td>14.33</td>\n",
       "      <td>14.33</td>\n",
       "      <td>-</td>\n",
       "    </tr>\n",
       "    <tr>\n",
       "      <td>97</td>\n",
       "      <td>2019-06-18</td>\n",
       "      <td>14.89</td>\n",
       "      <td>15.54</td>\n",
       "      <td>14.62</td>\n",
       "      <td>15.15</td>\n",
       "      <td>15.15</td>\n",
       "      <td>-</td>\n",
       "    </tr>\n",
       "    <tr>\n",
       "      <td>98</td>\n",
       "      <td>2019-06-17</td>\n",
       "      <td>15.65</td>\n",
       "      <td>15.76</td>\n",
       "      <td>15.24</td>\n",
       "      <td>15.35</td>\n",
       "      <td>15.35</td>\n",
       "      <td>-</td>\n",
       "    </tr>\n",
       "    <tr>\n",
       "      <td>99</td>\n",
       "      <td>2019-06-14</td>\n",
       "      <td>16.00</td>\n",
       "      <td>16.40</td>\n",
       "      <td>15.21</td>\n",
       "      <td>15.28</td>\n",
       "      <td>15.28</td>\n",
       "      <td>-</td>\n",
       "    </tr>\n",
       "  </tbody>\n",
       "</table>\n",
       "<p>100 rows × 7 columns</p>\n",
       "</div>"
      ],
      "text/plain": [
       "         Date   Open   High    Low  Close  Adj Close Volume\n",
       "0  2019-11-04  12.68  13.13  12.44  12.83      12.83      -\n",
       "1  2019-11-01  12.50  12.60  12.26  12.30      12.30      -\n",
       "2  2019-10-31  13.51  13.95  13.18  13.22      13.22      -\n",
       "3  2019-10-30  13.08  13.37  12.27  12.33      12.33      -\n",
       "4  2019-10-29  13.16  13.52  13.07  13.20      13.20      -\n",
       "..        ...    ...    ...    ...    ...        ...    ...\n",
       "95 2019-06-20  14.04  16.03  13.19  14.75      14.75      -\n",
       "96 2019-06-19  15.05  15.71  14.15  14.33      14.33      -\n",
       "97 2019-06-18  14.89  15.54  14.62  15.15      15.15      -\n",
       "98 2019-06-17  15.65  15.76  15.24  15.35      15.35      -\n",
       "99 2019-06-14  16.00  16.40  15.21  15.28      15.28      -\n",
       "\n",
       "[100 rows x 7 columns]"
      ]
     },
     "execution_count": 541,
     "metadata": {},
     "output_type": "execute_result"
    }
   ],
   "source": [
    "# test call\n",
    "stocks(\"^VIX\")"
   ]
  },
  {
   "cell_type": "code",
   "execution_count": 21,
   "metadata": {},
   "outputs": [],
   "source": []
  },
  {
   "cell_type": "code",
   "execution_count": 493,
   "metadata": {},
   "outputs": [
    {
     "data": {
      "text/plain": [
       "0.24197072451914337"
      ]
     },
     "execution_count": 493,
     "metadata": {},
     "output_type": "execute_result"
    }
   ],
   "source": [
    "norm.pdf(1)"
   ]
  },
  {
   "cell_type": "code",
   "execution_count": 494,
   "metadata": {},
   "outputs": [
    {
     "data": {
      "text/plain": [
       "0.5"
      ]
     },
     "execution_count": 494,
     "metadata": {},
     "output_type": "execute_result"
    }
   ],
   "source": [
    "# normal cummulative distribution function\n",
    "norm.cdf(0)"
   ]
  },
  {
   "cell_type": "code",
   "execution_count": 576,
   "metadata": {},
   "outputs": [],
   "source": [
    "# norm.cdf is the cumulative distribution function of the standard normal distribution\n",
    "# T-t is the time to maturity (expressed in years)\n",
    "# S_{t} is the spot price of the underlying asset\n",
    "# K is the strike price\n",
    "# r is the risk free rate (annual rate, expressed in terms of continuous compounding)\n",
    "# sigma  is the volatility of returns of the underlying asset\n",
    "\n",
    "def BSoption_price(St, K, r, sigma, time_to_expiry, option_type):\n",
    "    T=time_to_expiry\n",
    "    t=0\n",
    "    if sigma != 0:\n",
    "        d1 = (np.log(St / K) + (r + (sigma ** 2) / 2) * (T - t)) / (sigma * np.sqrt(T - t))\n",
    "        d2 = d1 - sigma * np.sqrt(T - t)\n",
    "        if option_type == \"C\":\n",
    "            price = norm.cdf(d1) * St - norm.cdf(d2) * K * np.exp(- r * (T - t))\n",
    "        elif option_type == \"P\":\n",
    "            price = - norm.cdf(-d1) * St + norm.cdf(-d2) * K * np.exp(- r * (T - t))\n",
    "    else:\n",
    "        if option_type == \"C\":\n",
    "            price = np.max(St - K * np.exp(- r * (T - t)), 0)\n",
    "        elif option_type == \"P\":\n",
    "            price = np.min(St - K * np.exp(- r * (T - t)), 0)\n",
    "    return price\n",
    "    \n",
    "            \n",
    "def BSCall_price(St, K, r, sigma, time_to_expiry):\n",
    "    T=time_to_expiry\n",
    "    t=0\n",
    "    d1 = (np.log(St / K) + (r + (sigma ** 2) / 2) * (T - t)) / (sigma * np.sqrt(T - t))\n",
    "    d2 = d1 - sigma * np.sqrt(T - t)\n",
    "    price = norm.cdf(d1) * St - norm.cdf(d2) * K * np.exp(- r * (T - t))\n",
    "    return price\n",
    "def BSPut_price(St, K, r, sigma, time_to_expiry):\n",
    "    T=time_to_expiry\n",
    "    t=0\n",
    "    d1 = (np.log(St / K) + (r + (sigma ** 2) / 2) * (T - t)) / (sigma * np.sqrt(T - t))\n",
    "    d2 = d1 - sigma * np.sqrt(T - t)\n",
    "    price = - norm.cdf(-d1) * St + norm.cdf(-d2) * K * np.exp(- r * (T - t))\n",
    "    return price"
   ]
  },
  {
   "cell_type": "code",
   "execution_count": 496,
   "metadata": {},
   "outputs": [
    {
     "data": {
      "text/plain": [
       "3.3938124510035834"
      ]
     },
     "execution_count": 496,
     "metadata": {},
     "output_type": "execute_result"
    }
   ],
   "source": [
    "# test call\n",
    "BSoption_price(100, 120, 0.1, 0.4, 0.3, \"C\")"
   ]
  },
  {
   "cell_type": "code",
   "execution_count": 497,
   "metadata": {},
   "outputs": [],
   "source": [
    "def implied_volatility(ticker):\n",
    "    hist_stocks = stocks(ticker)\n",
    "    \n",
    "    \n",
    "    today = dt.date.today()\n",
    "    hist_stocks[\"Today\"] = pd.to_datetime(today, format=\"%Y-%m-%d\")\n",
    "    #hist_stocks[\"Date\"] = pd.to_datetime(hist_stocks[\"Date\"], format=\"%Y-%m-%d\")\n",
    "    hist_stocks[\"Date Diff\"] = hist_stocks[\"Today\"] - hist_stocks[\"Date\"]\n",
    "    hist_stocks.sort_values(by=\"Date Diff\", ascending=True,inplace=True)\n",
    "    hist_stocks.reset_index(drop=True,inplace=True)\n",
    "    # most recent stock price\n",
    "    S=hist_stocks.loc[0, \"Adj Close\"]\n",
    "    \n",
    "    opts = options(ticker)\n",
    "    #opts[\"Last Price\"] = opts[\"Last Price\"].astype(np.float)\n",
    "    opts[\"Time to Expiry\"] = (opts[\"Expiry Date\"] - pd.to_datetime(today, format=\"%Y-%m-%d\")).apply(lambda x : x.days)/252\n",
    "    opts.drop([\"Contract Name\", \"Change\", \"Change (%)\", \"Volume\", \"Open Interest\"], axis=1, inplace=True)\n",
    "       \n",
    "    r=0\n",
    "    Sigma = np.array(np.linspace(0,1,101)[1:])\n",
    "    RMS = []\n",
    "    for sigma in Sigma:\n",
    "        x = np.vectorize(BSoption_price)(S, opts['Strike'], r, sigma, opts[\"Time to Expiry\"], opts[\"Option Type\"]) \n",
    "        rms = np.sqrt(np.mean(np.array(x - opts[\"Last Price\"])**2)) # --> min by sigma\n",
    "        RMS.append(rms)\n",
    "    \n",
    "    m=np.min(RMS)\n",
    "    ind_m = RMS.index(m)\n",
    "    implied_sigma = Sigma[ind_m]\n",
    "    opts[\"Implied Price\"] = np.vectorize(BSoption_price)(S, opts['Strike'], r, implied_sigma, \n",
    "                                                         opts[\"Time to Expiry\"], opts[\"Option Type\"]) \n",
    "    opts[\"Pricing Error\"] = opts[\"Implied Price\"] - opts[\"Last Price\"]\n",
    "    Ind=[i for (i, v) in enumerate(RMS) if v == m]\n",
    "    Implied_Sigma = np.array(Sigma)\n",
    "    Implied_Sigma = Implied_Sigma[Ind]\n",
    "    Implied_Sigma_RMS = np.array(RMS)\n",
    "    Implied_Sigma_RMS = Implied_Sigma_RMS[Ind]\n",
    "    print(Implied_Sigma)\n",
    "    print(Implied_Sigma_RMS)\n",
    "\n",
    "    plot_volatility_smile(Sigma, RMS)\n",
    "    plt.plot(Implied_Sigma, Implied_Sigma_RMS, \"*r\")\n",
    "    return opts"
   ]
  },
  {
   "cell_type": "code",
   "execution_count": 431,
   "metadata": {},
   "outputs": [
    {
     "name": "stdout",
     "output_type": "stream",
     "text": [
      "[0.59]\n",
      "[2.50941586]\n"
     ]
    },
    {
     "data": {
      "image/png": "[encoded data removed]",
      "text/plain": [
       "<Figure size 432x288 with 1 Axes>"
      ]
     },
     "metadata": {
      "needs_background": "light"
     },
     "output_type": "display_data"
    }
   ],
   "source": [
    "df = implied_volatility(\"^VIX\")"
   ]
  },
  {
   "cell_type": "code",
   "execution_count": 440,
   "metadata": {},
   "outputs": [
    {
     "name": "stdout",
     "output_type": "stream",
     "text": [
      "[0.58]\n",
      "[2.24943417]\n"
     ]
    },
    {
     "data": {
      "image/png": "[encoded data removed]",
      "text/plain": [
       "<Figure size 432x288 with 1 Axes>"
      ]
     },
     "metadata": {
      "needs_background": "light"
     },
     "output_type": "display_data"
    }
   ],
   "source": [
    "df = implied_volatility(\"^VIX\")"
   ]
  },
  {
   "cell_type": "code",
   "execution_count": 458,
   "metadata": {},
   "outputs": [
    {
     "name": "stdout",
     "output_type": "stream",
     "text": [
      "[0.59]\n",
      "[2.41304381]\n"
     ]
    },
    {
     "data": {
      "image/png": "[encoded data removed]",
      "text/plain": [
       "<Figure size 432x288 with 1 Axes>"
      ]
     },
     "metadata": {
      "needs_background": "light"
     },
     "output_type": "display_data"
    }
   ],
   "source": [
    "df = implied_volatility(\"^VIX\")"
   ]
  },
  {
   "cell_type": "code",
   "execution_count": 498,
   "metadata": {},
   "outputs": [
    {
     "name": "stdout",
     "output_type": "stream",
     "text": [
      "[0.59]\n",
      "[2.45028526]\n"
     ]
    },
    {
     "data": {
      "image/png": "[encoded data removed]",
      "text/plain": [
       "<Figure size 432x288 with 1 Axes>"
      ]
     },
     "metadata": {
      "needs_background": "light"
     },
     "output_type": "display_data"
    }
   ],
   "source": [
    "df = implied_volatility(\"^VIX\")"
   ]
  },
  {
   "cell_type": "code",
   "execution_count": 670,
   "metadata": {},
   "outputs": [
    {
     "name": "stderr",
     "output_type": "stream",
     "text": [
      "C:\\ProgramData\\Anaconda3\\lib\\site-packages\\ipykernel_launcher.py:12: RuntimeWarning: divide by zero encountered in double_scalars\n",
      "  if sys.path[0] == '':\n"
     ]
    },
    {
     "name": "stdout",
     "output_type": "stream",
     "text": [
      "[0.59]\n",
      "[2.21999505]\n"
     ]
    },
    {
     "data": {
      "image/png": "[encoded data removed]",
      "text/plain": [
       "<Figure size 432x288 with 1 Axes>"
      ]
     },
     "metadata": {
      "needs_background": "light"
     },
     "output_type": "display_data"
    }
   ],
   "source": [
    "df = implied_volatility(\"^VIX\")"
   ]
  },
  {
   "cell_type": "code",
   "execution_count": 671,
   "metadata": {},
   "outputs": [
    {
     "name": "stderr",
     "output_type": "stream",
     "text": [
      "C:\\ProgramData\\Anaconda3\\lib\\site-packages\\ipykernel_launcher.py:12: RuntimeWarning: divide by zero encountered in double_scalars\n",
      "  if sys.path[0] == '':\n"
     ]
    },
    {
     "name": "stdout",
     "output_type": "stream",
     "text": [
      "[0.61]\n",
      "[2.3688186]\n"
     ]
    },
    {
     "data": {
      "image/png": "[encoded data removed]",
      "text/plain": [
       "<Figure size 432x288 with 1 Axes>"
      ]
     },
     "metadata": {
      "needs_background": "light"
     },
     "output_type": "display_data"
    }
   ],
   "source": [
    "df = implied_volatility(\"^VIX\")"
   ]
  },
  {
   "cell_type": "code",
   "execution_count": 672,
   "metadata": {},
   "outputs": [
    {
     "name": "stdout",
     "output_type": "stream",
     "text": [
      "[0.61]\n",
      "[2.60689306]\n"
     ]
    },
    {
     "data": {
      "image/png": "[encoded data removed]",
      "text/plain": [
       "<Figure size 432x288 with 1 Axes>"
      ]
     },
     "metadata": {
      "needs_background": "light"
     },
     "output_type": "display_data"
    }
   ],
   "source": [
    "df = implied_volatility(\"^VIX\")"
   ]
  },
  {
   "cell_type": "code",
   "execution_count": 673,
   "metadata": {},
   "outputs": [
    {
     "name": "stdout",
     "output_type": "stream",
     "text": [
      "[0.6]\n",
      "[2.66150263]\n"
     ]
    },
    {
     "data": {
      "image/png": "[encoded data removed]",
      "text/plain": [
       "<Figure size 432x288 with 1 Axes>"
      ]
     },
     "metadata": {
      "needs_background": "light"
     },
     "output_type": "display_data"
    }
   ],
   "source": [
    "df = implied_volatility(\"^VIX\")"
   ]
  },
  {
   "cell_type": "code",
   "execution_count": null,
   "metadata": {},
   "outputs": [],
   "source": []
  },
  {
   "cell_type": "code",
   "execution_count": 438,
   "metadata": {},
   "outputs": [],
   "source": [
    "df.sort_values(by=[\"Pricing Error\"],ascending=True,inplace=True)\n",
    "df.reset_index(drop=True,inplace=True)"
   ]
  },
  {
   "cell_type": "code",
   "execution_count": 674,
   "metadata": {},
   "outputs": [
    {
     "data": {
      "image/png": "[encoded data removed]",
      "text/plain": [
       "<Figure size 432x288 with 1 Axes>"
      ]
     },
     "metadata": {
      "needs_background": "light"
     },
     "output_type": "display_data"
    }
   ],
   "source": [
    "plot_pricing_errors(df)"
   ]
  },
  {
   "cell_type": "code",
   "execution_count": null,
   "metadata": {},
   "outputs": [],
   "source": []
  },
  {
   "cell_type": "code",
   "execution_count": 596,
   "metadata": {},
   "outputs": [],
   "source": [
    "def volatility_smile(df, ind=0, S=0):\n",
    "    S = 12.83\n",
    "    date=df.loc[0,\"Expiry Date\"]\n",
    "    df1=df[df[\"Expiry Date\"]==date]\n",
    "    df1=df1[df1[\"Option Type\"]==\"P\"]\n",
    "    df1.sort_values(by=\"Strike\", ascending=True, inplace=True)\n",
    "    df1.reset_index(drop=True,inplace=True)\n",
    "    r = 0\n",
    "    Implied_Vol = []\n",
    "    Implied_Price = []\n",
    "    #print(len(df1.index))\n",
    "    for i in [df1.index[ind]]:\n",
    "        Sigma = np.array(np.linspace(0,0.3,100001)[1:])\n",
    "        Error = []\n",
    "        for sigma in Sigma:\n",
    "            x = BSoption_price(S, df1.loc[i, 'Strike'], r, sigma, df1.loc[i, \"Time to Expiry\"], df1.loc[i, \"Option Type\"]) \n",
    "            error = np.abs(x - df1.loc[i, \"Last Price\"])\n",
    "            Error.append(error)\n",
    "        \n",
    "        plt.plot(Sigma, Error)\n",
    "        plt.grid()\n",
    "        \n",
    "        m=np.min(Error)\n",
    "        print(\"minError:\", m)\n",
    "        Ind=[i for (i, v) in enumerate(Error) if v == m]\n",
    "        print(\"Ind: \", Ind)\n",
    "        print(\"Sigma[Ind]: \", Sigma[Ind])\n",
    "        Implied_Sigma = Sigma[Ind]\n",
    "        \n",
    "        if len(Implied_Sigma)>1:\n",
    "            print(\"multiple solutions for optimal implied volatility\")\n",
    "        implied_sigma = Implied_Sigma[0]\n",
    "        print(\"implied_vol: \", implied_sigma)\n",
    "        #p = BSoption_price(S, df1.loc[i, 'Strike'], r, implied_sigma, df1.loc[i, \"Time to Expiry\"], df1.loc[i, \"Option Type\"]) \n",
    "        \n",
    "        #Implied_Price.append(p)\n",
    "        #Implied_Vol.append(implied_sigma)\n",
    "    #df1[\"Implied Volatility\"] = Implied_Vol\n",
    "    #df1[\"Implied Price\"] = Implied_Price\n",
    "    #df1[\"Pricing Error\"] = df1[\"Implied Price\"] - df1[\"Last Price\"]\n",
    "    \n",
    "    #plt.plot(df1[\"Strike\"], df1[\"Implied Volatility\"])\n",
    "    #plt.grid()\n",
    "    #return df1"
   ]
  },
  {
   "cell_type": "code",
   "execution_count": null,
   "metadata": {},
   "outputs": [],
   "source": []
  },
  {
   "cell_type": "code",
   "execution_count": 526,
   "metadata": {},
   "outputs": [
    {
     "data": {
      "image/png": "[encoded data removed]",
      "text/plain": [
       "<Figure size 432x288 with 1 Axes>"
      ]
     },
     "metadata": {
      "needs_background": "light"
     },
     "output_type": "display_data"
    }
   ],
   "source": [
    "u = volatility_smile(df)"
   ]
  },
  {
   "cell_type": "code",
   "execution_count": 528,
   "metadata": {},
   "outputs": [
    {
     "data": {
      "image/png": "[encoded data removed]",
      "text/plain": [
       "<Figure size 432x288 with 1 Axes>"
      ]
     },
     "metadata": {
      "needs_background": "light"
     },
     "output_type": "display_data"
    }
   ],
   "source": [
    "u = volatility_smile(df)"
   ]
  },
  {
   "cell_type": "code",
   "execution_count": 530,
   "metadata": {},
   "outputs": [
    {
     "data": {
      "image/png": "[encoded data removed]",
      "text/plain": [
       "<Figure size 432x288 with 1 Axes>"
      ]
     },
     "metadata": {
      "needs_background": "light"
     },
     "output_type": "display_data"
    }
   ],
   "source": [
    "u = volatility_smile(df)"
   ]
  },
  {
   "cell_type": "code",
   "execution_count": 532,
   "metadata": {},
   "outputs": [
    {
     "data": {
      "image/png": "[encoded data removed]",
      "text/plain": [
       "<Figure size 432x288 with 1 Axes>"
      ]
     },
     "metadata": {
      "needs_background": "light"
     },
     "output_type": "display_data"
    }
   ],
   "source": [
    "u = volatility_smile(df)"
   ]
  },
  {
   "cell_type": "code",
   "execution_count": 536,
   "metadata": {},
   "outputs": [
    {
     "data": {
      "image/png": "[encoded data removed]",
      "text/plain": [
       "<Figure size 432x288 with 1 Axes>"
      ]
     },
     "metadata": {
      "needs_background": "light"
     },
     "output_type": "display_data"
    }
   ],
   "source": [
    "u = volatility_smile(df)"
   ]
  },
  {
   "cell_type": "code",
   "execution_count": 539,
   "metadata": {},
   "outputs": [
    {
     "data": {
      "image/png": "[encoded data removed]",
      "text/plain": [
       "<Figure size 432x288 with 1 Axes>"
      ]
     },
     "metadata": {
      "needs_background": "light"
     },
     "output_type": "display_data"
    }
   ],
   "source": [
    "u = volatility_smile(df)"
   ]
  },
  {
   "cell_type": "code",
   "execution_count": 540,
   "metadata": {},
   "outputs": [
    {
     "data": {
      "text/plain": [
       "[<matplotlib.lines.Line2D at 0x1aaa953cd48>]"
      ]
     },
     "execution_count": 540,
     "metadata": {},
     "output_type": "execute_result"
    },
    {
     "data": {
      "image/png": "[encoded data removed]",
      "text/plain": [
       "<Figure size 432x288 with 1 Axes>"
      ]
     },
     "metadata": {
      "needs_background": "light"
     },
     "output_type": "display_data"
    }
   ],
   "source": [
    "plt.plot(u[\"Strike\"], u[\"Implied Volatility\"])"
   ]
  },
  {
   "cell_type": "code",
   "execution_count": null,
   "metadata": {},
   "outputs": [],
   "source": []
  },
  {
   "cell_type": "code",
   "execution_count": 537,
   "metadata": {},
   "outputs": [
    {
     "data": {
      "text/plain": [
       "[<matplotlib.lines.Line2D at 0x1aaa70ef148>]"
      ]
     },
     "execution_count": 537,
     "metadata": {},
     "output_type": "execute_result"
    },
    {
     "data": {
      "image/png": "[encoded data removed]",
      "text/plain": [
       "<Figure size 432x288 with 1 Axes>"
      ]
     },
     "metadata": {
      "needs_background": "light"
     },
     "output_type": "display_data"
    }
   ],
   "source": [
    "plt.plot(u[\"Strike\"], u[\"Implied Volatility\"])"
   ]
  },
  {
   "cell_type": "code",
   "execution_count": null,
   "metadata": {},
   "outputs": [],
   "source": []
  },
  {
   "cell_type": "code",
   "execution_count": 534,
   "metadata": {},
   "outputs": [
    {
     "data": {
      "text/plain": [
       "[<matplotlib.lines.Line2D at 0x1aaa7f13a88>]"
      ]
     },
     "execution_count": 534,
     "metadata": {},
     "output_type": "execute_result"
    },
    {
     "data": {
      "image/png": "[encoded data removed]",
      "text/plain": [
       "<Figure size 432x288 with 1 Axes>"
      ]
     },
     "metadata": {
      "needs_background": "light"
     },
     "output_type": "display_data"
    }
   ],
   "source": [
    "plt.plot(u[\"Strike\"], u[\"Implied Volatility\"])"
   ]
  },
  {
   "cell_type": "code",
   "execution_count": 544,
   "metadata": {},
   "outputs": [
    {
     "data": {
      "image/png": "[encoded data removed]",
      "text/plain": [
       "<Figure size 432x288 with 1 Axes>"
      ]
     },
     "metadata": {
      "needs_background": "light"
     },
     "output_type": "display_data"
    }
   ],
   "source": [
    "u = volatility_smile(df)"
   ]
  },
  {
   "cell_type": "code",
   "execution_count": 546,
   "metadata": {},
   "outputs": [
    {
     "name": "stdout",
     "output_type": "stream",
     "text": [
      "multiple solutions for optimal implied volatility\n",
      "multiple solutions for optimal implied volatility\n",
      "multiple solutions for optimal implied volatility\n",
      "multiple solutions for optimal implied volatility\n",
      "multiple solutions for optimal implied volatility\n",
      "multiple solutions for optimal implied volatility\n",
      "multiple solutions for optimal implied volatility\n",
      "multiple solutions for optimal implied volatility\n",
      "multiple solutions for optimal implied volatility\n",
      "multiple solutions for optimal implied volatility\n",
      "multiple solutions for optimal implied volatility\n",
      "multiple solutions for optimal implied volatility\n",
      "multiple solutions for optimal implied volatility\n",
      "multiple solutions for optimal implied volatility\n"
     ]
    },
    {
     "data": {
      "image/png": "[encoded data removed]",
      "text/plain": [
       "<Figure size 432x288 with 1 Axes>"
      ]
     },
     "metadata": {
      "needs_background": "light"
     },
     "output_type": "display_data"
    }
   ],
   "source": [
    "u = volatility_smile(df)"
   ]
  },
  {
   "cell_type": "code",
   "execution_count": 548,
   "metadata": {},
   "outputs": [
    {
     "name": "stdout",
     "output_type": "stream",
     "text": [
      "multiple solutions for optimal implied volatility\n",
      "multiple solutions for optimal implied volatility\n",
      "multiple solutions for optimal implied volatility\n",
      "multiple solutions for optimal implied volatility\n",
      "multiple solutions for optimal implied volatility\n",
      "multiple solutions for optimal implied volatility\n",
      "multiple solutions for optimal implied volatility\n",
      "multiple solutions for optimal implied volatility\n",
      "multiple solutions for optimal implied volatility\n",
      "multiple solutions for optimal implied volatility\n",
      "multiple solutions for optimal implied volatility\n",
      "multiple solutions for optimal implied volatility\n",
      "multiple solutions for optimal implied volatility\n",
      "multiple solutions for optimal implied volatility\n"
     ]
    },
    {
     "data": {
      "image/png": "[encoded data removed]",
      "text/plain": [
       "<Figure size 432x288 with 1 Axes>"
      ]
     },
     "metadata": {
      "needs_background": "light"
     },
     "output_type": "display_data"
    }
   ],
   "source": [
    "u = volatility_smile(df)"
   ]
  },
  {
   "cell_type": "code",
   "execution_count": 555,
   "metadata": {},
   "outputs": [
    {
     "name": "stdout",
     "output_type": "stream",
     "text": [
      "multiple solutions for optimal implied volatility\n",
      "multiple solutions for optimal implied volatility\n",
      "multiple solutions for optimal implied volatility\n",
      "multiple solutions for optimal implied volatility\n",
      "multiple solutions for optimal implied volatility\n",
      "multiple solutions for optimal implied volatility\n",
      "multiple solutions for optimal implied volatility\n",
      "multiple solutions for optimal implied volatility\n",
      "multiple solutions for optimal implied volatility\n",
      "multiple solutions for optimal implied volatility\n",
      "multiple solutions for optimal implied volatility\n",
      "multiple solutions for optimal implied volatility\n",
      "multiple solutions for optimal implied volatility\n",
      "multiple solutions for optimal implied volatility\n",
      "multiple solutions for optimal implied volatility\n",
      "multiple solutions for optimal implied volatility\n",
      "multiple solutions for optimal implied volatility\n"
     ]
    },
    {
     "data": {
      "image/png": "[encoded data removed]",
      "text/plain": [
       "<Figure size 432x288 with 1 Axes>"
      ]
     },
     "metadata": {
      "needs_background": "light"
     },
     "output_type": "display_data"
    }
   ],
   "source": [
    "u = volatility_smile(df)"
   ]
  },
  {
   "cell_type": "code",
   "execution_count": 564,
   "metadata": {},
   "outputs": [
    {
     "name": "stdout",
     "output_type": "stream",
     "text": [
      "minError: 1.60867051404584e-05\n",
      "[110]\n",
      "0.2222\n"
     ]
    },
    {
     "data": {
      "image/png": "[encoded data removed]",
      "text/plain": [
       "<Figure size 432x288 with 1 Axes>"
      ]
     },
     "metadata": {
      "needs_background": "light"
     },
     "output_type": "display_data"
    }
   ],
   "source": [
    "u = volatility_smile(df)"
   ]
  },
  {
   "cell_type": "code",
   "execution_count": 586,
   "metadata": {},
   "outputs": [
    {
     "name": "stdout",
     "output_type": "stream",
     "text": [
      "minError: 1.60867051404584e-05\n",
      "Ind:  [2221]\n",
      "Sigma[Ind]:  [0.2222]\n",
      "implied_vol:  0.2222\n"
     ]
    },
    {
     "data": {
      "image/png": "[encoded data removed]",
      "text/plain": [
       "<Figure size 432x288 with 1 Axes>"
      ]
     },
     "metadata": {
      "needs_background": "light"
     },
     "output_type": "display_data"
    }
   ],
   "source": [
    "u = volatility_smile(df,0)"
   ]
  },
  {
   "cell_type": "code",
   "execution_count": 588,
   "metadata": {},
   "outputs": [
    {
     "name": "stdout",
     "output_type": "stream",
     "text": [
      "minError: 4.272955625990449e-05\n",
      "Ind:  [1517]\n",
      "Sigma[Ind]:  [0.1518]\n",
      "implied_vol:  0.15180000000000002\n"
     ]
    },
    {
     "data": {
      "image/png": "[encoded data removed]",
      "text/plain": [
       "<Figure size 432x288 with 1 Axes>"
      ]
     },
     "metadata": {
      "needs_background": "light"
     },
     "output_type": "display_data"
    }
   ],
   "source": [
    "u = volatility_smile(df,1)"
   ]
  },
  {
   "cell_type": "code",
   "execution_count": 589,
   "metadata": {},
   "outputs": [
    {
     "name": "stdout",
     "output_type": "stream",
     "text": [
      "minError: 0.00012812650563531758\n",
      "Ind:  [1123]\n",
      "Sigma[Ind]:  [0.1124]\n",
      "implied_vol:  0.1124\n"
     ]
    },
    {
     "data": {
      "image/png": "[encoded data removed]",
      "text/plain": [
       "<Figure size 432x288 with 1 Axes>"
      ]
     },
     "metadata": {
      "needs_background": "light"
     },
     "output_type": "display_data"
    }
   ],
   "source": [
    "u = volatility_smile(df,2)"
   ]
  },
  {
   "cell_type": "code",
   "execution_count": null,
   "metadata": {},
   "outputs": [],
   "source": []
  },
  {
   "cell_type": "code",
   "execution_count": null,
   "metadata": {},
   "outputs": [],
   "source": []
  },
  {
   "cell_type": "code",
   "execution_count": 583,
   "metadata": {},
   "outputs": [
    {
     "name": "stdout",
     "output_type": "stream",
     "text": [
      "minError: 1.60867051404584e-05\n",
      "Ind:  [2221]\n",
      "implied_vol:  0.2222\n"
     ]
    },
    {
     "data": {
      "image/png": "[encoded data removed]",
      "text/plain": [
       "<Figure size 432x288 with 1 Axes>"
      ]
     },
     "metadata": {
      "needs_background": "light"
     },
     "output_type": "display_data"
    }
   ],
   "source": [
    "u = volatility_smile(df)"
   ]
  },
  {
   "cell_type": "code",
   "execution_count": 592,
   "metadata": {},
   "outputs": [
    {
     "name": "stdout",
     "output_type": "stream",
     "text": [
      "24\n",
      "minError: 1.60867051404584e-05\n",
      "Ind:  [2221]\n",
      "Sigma[Ind]:  [0.2222]\n",
      "implied_vol:  0.2222\n"
     ]
    },
    {
     "data": {
      "image/png": "[encoded data removed]",
      "text/plain": [
       "<Figure size 432x288 with 1 Axes>"
      ]
     },
     "metadata": {
      "needs_background": "light"
     },
     "output_type": "display_data"
    }
   ],
   "source": [
    "volatility_smile(df)"
   ]
  },
  {
   "cell_type": "code",
   "execution_count": 594,
   "metadata": {},
   "outputs": [
    {
     "name": "stdout",
     "output_type": "stream",
     "text": [
      "minError: 1.60867051404584e-05\n",
      "Ind:  [2221]\n",
      "Sigma[Ind]:  [0.2222]\n",
      "implied_vol:  0.2222\n",
      "minError: 4.272955625990449e-05\n",
      "Ind:  [1517]\n",
      "Sigma[Ind]:  [0.1518]\n",
      "implied_vol:  0.15180000000000002\n",
      "minError: 0.00012812650563531758\n",
      "Ind:  [1123]\n",
      "Sigma[Ind]:  [0.1124]\n",
      "implied_vol:  0.1124\n",
      "minError: 0.00017235454207914502\n",
      "Ind:  [540]\n",
      "Sigma[Ind]:  [0.0541]\n",
      "implied_vol:  0.0541\n",
      "minError: 0.6499999999999981\n",
      "Ind:  [151, 157]\n",
      "Sigma[Ind]:  [0.0152 0.0158]\n",
      "multiple solutions for optimal implied volatility\n",
      "implied_vol:  0.0152\n",
      "minError: 1.2199999999999982\n",
      "Ind:  [263, 267, 279]\n",
      "Sigma[Ind]:  [0.0264 0.0268 0.028 ]\n",
      "multiple solutions for optimal implied volatility\n",
      "implied_vol:  0.0264\n",
      "minError: 1.7199999999999982\n",
      "Ind:  [384, 388]\n",
      "Sigma[Ind]:  [0.0385 0.0389]\n",
      "multiple solutions for optimal implied volatility\n",
      "implied_vol:  0.0385\n",
      "minError: 2.1699999999999964\n",
      "Ind:  [475]\n",
      "Sigma[Ind]:  [0.0476]\n",
      "implied_vol:  0.0476\n",
      "minError: 2.569999999999998\n",
      "Ind:  [559, 560, 561, 562, 563, 564, 572, 573, 577, 584, 587, 589, 593, 600]\n",
      "Sigma[Ind]:  [0.056  0.0561 0.0562 0.0563 0.0564 0.0565 0.0573 0.0574 0.0578 0.0585\n",
      " 0.0588 0.059  0.0594 0.0601]\n",
      "multiple solutions for optimal implied volatility\n",
      "implied_vol:  0.056\n",
      "minError: 2.8699999999999983\n",
      "Ind:  [648, 649, 650, 651, 652, 653, 654, 664, 665, 672, 673, 675, 683, 684, 693, 694, 699, 704]\n",
      "Sigma[Ind]:  [0.0649 0.065  0.0651 0.0652 0.0653 0.0654 0.0655 0.0665 0.0666 0.0673\n",
      " 0.0674 0.0676 0.0684 0.0685 0.0694 0.0695 0.07   0.0705]\n",
      "multiple solutions for optimal implied volatility\n",
      "implied_vol:  0.0649\n",
      "minError: 3.1099999999999985\n",
      "Ind:  [733, 734, 735, 736, 737, 738, 739, 751, 752, 760, 765, 769, 773, 778, 792]\n",
      "Sigma[Ind]:  [0.0734 0.0735 0.0736 0.0737 0.0738 0.0739 0.074  0.0752 0.0753 0.0761\n",
      " 0.0766 0.077  0.0774 0.0779 0.0793]\n",
      "multiple solutions for optimal implied volatility\n",
      "implied_vol:  0.0734\n",
      "minError: 3.669999999999998\n",
      "Ind:  [814, 815, 816, 817, 818, 819, 820, 834, 838, 839, 844, 846, 851, 855, 865, 868]\n",
      "Sigma[Ind]:  [0.0815 0.0816 0.0817 0.0818 0.0819 0.082  0.0821 0.0835 0.0839 0.084\n",
      " 0.0845 0.0847 0.0852 0.0856 0.0866 0.0869]\n",
      "multiple solutions for optimal implied volatility\n",
      "implied_vol:  0.0815\n",
      "minError: 4.5699999999999985\n",
      "Ind:  [891, 892, 893, 894, 895, 896, 897, 898, 913, 918, 929, 934, 937, 940]\n",
      "Sigma[Ind]:  [0.0892 0.0893 0.0894 0.0895 0.0896 0.0897 0.0898 0.0899 0.0914 0.0919\n",
      " 0.093  0.0935 0.0938 0.0941]\n",
      "multiple solutions for optimal implied volatility\n",
      "implied_vol:  0.0892\n",
      "minError: 4.869999999999998\n",
      "Ind:  [965, 966, 967, 968, 969, 970, 971, 998, 999, 1006, 1012, 1017, 1020, 1023, 1025, 1029, 1031, 1034]\n",
      "Sigma[Ind]:  [0.0966 0.0967 0.0968 0.0969 0.097  0.0971 0.0972 0.0999 0.1    0.1007\n",
      " 0.1013 0.1018 0.1021 0.1024 0.1026 0.103  0.1032 0.1035]\n",
      "multiple solutions for optimal implied volatility\n",
      "implied_vol:  0.0966\n",
      "minError: 4.349999999999996\n",
      "Ind:  [1053, 1054, 1055, 1083]\n",
      "Sigma[Ind]:  [0.1054 0.1055 0.1056 0.1084]\n",
      "multiple solutions for optimal implied volatility\n",
      "implied_vol:  0.10540000000000001\n",
      "minError: 4.399999999999997\n",
      "Ind:  [1122, 1123, 1124]\n",
      "Sigma[Ind]:  [0.1123 0.1124 0.1125]\n",
      "multiple solutions for optimal implied volatility\n",
      "implied_vol:  0.11230000000000001\n",
      "minError: 4.399999999999997\n",
      "Ind:  [1188, 1189, 1190, 1215, 1240]\n",
      "Sigma[Ind]:  [0.1189 0.119  0.1191 0.1216 0.1241]\n",
      "multiple solutions for optimal implied volatility\n",
      "implied_vol:  0.1189\n",
      "minError: 4.869999999999996\n",
      "Ind:  [1252, 1253, 1262, 1286, 1298]\n",
      "Sigma[Ind]:  [0.1253 0.1254 0.1263 0.1287 0.1299]\n",
      "multiple solutions for optimal implied volatility\n",
      "implied_vol:  0.1253\n",
      "minError: 4.969999999999997\n",
      "Ind:  [1314, 1331, 1332, 1367]\n",
      "Sigma[Ind]:  [0.1315 0.1332 0.1333 0.1368]\n",
      "multiple solutions for optimal implied volatility\n",
      "implied_vol:  0.1315\n",
      "minError: 5.069999999999995\n",
      "Ind:  [1373, 1391, 1396, 1422]\n",
      "Sigma[Ind]:  [0.1374 0.1392 0.1397 0.1423]\n",
      "multiple solutions for optimal implied volatility\n",
      "implied_vol:  0.1374\n",
      "minError: 4.769999999999994\n",
      "Ind:  [1449, 1459, 1467]\n",
      "Sigma[Ind]:  [0.145  0.146  0.1468]\n",
      "multiple solutions for optimal implied volatility\n",
      "implied_vol:  0.14500000000000002\n",
      "minError: 5.669999999999995\n",
      "Ind:  [1889, 1890, 1891, 1892, 1893, 1894, 1895, 1896, 1897, 1898, 1899, 1900, 1901, 1902, 1903, 1904, 1905, 1906, 1907, 1908, 1909, 1910, 1935, 1936, 1958, 1959, 1972, 1973, 1981, 1982, 1993]\n",
      "Sigma[Ind]:  [0.189  0.1891 0.1892 0.1893 0.1894 0.1895 0.1896 0.1897 0.1898 0.1899\n",
      " 0.19   0.1901 0.1902 0.1903 0.1904 0.1905 0.1906 0.1907 0.1908 0.1909\n",
      " 0.191  0.1911 0.1936 0.1937 0.1959 0.196  0.1973 0.1974 0.1982 0.1983\n",
      " 0.1994]\n",
      "multiple solutions for optimal implied volatility\n",
      "implied_vol:  0.189\n",
      "minError: 5.869999999999997\n",
      "Ind:  [2570, 2571, 2572, 2573, 2574, 2575, 2576, 2577, 2578, 2579, 2580, 2581, 2582, 2583, 2584, 2613, 2614, 2615, 2616, 2617, 2618, 2633, 2634, 2635, 2636, 2637, 2647, 2648, 2649, 2650, 2657, 2658, 2659, 2660, 2666, 2667, 2668, 2673, 2674, 2675, 2679, 2680, 2681]\n",
      "Sigma[Ind]:  [0.2571 0.2572 0.2573 0.2574 0.2575 0.2576 0.2577 0.2578 0.2579 0.258\n",
      " 0.2581 0.2582 0.2583 0.2584 0.2585 0.2614 0.2615 0.2616 0.2617 0.2618\n",
      " 0.2619 0.2634 0.2635 0.2636 0.2637 0.2638 0.2648 0.2649 0.265  0.2651\n",
      " 0.2658 0.2659 0.266  0.2661 0.2667 0.2668 0.2669 0.2674 0.2675 0.2676\n",
      " 0.268  0.2681 0.2682]\n",
      "multiple solutions for optimal implied volatility\n",
      "implied_vol:  0.2571\n",
      "minError: 6.36999999999999\n",
      "Ind:  [3056, 3057, 3058, 3059, 3060, 3061, 3062, 3063, 3064, 3065, 3066, 3067, 3068, 3069, 3070, 3071, 3072, 3073, 3074, 3075, 3076, 3077, 3078, 3079, 3080, 3081, 3082, 3083, 3084, 3085, 3086, 3087, 3088, 3131, 3132, 3170, 3171, 3192, 3193, 3208, 3209]\n",
      "Sigma[Ind]:  [0.3057 0.3058 0.3059 0.306  0.3061 0.3062 0.3063 0.3064 0.3065 0.3066\n",
      " 0.3067 0.3068 0.3069 0.307  0.3071 0.3072 0.3073 0.3074 0.3075 0.3076\n",
      " 0.3077 0.3078 0.3079 0.308  0.3081 0.3082 0.3083 0.3084 0.3085 0.3086\n",
      " 0.3087 0.3088 0.3089 0.3132 0.3133 0.3171 0.3172 0.3193 0.3194 0.3209\n",
      " 0.321 ]\n",
      "multiple solutions for optimal implied volatility\n",
      "implied_vol:  0.3057\n"
     ]
    },
    {
     "data": {
      "image/png": "[encoded data removed]",
      "text/plain": [
       "<Figure size 432x288 with 1 Axes>"
      ]
     },
     "metadata": {
      "needs_background": "light"
     },
     "output_type": "display_data"
    }
   ],
   "source": [
    "for i in range(24):\n",
    "    volatility_smile(df,i)"
   ]
  },
  {
   "cell_type": "code",
   "execution_count": 597,
   "metadata": {},
   "outputs": [
    {
     "name": "stdout",
     "output_type": "stream",
     "text": [
      "minError: 2.5699999999999963\n",
      "Ind:  [19485, 19486, 19487, 19657, 19658, 19659, 19769, 19770, 19771]\n",
      "Sigma[Ind]:  [0.058458 0.058461 0.058464 0.058974 0.058977 0.05898  0.05931  0.059313\n",
      " 0.059316]\n",
      "multiple solutions for optimal implied volatility\n",
      "implied_vol:  0.058458\n"
     ]
    },
    {
     "data": {
      "image/png": "[encoded data removed]",
      "text/plain": [
       "<Figure size 432x288 with 1 Axes>"
      ]
     },
     "metadata": {
      "needs_background": "light"
     },
     "output_type": "display_data"
    }
   ],
   "source": [
    "volatility_smile(df,8)"
   ]
  },
  {
   "cell_type": "code",
   "execution_count": null,
   "metadata": {},
   "outputs": [],
   "source": [
    "# how to minimize with scipy"
   ]
  },
  {
   "cell_type": "code",
   "execution_count": 632,
   "metadata": {},
   "outputs": [
    {
     "name": "stdout",
     "output_type": "stream",
     "text": [
      " final_simplex: (array([[0.5       ],\n",
      "       [0.50009766]]), array([0.000000e+00, 9.765625e-05]))\n",
      "           fun: 0.0\n",
      "       message: 'Optimization terminated successfully.'\n",
      "          nfev: 18\n",
      "           nit: 9\n",
      "        status: 0\n",
      "       success: True\n",
      "             x: array([0.5])\n"
     ]
    }
   ],
   "source": [
    "from scipy import optimize\n",
    "from scipy.optimize import minimize\n",
    "def f(x,y):\n",
    "    return norm.cdf(x)-y\n",
    "\n",
    "# célfüggvény\n",
    "def objective_function(x0, a):\n",
    "    \"\"\"objective function, to be solved.\"\"\"\n",
    "    return abs(f(a,x0))\n",
    "\n",
    "\n",
    "initial_guess = [0]  # initial guess can be anything\n",
    "result = optimize.minimize(objective_function, 0.5, initial_guess,method='nelder-mead')\n",
    "print(result)"
   ]
  },
  {
   "cell_type": "code",
   "execution_count": null,
   "metadata": {},
   "outputs": [],
   "source": [
    "def objective(x):\n",
    "    x1 = x[0]\n",
    "    x2 = x[1]\n",
    "    x3 = x[2]\n",
    "    x4 = x[3]   "
   ]
  },
  {
   "cell_type": "code",
   "execution_count": 631,
   "metadata": {},
   "outputs": [
    {
     "data": {
      "text/plain": [
       "0.5"
      ]
     },
     "execution_count": 631,
     "metadata": {},
     "output_type": "execute_result"
    }
   ],
   "source": [
    "norm.cdf(0)"
   ]
  },
  {
   "cell_type": "code",
   "execution_count": 633,
   "metadata": {},
   "outputs": [],
   "source": [
    "from scipy.optimize import minimize"
   ]
  },
  {
   "cell_type": "code",
   "execution_count": 644,
   "metadata": {},
   "outputs": [
    {
     "data": {
      "text/plain": [
       "1.9999999960566366"
      ]
     },
     "execution_count": 644,
     "metadata": {},
     "output_type": "execute_result"
    }
   ],
   "source": [
    "def o(x):\n",
    "    return np.abs(x ** 2 - 4)\n",
    "def c1(x):\n",
    "    return x - 1\n",
    "def c2(x):\n",
    "    return 10 - x\n",
    "    \n",
    "x0 = 10 # initial guess\n",
    "\n",
    "o(x0)\n",
    "#b=(1,7)\n",
    "bound=(b)\n",
    "con1={'type': 'ineq', 'fun' : c1}\n",
    "con2={'type': 'ineq', 'fun' : c2}\n",
    "c=(con1,con2)\n",
    "# method=\"SLSQP\", bounds=bound)\n",
    "s = minimize(o, x0, constraints=c)\n",
    "x=s.x\n",
    "x=x[0]\n",
    "x"
   ]
  },
  {
   "cell_type": "code",
   "execution_count": 649,
   "metadata": {},
   "outputs": [
    {
     "data": {
      "text/plain": [
       "-7.4505805673858834e-09"
      ]
     },
     "execution_count": 649,
     "metadata": {},
     "output_type": "execute_result"
    }
   ],
   "source": [
    "def o(x):\n",
    "    return np.abs(norm.cdf(x) - 1/2)\n",
    "    \n",
    "x0 = 1 # initial guess\n",
    "\n",
    "o(x0)\n",
    "#b=(1,7)\n",
    "#bound=(b)\n",
    "con1={'type': 'ineq', 'fun' : c1}\n",
    "con2={'type': 'ineq', 'fun' : c2}\n",
    "c=(con1,con2)\n",
    "# method=\"SLSQP\", bounds=bound)\n",
    "s = minimize(o, x0)\n",
    "x=s.x\n",
    "x=x[0]\n",
    "x"
   ]
  },
  {
   "cell_type": "code",
   "execution_count": null,
   "metadata": {},
   "outputs": [],
   "source": []
  },
  {
   "cell_type": "code",
   "execution_count": 650,
   "metadata": {},
   "outputs": [
    {
     "name": "stderr",
     "output_type": "stream",
     "text": [
      "C:\\ProgramData\\Anaconda3\\lib\\site-packages\\ipykernel_launcher.py:10: RuntimeWarning: invalid value encountered in true_divide\n",
      "  # Remove the CWD from sys.path while we load stuff.\n"
     ]
    },
    {
     "data": {
      "image/png": "[encoded data removed]",
      "text/plain": [
       "<Figure size 432x288 with 1 Axes>"
      ]
     },
     "metadata": {
      "needs_background": "light"
     },
     "output_type": "display_data"
    },
    {
     "name": "stdout",
     "output_type": "stream",
     "text": [
      "The solution is tau = 1.021651\n",
      "at which the value of the expression is -0.000000\n"
     ]
    }
   ],
   "source": [
    "import numpy as np\n",
    "import matplotlib.pyplot as plt\n",
    "from scipy.optimize import fsolve\n",
    "\n",
    "# Define the expression whose roots we want to find\n",
    "\n",
    "a = 0.5\n",
    "R = 1.6\n",
    "\n",
    "func = lambda tau : R - ((1.0 - np.exp(-tau))/(1.0 - np.exp(-a*tau))) \n",
    "\n",
    "# Plot it\n",
    "\n",
    "tau = np.linspace(-0.5, 1.5, 201)\n",
    "\n",
    "plt.plot(tau, func(tau))\n",
    "plt.xlabel(\"tau\")\n",
    "plt.ylabel(\"expression value\")\n",
    "plt.grid()\n",
    "plt.show()\n",
    "\n",
    "# Use the numerical solver to find the roots\n",
    "\n",
    "tau_initial_guess = 0.5\n",
    "tau_solution = fsolve(func, tau_initial_guess)\n",
    "\n",
    "print(\"The solution is tau = %f\" % tau_solution)\n",
    "print(\"at which the value of the expression is %f\" % func(tau_solution))"
   ]
  },
  {
   "cell_type": "code",
   "execution_count": 652,
   "metadata": {},
   "outputs": [
    {
     "name": "stdout",
     "output_type": "stream",
     "text": [
      "      fun: 1.5808871493702169e-18\n",
      " hess_inv: array([[ 0.03898428, -0.01508996,  0.00433191],\n",
      "       [-0.01508996,  0.09405872,  0.10127539],\n",
      "       [ 0.00433191,  0.10127539,  0.56141594]])\n",
      "      jac: array([4.49424054e-08, 2.88924305e-08, 1.74158279e-08])\n",
      "  message: 'Optimization terminated successfully.'\n",
      "     nfev: 30\n",
      "      nit: 4\n",
      "     njev: 6\n",
      "   status: 0\n",
      "  success: True\n",
      "        x: array([ 0.24414812,  0.18485712, -0.88852078])\n"
     ]
    }
   ],
   "source": [
    "from scipy.optimize import minimize\n",
    "\n",
    "# find solutions of -0.7353 + 3.306 * abs(0.706 - x) + 1.247 * abs(0.721 - y) = 0.89072 - 1.4829 * x + 0.23239 * y - z\n",
    "f = lambda x: ((-0.7353 + 3.306 * (np.abs(0.706 - x[0])) + 1.247 * (np.abs(0.721 - x[1]))) - \\\n",
    "                (0.89072 - 1.4829 * x[0] + 0.23239 * x[1] - x[2]))**2\n",
    "x0 = [1, 1, 1]\n",
    "res = minimize(f, x0, tol=1e-6)\n",
    "x=res.x\n",
    "x"
   ]
  },
  {
   "cell_type": "code",
   "execution_count": 660,
   "metadata": {},
   "outputs": [
    {
     "data": {
      "text/plain": [
       "array([ 0.24414812,  0.18485712, -0.88852078])"
      ]
     },
     "execution_count": 660,
     "metadata": {},
     "output_type": "execute_result"
    }
   ],
   "source": [
    "from scipy.optimize import minimize\n",
    "\n",
    "# find solutions of -0.7353 + 3.306 * abs(0.706 - x) + 1.247 * abs(0.721 - y) = 0.89072 - 1.4829 * x + 0.23239 * y - z\n",
    "f = lambda x: ((-0.7353 + 3.306 * (np.abs(0.706 - x[0])) + 1.247 * (np.abs(0.721 - x[1]))) - \\\n",
    "                (0.89072 - 1.4829 * x[0] + 0.23239 * x[1] - x[2]))**2\n",
    "x0 = [1, 1, 1]\n",
    "res = minimize(f, x0, tol=1e-10)\n",
    "x=res.x\n",
    "x"
   ]
  },
  {
   "cell_type": "code",
   "execution_count": null,
   "metadata": {},
   "outputs": [],
   "source": []
  },
  {
   "cell_type": "code",
   "execution_count": 655,
   "metadata": {},
   "outputs": [
    {
     "data": {
      "text/plain": [
       "1.5808871493702169e-18"
      ]
     },
     "execution_count": 655,
     "metadata": {},
     "output_type": "execute_result"
    }
   ],
   "source": [
    "f(x)"
   ]
  },
  {
   "cell_type": "code",
   "execution_count": 661,
   "metadata": {},
   "outputs": [],
   "source": [
    "u = lambda x: -0.7353 + 3.306 * np.abs(0.706 - x[0]) + 1.247 * np.abs(0.721 - x[1])"
   ]
  },
  {
   "cell_type": "code",
   "execution_count": null,
   "metadata": {},
   "outputs": [],
   "source": []
  },
  {
   "cell_type": "code",
   "execution_count": 662,
   "metadata": {},
   "outputs": [
    {
     "data": {
      "text/plain": [
       "1.4601524758465136"
      ]
     },
     "execution_count": 662,
     "metadata": {},
     "output_type": "execute_result"
    }
   ],
   "source": [
    "u(x)"
   ]
  },
  {
   "cell_type": "code",
   "execution_count": 663,
   "metadata": {},
   "outputs": [],
   "source": [
    "v = lambda x: 0.89072 - 1.4829 * x[0] + 0.23239 * x[1] - x[2]"
   ]
  },
  {
   "cell_type": "code",
   "execution_count": 664,
   "metadata": {},
   "outputs": [
    {
     "data": {
      "text/plain": [
       "1.4601524745891803"
      ]
     },
     "execution_count": 664,
     "metadata": {},
     "output_type": "execute_result"
    }
   ],
   "source": [
    "v(x)"
   ]
  },
  {
   "cell_type": "code",
   "execution_count": null,
   "metadata": {},
   "outputs": [],
   "source": []
  },
  {
   "cell_type": "code",
   "execution_count": 653,
   "metadata": {},
   "outputs": [
    {
     "data": {
      "text/plain": [
       "1.5808871493702169e-18"
      ]
     },
     "execution_count": 653,
     "metadata": {},
     "output_type": "execute_result"
    }
   ],
   "source": [
    "f(x)"
   ]
  },
  {
   "cell_type": "code",
   "execution_count": null,
   "metadata": {},
   "outputs": [],
   "source": []
  },
  {
   "cell_type": "code",
   "execution_count": 665,
   "metadata": {},
   "outputs": [
    {
     "data": {
      "text/plain": [
       "1.0232111212322122e+19"
      ]
     },
     "execution_count": 665,
     "metadata": {},
     "output_type": "execute_result"
    }
   ],
   "source": [
    "10232111212322121212.21+10.23211121232212121221"
   ]
  },
  {
   "cell_type": "code",
   "execution_count": 667,
   "metadata": {},
   "outputs": [
    {
     "data": {
      "text/plain": [
       "2"
      ]
     },
     "execution_count": 667,
     "metadata": {},
     "output_type": "execute_result"
    }
   ],
   "source": [
    "int(2.9)"
   ]
  },
  {
   "cell_type": "code",
   "execution_count": 669,
   "metadata": {},
   "outputs": [
    {
     "ename": "TypeError",
     "evalue": "unsupported operand type(s) for -: 'function' and 'function'",
     "output_type": "error",
     "traceback": [
      "\u001b[1;31m---------------------------------------------------------------------------\u001b[0m",
      "\u001b[1;31mTypeError\u001b[0m                                 Traceback (most recent call last)",
      "\u001b[1;32m<ipython-input-669-012ccc196445>\u001b[0m in \u001b[0;36m<module>\u001b[1;34m\u001b[0m\n\u001b[0;32m      5\u001b[0m \u001b[0mf\u001b[0m \u001b[1;33m=\u001b[0m \u001b[1;32mlambda\u001b[0m \u001b[0mx\u001b[0m\u001b[1;33m:\u001b[0m \u001b[0mnorm\u001b[0m\u001b[1;33m.\u001b[0m\u001b[0mcdf\u001b[0m\u001b[1;33m(\u001b[0m\u001b[0mx\u001b[0m\u001b[1;33m)\u001b[0m\u001b[1;33m\u001b[0m\u001b[1;33m\u001b[0m\u001b[0m\n\u001b[0;32m      6\u001b[0m \u001b[0mx0\u001b[0m \u001b[1;33m=\u001b[0m \u001b[1;36m1\u001b[0m\u001b[1;33m\u001b[0m\u001b[1;33m\u001b[0m\u001b[0m\n\u001b[1;32m----> 7\u001b[1;33m \u001b[0mres\u001b[0m \u001b[1;33m=\u001b[0m \u001b[0mminimize\u001b[0m\u001b[1;33m(\u001b[0m\u001b[0mf\u001b[0m\u001b[1;33m-\u001b[0m\u001b[0mg\u001b[0m\u001b[1;33m,\u001b[0m \u001b[0mx0\u001b[0m\u001b[1;33m,\u001b[0m \u001b[0mtol\u001b[0m\u001b[1;33m=\u001b[0m\u001b[1;36m1e-10\u001b[0m\u001b[1;33m)\u001b[0m\u001b[1;33m\u001b[0m\u001b[1;33m\u001b[0m\u001b[0m\n\u001b[0m\u001b[0;32m      8\u001b[0m \u001b[0mx\u001b[0m\u001b[1;33m=\u001b[0m\u001b[0mres\u001b[0m\u001b[1;33m.\u001b[0m\u001b[0mx\u001b[0m\u001b[1;33m\u001b[0m\u001b[1;33m\u001b[0m\u001b[0m\n\u001b[0;32m      9\u001b[0m \u001b[0mx\u001b[0m\u001b[1;33m\u001b[0m\u001b[1;33m\u001b[0m\u001b[0m\n",
      "\u001b[1;31mTypeError\u001b[0m: unsupported operand type(s) for -: 'function' and 'function'"
     ]
    }
   ],
   "source": [
    "from scipy.optimize import minimize\n",
    "\n",
    "g = lambda x: 1/2\n",
    "# find solutions of -0.7353 + 3.306 * abs(0.706 - x) + 1.247 * abs(0.721 - y) = 0.89072 - 1.4829 * x + 0.23239 * y - z\n",
    "f = lambda x: norm.cdf(x)\n",
    "x0 = 1\n",
    "res = minimize(f-g, x0, tol=1e-10)\n",
    "x=res.x\n",
    "x"
   ]
  },
  {
   "cell_type": "code",
   "execution_count": null,
   "metadata": {},
   "outputs": [],
   "source": []
  },
  {
   "cell_type": "code",
   "execution_count": null,
   "metadata": {},
   "outputs": [],
   "source": []
  },
  {
   "cell_type": "code",
   "execution_count": null,
   "metadata": {},
   "outputs": [],
   "source": []
  },
  {
   "cell_type": "code",
   "execution_count": null,
   "metadata": {},
   "outputs": [],
   "source": []
  },
  {
   "cell_type": "code",
   "execution_count": null,
   "metadata": {},
   "outputs": [],
   "source": []
  },
  {
   "cell_type": "code",
   "execution_count": null,
   "metadata": {},
   "outputs": [],
   "source": []
  },
  {
   "cell_type": "code",
   "execution_count": null,
   "metadata": {},
   "outputs": [],
   "source": []
  },
  {
   "cell_type": "code",
   "execution_count": null,
   "metadata": {},
   "outputs": [],
   "source": []
  },
  {
   "cell_type": "code",
   "execution_count": null,
   "metadata": {},
   "outputs": [],
   "source": []
  },
  {
   "cell_type": "code",
   "execution_count": null,
   "metadata": {},
   "outputs": [],
   "source": []
  },
  {
   "cell_type": "code",
   "execution_count": null,
   "metadata": {},
   "outputs": [],
   "source": []
  },
  {
   "cell_type": "code",
   "execution_count": null,
   "metadata": {},
   "outputs": [],
   "source": []
  },
  {
   "cell_type": "code",
   "execution_count": null,
   "metadata": {},
   "outputs": [],
   "source": []
  },
  {
   "cell_type": "code",
   "execution_count": null,
   "metadata": {},
   "outputs": [],
   "source": []
  },
  {
   "cell_type": "code",
   "execution_count": null,
   "metadata": {},
   "outputs": [],
   "source": []
  },
  {
   "cell_type": "code",
   "execution_count": null,
   "metadata": {},
   "outputs": [],
   "source": []
  },
  {
   "cell_type": "code",
   "execution_count": null,
   "metadata": {},
   "outputs": [],
   "source": []
  },
  {
   "cell_type": "code",
   "execution_count": null,
   "metadata": {},
   "outputs": [],
   "source": []
  },
  {
   "cell_type": "code",
   "execution_count": null,
   "metadata": {},
   "outputs": [],
   "source": []
  },
  {
   "cell_type": "code",
   "execution_count": null,
   "metadata": {},
   "outputs": [],
   "source": []
  },
  {
   "cell_type": "code",
   "execution_count": null,
   "metadata": {},
   "outputs": [],
   "source": []
  },
  {
   "cell_type": "code",
   "execution_count": null,
   "metadata": {},
   "outputs": [],
   "source": [
    "def objective(speed, a, b, c, d):\n",
    "    ... # return stuff using a,b,c,d\n",
    "\n",
    "# define a0, b0, c0, d0 as convenient\n",
    "result = optimize.minimize(objective, x0, args=(a0,b0,c0,d0), method='nelder-mead')"
   ]
  },
  {
   "cell_type": "code",
   "execution_count": 606,
   "metadata": {},
   "outputs": [
    {
     "data": {
      "text/plain": [
       "0.783263929997124"
      ]
     },
     "execution_count": 606,
     "metadata": {},
     "output_type": "execute_result"
    }
   ],
   "source": [
    "norm.cdf(0.78326393)"
   ]
  },
  {
   "cell_type": "code",
   "execution_count": null,
   "metadata": {},
   "outputs": [],
   "source": []
  },
  {
   "cell_type": "code",
   "execution_count": null,
   "metadata": {},
   "outputs": [],
   "source": []
  },
  {
   "cell_type": "code",
   "execution_count": null,
   "metadata": {},
   "outputs": [],
   "source": []
  },
  {
   "cell_type": "code",
   "execution_count": null,
   "metadata": {},
   "outputs": [],
   "source": []
  },
  {
   "cell_type": "code",
   "execution_count": null,
   "metadata": {},
   "outputs": [],
   "source": []
  },
  {
   "cell_type": "code",
   "execution_count": null,
   "metadata": {},
   "outputs": [],
   "source": []
  },
  {
   "cell_type": "code",
   "execution_count": 574,
   "metadata": {},
   "outputs": [
    {
     "data": {
      "text/plain": [
       "0      C\n",
       "313    P\n",
       "Name: Option Type, dtype: object"
      ]
     },
     "execution_count": 574,
     "metadata": {},
     "output_type": "execute_result"
    }
   ],
   "source": [
    "df[\"Option Type\"].drop_duplicates()"
   ]
  },
  {
   "cell_type": "code",
   "execution_count": null,
   "metadata": {},
   "outputs": [],
   "source": []
  },
  {
   "cell_type": "code",
   "execution_count": null,
   "metadata": {},
   "outputs": [],
   "source": []
  },
  {
   "cell_type": "code",
   "execution_count": null,
   "metadata": {},
   "outputs": [],
   "source": []
  },
  {
   "cell_type": "code",
   "execution_count": null,
   "metadata": {},
   "outputs": [],
   "source": []
  },
  {
   "cell_type": "code",
   "execution_count": null,
   "metadata": {},
   "outputs": [],
   "source": []
  },
  {
   "cell_type": "code",
   "execution_count": null,
   "metadata": {},
   "outputs": [],
   "source": []
  },
  {
   "cell_type": "code",
   "execution_count": null,
   "metadata": {},
   "outputs": [],
   "source": []
  },
  {
   "cell_type": "code",
   "execution_count": null,
   "metadata": {},
   "outputs": [],
   "source": []
  },
  {
   "cell_type": "code",
   "execution_count": null,
   "metadata": {},
   "outputs": [],
   "source": []
  },
  {
   "cell_type": "code",
   "execution_count": null,
   "metadata": {},
   "outputs": [],
   "source": []
  },
  {
   "cell_type": "code",
   "execution_count": null,
   "metadata": {},
   "outputs": [],
   "source": []
  },
  {
   "cell_type": "code",
   "execution_count": 509,
   "metadata": {},
   "outputs": [
    {
     "name": "stdout",
     "output_type": "stream",
     "text": [
      "2020-03-18 00:00:00\n"
     ]
    },
    {
     "data": {
      "text/html": [
       "<div>\n",
       "<style scoped>\n",
       "    .dataframe tbody tr th:only-of-type {\n",
       "        vertical-align: middle;\n",
       "    }\n",
       "\n",
       "    .dataframe tbody tr th {\n",
       "        vertical-align: top;\n",
       "    }\n",
       "\n",
       "    .dataframe thead th {\n",
       "        text-align: right;\n",
       "    }\n",
       "</style>\n",
       "<table border=\"1\" class=\"dataframe\">\n",
       "  <thead>\n",
       "    <tr style=\"text-align: right;\">\n",
       "      <th></th>\n",
       "      <th>Expiry Date</th>\n",
       "      <th>Strike</th>\n",
       "      <th>Last Price</th>\n",
       "      <th>Implied Volatility</th>\n",
       "      <th>Option Type</th>\n",
       "      <th>Time to Expiry</th>\n",
       "      <th>Implied Price</th>\n",
       "      <th>Pricing Error</th>\n",
       "    </tr>\n",
       "  </thead>\n",
       "  <tbody>\n",
       "    <tr>\n",
       "      <td>0</td>\n",
       "      <td>2020-03-18</td>\n",
       "      <td>10.0</td>\n",
       "      <td>8.10</td>\n",
       "      <td>265.14%</td>\n",
       "      <td>C</td>\n",
       "      <td>0.535714</td>\n",
       "      <td>3.558371</td>\n",
       "      <td>-4.541629</td>\n",
       "    </tr>\n",
       "    <tr>\n",
       "      <td>4</td>\n",
       "      <td>2020-03-18</td>\n",
       "      <td>11.0</td>\n",
       "      <td>7.10</td>\n",
       "      <td>232.23%</td>\n",
       "      <td>C</td>\n",
       "      <td>0.535714</td>\n",
       "      <td>2.970775</td>\n",
       "      <td>-4.129225</td>\n",
       "    </tr>\n",
       "    <tr>\n",
       "      <td>8</td>\n",
       "      <td>2020-03-18</td>\n",
       "      <td>12.0</td>\n",
       "      <td>6.20</td>\n",
       "      <td>205.66%</td>\n",
       "      <td>C</td>\n",
       "      <td>0.535714</td>\n",
       "      <td>2.466392</td>\n",
       "      <td>-3.733608</td>\n",
       "    </tr>\n",
       "    <tr>\n",
       "      <td>12</td>\n",
       "      <td>2020-03-18</td>\n",
       "      <td>13.0</td>\n",
       "      <td>5.40</td>\n",
       "      <td>183.50%</td>\n",
       "      <td>C</td>\n",
       "      <td>0.535714</td>\n",
       "      <td>2.038574</td>\n",
       "      <td>-3.361426</td>\n",
       "    </tr>\n",
       "    <tr>\n",
       "      <td>22</td>\n",
       "      <td>2020-03-18</td>\n",
       "      <td>14.0</td>\n",
       "      <td>4.62</td>\n",
       "      <td>168.12%</td>\n",
       "      <td>C</td>\n",
       "      <td>0.535714</td>\n",
       "      <td>1.679171</td>\n",
       "      <td>-2.940829</td>\n",
       "    </tr>\n",
       "    <tr>\n",
       "      <td>28</td>\n",
       "      <td>2020-03-18</td>\n",
       "      <td>15.0</td>\n",
       "      <td>4.00</td>\n",
       "      <td>156.54%</td>\n",
       "      <td>C</td>\n",
       "      <td>0.535714</td>\n",
       "      <td>1.379549</td>\n",
       "      <td>-2.620451</td>\n",
       "    </tr>\n",
       "    <tr>\n",
       "      <td>34</td>\n",
       "      <td>2020-03-18</td>\n",
       "      <td>16.0</td>\n",
       "      <td>3.60</td>\n",
       "      <td>92.82%</td>\n",
       "      <td>C</td>\n",
       "      <td>0.535714</td>\n",
       "      <td>1.131268</td>\n",
       "      <td>-2.468732</td>\n",
       "    </tr>\n",
       "    <tr>\n",
       "      <td>44</td>\n",
       "      <td>2020-03-18</td>\n",
       "      <td>17.0</td>\n",
       "      <td>3.10</td>\n",
       "      <td>140.92%</td>\n",
       "      <td>C</td>\n",
       "      <td>0.535714</td>\n",
       "      <td>0.926494</td>\n",
       "      <td>-2.173506</td>\n",
       "    </tr>\n",
       "    <tr>\n",
       "      <td>51</td>\n",
       "      <td>2020-03-18</td>\n",
       "      <td>18.0</td>\n",
       "      <td>2.75</td>\n",
       "      <td>137.21%</td>\n",
       "      <td>C</td>\n",
       "      <td>0.535714</td>\n",
       "      <td>0.758208</td>\n",
       "      <td>-1.991792</td>\n",
       "    </tr>\n",
       "    <tr>\n",
       "      <td>57</td>\n",
       "      <td>2020-03-18</td>\n",
       "      <td>19.0</td>\n",
       "      <td>2.45</td>\n",
       "      <td>132.91%</td>\n",
       "      <td>C</td>\n",
       "      <td>0.535714</td>\n",
       "      <td>0.620277</td>\n",
       "      <td>-1.829723</td>\n",
       "    </tr>\n",
       "    <tr>\n",
       "      <td>67</td>\n",
       "      <td>2020-03-18</td>\n",
       "      <td>20.0</td>\n",
       "      <td>2.15</td>\n",
       "      <td>129.64%</td>\n",
       "      <td>C</td>\n",
       "      <td>0.535714</td>\n",
       "      <td>0.507445</td>\n",
       "      <td>-1.642555</td>\n",
       "    </tr>\n",
       "    <tr>\n",
       "      <td>79</td>\n",
       "      <td>2020-03-18</td>\n",
       "      <td>21.0</td>\n",
       "      <td>1.85</td>\n",
       "      <td>127.44%</td>\n",
       "      <td>C</td>\n",
       "      <td>0.535714</td>\n",
       "      <td>0.415263</td>\n",
       "      <td>-1.434737</td>\n",
       "    </tr>\n",
       "    <tr>\n",
       "      <td>88</td>\n",
       "      <td>2020-03-18</td>\n",
       "      <td>22.0</td>\n",
       "      <td>1.70</td>\n",
       "      <td>125.49%</td>\n",
       "      <td>C</td>\n",
       "      <td>0.535714</td>\n",
       "      <td>0.340013</td>\n",
       "      <td>-1.359987</td>\n",
       "    </tr>\n",
       "    <tr>\n",
       "      <td>95</td>\n",
       "      <td>2020-03-18</td>\n",
       "      <td>23.0</td>\n",
       "      <td>1.53</td>\n",
       "      <td>123.88%</td>\n",
       "      <td>C</td>\n",
       "      <td>0.535714</td>\n",
       "      <td>0.278606</td>\n",
       "      <td>-1.251394</td>\n",
       "    </tr>\n",
       "    <tr>\n",
       "      <td>99</td>\n",
       "      <td>2020-03-18</td>\n",
       "      <td>24.0</td>\n",
       "      <td>1.40</td>\n",
       "      <td>123.54%</td>\n",
       "      <td>C</td>\n",
       "      <td>0.535714</td>\n",
       "      <td>0.228497</td>\n",
       "      <td>-1.171503</td>\n",
       "    </tr>\n",
       "    <tr>\n",
       "      <td>108</td>\n",
       "      <td>2020-03-18</td>\n",
       "      <td>25.0</td>\n",
       "      <td>1.26</td>\n",
       "      <td>121.88%</td>\n",
       "      <td>C</td>\n",
       "      <td>0.535714</td>\n",
       "      <td>0.187597</td>\n",
       "      <td>-1.072403</td>\n",
       "    </tr>\n",
       "    <tr>\n",
       "      <td>112</td>\n",
       "      <td>2020-03-18</td>\n",
       "      <td>26.0</td>\n",
       "      <td>1.20</td>\n",
       "      <td>121.73%</td>\n",
       "      <td>C</td>\n",
       "      <td>0.535714</td>\n",
       "      <td>0.154197</td>\n",
       "      <td>-1.045803</td>\n",
       "    </tr>\n",
       "    <tr>\n",
       "      <td>115</td>\n",
       "      <td>2020-03-18</td>\n",
       "      <td>27.0</td>\n",
       "      <td>1.13</td>\n",
       "      <td>121.19%</td>\n",
       "      <td>C</td>\n",
       "      <td>0.535714</td>\n",
       "      <td>0.126901</td>\n",
       "      <td>-1.003099</td>\n",
       "    </tr>\n",
       "    <tr>\n",
       "      <td>129</td>\n",
       "      <td>2020-03-18</td>\n",
       "      <td>28.0</td>\n",
       "      <td>0.95</td>\n",
       "      <td>99.41%</td>\n",
       "      <td>C</td>\n",
       "      <td>0.535714</td>\n",
       "      <td>0.104575</td>\n",
       "      <td>-0.845425</td>\n",
       "    </tr>\n",
       "    <tr>\n",
       "      <td>132</td>\n",
       "      <td>2020-03-18</td>\n",
       "      <td>29.0</td>\n",
       "      <td>0.88</td>\n",
       "      <td>25.00%</td>\n",
       "      <td>C</td>\n",
       "      <td>0.535714</td>\n",
       "      <td>0.086295</td>\n",
       "      <td>-0.793705</td>\n",
       "    </tr>\n",
       "    <tr>\n",
       "      <td>136</td>\n",
       "      <td>2020-03-18</td>\n",
       "      <td>30.0</td>\n",
       "      <td>0.81</td>\n",
       "      <td>100.68%</td>\n",
       "      <td>C</td>\n",
       "      <td>0.535714</td>\n",
       "      <td>0.071312</td>\n",
       "      <td>-0.738688</td>\n",
       "    </tr>\n",
       "    <tr>\n",
       "      <td>149</td>\n",
       "      <td>2020-03-18</td>\n",
       "      <td>32.5</td>\n",
       "      <td>0.65</td>\n",
       "      <td>119.04%</td>\n",
       "      <td>C</td>\n",
       "      <td>0.535714</td>\n",
       "      <td>0.044555</td>\n",
       "      <td>-0.605445</td>\n",
       "    </tr>\n",
       "    <tr>\n",
       "      <td>160</td>\n",
       "      <td>2020-03-18</td>\n",
       "      <td>35.0</td>\n",
       "      <td>0.55</td>\n",
       "      <td>119.53%</td>\n",
       "      <td>C</td>\n",
       "      <td>0.535714</td>\n",
       "      <td>0.028100</td>\n",
       "      <td>-0.521900</td>\n",
       "    </tr>\n",
       "    <tr>\n",
       "      <td>170</td>\n",
       "      <td>2020-03-18</td>\n",
       "      <td>37.5</td>\n",
       "      <td>0.45</td>\n",
       "      <td>50.00%</td>\n",
       "      <td>C</td>\n",
       "      <td>0.535714</td>\n",
       "      <td>0.017891</td>\n",
       "      <td>-0.432109</td>\n",
       "    </tr>\n",
       "    <tr>\n",
       "      <td>175</td>\n",
       "      <td>2020-03-18</td>\n",
       "      <td>40.0</td>\n",
       "      <td>0.40</td>\n",
       "      <td>107.03%</td>\n",
       "      <td>C</td>\n",
       "      <td>0.535714</td>\n",
       "      <td>0.011499</td>\n",
       "      <td>-0.388501</td>\n",
       "    </tr>\n",
       "    <tr>\n",
       "      <td>200</td>\n",
       "      <td>2020-03-18</td>\n",
       "      <td>45.0</td>\n",
       "      <td>0.30</td>\n",
       "      <td>119.24%</td>\n",
       "      <td>C</td>\n",
       "      <td>0.535714</td>\n",
       "      <td>0.004883</td>\n",
       "      <td>-0.295117</td>\n",
       "    </tr>\n",
       "    <tr>\n",
       "      <td>201</td>\n",
       "      <td>2020-03-18</td>\n",
       "      <td>42.5</td>\n",
       "      <td>0.30</td>\n",
       "      <td>108.79%</td>\n",
       "      <td>C</td>\n",
       "      <td>0.535714</td>\n",
       "      <td>0.007460</td>\n",
       "      <td>-0.292540</td>\n",
       "    </tr>\n",
       "    <tr>\n",
       "      <td>207</td>\n",
       "      <td>2020-03-18</td>\n",
       "      <td>47.5</td>\n",
       "      <td>0.25</td>\n",
       "      <td>50.00%</td>\n",
       "      <td>C</td>\n",
       "      <td>0.535714</td>\n",
       "      <td>0.003225</td>\n",
       "      <td>-0.246775</td>\n",
       "    </tr>\n",
       "    <tr>\n",
       "      <td>213</td>\n",
       "      <td>2020-03-18</td>\n",
       "      <td>50.0</td>\n",
       "      <td>0.22</td>\n",
       "      <td>50.00%</td>\n",
       "      <td>C</td>\n",
       "      <td>0.535714</td>\n",
       "      <td>0.002148</td>\n",
       "      <td>-0.217852</td>\n",
       "    </tr>\n",
       "    <tr>\n",
       "      <td>227</td>\n",
       "      <td>2020-03-18</td>\n",
       "      <td>55.0</td>\n",
       "      <td>0.17</td>\n",
       "      <td>119.34%</td>\n",
       "      <td>C</td>\n",
       "      <td>0.535714</td>\n",
       "      <td>0.000976</td>\n",
       "      <td>-0.169024</td>\n",
       "    </tr>\n",
       "    <tr>\n",
       "      <td>240</td>\n",
       "      <td>2020-03-18</td>\n",
       "      <td>65.0</td>\n",
       "      <td>0.15</td>\n",
       "      <td>50.00%</td>\n",
       "      <td>C</td>\n",
       "      <td>0.535714</td>\n",
       "      <td>0.000221</td>\n",
       "      <td>-0.149779</td>\n",
       "    </tr>\n",
       "    <tr>\n",
       "      <td>241</td>\n",
       "      <td>2020-03-18</td>\n",
       "      <td>60.0</td>\n",
       "      <td>0.15</td>\n",
       "      <td>112.89%</td>\n",
       "      <td>C</td>\n",
       "      <td>0.535714</td>\n",
       "      <td>0.000457</td>\n",
       "      <td>-0.149543</td>\n",
       "    </tr>\n",
       "    <tr>\n",
       "      <td>247</td>\n",
       "      <td>2020-03-18</td>\n",
       "      <td>75.0</td>\n",
       "      <td>0.13</td>\n",
       "      <td>125.00%</td>\n",
       "      <td>C</td>\n",
       "      <td>0.535714</td>\n",
       "      <td>0.000055</td>\n",
       "      <td>-0.129945</td>\n",
       "    </tr>\n",
       "    <tr>\n",
       "      <td>267</td>\n",
       "      <td>2020-03-18</td>\n",
       "      <td>70.0</td>\n",
       "      <td>0.09</td>\n",
       "      <td>126.17%</td>\n",
       "      <td>C</td>\n",
       "      <td>0.535714</td>\n",
       "      <td>0.000109</td>\n",
       "      <td>-0.089891</td>\n",
       "    </tr>\n",
       "    <tr>\n",
       "      <td>275</td>\n",
       "      <td>2020-03-18</td>\n",
       "      <td>80.0</td>\n",
       "      <td>0.07</td>\n",
       "      <td>50.00%</td>\n",
       "      <td>C</td>\n",
       "      <td>0.535714</td>\n",
       "      <td>0.000029</td>\n",
       "      <td>-0.069971</td>\n",
       "    </tr>\n",
       "  </tbody>\n",
       "</table>\n",
       "</div>"
      ],
      "text/plain": [
       "    Expiry Date  Strike  Last Price Implied Volatility Option Type  \\\n",
       "0    2020-03-18    10.0        8.10            265.14%           C   \n",
       "4    2020-03-18    11.0        7.10            232.23%           C   \n",
       "8    2020-03-18    12.0        6.20            205.66%           C   \n",
       "12   2020-03-18    13.0        5.40            183.50%           C   \n",
       "22   2020-03-18    14.0        4.62            168.12%           C   \n",
       "28   2020-03-18    15.0        4.00            156.54%           C   \n",
       "34   2020-03-18    16.0        3.60             92.82%           C   \n",
       "44   2020-03-18    17.0        3.10            140.92%           C   \n",
       "51   2020-03-18    18.0        2.75            137.21%           C   \n",
       "57   2020-03-18    19.0        2.45            132.91%           C   \n",
       "67   2020-03-18    20.0        2.15            129.64%           C   \n",
       "79   2020-03-18    21.0        1.85            127.44%           C   \n",
       "88   2020-03-18    22.0        1.70            125.49%           C   \n",
       "95   2020-03-18    23.0        1.53            123.88%           C   \n",
       "99   2020-03-18    24.0        1.40            123.54%           C   \n",
       "108  2020-03-18    25.0        1.26            121.88%           C   \n",
       "112  2020-03-18    26.0        1.20            121.73%           C   \n",
       "115  2020-03-18    27.0        1.13            121.19%           C   \n",
       "129  2020-03-18    28.0        0.95             99.41%           C   \n",
       "132  2020-03-18    29.0        0.88             25.00%           C   \n",
       "136  2020-03-18    30.0        0.81            100.68%           C   \n",
       "149  2020-03-18    32.5        0.65            119.04%           C   \n",
       "160  2020-03-18    35.0        0.55            119.53%           C   \n",
       "170  2020-03-18    37.5        0.45             50.00%           C   \n",
       "175  2020-03-18    40.0        0.40            107.03%           C   \n",
       "200  2020-03-18    45.0        0.30            119.24%           C   \n",
       "201  2020-03-18    42.5        0.30            108.79%           C   \n",
       "207  2020-03-18    47.5        0.25             50.00%           C   \n",
       "213  2020-03-18    50.0        0.22             50.00%           C   \n",
       "227  2020-03-18    55.0        0.17            119.34%           C   \n",
       "240  2020-03-18    65.0        0.15             50.00%           C   \n",
       "241  2020-03-18    60.0        0.15            112.89%           C   \n",
       "247  2020-03-18    75.0        0.13            125.00%           C   \n",
       "267  2020-03-18    70.0        0.09            126.17%           C   \n",
       "275  2020-03-18    80.0        0.07             50.00%           C   \n",
       "\n",
       "     Time to Expiry  Implied Price  Pricing Error  \n",
       "0          0.535714       3.558371      -4.541629  \n",
       "4          0.535714       2.970775      -4.129225  \n",
       "8          0.535714       2.466392      -3.733608  \n",
       "12         0.535714       2.038574      -3.361426  \n",
       "22         0.535714       1.679171      -2.940829  \n",
       "28         0.535714       1.379549      -2.620451  \n",
       "34         0.535714       1.131268      -2.468732  \n",
       "44         0.535714       0.926494      -2.173506  \n",
       "51         0.535714       0.758208      -1.991792  \n",
       "57         0.535714       0.620277      -1.829723  \n",
       "67         0.535714       0.507445      -1.642555  \n",
       "79         0.535714       0.415263      -1.434737  \n",
       "88         0.535714       0.340013      -1.359987  \n",
       "95         0.535714       0.278606      -1.251394  \n",
       "99         0.535714       0.228497      -1.171503  \n",
       "108        0.535714       0.187597      -1.072403  \n",
       "112        0.535714       0.154197      -1.045803  \n",
       "115        0.535714       0.126901      -1.003099  \n",
       "129        0.535714       0.104575      -0.845425  \n",
       "132        0.535714       0.086295      -0.793705  \n",
       "136        0.535714       0.071312      -0.738688  \n",
       "149        0.535714       0.044555      -0.605445  \n",
       "160        0.535714       0.028100      -0.521900  \n",
       "170        0.535714       0.017891      -0.432109  \n",
       "175        0.535714       0.011499      -0.388501  \n",
       "200        0.535714       0.004883      -0.295117  \n",
       "201        0.535714       0.007460      -0.292540  \n",
       "207        0.535714       0.003225      -0.246775  \n",
       "213        0.535714       0.002148      -0.217852  \n",
       "227        0.535714       0.000976      -0.169024  \n",
       "240        0.535714       0.000221      -0.149779  \n",
       "241        0.535714       0.000457      -0.149543  \n",
       "247        0.535714       0.000055      -0.129945  \n",
       "267        0.535714       0.000109      -0.089891  \n",
       "275        0.535714       0.000029      -0.069971  "
      ]
     },
     "execution_count": 509,
     "metadata": {},
     "output_type": "execute_result"
    }
   ],
   "source": [
    "volatility_smile(df)\n",
    "    "
   ]
  },
  {
   "cell_type": "code",
   "execution_count": null,
   "metadata": {},
   "outputs": [],
   "source": []
  },
  {
   "cell_type": "code",
   "execution_count": 503,
   "metadata": {},
   "outputs": [
    {
     "data": {
      "text/html": [
       "<div>\n",
       "<style scoped>\n",
       "    .dataframe tbody tr th:only-of-type {\n",
       "        vertical-align: middle;\n",
       "    }\n",
       "\n",
       "    .dataframe tbody tr th {\n",
       "        vertical-align: top;\n",
       "    }\n",
       "\n",
       "    .dataframe thead th {\n",
       "        text-align: right;\n",
       "    }\n",
       "</style>\n",
       "<table border=\"1\" class=\"dataframe\">\n",
       "  <thead>\n",
       "    <tr style=\"text-align: right;\">\n",
       "      <th></th>\n",
       "      <th>Expiry Date</th>\n",
       "      <th>Strike</th>\n",
       "      <th>Last Price</th>\n",
       "      <th>Implied Volatility</th>\n",
       "      <th>Option Type</th>\n",
       "      <th>Time to Expiry</th>\n",
       "      <th>Implied Price</th>\n",
       "      <th>Pricing Error</th>\n",
       "    </tr>\n",
       "  </thead>\n",
       "  <tbody>\n",
       "    <tr>\n",
       "      <td>0</td>\n",
       "      <td>2020-03-18</td>\n",
       "      <td>10.0</td>\n",
       "      <td>8.10</td>\n",
       "      <td>265.14%</td>\n",
       "      <td>C</td>\n",
       "      <td>0.535714</td>\n",
       "      <td>3.558371</td>\n",
       "      <td>-4.541629</td>\n",
       "    </tr>\n",
       "    <tr>\n",
       "      <td>1</td>\n",
       "      <td>2020-02-19</td>\n",
       "      <td>10.0</td>\n",
       "      <td>7.90</td>\n",
       "      <td>294.63%</td>\n",
       "      <td>C</td>\n",
       "      <td>0.424603</td>\n",
       "      <td>3.382450</td>\n",
       "      <td>-4.517550</td>\n",
       "    </tr>\n",
       "    <tr>\n",
       "      <td>2</td>\n",
       "      <td>2020-04-15</td>\n",
       "      <td>10.0</td>\n",
       "      <td>8.20</td>\n",
       "      <td>250.88%</td>\n",
       "      <td>C</td>\n",
       "      <td>0.646825</td>\n",
       "      <td>3.721204</td>\n",
       "      <td>-4.478796</td>\n",
       "    </tr>\n",
       "    <tr>\n",
       "      <td>3</td>\n",
       "      <td>2020-02-19</td>\n",
       "      <td>11.0</td>\n",
       "      <td>6.97</td>\n",
       "      <td>255.66%</td>\n",
       "      <td>C</td>\n",
       "      <td>0.424603</td>\n",
       "      <td>2.765039</td>\n",
       "      <td>-4.204961</td>\n",
       "    </tr>\n",
       "    <tr>\n",
       "      <td>4</td>\n",
       "      <td>2020-03-18</td>\n",
       "      <td>11.0</td>\n",
       "      <td>7.10</td>\n",
       "      <td>232.23%</td>\n",
       "      <td>C</td>\n",
       "      <td>0.535714</td>\n",
       "      <td>2.970775</td>\n",
       "      <td>-4.129225</td>\n",
       "    </tr>\n",
       "    <tr>\n",
       "      <td>...</td>\n",
       "      <td>...</td>\n",
       "      <td>...</td>\n",
       "      <td>...</td>\n",
       "      <td>...</td>\n",
       "      <td>...</td>\n",
       "      <td>...</td>\n",
       "      <td>...</td>\n",
       "      <td>...</td>\n",
       "    </tr>\n",
       "    <tr>\n",
       "      <td>552</td>\n",
       "      <td>2020-01-22</td>\n",
       "      <td>47.5</td>\n",
       "      <td>28.40</td>\n",
       "      <td>0.00%</td>\n",
       "      <td>P</td>\n",
       "      <td>0.313492</td>\n",
       "      <td>34.820058</td>\n",
       "      <td>6.420058</td>\n",
       "    </tr>\n",
       "    <tr>\n",
       "      <td>553</td>\n",
       "      <td>2020-03-18</td>\n",
       "      <td>80.0</td>\n",
       "      <td>60.80</td>\n",
       "      <td>0.00%</td>\n",
       "      <td>P</td>\n",
       "      <td>0.535714</td>\n",
       "      <td>67.320029</td>\n",
       "      <td>6.520029</td>\n",
       "    </tr>\n",
       "    <tr>\n",
       "      <td>554</td>\n",
       "      <td>2020-04-15</td>\n",
       "      <td>80.0</td>\n",
       "      <td>60.70</td>\n",
       "      <td>0.00%</td>\n",
       "      <td>P</td>\n",
       "      <td>0.646825</td>\n",
       "      <td>67.320177</td>\n",
       "      <td>6.620177</td>\n",
       "    </tr>\n",
       "    <tr>\n",
       "      <td>555</td>\n",
       "      <td>2020-04-15</td>\n",
       "      <td>75.0</td>\n",
       "      <td>55.70</td>\n",
       "      <td>0.00%</td>\n",
       "      <td>P</td>\n",
       "      <td>0.646825</td>\n",
       "      <td>62.320305</td>\n",
       "      <td>6.620305</td>\n",
       "    </tr>\n",
       "    <tr>\n",
       "      <td>556</td>\n",
       "      <td>2020-01-22</td>\n",
       "      <td>60.0</td>\n",
       "      <td>40.60</td>\n",
       "      <td>0.00%</td>\n",
       "      <td>P</td>\n",
       "      <td>0.313492</td>\n",
       "      <td>47.320002</td>\n",
       "      <td>6.720002</td>\n",
       "    </tr>\n",
       "  </tbody>\n",
       "</table>\n",
       "<p>557 rows × 8 columns</p>\n",
       "</div>"
      ],
      "text/plain": [
       "    Expiry Date  Strike  Last Price Implied Volatility Option Type  \\\n",
       "0    2020-03-18    10.0        8.10            265.14%           C   \n",
       "1    2020-02-19    10.0        7.90            294.63%           C   \n",
       "2    2020-04-15    10.0        8.20            250.88%           C   \n",
       "3    2020-02-19    11.0        6.97            255.66%           C   \n",
       "4    2020-03-18    11.0        7.10            232.23%           C   \n",
       "..          ...     ...         ...                ...         ...   \n",
       "552  2020-01-22    47.5       28.40              0.00%           P   \n",
       "553  2020-03-18    80.0       60.80              0.00%           P   \n",
       "554  2020-04-15    80.0       60.70              0.00%           P   \n",
       "555  2020-04-15    75.0       55.70              0.00%           P   \n",
       "556  2020-01-22    60.0       40.60              0.00%           P   \n",
       "\n",
       "     Time to Expiry  Implied Price  Pricing Error  \n",
       "0          0.535714       3.558371      -4.541629  \n",
       "1          0.424603       3.382450      -4.517550  \n",
       "2          0.646825       3.721204      -4.478796  \n",
       "3          0.424603       2.765039      -4.204961  \n",
       "4          0.535714       2.970775      -4.129225  \n",
       "..              ...            ...            ...  \n",
       "552        0.313492      34.820058       6.420058  \n",
       "553        0.535714      67.320029       6.520029  \n",
       "554        0.646825      67.320177       6.620177  \n",
       "555        0.646825      62.320305       6.620305  \n",
       "556        0.313492      47.320002       6.720002  \n",
       "\n",
       "[557 rows x 8 columns]"
      ]
     },
     "execution_count": 503,
     "metadata": {},
     "output_type": "execute_result"
    }
   ],
   "source": [
    "df"
   ]
  },
  {
   "cell_type": "code",
   "execution_count": null,
   "metadata": {},
   "outputs": [],
   "source": []
  },
  {
   "cell_type": "code",
   "execution_count": null,
   "metadata": {},
   "outputs": [],
   "source": []
  },
  {
   "cell_type": "code",
   "execution_count": null,
   "metadata": {},
   "outputs": [],
   "source": []
  },
  {
   "cell_type": "code",
   "execution_count": 686,
   "metadata": {},
   "outputs": [],
   "source": [
    "def A(p):\n",
    "    return np.matrix([[np.sqrt(np.abs(p)),2],[3, 1/np.sqrt(np.abs(p))]])"
   ]
  },
  {
   "cell_type": "code",
   "execution_count": 676,
   "metadata": {},
   "outputs": [
    {
     "data": {
      "text/plain": [
       "matrix([[2. , 2. ],\n",
       "        [3. , 0.5]])"
      ]
     },
     "execution_count": 676,
     "metadata": {},
     "output_type": "execute_result"
    }
   ],
   "source": [
    "A(4)"
   ]
  },
  {
   "cell_type": "code",
   "execution_count": null,
   "metadata": {},
   "outputs": [],
   "source": []
  },
  {
   "cell_type": "code",
   "execution_count": 691,
   "metadata": {},
   "outputs": [
    {
     "data": {
      "text/plain": [
       "array([-1.00e-06, -9.98e-07, -9.96e-07, ...,  9.96e-07,  9.98e-07,\n",
       "        1.00e-06])"
      ]
     },
     "execution_count": 691,
     "metadata": {},
     "output_type": "execute_result"
    }
   ],
   "source": [
    "x = np.linspace(-0.000001,0.000001,1001)\n",
    "x"
   ]
  },
  {
   "cell_type": "code",
   "execution_count": 692,
   "metadata": {},
   "outputs": [
    {
     "name": "stderr",
     "output_type": "stream",
     "text": [
      "C:\\ProgramData\\Anaconda3\\lib\\site-packages\\ipykernel_launcher.py:2: RuntimeWarning: divide by zero encountered in double_scalars\n",
      "  \n"
     ]
    }
   ],
   "source": [
    "y =np.array([np.linalg.det(A(p)) for p in x])"
   ]
  },
  {
   "cell_type": "code",
   "execution_count": null,
   "metadata": {},
   "outputs": [],
   "source": []
  },
  {
   "cell_type": "code",
   "execution_count": 693,
   "metadata": {},
   "outputs": [
    {
     "data": {
      "text/plain": [
       "[<matplotlib.lines.Line2D at 0x1aaab288d88>]"
      ]
     },
     "execution_count": 693,
     "metadata": {},
     "output_type": "execute_result"
    },
    {
     "data": {
      "image/png": "[encoded data removed]",
      "text/plain": [
       "<Figure size 432x288 with 1 Axes>"
      ]
     },
     "metadata": {
      "needs_background": "light"
     },
     "output_type": "display_data"
    }
   ],
   "source": [
    "plt.plot(x,y)"
   ]
  },
  {
   "cell_type": "code",
   "execution_count": null,
   "metadata": {},
   "outputs": [],
   "source": []
  },
  {
   "cell_type": "code",
   "execution_count": 690,
   "metadata": {},
   "outputs": [
    {
     "data": {
      "text/plain": [
       "array([-5., -5., -5., ..., -5., -5., -5.])"
      ]
     },
     "execution_count": 690,
     "metadata": {},
     "output_type": "execute_result"
    }
   ],
   "source": [
    "y"
   ]
  },
  {
   "cell_type": "code",
   "execution_count": null,
   "metadata": {},
   "outputs": [],
   "source": []
  },
  {
   "cell_type": "code",
   "execution_count": null,
   "metadata": {},
   "outputs": [],
   "source": []
  },
  {
   "cell_type": "code",
   "execution_count": null,
   "metadata": {},
   "outputs": [],
   "source": []
  },
  {
   "cell_type": "code",
   "execution_count": null,
   "metadata": {},
   "outputs": [],
   "source": []
  },
  {
   "cell_type": "code",
   "execution_count": null,
   "metadata": {},
   "outputs": [],
   "source": []
  },
  {
   "cell_type": "code",
   "execution_count": null,
   "metadata": {},
   "outputs": [],
   "source": []
  },
  {
   "cell_type": "code",
   "execution_count": null,
   "metadata": {},
   "outputs": [],
   "source": []
  },
  {
   "cell_type": "code",
   "execution_count": null,
   "metadata": {},
   "outputs": [],
   "source": []
  },
  {
   "cell_type": "code",
   "execution_count": null,
   "metadata": {},
   "outputs": [],
   "source": []
  },
  {
   "cell_type": "code",
   "execution_count": null,
   "metadata": {},
   "outputs": [],
   "source": []
  },
  {
   "cell_type": "code",
   "execution_count": null,
   "metadata": {},
   "outputs": [],
   "source": []
  },
  {
   "cell_type": "code",
   "execution_count": null,
   "metadata": {},
   "outputs": [],
   "source": []
  },
  {
   "cell_type": "code",
   "execution_count": null,
   "metadata": {},
   "outputs": [],
   "source": []
  },
  {
   "cell_type": "code",
   "execution_count": null,
   "metadata": {},
   "outputs": [],
   "source": []
  },
  {
   "cell_type": "code",
   "execution_count": null,
   "metadata": {},
   "outputs": [],
   "source": []
  },
  {
   "cell_type": "code",
   "execution_count": null,
   "metadata": {},
   "outputs": [],
   "source": []
  },
  {
   "cell_type": "code",
   "execution_count": null,
   "metadata": {},
   "outputs": [],
   "source": []
  },
  {
   "cell_type": "code",
   "execution_count": null,
   "metadata": {},
   "outputs": [],
   "source": []
  },
  {
   "cell_type": "code",
   "execution_count": null,
   "metadata": {},
   "outputs": [],
   "source": []
  },
  {
   "cell_type": "code",
   "execution_count": null,
   "metadata": {},
   "outputs": [],
   "source": []
  },
  {
   "cell_type": "code",
   "execution_count": 461,
   "metadata": {},
   "outputs": [],
   "source": [
    "def plot_volatility_smile(x,y):\n",
    "    plt.plot(x,y, label=\"RMS\")\n",
    "    plt.plot(x,y)\n",
    "    #plt.plot(x,z)\n",
    "    plt.title(\"Pricing errors\") \n",
    "    plt.xticks(rotation=45)\n",
    "    #plt.ylim(0, plt.ylim()[1]) #change only the first argument\n",
    "    plt.grid()\n",
    "    plt.legend(fontsize=8)\n",
    "    plt.ylabel(\"Pricing errors (RMS)\")\n",
    "    plt.xlabel(\"Implied Volatility\")\n",
    "    plt.tight_layout()\n",
    "    store=False\n",
    "    if store:\n",
    "        #p = os.path.join(platform_prefix(), ...)\n",
    "        plt.savefig(p,dpi=1000)"
   ]
  },
  {
   "cell_type": "code",
   "execution_count": 462,
   "metadata": {},
   "outputs": [],
   "source": [
    "def plot_pricing_errors(df):\n",
    "    df.sort_values(by=[\"Pricing Error\"],ascending=True,inplace=True)\n",
    "    df.reset_index(drop=True,inplace=True)\n",
    "    # plt.bar(df[\"Pricing Error\"], height=500, align='center')\n",
    "    plt.plot(df[\"Pricing Error\"], label=\"Pricing Errors\")\n",
    "    #plt.plot(x,y)\n",
    "    #plt.plot(x,z)\n",
    "    plt.title(\"Pricing Errors\") \n",
    "    plt.xticks(rotation=45)\n",
    "    #plt.ylim(0, plt.ylim()[1]) #change only the first argument\n",
    "    plt.grid()\n",
    "    plt.legend(fontsize=8)\n",
    "    plt.ylabel(\"Pricing errors\")\n",
    "    #plt.xlabel(\"Implied Volatility\")\n",
    "    plt.tight_layout()\n",
    "    store=False\n",
    "    if store:\n",
    "        #p = os.path.join(platform_prefix(), ...)\n",
    "        plt.savefig(p,dpi=1000)"
   ]
  },
  {
   "cell_type": "code",
   "execution_count": null,
   "metadata": {},
   "outputs": [],
   "source": []
  },
  {
   "cell_type": "code",
   "execution_count": 300,
   "metadata": {},
   "outputs": [
    {
     "data": {
      "text/html": [
       "<div>\n",
       "<style scoped>\n",
       "    .dataframe tbody tr th:only-of-type {\n",
       "        vertical-align: middle;\n",
       "    }\n",
       "\n",
       "    .dataframe tbody tr th {\n",
       "        vertical-align: top;\n",
       "    }\n",
       "\n",
       "    .dataframe thead th {\n",
       "        text-align: right;\n",
       "    }\n",
       "</style>\n",
       "<table border=\"1\" class=\"dataframe\">\n",
       "  <thead>\n",
       "    <tr style=\"text-align: right;\">\n",
       "      <th></th>\n",
       "      <th>Expiry Date</th>\n",
       "      <th>Contract Name</th>\n",
       "      <th>Strike</th>\n",
       "      <th>Last Price</th>\n",
       "      <th>Bid</th>\n",
       "      <th>Ask</th>\n",
       "      <th>Change</th>\n",
       "      <th>Change (%)</th>\n",
       "      <th>Volume</th>\n",
       "      <th>Open Interest</th>\n",
       "      <th>Implied Volatility</th>\n",
       "      <th>Option Type</th>\n",
       "    </tr>\n",
       "  </thead>\n",
       "  <tbody>\n",
       "    <tr>\n",
       "      <td>0</td>\n",
       "      <td>2019-11-06</td>\n",
       "      <td>VIXW191106C00010000</td>\n",
       "      <td>10.00</td>\n",
       "      <td>4.40</td>\n",
       "      <td>3.15</td>\n",
       "      <td>3.88</td>\n",
       "      <td>0.00</td>\n",
       "      <td>-</td>\n",
       "      <td>52</td>\n",
       "      <td>20</td>\n",
       "      <td>546.88%</td>\n",
       "      <td>C</td>\n",
       "    </tr>\n",
       "    <tr>\n",
       "      <td>1</td>\n",
       "      <td>2019-11-06</td>\n",
       "      <td>VIXW191106C00010500</td>\n",
       "      <td>10.50</td>\n",
       "      <td>3.20</td>\n",
       "      <td>2.70</td>\n",
       "      <td>3.40</td>\n",
       "      <td>-</td>\n",
       "      <td>-</td>\n",
       "      <td>4</td>\n",
       "      <td>-</td>\n",
       "      <td>496.09%</td>\n",
       "      <td>C</td>\n",
       "    </tr>\n",
       "    <tr>\n",
       "      <td>2</td>\n",
       "      <td>2019-11-06</td>\n",
       "      <td>VIXW191106C00011000</td>\n",
       "      <td>11.00</td>\n",
       "      <td>3.70</td>\n",
       "      <td>2.18</td>\n",
       "      <td>2.90</td>\n",
       "      <td>0.00</td>\n",
       "      <td>-</td>\n",
       "      <td>10</td>\n",
       "      <td>-</td>\n",
       "      <td>434.38%</td>\n",
       "      <td>C</td>\n",
       "    </tr>\n",
       "    <tr>\n",
       "      <td>3</td>\n",
       "      <td>2019-11-06</td>\n",
       "      <td>VIXW191106C00012000</td>\n",
       "      <td>12.00</td>\n",
       "      <td>1.70</td>\n",
       "      <td>1.40</td>\n",
       "      <td>1.70</td>\n",
       "      <td>-0.05</td>\n",
       "      <td>-2.86%</td>\n",
       "      <td>21</td>\n",
       "      <td>17</td>\n",
       "      <td>318.75%</td>\n",
       "      <td>C</td>\n",
       "    </tr>\n",
       "    <tr>\n",
       "      <td>4</td>\n",
       "      <td>2019-11-06</td>\n",
       "      <td>VIXW191106C00012500</td>\n",
       "      <td>12.50</td>\n",
       "      <td>1.20</td>\n",
       "      <td>0.00</td>\n",
       "      <td>0.00</td>\n",
       "      <td>0.00</td>\n",
       "      <td>-</td>\n",
       "      <td>74</td>\n",
       "      <td>80</td>\n",
       "      <td>6.25%</td>\n",
       "      <td>C</td>\n",
       "    </tr>\n",
       "  </tbody>\n",
       "</table>\n",
       "</div>"
      ],
      "text/plain": [
       "  Expiry Date        Contract Name Strike Last Price   Bid   Ask Change  \\\n",
       "0  2019-11-06  VIXW191106C00010000  10.00       4.40  3.15  3.88   0.00   \n",
       "1  2019-11-06  VIXW191106C00010500  10.50       3.20  2.70  3.40      -   \n",
       "2  2019-11-06  VIXW191106C00011000  11.00       3.70  2.18  2.90   0.00   \n",
       "3  2019-11-06  VIXW191106C00012000  12.00       1.70  1.40  1.70  -0.05   \n",
       "4  2019-11-06  VIXW191106C00012500  12.50       1.20  0.00  0.00   0.00   \n",
       "\n",
       "  Change (%) Volume Open Interest Implied Volatility Option Type  \n",
       "0          -     52            20            546.88%           C  \n",
       "1          -      4             -            496.09%           C  \n",
       "2          -     10             -            434.38%           C  \n",
       "3     -2.86%     21            17            318.75%           C  \n",
       "4          -     74            80              6.25%           C  "
      ]
     },
     "execution_count": 300,
     "metadata": {},
     "output_type": "execute_result"
    }
   ],
   "source": [
    "ticker = \"^VIX\"\n",
    "opts = options(ticker)\n",
    "opts.head()"
   ]
  },
  {
   "cell_type": "code",
   "execution_count": null,
   "metadata": {},
   "outputs": [],
   "source": []
  },
  {
   "cell_type": "code",
   "execution_count": null,
   "metadata": {},
   "outputs": [],
   "source": []
  },
  {
   "cell_type": "code",
   "execution_count": null,
   "metadata": {},
   "outputs": [],
   "source": []
  },
  {
   "cell_type": "code",
   "execution_count": null,
   "metadata": {},
   "outputs": [],
   "source": [
    "# Now, we have the table entries for the two options nearest to the money in HTML. \n",
    "# Let’s scrape the pricing data, volume, and implied volatility from the first call option:"
   ]
  },
  {
   "cell_type": "code",
   "execution_count": 66,
   "metadata": {},
   "outputs": [
    {
     "name": "stdout",
     "output_type": "stream",
     "text": [
      "['SPY191104C00325000', '2019-10-28 9:45AM EDT', '325.00', '0.01', '0.00', '0.01', '0.00', '-', '1', '0', '25.00%']\n"
     ]
    }
   ],
   "source": [
    "itm_call_data = [] \n",
    "for td in BeautifulSoup(str(itm_call), \"html.parser\").find_all(\"td\"):\n",
    "    itm_call_data.append(td.text)\n",
    "print(itm_call_data)"
   ]
  },
  {
   "cell_type": "code",
   "execution_count": 67,
   "metadata": {},
   "outputs": [],
   "source": []
  }
 ],
 "metadata": {
  "kernelspec": {
   "display_name": "Python 3",
   "language": "python",
   "name": "python3"
  },
  "language_info": {
   "codemirror_mode": {
    "name": "ipython",
    "version": 3
   },
   "file_extension": ".py",
   "mimetype": "text/x-python",
   "name": "python",
   "nbconvert_exporter": "python",
   "pygments_lexer": "ipython3",
   "version": "3.7.4"
  }
 },
 "nbformat": 4,
 "nbformat_minor": 2
}
