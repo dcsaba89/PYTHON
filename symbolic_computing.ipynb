{
 "cells": [
  {
   "cell_type": "code",
   "execution_count": 1,
   "metadata": {},
   "outputs": [],
   "source": [
    "# SYMBOLIC COMPUTING\n",
    "\n",
    "# representations of mathematical objects and expressions are manipulated and transformed analytically"
   ]
  },
  {
   "cell_type": "code",
   "execution_count": 3,
   "metadata": {},
   "outputs": [],
   "source": [
    "import sympy as sym"
   ]
  },
  {
   "cell_type": "code",
   "execution_count": 147,
   "metadata": {},
   "outputs": [],
   "source": [
    "import numpy as np"
   ]
  },
  {
   "cell_type": "code",
   "execution_count": 4,
   "metadata": {},
   "outputs": [],
   "source": [
    "# configures SymPy’s printing system to display nicely formatted renditions of mathematical expressions\n",
    "sym.init_printing()"
   ]
  },
  {
   "cell_type": "code",
   "execution_count": 5,
   "metadata": {},
   "outputs": [
    {
     "data": {
      "image/png": "[encoded data removed]",
      "text/latex": [
       "$\\displaystyle a$"
      ],
      "text/plain": [
       "a"
      ]
     },
     "execution_count": 5,
     "metadata": {},
     "output_type": "execute_result"
    }
   ],
   "source": [
    "# A core feature in SymPy is to represent mathematical symbols as Python objects\n",
    "a = sym.Symbol(\"a\")\n",
    "a"
   ]
  },
  {
   "cell_type": "code",
   "execution_count": 6,
   "metadata": {},
   "outputs": [
    {
     "data": {
      "text/plain": [
       "True"
      ]
     },
     "execution_count": 6,
     "metadata": {},
     "output_type": "execute_result"
    }
   ],
   "source": [
    "a.is_real is None"
   ]
  },
  {
   "cell_type": "code",
   "execution_count": 7,
   "metadata": {},
   "outputs": [
    {
     "data": {
      "image/png": "[encoded data removed]",
      "text/latex": [
       "$\\displaystyle x$"
      ],
      "text/plain": [
       "x"
      ]
     },
     "execution_count": 7,
     "metadata": {},
     "output_type": "execute_result"
    }
   ],
   "source": [
    "x = sym.Symbol(\"x\", real=True)\n",
    "x"
   ]
  },
  {
   "cell_type": "code",
   "execution_count": 9,
   "metadata": {},
   "outputs": [
    {
     "data": {
      "image/png": "[encoded data removed]",
      "text/latex": [
       "$\\displaystyle y$"
      ],
      "text/plain": [
       "y"
      ]
     },
     "execution_count": 9,
     "metadata": {},
     "output_type": "execute_result"
    }
   ],
   "source": [
    "y = sym.Symbol(\"y\", real=True)\n",
    "y"
   ]
  },
  {
   "cell_type": "code",
   "execution_count": 11,
   "metadata": {},
   "outputs": [
    {
     "data": {
      "text/plain": [
       "True"
      ]
     },
     "execution_count": 11,
     "metadata": {},
     "output_type": "execute_result"
    }
   ],
   "source": [
    "x.is_real"
   ]
  },
  {
   "cell_type": "code",
   "execution_count": 12,
   "metadata": {},
   "outputs": [
    {
     "data": {
      "text/plain": [
       "True"
      ]
     },
     "execution_count": 12,
     "metadata": {},
     "output_type": "execute_result"
    }
   ],
   "source": [
    "x.is_real"
   ]
  },
  {
   "cell_type": "code",
   "execution_count": 14,
   "metadata": {},
   "outputs": [],
   "source": [
    "# i\n",
    "i = sym.I"
   ]
  },
  {
   "cell_type": "code",
   "execution_count": 16,
   "metadata": {},
   "outputs": [
    {
     "data": {
      "image/png": "[encoded data removed]",
      "text/latex": [
       "$\\displaystyle x + i y$"
      ],
      "text/plain": [
       "x + ⅈ⋅y"
      ]
     },
     "execution_count": 16,
     "metadata": {},
     "output_type": "execute_result"
    }
   ],
   "source": [
    "z=x+y*i\n",
    "z"
   ]
  },
  {
   "cell_type": "code",
   "execution_count": 20,
   "metadata": {},
   "outputs": [
    {
     "data": {
      "text/plain": [
       "True"
      ]
     },
     "execution_count": 20,
     "metadata": {},
     "output_type": "execute_result"
    }
   ],
   "source": [
    "z.is_complex"
   ]
  },
  {
   "cell_type": "code",
   "execution_count": 22,
   "metadata": {},
   "outputs": [],
   "source": [
    "z.is_real"
   ]
  },
  {
   "cell_type": "code",
   "execution_count": 18,
   "metadata": {},
   "outputs": [
    {
     "data": {
      "image/png": "[encoded data removed]",
      "text/latex": [
       "$\\displaystyle \\sqrt{x^{2} + y^{2}}$"
      ],
      "text/plain": [
       "   _________\n",
       "  ╱  2    2 \n",
       "╲╱  x  + y  "
      ]
     },
     "execution_count": 18,
     "metadata": {},
     "output_type": "execute_result"
    }
   ],
   "source": [
    "r = abs(z)\n",
    "r"
   ]
  },
  {
   "cell_type": "code",
   "execution_count": 19,
   "metadata": {},
   "outputs": [
    {
     "ename": "NameError",
     "evalue": "name 'arg' is not defined",
     "output_type": "error",
     "traceback": [
      "\u001b[1;31m---------------------------------------------------------------------------\u001b[0m",
      "\u001b[1;31mNameError\u001b[0m                                 Traceback (most recent call last)",
      "\u001b[1;32m<ipython-input-19-0e11b60df2a1>\u001b[0m in \u001b[0;36m<module>\u001b[1;34m\u001b[0m\n\u001b[1;32m----> 1\u001b[1;33m \u001b[0mphi\u001b[0m \u001b[1;33m=\u001b[0m \u001b[0marg\u001b[0m\u001b[1;33m(\u001b[0m\u001b[0mz\u001b[0m\u001b[1;33m)\u001b[0m\u001b[1;33m\u001b[0m\u001b[1;33m\u001b[0m\u001b[0m\n\u001b[0m",
      "\u001b[1;31mNameError\u001b[0m: name 'arg' is not defined"
     ]
    }
   ],
   "source": [
    "phi = arg(z)"
   ]
  },
  {
   "cell_type": "code",
   "execution_count": null,
   "metadata": {},
   "outputs": [],
   "source": [
    "# positive ---- # is_positive\n",
    "# negative ---- # is_negative\n",
    "# integer  ---- # is_integer\n",
    "# even     ---- # is_even\n",
    "# odd      ---- # is_odd\n",
    "# prime    ---- # is_prime\n",
    "# finite   ---- # is_finite\n",
    "# infinite ---- # is_infinite"
   ]
  },
  {
   "cell_type": "code",
   "execution_count": 13,
   "metadata": {},
   "outputs": [
    {
     "data": {
      "text/plain": [
       "False"
      ]
     },
     "execution_count": 13,
     "metadata": {},
     "output_type": "execute_result"
    }
   ],
   "source": [
    "sympy.Symbol(\"w\", imaginary=True).is_real"
   ]
  },
  {
   "cell_type": "code",
   "execution_count": 21,
   "metadata": {},
   "outputs": [
    {
     "data": {
      "image/png": "[encoded data removed]",
      "text/latex": [
       "$\\displaystyle \\sqrt{a}$"
      ],
      "text/plain": [
       "√a"
      ]
     },
     "execution_count": 21,
     "metadata": {},
     "output_type": "execute_result"
    }
   ],
   "source": [
    "b = sympy.sqrt(a)\n",
    "b"
   ]
  },
  {
   "cell_type": "code",
   "execution_count": 22,
   "metadata": {},
   "outputs": [
    {
     "data": {
      "image/png": "[encoded data removed]",
      "text/latex": [
       "$\\displaystyle \\sin{\\left(a \\right)}$"
      ],
      "text/plain": [
       "sin(a)"
      ]
     },
     "execution_count": 22,
     "metadata": {},
     "output_type": "execute_result"
    }
   ],
   "source": [
    "c = sympy.sin(a)\n",
    "c"
   ]
  },
  {
   "cell_type": "code",
   "execution_count": 24,
   "metadata": {},
   "outputs": [],
   "source": [
    "n1 = sym.Symbol(\"n\")\n",
    "n2 = sym.Symbol(\"n\", integer=True)\n",
    "n3 = sym.Symbol(\"n\", odd=True)"
   ]
  },
  {
   "cell_type": "code",
   "execution_count": 25,
   "metadata": {},
   "outputs": [
    {
     "data": {
      "image/png": "[encoded data removed]",
      "text/latex": [
       "$\\displaystyle \\cos{\\left(\\pi n \\right)}$"
      ],
      "text/plain": [
       "cos(π⋅n)"
      ]
     },
     "execution_count": 25,
     "metadata": {},
     "output_type": "execute_result"
    }
   ],
   "source": [
    "sym.cos(n1 * sym.pi)"
   ]
  },
  {
   "cell_type": "code",
   "execution_count": 27,
   "metadata": {},
   "outputs": [
    {
     "data": {
      "image/png": "[encoded data removed]",
      "text/latex": [
       "$\\displaystyle \\left(-1\\right)^{n}$"
      ],
      "text/plain": [
       "    n\n",
       "(-1) "
      ]
     },
     "execution_count": 27,
     "metadata": {},
     "output_type": "execute_result"
    }
   ],
   "source": [
    "sym.cos(n2 * sym.pi)"
   ]
  },
  {
   "cell_type": "code",
   "execution_count": 28,
   "metadata": {},
   "outputs": [
    {
     "data": {
      "image/png": "[encoded data removed]",
      "text/latex": [
       "$\\displaystyle -1$"
      ],
      "text/plain": [
       "-1"
      ]
     },
     "execution_count": 28,
     "metadata": {},
     "output_type": "execute_result"
    }
   ],
   "source": [
    "sym.cos(n3 * sym.pi)"
   ]
  },
  {
   "cell_type": "code",
   "execution_count": 32,
   "metadata": {},
   "outputs": [],
   "source": [
    "# creating multiple symbols in one function call\n",
    "a, b, c = sym.symbols(\"a, b, c\", negative=True)\n",
    "d, e, f = sym.symbols(\"d, e, f\", positive=True)"
   ]
  },
  {
   "cell_type": "code",
   "execution_count": 36,
   "metadata": {},
   "outputs": [
    {
     "data": {
      "image/png": "[encoded data removed]",
      "text/latex": [
       "$\\displaystyle 19$"
      ],
      "text/plain": [
       "19"
      ]
     },
     "execution_count": 36,
     "metadata": {},
     "output_type": "execute_result"
    }
   ],
   "source": [
    "# represent numbers, functions, and constants\n",
    "nineteen = sym.Integer(19)\n",
    "nineteen"
   ]
  },
  {
   "cell_type": "code",
   "execution_count": 37,
   "metadata": {},
   "outputs": [
    {
     "data": {
      "image/png": "[encoded data removed]",
      "text/latex": [
       "$\\displaystyle 2.3$"
      ],
      "text/plain": [
       "2.30000000000000"
      ]
     },
     "execution_count": 37,
     "metadata": {},
     "output_type": "execute_result"
    }
   ],
   "source": [
    "twopointthree = sym.Float(2.3)\n",
    "twopointthree"
   ]
  },
  {
   "cell_type": "code",
   "execution_count": 38,
   "metadata": {},
   "outputs": [
    {
     "data": {
      "image/png": "[encoded data removed]",
      "text/latex": [
       "$\\displaystyle 19$"
      ],
      "text/plain": [
       "19"
      ]
     },
     "execution_count": 38,
     "metadata": {},
     "output_type": "execute_result"
    }
   ],
   "source": [
    "# cast instances of sympy.Integer and sympy.Float back to Python built-in types using the standard type casting\n",
    "int(nineteen)"
   ]
  },
  {
   "cell_type": "code",
   "execution_count": 39,
   "metadata": {},
   "outputs": [
    {
     "data": {
      "image/png": "[encoded data removed]",
      "text/latex": [
       "$\\displaystyle 19.0$"
      ],
      "text/plain": [
       "19.0"
      ]
     },
     "execution_count": 39,
     "metadata": {},
     "output_type": "execute_result"
    }
   ],
   "source": [
    "float(nineteen)"
   ]
  },
  {
   "cell_type": "code",
   "execution_count": 40,
   "metadata": {},
   "outputs": [
    {
     "data": {
      "image/png": "[encoded data removed]",
      "text/latex": [
       "$\\displaystyle 2.3$"
      ],
      "text/plain": [
       "2.3"
      ]
     },
     "execution_count": 40,
     "metadata": {},
     "output_type": "execute_result"
    }
   ],
   "source": [
    "float(twopointthree)"
   ]
  },
  {
   "cell_type": "code",
   "execution_count": 42,
   "metadata": {},
   "outputs": [
    {
     "data": {
      "image/png": "[encoded data removed]",
      "text/latex": [
       "$\\displaystyle 5$"
      ],
      "text/plain": [
       "5"
      ]
     },
     "execution_count": 42,
     "metadata": {},
     "output_type": "execute_result"
    }
   ],
   "source": [
    "sym.sympify(2+3)"
   ]
  },
  {
   "cell_type": "code",
   "execution_count": null,
   "metadata": {},
   "outputs": [],
   "source": [
    "# there is a difference between a Symbol instance with the assumption integer=True and an instance of Integer."
   ]
  },
  {
   "cell_type": "code",
   "execution_count": 43,
   "metadata": {},
   "outputs": [
    {
     "data": {
      "text/plain": [
       "True"
      ]
     },
     "execution_count": 43,
     "metadata": {},
     "output_type": "execute_result"
    }
   ],
   "source": [
    "nineteen.is_Integer"
   ]
  },
  {
   "cell_type": "code",
   "execution_count": 44,
   "metadata": {},
   "outputs": [
    {
     "data": {
      "text/plain": [
       "True"
      ]
     },
     "execution_count": 44,
     "metadata": {},
     "output_type": "execute_result"
    }
   ],
   "source": [
    "nineteen.is_integer"
   ]
  },
  {
   "cell_type": "code",
   "execution_count": 49,
   "metadata": {},
   "outputs": [
    {
     "data": {
      "text/plain": [
       "False"
      ]
     },
     "execution_count": 49,
     "metadata": {},
     "output_type": "execute_result"
    }
   ],
   "source": [
    "nineteen.is_Symbol"
   ]
  },
  {
   "cell_type": "code",
   "execution_count": 46,
   "metadata": {},
   "outputs": [],
   "source": [
    "n = sym.Symbol(\"n\", integer=True)"
   ]
  },
  {
   "cell_type": "code",
   "execution_count": 47,
   "metadata": {},
   "outputs": [
    {
     "data": {
      "text/plain": [
       "False"
      ]
     },
     "execution_count": 47,
     "metadata": {},
     "output_type": "execute_result"
    }
   ],
   "source": [
    "n.is_Integer"
   ]
  },
  {
   "cell_type": "code",
   "execution_count": 48,
   "metadata": {},
   "outputs": [
    {
     "data": {
      "text/plain": [
       "True"
      ]
     },
     "execution_count": 48,
     "metadata": {},
     "output_type": "execute_result"
    }
   ],
   "source": [
    "n.is_integer"
   ]
  },
  {
   "cell_type": "code",
   "execution_count": 50,
   "metadata": {},
   "outputs": [
    {
     "data": {
      "text/plain": [
       "True"
      ]
     },
     "execution_count": 50,
     "metadata": {},
     "output_type": "execute_result"
    }
   ],
   "source": [
    "n.is_Symbol"
   ]
  },
  {
   "cell_type": "code",
   "execution_count": 51,
   "metadata": {},
   "outputs": [
    {
     "data": {
      "text/plain": [
       "'0.2999999999999999888977698'"
      ]
     },
     "execution_count": 51,
     "metadata": {},
     "output_type": "execute_result"
    }
   ],
   "source": [
    "# it is well known that the real number 0.3 cannot be represented exactly \n",
    "# as a normal fixed bit-size floating-point number\n",
    "\n",
    "# when printing 0.3 to 20 significant digits, it is displayed as\n",
    "\"%.25f\" % 0.3"
   ]
  },
  {
   "cell_type": "code",
   "execution_count": 52,
   "metadata": {},
   "outputs": [
    {
     "data": {
      "image/png": "[encoded data removed]",
      "text/latex": [
       "$\\displaystyle 0.2999999999999999888977698$"
      ],
      "text/plain": [
       "0.2999999999999999888977698"
      ]
     },
     "execution_count": 52,
     "metadata": {},
     "output_type": "execute_result"
    }
   ],
   "source": [
    "sym.Float(0.3, 25)"
   ]
  },
  {
   "cell_type": "code",
   "execution_count": 53,
   "metadata": {},
   "outputs": [
    {
     "data": {
      "image/png": "[encoded data removed]",
      "text/latex": [
       "$\\displaystyle 0.3$"
      ],
      "text/plain": [
       "0.3000000000000000000000000"
      ]
     },
     "execution_count": 53,
     "metadata": {},
     "output_type": "execute_result"
    }
   ],
   "source": [
    "# The SymPy Float object can represent the real number 0.3 without the limitations of floating-point numbers:\n",
    "# to correctly represent 0.3 as a Float object, it is necessary to initialize it from a string ‘0.3’ \n",
    "# rather than the Python float 0.3, which already contains a floating-point error.\n",
    "\n",
    "sym.Float('0.3', 25)"
   ]
  },
  {
   "cell_type": "code",
   "execution_count": 55,
   "metadata": {},
   "outputs": [
    {
     "data": {
      "text/plain": [
       "'0.2999999999999999888977698'"
      ]
     },
     "execution_count": 55,
     "metadata": {},
     "output_type": "execute_result"
    }
   ],
   "source": [
    "\"%.25f\" % float('0.3')"
   ]
  },
  {
   "cell_type": "code",
   "execution_count": 56,
   "metadata": {},
   "outputs": [
    {
     "data": {
      "image/png": "[encoded data removed]",
      "text/latex": [
       "$\\displaystyle \\frac{11}{13}$"
      ],
      "text/plain": [
       "11\n",
       "──\n",
       "13"
      ]
     },
     "execution_count": 56,
     "metadata": {},
     "output_type": "execute_result"
    }
   ],
   "source": [
    "# A rational number is a fraction r = p/q of two integers, the numerator p and the denominator q != 0\n",
    "sym.Rational(11, 13)"
   ]
  },
  {
   "cell_type": "code",
   "execution_count": 58,
   "metadata": {},
   "outputs": [],
   "source": [
    "r1 = sym.Rational(2, 3)\n",
    "r2 = sym.Rational(4, 5)"
   ]
  },
  {
   "cell_type": "code",
   "execution_count": 59,
   "metadata": {},
   "outputs": [
    {
     "data": {
      "image/png": "[encoded data removed]",
      "text/latex": [
       "$\\displaystyle \\frac{8}{15}$"
      ],
      "text/plain": [
       "8/15"
      ]
     },
     "execution_count": 59,
     "metadata": {},
     "output_type": "execute_result"
    }
   ],
   "source": [
    "r1 * r2"
   ]
  },
  {
   "cell_type": "code",
   "execution_count": 60,
   "metadata": {},
   "outputs": [
    {
     "data": {
      "image/png": "[encoded data removed]",
      "text/latex": [
       "$\\displaystyle \\frac{5}{6}$"
      ],
      "text/plain": [
       "5/6"
      ]
     },
     "execution_count": 60,
     "metadata": {},
     "output_type": "execute_result"
    }
   ],
   "source": [
    "r1 / r2"
   ]
  },
  {
   "cell_type": "code",
   "execution_count": 61,
   "metadata": {},
   "outputs": [],
   "source": [
    "# pi is the ratio of the circumference to the diameter of a circle\n",
    "pi = sym.pi"
   ]
  },
  {
   "cell_type": "code",
   "execution_count": 64,
   "metadata": {},
   "outputs": [],
   "source": [
    "# The base of the natural logarithm, e = exp(1)\n",
    "e = sym.E"
   ]
  },
  {
   "cell_type": "code",
   "execution_count": 66,
   "metadata": {},
   "outputs": [],
   "source": [
    "# infinity\n",
    "inf = sym.oo"
   ]
  },
  {
   "cell_type": "code",
   "execution_count": 68,
   "metadata": {},
   "outputs": [],
   "source": [
    "x, y, z = sym.symbols(\"x, y, z\")"
   ]
  },
  {
   "cell_type": "code",
   "execution_count": 71,
   "metadata": {},
   "outputs": [
    {
     "data": {
      "text/plain": [
       "sympy.core.function.UndefinedFunction"
      ]
     },
     "execution_count": 71,
     "metadata": {},
     "output_type": "execute_result"
    }
   ],
   "source": [
    "f = sym.Function(\"f\")\n",
    "type(f)"
   ]
  },
  {
   "cell_type": "code",
   "execution_count": 72,
   "metadata": {},
   "outputs": [
    {
     "data": {
      "text/plain": [
       "g"
      ]
     },
     "execution_count": 72,
     "metadata": {},
     "output_type": "execute_result"
    }
   ],
   "source": [
    "g = sym.Function(\"g\")(x, y, z)\n"
   ]
  },
  {
   "cell_type": "code",
   "execution_count": 73,
   "metadata": {},
   "outputs": [
    {
     "data": {
      "text/plain": [
       "g"
      ]
     },
     "execution_count": 73,
     "metadata": {},
     "output_type": "execute_result"
    }
   ],
   "source": [
    "type(g)"
   ]
  },
  {
   "cell_type": "code",
   "execution_count": null,
   "metadata": {},
   "outputs": [],
   "source": [
    "# sym.functions.elementary\n",
    "# sym.functions.combinatorial\n",
    "# sym.functions.special"
   ]
  },
  {
   "cell_type": "code",
   "execution_count": 75,
   "metadata": {},
   "outputs": [],
   "source": [
    "# lambda functions, or anonymous functions, which do not have names associated with them, \n",
    "# but do have a specific function body that can be evaluated. Lambda functions can be created with sympy.Lambda:\n",
    "h = sym.Lambda(x, x**2)"
   ]
  },
  {
   "cell_type": "code",
   "execution_count": 76,
   "metadata": {},
   "outputs": [
    {
     "data": {
      "image/png": "[encoded data removed]",
      "text/latex": [
       "$\\displaystyle \\left( x \\mapsto x^{2} \\right)$"
      ],
      "text/plain": [
       "     2\n",
       "x ↦ x "
      ]
     },
     "execution_count": 76,
     "metadata": {},
     "output_type": "execute_result"
    }
   ],
   "source": [
    "h"
   ]
  },
  {
   "cell_type": "code",
   "execution_count": 77,
   "metadata": {},
   "outputs": [
    {
     "data": {
      "image/png": "[encoded data removed]",
      "text/latex": [
       "$\\displaystyle 25$"
      ],
      "text/plain": [
       "25"
      ]
     },
     "execution_count": 77,
     "metadata": {},
     "output_type": "execute_result"
    }
   ],
   "source": [
    "h(5)"
   ]
  },
  {
   "cell_type": "code",
   "execution_count": 78,
   "metadata": {},
   "outputs": [
    {
     "data": {
      "image/png": "[encoded data removed]",
      "text/latex": [
       "$\\displaystyle \\left(x + 1\\right)^{2}$"
      ],
      "text/plain": [
       "       2\n",
       "(x + 1) "
      ]
     },
     "execution_count": 78,
     "metadata": {},
     "output_type": "execute_result"
    }
   ],
   "source": [
    "h(1 + x)"
   ]
  },
  {
   "cell_type": "code",
   "execution_count": null,
   "metadata": {},
   "outputs": [],
   "source": []
  },
  {
   "cell_type": "code",
   "execution_count": null,
   "metadata": {},
   "outputs": [],
   "source": [
    "# Expressions"
   ]
  },
  {
   "cell_type": "code",
   "execution_count": 82,
   "metadata": {},
   "outputs": [
    {
     "data": {
      "image/png": "[encoded data removed]",
      "text/latex": [
       "$\\displaystyle x$"
      ],
      "text/plain": [
       "x"
      ]
     },
     "execution_count": 82,
     "metadata": {},
     "output_type": "execute_result"
    }
   ],
   "source": [
    "x = sym.Symbol(\"x\")\n",
    "x"
   ]
  },
  {
   "cell_type": "code",
   "execution_count": 83,
   "metadata": {},
   "outputs": [
    {
     "data": {
      "image/png": "[encoded data removed]",
      "text/latex": [
       "$\\displaystyle 3 x^{3} + 2 x^{2} + 1$"
      ],
      "text/plain": [
       "   3      2    \n",
       "3⋅x  + 2⋅x  + 1"
      ]
     },
     "execution_count": 83,
     "metadata": {},
     "output_type": "execute_result"
    }
   ],
   "source": [
    "y = 1 + 2 * x**2 + 3 * x**3\n",
    "y"
   ]
  },
  {
   "cell_type": "code",
   "execution_count": null,
   "metadata": {},
   "outputs": [],
   "source": [
    "# y is an instance of Add, with the subexpressions 1, 2*x**2, and 3*x**3\n",
    "# expression tree is automatically built up from the expression with symbols and operators\n",
    "# Nevertheless, to understand how SymPy works, it is important to know how expressions are represented."
   ]
  },
  {
   "cell_type": "code",
   "execution_count": 84,
   "metadata": {},
   "outputs": [
    {
     "data": {
      "image/png": "[encoded data removed]",
      "text/latex": [
       "$\\displaystyle \\left( 1, \\  2 x^{2}, \\  3 x^{3}\\right)$"
      ],
      "text/plain": [
       "⎛      2     3⎞\n",
       "⎝1, 2⋅x , 3⋅x ⎠"
      ]
     },
     "execution_count": 84,
     "metadata": {},
     "output_type": "execute_result"
    }
   ],
   "source": [
    "# For an operator, the args attribute is a tuple of subexpressions \n",
    "# that are combined with the rule implemented by the operator class.\n",
    "y.args"
   ]
  },
  {
   "cell_type": "code",
   "execution_count": 85,
   "metadata": {},
   "outputs": [
    {
     "data": {
      "image/png": "[encoded data removed]",
      "text/latex": [
       "$\\displaystyle 2 x^{2}$"
      ],
      "text/plain": [
       "   2\n",
       "2⋅x "
      ]
     },
     "execution_count": 85,
     "metadata": {},
     "output_type": "execute_result"
    }
   ],
   "source": [
    "y.args[1]"
   ]
  },
  {
   "cell_type": "code",
   "execution_count": 86,
   "metadata": {},
   "outputs": [
    {
     "data": {
      "image/png": "[encoded data removed]",
      "text/latex": [
       "$\\displaystyle x^{2}$"
      ],
      "text/plain": [
       " 2\n",
       "x "
      ]
     },
     "execution_count": 86,
     "metadata": {},
     "output_type": "execute_result"
    }
   ],
   "source": [
    "y.args[1].args[1]"
   ]
  },
  {
   "cell_type": "code",
   "execution_count": 87,
   "metadata": {},
   "outputs": [
    {
     "data": {
      "image/png": "[encoded data removed]",
      "text/latex": [
       "$\\displaystyle x$"
      ],
      "text/plain": [
       "x"
      ]
     },
     "execution_count": 87,
     "metadata": {},
     "output_type": "execute_result"
    }
   ],
   "source": [
    "y.args[1].args[1].args[0]"
   ]
  },
  {
   "cell_type": "code",
   "execution_count": 88,
   "metadata": {},
   "outputs": [
    {
     "data": {
      "image/png": "[encoded data removed]",
      "text/latex": [
       "$\\displaystyle \\left( \\right)$"
      ],
      "text/plain": [
       "()"
      ]
     },
     "execution_count": 88,
     "metadata": {},
     "output_type": "execute_result"
    }
   ],
   "source": [
    "y.args[1].args[1].args[0].args"
   ]
  },
  {
   "cell_type": "code",
   "execution_count": null,
   "metadata": {},
   "outputs": [],
   "source": [
    "# Manipulating Expressions"
   ]
  },
  {
   "cell_type": "code",
   "execution_count": 89,
   "metadata": {},
   "outputs": [],
   "source": [
    "# Expressions in SymPy should be considered immutable objects."
   ]
  },
  {
   "cell_type": "code",
   "execution_count": null,
   "metadata": {},
   "outputs": [],
   "source": [
    "### Simplification"
   ]
  },
  {
   "cell_type": "code",
   "execution_count": 90,
   "metadata": {},
   "outputs": [
    {
     "data": {
      "image/png": "[encoded data removed]",
      "text/latex": [
       "$\\displaystyle 2 x^{2} - x \\left(x + 1\\right) - 2 x$"
      ],
      "text/plain": [
       "   2                  \n",
       "2⋅x  - x⋅(x + 1) - 2⋅x"
      ]
     },
     "execution_count": 90,
     "metadata": {},
     "output_type": "execute_result"
    }
   ],
   "source": [
    "y = 2 * (x**2 - x) - x * (x + 1)\n",
    "y"
   ]
  },
  {
   "cell_type": "code",
   "execution_count": 91,
   "metadata": {},
   "outputs": [
    {
     "data": {
      "image/png": "[encoded data removed]",
      "text/latex": [
       "$\\displaystyle x \\left(x - 3\\right)$"
      ],
      "text/plain": [
       "x⋅(x - 3)"
      ]
     },
     "execution_count": 91,
     "metadata": {},
     "output_type": "execute_result"
    }
   ],
   "source": [
    "sym.simplify(y)"
   ]
  },
  {
   "cell_type": "code",
   "execution_count": 92,
   "metadata": {},
   "outputs": [
    {
     "data": {
      "image/png": "[encoded data removed]",
      "text/latex": [
       "$\\displaystyle x \\left(x - 3\\right)$"
      ],
      "text/plain": [
       "x⋅(x - 3)"
      ]
     },
     "execution_count": 92,
     "metadata": {},
     "output_type": "execute_result"
    }
   ],
   "source": [
    "y.simplify()"
   ]
  },
  {
   "cell_type": "code",
   "execution_count": 93,
   "metadata": {},
   "outputs": [
    {
     "data": {
      "image/png": "[encoded data removed]",
      "text/latex": [
       "$\\displaystyle 2 x^{2} - x \\left(x + 1\\right) - 2 x$"
      ],
      "text/plain": [
       "   2                  \n",
       "2⋅x  - x⋅(x + 1) - 2⋅x"
      ]
     },
     "execution_count": 93,
     "metadata": {},
     "output_type": "execute_result"
    }
   ],
   "source": [
    "y"
   ]
  },
  {
   "cell_type": "code",
   "execution_count": 95,
   "metadata": {},
   "outputs": [],
   "source": [
    "y = 2 * sym.cos(x) * sym.sin(x)"
   ]
  },
  {
   "cell_type": "code",
   "execution_count": 97,
   "metadata": {},
   "outputs": [
    {
     "data": {
      "image/png": "[encoded data removed]",
      "text/latex": [
       "$\\displaystyle \\sin{\\left(2 x \\right)}$"
      ],
      "text/plain": [
       "sin(2⋅x)"
      ]
     },
     "execution_count": 97,
     "metadata": {},
     "output_type": "execute_result"
    }
   ],
   "source": [
    "sym.simplify(y)"
   ]
  },
  {
   "cell_type": "code",
   "execution_count": 99,
   "metadata": {},
   "outputs": [
    {
     "data": {
      "image/png": "[encoded data removed]",
      "text/latex": [
       "$\\displaystyle e^{x} e^{e^{x} e^{2 \\sin{\\left(x \\right)} \\cos{\\left(x \\right)}}}$"
      ],
      "text/plain": [
       "     x  2⋅sin(x)⋅cos(x)\n",
       " x  ℯ ⋅ℯ               \n",
       "ℯ ⋅ℯ                   "
      ]
     },
     "execution_count": 99,
     "metadata": {},
     "output_type": "execute_result"
    }
   ],
   "source": [
    "y = sym.exp(x) * sym.exp(y)\n",
    "y"
   ]
  },
  {
   "cell_type": "code",
   "execution_count": 102,
   "metadata": {},
   "outputs": [
    {
     "data": {
      "image/png": "[encoded data removed]",
      "text/latex": [
       "$\\displaystyle e^{2 x}$"
      ],
      "text/plain": [
       " 2⋅x\n",
       "ℯ   "
      ]
     },
     "execution_count": 102,
     "metadata": {},
     "output_type": "execute_result"
    }
   ],
   "source": [
    "sym.simplify(sym.exp(x) * sym.exp(x))"
   ]
  },
  {
   "cell_type": "code",
   "execution_count": null,
   "metadata": {},
   "outputs": [],
   "source": [
    "# Each specific type of simplification can also be carried out with more specialized functions, \n",
    "# such as sympy.trigsimp and sympy.powsimp, for trigonometric and power simplifications, respectively"
   ]
  },
  {
   "cell_type": "code",
   "execution_count": null,
   "metadata": {},
   "outputs": [],
   "source": [
    "# These functions only perform the simplification that their names \n",
    "# indicate and leave other parts of an expression in its original form."
   ]
  },
  {
   "cell_type": "code",
   "execution_count": null,
   "metadata": {},
   "outputs": [],
   "source": [
    "# When the exact simplification steps are known, \n",
    "# it is in general better to rely on the more specific simplification functions,\n",
    "# since their actions are more well defined and less likely to change in future versions of SymPy"
   ]
  },
  {
   "cell_type": "code",
   "execution_count": null,
   "metadata": {},
   "outputs": [],
   "source": [
    "# The sympy.simplify function, on the other hand, relies on heuristic approaches \n",
    "# that may change in the future and, as a consequence, produce different results for a particular input expression."
   ]
  },
  {
   "cell_type": "code",
   "execution_count": null,
   "metadata": {},
   "outputs": [],
   "source": [
    "# Attempt various methods and approaches to obtain a simpler form of a given expression.\n",
    "sympy.simplify\n",
    "# Attempt to simplify an expression using trigonometric identities.\n",
    "sympy.trigsimp\n",
    "# Attempt to simplify an expression using laws of powers.\n",
    "sympy.powsimp \n",
    "# Simplify combinatorial expressions.\n",
    "sympy.compsimp \n",
    "# Simplify an expression by writing on a common denominator.\n",
    "sympy.ratsimp "
   ]
  },
  {
   "cell_type": "code",
   "execution_count": null,
   "metadata": {},
   "outputs": [],
   "source": [
    "# Expand"
   ]
  },
  {
   "cell_type": "code",
   "execution_count": 103,
   "metadata": {},
   "outputs": [],
   "source": [
    "y = (x + 1) * (x + 2)"
   ]
  },
  {
   "cell_type": "code",
   "execution_count": 104,
   "metadata": {},
   "outputs": [
    {
     "data": {
      "image/png": "[encoded data removed]",
      "text/latex": [
       "$\\displaystyle x^{2} + 3 x + 2$"
      ],
      "text/plain": [
       " 2          \n",
       "x  + 3⋅x + 2"
      ]
     },
     "execution_count": 104,
     "metadata": {},
     "output_type": "execute_result"
    }
   ],
   "source": [
    "sym.expand(y)"
   ]
  },
  {
   "cell_type": "code",
   "execution_count": null,
   "metadata": {},
   "outputs": [],
   "source": [
    "# Some of the available keyword arguments are \n",
    "# mul=True for expanding products\n",
    "# trig=True for trigonometric expansions\n"
   ]
  },
  {
   "cell_type": "code",
   "execution_count": 114,
   "metadata": {},
   "outputs": [],
   "source": [
    "x = sym.Symbol(\"x\")\n",
    "y = sym.Symbol(\"y\")\n",
    "z = sym.Symbol(\"z\")"
   ]
  },
  {
   "cell_type": "code",
   "execution_count": 107,
   "metadata": {},
   "outputs": [
    {
     "data": {
      "image/png": "[encoded data removed]",
      "text/latex": [
       "$\\displaystyle \\sin{\\left(x \\right)} \\cos{\\left(y \\right)} + \\sin{\\left(y \\right)} \\cos{\\left(x \\right)}$"
      ],
      "text/plain": [
       "sin(x)⋅cos(y) + sin(y)⋅cos(x)"
      ]
     },
     "execution_count": 107,
     "metadata": {},
     "output_type": "execute_result"
    }
   ],
   "source": [
    "sym.sin(x + y).expand(trig=True)"
   ]
  },
  {
   "cell_type": "code",
   "execution_count": 108,
   "metadata": {},
   "outputs": [],
   "source": [
    "a, b = sym.symbols(\"a, b\", positive=True)"
   ]
  },
  {
   "cell_type": "code",
   "execution_count": 109,
   "metadata": {},
   "outputs": [
    {
     "data": {
      "image/png": "[encoded data removed]",
      "text/latex": [
       "$\\displaystyle \\log{\\left(a \\right)} + \\log{\\left(b \\right)}$"
      ],
      "text/plain": [
       "log(a) + log(b)"
      ]
     },
     "execution_count": 109,
     "metadata": {},
     "output_type": "execute_result"
    }
   ],
   "source": [
    "sym.log(a * b).expand(log=True)"
   ]
  },
  {
   "cell_type": "code",
   "execution_count": 110,
   "metadata": {},
   "outputs": [
    {
     "data": {
      "image/png": "[encoded data removed]",
      "text/latex": [
       "$\\displaystyle i e^{a} \\sin{\\left(b \\right)} + e^{a} \\cos{\\left(b \\right)}$"
      ],
      "text/plain": [
       "   a           a       \n",
       "ⅈ⋅ℯ ⋅sin(b) + ℯ ⋅cos(b)"
      ]
     },
     "execution_count": 110,
     "metadata": {},
     "output_type": "execute_result"
    }
   ],
   "source": [
    "sym.exp(a + b*i).expand(complex=True)"
   ]
  },
  {
   "cell_type": "code",
   "execution_count": 111,
   "metadata": {},
   "outputs": [
    {
     "data": {
      "image/png": "[encoded data removed]",
      "text/latex": [
       "$\\displaystyle a^{x} b^{x}$"
      ],
      "text/plain": [
       " x  x\n",
       "a ⋅b "
      ]
     },
     "execution_count": 111,
     "metadata": {},
     "output_type": "execute_result"
    }
   ],
   "source": [
    "sym.expand((a * b)**x, power_base=True)"
   ]
  },
  {
   "cell_type": "code",
   "execution_count": 112,
   "metadata": {},
   "outputs": [
    {
     "data": {
      "image/png": "[encoded data removed]",
      "text/latex": [
       "$\\displaystyle e^{a x} e^{- b x}$"
      ],
      "text/plain": [
       " a⋅x  -b⋅x\n",
       "ℯ   ⋅ℯ    "
      ]
     },
     "execution_count": 112,
     "metadata": {},
     "output_type": "execute_result"
    }
   ],
   "source": [
    "sym.exp((a-b)*x).expand(power_exp=True)"
   ]
  },
  {
   "cell_type": "code",
   "execution_count": null,
   "metadata": {},
   "outputs": [],
   "source": [
    "'''\n",
    "Calling the sympy.expand function with these keyword arguments set to True is\n",
    "equivalent to calling the more specific functions \n",
    "sympy.expand_mul, \n",
    "sympy.expand_trig, \n",
    "sympy.expand_log, \n",
    "sympy.expand_complex, sympy.expand_power_base, and\n",
    "sympy.expand_power_exp, respectively, but an advantage of the sympy.expand function\n",
    "is that several types of expansions can be performed in a single function call.\n",
    "'''"
   ]
  },
  {
   "cell_type": "code",
   "execution_count": null,
   "metadata": {},
   "outputs": [],
   "source": [
    "# Factor, Collect, and Combine"
   ]
  },
  {
   "cell_type": "code",
   "execution_count": 113,
   "metadata": {},
   "outputs": [
    {
     "data": {
      "image/png": "[encoded data removed]",
      "text/latex": [
       "$\\displaystyle \\left(x - 1\\right) \\left(x + 1\\right)$"
      ],
      "text/plain": [
       "(x - 1)⋅(x + 1)"
      ]
     },
     "execution_count": 113,
     "metadata": {},
     "output_type": "execute_result"
    }
   ],
   "source": [
    "sym.factor(x**2 - 1)"
   ]
  },
  {
   "cell_type": "code",
   "execution_count": 115,
   "metadata": {},
   "outputs": [
    {
     "data": {
      "image/png": "[encoded data removed]",
      "text/latex": [
       "$\\displaystyle x \\left(\\sin{\\left(z \\right)} + \\cos{\\left(y \\right)}\\right)$"
      ],
      "text/plain": [
       "x⋅(sin(z) + cos(y))"
      ]
     },
     "execution_count": 115,
     "metadata": {},
     "output_type": "execute_result"
    }
   ],
   "source": [
    "sym.factor(x * sym.cos(y) + sym.sin(z) * x)"
   ]
  },
  {
   "cell_type": "code",
   "execution_count": 118,
   "metadata": {},
   "outputs": [
    {
     "data": {
      "image/png": "[encoded data removed]",
      "text/latex": [
       "$\\displaystyle \\log{\\left(x \\right)} - \\log{\\left(y \\right)}$"
      ],
      "text/plain": [
       "log(x) - log(y)"
      ]
     },
     "execution_count": 118,
     "metadata": {},
     "output_type": "execute_result"
    }
   ],
   "source": [
    "sym.logcombine(sym.log(x) - sym.log(y))\n",
    "# this should be log(x/y) but it not worked"
   ]
  },
  {
   "cell_type": "code",
   "execution_count": 119,
   "metadata": {},
   "outputs": [],
   "source": [
    "w = x + y + x * y * z"
   ]
  },
  {
   "cell_type": "code",
   "execution_count": 120,
   "metadata": {},
   "outputs": [
    {
     "data": {
      "image/png": "[encoded data removed]",
      "text/latex": [
       "$\\displaystyle x \\left(y z + 1\\right) + y$"
      ],
      "text/plain": [
       "x⋅(y⋅z + 1) + y"
      ]
     },
     "execution_count": 120,
     "metadata": {},
     "output_type": "execute_result"
    }
   ],
   "source": [
    "w.collect(x)"
   ]
  },
  {
   "cell_type": "code",
   "execution_count": 121,
   "metadata": {},
   "outputs": [
    {
     "data": {
      "image/png": "[encoded data removed]",
      "text/latex": [
       "$\\displaystyle x + y \\left(x z + 1\\right)$"
      ],
      "text/plain": [
       "x + y⋅(x⋅z + 1)"
      ]
     },
     "execution_count": 121,
     "metadata": {},
     "output_type": "execute_result"
    }
   ],
   "source": [
    "w.collect(y)"
   ]
  },
  {
   "cell_type": "code",
   "execution_count": 122,
   "metadata": {},
   "outputs": [],
   "source": [
    "w = sym.cos(x + y) + sym.sin(x - y)"
   ]
  },
  {
   "cell_type": "code",
   "execution_count": 124,
   "metadata": {},
   "outputs": [
    {
     "data": {
      "image/png": "[encoded data removed]",
      "text/latex": [
       "$\\displaystyle - \\sin{\\left(x \\right)} \\sin{\\left(y \\right)} + \\sin{\\left(x \\right)} \\cos{\\left(y \\right)} - \\sin{\\left(y \\right)} \\cos{\\left(x \\right)} + \\cos{\\left(x \\right)} \\cos{\\left(y \\right)}$"
      ],
      "text/plain": [
       "-sin(x)⋅sin(y) + sin(x)⋅cos(y) - sin(y)⋅cos(x) + cos(x)⋅cos(y)"
      ]
     },
     "execution_count": 124,
     "metadata": {},
     "output_type": "execute_result"
    }
   ],
   "source": [
    "w.expand(trig=True)"
   ]
  },
  {
   "cell_type": "code",
   "execution_count": 125,
   "metadata": {},
   "outputs": [
    {
     "data": {
      "image/png": "[encoded data removed]",
      "text/latex": [
       "$\\displaystyle \\left(- \\sin{\\left(y \\right)} + \\cos{\\left(y \\right)}\\right) \\sin{\\left(x \\right)} + \\left(- \\sin{\\left(y \\right)} + \\cos{\\left(y \\right)}\\right) \\cos{\\left(x \\right)}$"
      ],
      "text/plain": [
       "(-sin(y) + cos(y))⋅sin(x) + (-sin(y) + cos(y))⋅cos(x)"
      ]
     },
     "execution_count": 125,
     "metadata": {},
     "output_type": "execute_result"
    }
   ],
   "source": [
    "w.expand(trig=True).collect([sym.cos(x), sym.sin(x)])"
   ]
  },
  {
   "cell_type": "code",
   "execution_count": 126,
   "metadata": {},
   "outputs": [
    {
     "data": {
      "image/png": "[encoded data removed]",
      "text/latex": [
       "$\\displaystyle \\left(\\sin{\\left(x \\right)} + \\cos{\\left(x \\right)}\\right) \\left(- \\sin{\\left(y \\right)} + \\cos{\\left(y \\right)}\\right)$"
      ],
      "text/plain": [
       "(sin(x) + cos(x))⋅(-sin(y) + cos(y))"
      ]
     },
     "execution_count": 126,
     "metadata": {},
     "output_type": "execute_result"
    }
   ],
   "source": [
    "w.expand(trig=True).collect([sym.cos(x), sym.sin(x)]).collect(sym.cos(y) - sym.sin(y))"
   ]
  },
  {
   "cell_type": "code",
   "execution_count": null,
   "metadata": {},
   "outputs": [],
   "source": [
    "# Apart, Together, and Cancel"
   ]
  },
  {
   "cell_type": "code",
   "execution_count": 127,
   "metadata": {},
   "outputs": [
    {
     "data": {
      "image/png": "[encoded data removed]",
      "text/latex": [
       "$\\displaystyle - \\frac{1}{x + 2} + \\frac{1}{x + 1}$"
      ],
      "text/plain": [
       "    1       1  \n",
       "- ───── + ─────\n",
       "  x + 2   x + 1"
      ]
     },
     "execution_count": 127,
     "metadata": {},
     "output_type": "execute_result"
    }
   ],
   "source": [
    "# rewrite an expression as a partial fraction\n",
    "sym.apart(1/(x**2 + 3*x + 2), x)"
   ]
  },
  {
   "cell_type": "code",
   "execution_count": 128,
   "metadata": {},
   "outputs": [
    {
     "data": {
      "image/png": "[encoded data removed]",
      "text/latex": [
       "$\\displaystyle \\frac{y + 1}{y \\left(x + 1\\right)}$"
      ],
      "text/plain": [
       "  y + 1  \n",
       "─────────\n",
       "y⋅(x + 1)"
      ]
     },
     "execution_count": 128,
     "metadata": {},
     "output_type": "execute_result"
    }
   ],
   "source": [
    "# combine the sum of fractions into a single fraction\n",
    "sym.together(1 / (y * x + y) + 1 / (1+x))"
   ]
  },
  {
   "cell_type": "code",
   "execution_count": 129,
   "metadata": {},
   "outputs": [
    {
     "data": {
      "image/png": "[encoded data removed]",
      "text/latex": [
       "$\\displaystyle \\frac{1}{x + 1}$"
      ],
      "text/plain": [
       "  1  \n",
       "─────\n",
       "x + 1"
      ]
     },
     "execution_count": 129,
     "metadata": {},
     "output_type": "execute_result"
    }
   ],
   "source": [
    "# cancel shared factors between numerator and the denominator\n",
    "sym.cancel(y / (y * x + y))"
   ]
  },
  {
   "cell_type": "code",
   "execution_count": null,
   "metadata": {},
   "outputs": [],
   "source": [
    "# Substitutions"
   ]
  },
  {
   "cell_type": "code",
   "execution_count": 130,
   "metadata": {},
   "outputs": [
    {
     "data": {
      "image/png": "[encoded data removed]",
      "text/latex": [
       "$\\displaystyle 2 y$"
      ],
      "text/plain": [
       "2⋅y"
      ]
     },
     "execution_count": 130,
     "metadata": {},
     "output_type": "execute_result"
    }
   ],
   "source": [
    "(x + y).subs(x, y)"
   ]
  },
  {
   "cell_type": "code",
   "execution_count": 131,
   "metadata": {},
   "outputs": [
    {
     "data": {
      "image/png": "[encoded data removed]",
      "text/latex": [
       "$\\displaystyle \\sin{\\left(y e^{y} \\right)}$"
      ],
      "text/plain": [
       "   ⎛   y⎞\n",
       "sin⎝y⋅ℯ ⎠"
      ]
     },
     "execution_count": 131,
     "metadata": {},
     "output_type": "execute_result"
    }
   ],
   "source": [
    "sym.sin(x * sym.exp(x)).subs(x, y)"
   ]
  },
  {
   "cell_type": "code",
   "execution_count": 132,
   "metadata": {},
   "outputs": [
    {
     "data": {
      "image/png": "[encoded data removed]",
      "text/latex": [
       "$\\displaystyle \\cos{\\left(y e^{y} \\right)}$"
      ],
      "text/plain": [
       "   ⎛   y⎞\n",
       "cos⎝y⋅ℯ ⎠"
      ]
     },
     "execution_count": 132,
     "metadata": {},
     "output_type": "execute_result"
    }
   ],
   "source": [
    "# Instead of chaining multiple subs calls when multiple substitutions are required\n",
    "# alternatively pass a dictionary as the first and only argument to subs that maps old symbols or expressions \n",
    "# to new symbols or expressions\n",
    "sym.sin(x * z).subs({z: sym.exp(y), x: y, sym.sin: sym.cos})"
   ]
  },
  {
   "cell_type": "code",
   "execution_count": 133,
   "metadata": {},
   "outputs": [],
   "source": [
    "w = x * y + z**2 *x"
   ]
  },
  {
   "cell_type": "code",
   "execution_count": 134,
   "metadata": {},
   "outputs": [],
   "source": [
    "values = {x: 1.25, y: 0.4, z: 3.2}"
   ]
  },
  {
   "cell_type": "code",
   "execution_count": 135,
   "metadata": {},
   "outputs": [
    {
     "data": {
      "image/png": "[encoded data removed]",
      "text/latex": [
       "$\\displaystyle 13.3$"
      ],
      "text/plain": [
       "13.3000000000000"
      ]
     },
     "execution_count": 135,
     "metadata": {},
     "output_type": "execute_result"
    }
   ],
   "source": [
    "w.subs(values)"
   ]
  },
  {
   "cell_type": "code",
   "execution_count": null,
   "metadata": {},
   "outputs": [],
   "source": [
    "# Numerical Evaluation"
   ]
  },
  {
   "cell_type": "code",
   "execution_count": 136,
   "metadata": {},
   "outputs": [
    {
     "data": {
      "image/png": "[encoded data removed]",
      "text/latex": [
       "$\\displaystyle 4.14159265358979$"
      ],
      "text/plain": [
       "4.14159265358979"
      ]
     },
     "execution_count": 136,
     "metadata": {},
     "output_type": "execute_result"
    }
   ],
   "source": [
    "sym.N(1 + pi)"
   ]
  },
  {
   "cell_type": "code",
   "execution_count": 137,
   "metadata": {},
   "outputs": [
    {
     "data": {
      "image/png": "[encoded data removed]",
      "text/latex": [
       "$\\displaystyle 4.1415926535897932384626433832795028841971693993751$"
      ],
      "text/plain": [
       "4.1415926535897932384626433832795028841971693993751"
      ]
     },
     "execution_count": 137,
     "metadata": {},
     "output_type": "execute_result"
    }
   ],
   "source": [
    "sym.N(1 + pi, 50)"
   ]
  },
  {
   "cell_type": "code",
   "execution_count": 138,
   "metadata": {},
   "outputs": [
    {
     "data": {
      "image/png": "[encoded data removed]",
      "text/latex": [
       "$\\displaystyle 4.1415926535897932384626433832795028841971693993751$"
      ],
      "text/plain": [
       "4.1415926535897932384626433832795028841971693993751"
      ]
     },
     "execution_count": 138,
     "metadata": {},
     "output_type": "execute_result"
    }
   ],
   "source": [
    "# SymPy’s multiprecision float capabilities were leveraged to evaluate the value of π up to 50 digits.\n",
    "(1 + pi).evalf(50)"
   ]
  },
  {
   "cell_type": "code",
   "execution_count": 140,
   "metadata": {},
   "outputs": [
    {
     "data": {
      "image/png": "[encoded data removed]",
      "text/latex": [
       "$\\displaystyle \\left[ 0, \\  0.774, \\  0.642, \\  0.722, \\  0.944, \\  0.205, \\  0.974, \\  0.977, \\  -0.87, \\  -0.695\\right]$"
      ],
      "text/plain": [
       "[0, 0.774, 0.642, 0.722, 0.944, 0.205, 0.974, 0.977, -0.87, -0.695]"
      ]
     },
     "execution_count": 140,
     "metadata": {},
     "output_type": "execute_result"
    }
   ],
   "source": [
    "# perform successive evalf calls to loop over the values\n",
    "w = sym.sin(pi * x * sym.exp(x))\n",
    "[w.subs(x, xx).evalf(3) for xx in range(10)]"
   ]
  },
  {
   "cell_type": "code",
   "execution_count": 142,
   "metadata": {},
   "outputs": [],
   "source": [
    "# this method is rather slow, and SymPy provides a more efficient method\n",
    "# for doing this operation using the function sympy.lambdify\n",
    "# This function takes a set of free symbols and an expression as arguments \n",
    "# and generates a function that efficiently evaluates the numerical value of the expression. \n",
    "# The produced function takes the same number of arguments as the number of free symbols \n",
    "# passed as the first argument to sympy.lambdify.\n",
    "w_subber = sym.lambdify(x, w)"
   ]
  },
  {
   "cell_type": "code",
   "execution_count": 143,
   "metadata": {},
   "outputs": [
    {
     "data": {
      "image/png": "[encoded data removed]",
      "text/latex": [
       "$\\displaystyle 0.0$"
      ],
      "text/plain": [
       "0.0"
      ]
     },
     "execution_count": 143,
     "metadata": {},
     "output_type": "execute_result"
    }
   ],
   "source": [
    "# function w_subber expects numerical (scalar) values as arguments,\n",
    "# pass a symbol as an argument is not working\n",
    "w_subber(0)"
   ]
  },
  {
   "cell_type": "code",
   "execution_count": 144,
   "metadata": {},
   "outputs": [
    {
     "data": {
      "image/png": "[encoded data removed]",
      "text/latex": [
       "$\\displaystyle 0.773942685266709$"
      ],
      "text/plain": [
       "0.773942685266709"
      ]
     },
     "execution_count": 144,
     "metadata": {},
     "output_type": "execute_result"
    }
   ],
   "source": [
    "w_subber(1)"
   ]
  },
  {
   "cell_type": "code",
   "execution_count": 145,
   "metadata": {},
   "outputs": [],
   "source": [
    "# and it is not directly compatible with vectorized input in the form of NumPy arrays\n",
    "# SymPy is also able to generate functions that are NumPy-array aware: \n",
    "# by passing the optional argument 'numpy' as the third argument\n",
    "w_np_subber = sym.lambdify(x, w, 'numpy')"
   ]
  },
  {
   "cell_type": "code",
   "execution_count": 148,
   "metadata": {},
   "outputs": [],
   "source": [
    "x_values = np.arange(10)\n",
    "y_values = w_np_subber(x_values)"
   ]
  },
  {
   "cell_type": "code",
   "execution_count": null,
   "metadata": {},
   "outputs": [],
   "source": [
    "# Calculus\n",
    "# explore symbolic calculus, or analysis, which is a cornerstone in applied mathematics a\n",
    "# nd has a great number of applications throughout science and engineering."
   ]
  },
  {
   "cell_type": "code",
   "execution_count": null,
   "metadata": {},
   "outputs": [],
   "source": [
    "# The central concept in calculus is the change of functions as input variables are varied, \n",
    "# as quantified with derivatives and differentials, \n",
    "# and accumulations of functions over ranges of input, as quantified by integrals."
   ]
  },
  {
   "cell_type": "code",
   "execution_count": null,
   "metadata": {},
   "outputs": [],
   "source": [
    "# Derivatives\n",
    "# The derivative of a function describes its rate of change at a given point."
   ]
  },
  {
   "cell_type": "code",
   "execution_count": 150,
   "metadata": {},
   "outputs": [
    {
     "data": {
      "image/png": "[encoded data removed]",
      "text/latex": [
       "$\\displaystyle f{\\left(x \\right)}$"
      ],
      "text/plain": [
       "f(x)"
      ]
     },
     "execution_count": 150,
     "metadata": {},
     "output_type": "execute_result"
    }
   ],
   "source": [
    "f = sym.Function('f')(x)\n",
    "f"
   ]
  },
  {
   "cell_type": "code",
   "execution_count": 151,
   "metadata": {},
   "outputs": [
    {
     "data": {
      "image/png": "[encoded data removed]",
      "text/latex": [
       "$\\displaystyle \\frac{d}{d x} f{\\left(x \\right)}$"
      ],
      "text/plain": [
       "d       \n",
       "──(f(x))\n",
       "dx      "
      ]
     },
     "execution_count": 151,
     "metadata": {},
     "output_type": "execute_result"
    }
   ],
   "source": [
    "sym.diff(f, x)"
   ]
  },
  {
   "cell_type": "code",
   "execution_count": 152,
   "metadata": {},
   "outputs": [
    {
     "data": {
      "image/png": "[encoded data removed]",
      "text/latex": [
       "$\\displaystyle \\frac{d}{d x} f{\\left(x \\right)}$"
      ],
      "text/plain": [
       "d       \n",
       "──(f(x))\n",
       "dx      "
      ]
     },
     "execution_count": 152,
     "metadata": {},
     "output_type": "execute_result"
    }
   ],
   "source": [
    "f.diff(x)"
   ]
  },
  {
   "cell_type": "code",
   "execution_count": 153,
   "metadata": {},
   "outputs": [
    {
     "data": {
      "image/png": "[encoded data removed]",
      "text/latex": [
       "$\\displaystyle \\frac{d^{2}}{d x^{2}} f{\\left(x \\right)}$"
      ],
      "text/plain": [
       "  2      \n",
       " d       \n",
       "───(f(x))\n",
       "  2      \n",
       "dx       "
      ]
     },
     "execution_count": 153,
     "metadata": {},
     "output_type": "execute_result"
    }
   ],
   "source": [
    "sym.diff(f, x, x)"
   ]
  },
  {
   "cell_type": "code",
   "execution_count": 154,
   "metadata": {},
   "outputs": [
    {
     "data": {
      "image/png": "[encoded data removed]",
      "text/latex": [
       "$\\displaystyle \\frac{d^{2}}{d x^{2}} f{\\left(x \\right)}$"
      ],
      "text/plain": [
       "  2      \n",
       " d       \n",
       "───(f(x))\n",
       "  2      \n",
       "dx       "
      ]
     },
     "execution_count": 154,
     "metadata": {},
     "output_type": "execute_result"
    }
   ],
   "source": [
    "sym.diff(f, x, 2)"
   ]
  },
  {
   "cell_type": "code",
   "execution_count": 155,
   "metadata": {},
   "outputs": [
    {
     "data": {
      "image/png": "[encoded data removed]",
      "text/latex": [
       "$\\displaystyle \\frac{d^{3}}{d x^{3}} f{\\left(x \\right)}$"
      ],
      "text/plain": [
       "  3      \n",
       " d       \n",
       "───(f(x))\n",
       "  3      \n",
       "dx       "
      ]
     },
     "execution_count": 155,
     "metadata": {},
     "output_type": "execute_result"
    }
   ],
   "source": [
    "sym.diff(f, x, x, x)"
   ]
  },
  {
   "cell_type": "code",
   "execution_count": 156,
   "metadata": {},
   "outputs": [
    {
     "data": {
      "image/png": "[encoded data removed]",
      "text/latex": [
       "$\\displaystyle \\frac{d^{3}}{d x^{3}} f{\\left(x \\right)}$"
      ],
      "text/plain": [
       "  3      \n",
       " d       \n",
       "───(f(x))\n",
       "  3      \n",
       "dx       "
      ]
     },
     "execution_count": 156,
     "metadata": {},
     "output_type": "execute_result"
    }
   ],
   "source": [
    "sym.diff(f, x, 3)"
   ]
  },
  {
   "cell_type": "code",
   "execution_count": 157,
   "metadata": {},
   "outputs": [],
   "source": [
    "# This method is readily extended to multivariate functions\n",
    "g = sym.Function('g')(x, y)"
   ]
  },
  {
   "cell_type": "code",
   "execution_count": 158,
   "metadata": {},
   "outputs": [
    {
     "data": {
      "image/png": "[encoded data removed]",
      "text/latex": [
       "$\\displaystyle \\frac{\\partial^{2}}{\\partial y\\partial x} g{\\left(x,y \\right)}$"
      ],
      "text/plain": [
       "   2          \n",
       "  ∂           \n",
       "─────(g(x, y))\n",
       "∂y ∂x         "
      ]
     },
     "execution_count": 158,
     "metadata": {},
     "output_type": "execute_result"
    }
   ],
   "source": [
    "g.diff(x, y)"
   ]
  },
  {
   "cell_type": "code",
   "execution_count": 159,
   "metadata": {},
   "outputs": [
    {
     "data": {
      "image/png": "[encoded data removed]",
      "text/latex": [
       "$\\displaystyle \\frac{\\partial^{2}}{\\partial y\\partial x} g{\\left(x,y \\right)}$"
      ],
      "text/plain": [
       "   2          \n",
       "  ∂           \n",
       "─────(g(x, y))\n",
       "∂y ∂x         "
      ]
     },
     "execution_count": 159,
     "metadata": {},
     "output_type": "execute_result"
    }
   ],
   "source": [
    "sym.diff(g, x, y)"
   ]
  },
  {
   "cell_type": "code",
   "execution_count": 160,
   "metadata": {},
   "outputs": [
    {
     "data": {
      "image/png": "[encoded data removed]",
      "text/latex": [
       "$\\displaystyle \\frac{\\partial^{5}}{\\partial y^{2}\\partial x^{3}} g{\\left(x,y \\right)}$"
      ],
      "text/plain": [
       "    5           \n",
       "   ∂            \n",
       "───────(g(x, y))\n",
       "  2   3         \n",
       "∂y  ∂x          "
      ]
     },
     "execution_count": 160,
     "metadata": {},
     "output_type": "execute_result"
    }
   ],
   "source": [
    "g.diff(x, 3, y, 2)"
   ]
  },
  {
   "cell_type": "code",
   "execution_count": 162,
   "metadata": {},
   "outputs": [
    {
     "data": {
      "image/png": "[encoded data removed]",
      "text/latex": [
       "$\\displaystyle \\frac{\\partial^{5}}{\\partial y^{2}\\partial x^{3}} g{\\left(x,y \\right)}$"
      ],
      "text/plain": [
       "    5           \n",
       "   ∂            \n",
       "───────(g(x, y))\n",
       "  2   3         \n",
       "∂y  ∂x          "
      ]
     },
     "execution_count": 162,
     "metadata": {},
     "output_type": "execute_result"
    }
   ],
   "source": [
    "sym.diff(g, x, x, x, y, y)"
   ]
  },
  {
   "cell_type": "code",
   "execution_count": 165,
   "metadata": {},
   "outputs": [
    {
     "data": {
      "image/png": "[encoded data removed]",
      "text/latex": [
       "$\\displaystyle x^{4} + x^{3} + x^{2} + x + 1$"
      ],
      "text/plain": [
       " 4    3    2        \n",
       "x  + x  + x  + x + 1"
      ]
     },
     "execution_count": 165,
     "metadata": {},
     "output_type": "execute_result"
    }
   ],
   "source": [
    "w = x**4 + x**3 + x**2 + x + 1\n",
    "w"
   ]
  },
  {
   "cell_type": "code",
   "execution_count": 166,
   "metadata": {},
   "outputs": [
    {
     "data": {
      "image/png": "[encoded data removed]",
      "text/latex": [
       "$\\displaystyle 4 x^{3} + 3 x^{2} + 2 x + 1$"
      ],
      "text/plain": [
       "   3      2          \n",
       "4⋅x  + 3⋅x  + 2⋅x + 1"
      ]
     },
     "execution_count": 166,
     "metadata": {},
     "output_type": "execute_result"
    }
   ],
   "source": [
    "w.diff(x)"
   ]
  },
  {
   "cell_type": "code",
   "execution_count": 167,
   "metadata": {},
   "outputs": [
    {
     "data": {
      "image/png": "[encoded data removed]",
      "text/latex": [
       "$\\displaystyle 2 \\left(6 x^{2} + 3 x + 1\\right)$"
      ],
      "text/plain": [
       "  ⎛   2          ⎞\n",
       "2⋅⎝6⋅x  + 3⋅x + 1⎠"
      ]
     },
     "execution_count": 167,
     "metadata": {},
     "output_type": "execute_result"
    }
   ],
   "source": [
    "w.diff(x, x)"
   ]
  },
  {
   "cell_type": "code",
   "execution_count": 168,
   "metadata": {},
   "outputs": [
    {
     "data": {
      "image/png": "[encoded data removed]",
      "text/latex": [
       "$\\displaystyle 2 \\left(6 x^{2} + 3 x + 1\\right)$"
      ],
      "text/plain": [
       "  ⎛   2          ⎞\n",
       "2⋅⎝6⋅x  + 3⋅x + 1⎠"
      ]
     },
     "execution_count": 168,
     "metadata": {},
     "output_type": "execute_result"
    }
   ],
   "source": [
    "w.diff(x, 2)"
   ]
  },
  {
   "cell_type": "code",
   "execution_count": 169,
   "metadata": {},
   "outputs": [],
   "source": [
    "s = (x + 1)**3 * y ** 2 * (z - 1)"
   ]
  },
  {
   "cell_type": "code",
   "execution_count": 170,
   "metadata": {},
   "outputs": [
    {
     "data": {
      "image/png": "[encoded data removed]",
      "text/latex": [
       "$\\displaystyle 6 y \\left(x + 1\\right)^{2}$"
      ],
      "text/plain": [
       "           2\n",
       "6⋅y⋅(x + 1) "
      ]
     },
     "execution_count": 170,
     "metadata": {},
     "output_type": "execute_result"
    }
   ],
   "source": [
    "s.diff(x, y, z)"
   ]
  },
  {
   "cell_type": "code",
   "execution_count": 172,
   "metadata": {},
   "outputs": [
    {
     "data": {
      "image/png": "[encoded data removed]",
      "text/latex": [
       "$\\displaystyle \\sin{\\left(x y \\right)} \\cos{\\left(\\frac{x}{2} \\right)}$"
      ],
      "text/plain": [
       "            ⎛x⎞\n",
       "sin(x⋅y)⋅cos⎜─⎟\n",
       "            ⎝2⎠"
      ]
     },
     "execution_count": 172,
     "metadata": {},
     "output_type": "execute_result"
    }
   ],
   "source": [
    "s = sym.sin(x * y) * sym.cos(x / 2)\n",
    "s"
   ]
  },
  {
   "cell_type": "code",
   "execution_count": 173,
   "metadata": {},
   "outputs": [
    {
     "data": {
      "image/png": "[encoded data removed]",
      "text/latex": [
       "$\\displaystyle y \\cos{\\left(\\frac{x}{2} \\right)} \\cos{\\left(x y \\right)} - \\frac{\\sin{\\left(\\frac{x}{2} \\right)} \\sin{\\left(x y \\right)}}{2}$"
      ],
      "text/plain": [
       "                       ⎛x⎞         \n",
       "                    sin⎜─⎟⋅sin(x⋅y)\n",
       "     ⎛x⎞               ⎝2⎠         \n",
       "y⋅cos⎜─⎟⋅cos(x⋅y) - ───────────────\n",
       "     ⎝2⎠                   2       "
      ]
     },
     "execution_count": 173,
     "metadata": {},
     "output_type": "execute_result"
    }
   ],
   "source": [
    "s.diff(x)"
   ]
  },
  {
   "cell_type": "code",
   "execution_count": 175,
   "metadata": {},
   "outputs": [
    {
     "data": {
      "image/png": "[encoded data removed]",
      "text/latex": [
       "$\\displaystyle \\frac{2^{x} \\sqrt{\\pi}}{\\Gamma\\left(\\frac{1}{2} - \\frac{x}{2}\\right)}$"
      ],
      "text/plain": [
       "  x     \n",
       " 2 ⋅√π  \n",
       "────────\n",
       " ⎛1   x⎞\n",
       "Γ⎜─ - ─⎟\n",
       " ⎝2   2⎠"
      ]
     },
     "execution_count": 175,
     "metadata": {},
     "output_type": "execute_result"
    }
   ],
   "source": [
    "h = sym.special.polynomials.hermite(x, 0)\n",
    "h"
   ]
  },
  {
   "cell_type": "code",
   "execution_count": 176,
   "metadata": {},
   "outputs": [
    {
     "data": {
      "image/png": "[encoded data removed]",
      "text/latex": [
       "$\\displaystyle \\frac{2^{x} \\sqrt{\\pi} \\operatorname{polygamma}{\\left(0,\\frac{1}{2} - \\frac{x}{2} \\right)}}{2 \\Gamma\\left(\\frac{1}{2} - \\frac{x}{2}\\right)} + \\frac{2^{x} \\sqrt{\\pi} \\log{\\left(2 \\right)}}{\\Gamma\\left(\\frac{1}{2} - \\frac{x}{2}\\right)}$"
      ],
      "text/plain": [
       " x             ⎛   1   x⎞               \n",
       "2 ⋅√π⋅polygamma⎜0, ─ - ─⎟    x          \n",
       "               ⎝   2   2⎠   2 ⋅√π⋅log(2)\n",
       "───────────────────────── + ────────────\n",
       "           ⎛1   x⎞             ⎛1   x⎞  \n",
       "        2⋅Γ⎜─ - ─⎟            Γ⎜─ - ─⎟  \n",
       "           ⎝2   2⎠             ⎝2   2⎠  "
      ]
     },
     "execution_count": 176,
     "metadata": {},
     "output_type": "execute_result"
    }
   ],
   "source": [
    "h.diff(x).doit()"
   ]
  },
  {
   "cell_type": "code",
   "execution_count": 177,
   "metadata": {},
   "outputs": [
    {
     "data": {
      "image/png": "[encoded data removed]",
      "text/latex": [
       "$\\displaystyle \\frac{d}{d x} e^{\\cos{\\left(x \\right)}}$"
      ],
      "text/plain": [
       "d ⎛ cos(x)⎞\n",
       "──⎝ℯ      ⎠\n",
       "dx         "
      ]
     },
     "execution_count": 177,
     "metadata": {},
     "output_type": "execute_result"
    }
   ],
   "source": [
    "# formal representation of a derivative \n",
    "f = sym.Derivative(sym.exp(sym.cos(x)), x)\n",
    "f"
   ]
  },
  {
   "cell_type": "code",
   "execution_count": 178,
   "metadata": {},
   "outputs": [
    {
     "data": {
      "image/png": "[encoded data removed]",
      "text/latex": [
       "$\\displaystyle - e^{\\cos{\\left(x \\right)}} \\sin{\\left(x \\right)}$"
      ],
      "text/plain": [
       "  cos(x)       \n",
       "-ℯ      ⋅sin(x)"
      ]
     },
     "execution_count": 178,
     "metadata": {},
     "output_type": "execute_result"
    }
   ],
   "source": [
    "# this can be evaluated by calling the doit method\n",
    "f.doit()"
   ]
  },
  {
   "cell_type": "code",
   "execution_count": null,
   "metadata": {},
   "outputs": [],
   "source": [
    "# Integrals"
   ]
  },
  {
   "cell_type": "code",
   "execution_count": null,
   "metadata": {},
   "outputs": [],
   "source": [
    "'''\n",
    "Integrals come in two basic forms: definite and indefinite, \n",
    "where a definite integral has specified integration limits and can be interpreted as an area or volume, \n",
    "while an indefinite integral does not have integration limits \n",
    "and denotes the antiderivative (inverse of the derivative of a function).\n",
    "'''"
   ]
  },
  {
   "cell_type": "code",
   "execution_count": 179,
   "metadata": {},
   "outputs": [],
   "source": [
    "a, b, x, y = sym.symbols(\"a, b, x, y\")"
   ]
  },
  {
   "cell_type": "code",
   "execution_count": 180,
   "metadata": {},
   "outputs": [],
   "source": [
    "f = sym.Function(\"f\")(x)"
   ]
  },
  {
   "cell_type": "code",
   "execution_count": 182,
   "metadata": {},
   "outputs": [
    {
     "data": {
      "image/png": "[encoded data removed]",
      "text/latex": [
       "$\\displaystyle \\int f{\\left(x \\right)}\\, dx$"
      ],
      "text/plain": [
       "⌠        \n",
       "⎮ f(x) dx\n",
       "⌡        "
      ]
     },
     "execution_count": 182,
     "metadata": {},
     "output_type": "execute_result"
    }
   ],
   "source": [
    "sym.integrate(f)"
   ]
  },
  {
   "cell_type": "code",
   "execution_count": 183,
   "metadata": {},
   "outputs": [
    {
     "data": {
      "image/png": "[encoded data removed]",
      "text/latex": [
       "$\\displaystyle \\int\\limits_{a}^{b} f{\\left(x \\right)}\\, dx$"
      ],
      "text/plain": [
       "b        \n",
       "⌠        \n",
       "⎮ f(x) dx\n",
       "⌡        \n",
       "a        "
      ]
     },
     "execution_count": 183,
     "metadata": {},
     "output_type": "execute_result"
    }
   ],
   "source": [
    "sym.integrate(f, (x, a, b))"
   ]
  },
  {
   "cell_type": "code",
   "execution_count": 184,
   "metadata": {},
   "outputs": [
    {
     "data": {
      "image/png": "[encoded data removed]",
      "text/latex": [
       "$\\displaystyle - \\cos{\\left(x \\right)}$"
      ],
      "text/plain": [
       "-cos(x)"
      ]
     },
     "execution_count": 184,
     "metadata": {},
     "output_type": "execute_result"
    }
   ],
   "source": [
    "sym.integrate(sym.sin(x))"
   ]
  },
  {
   "cell_type": "code",
   "execution_count": 185,
   "metadata": {},
   "outputs": [
    {
     "data": {
      "image/png": "[encoded data removed]",
      "text/latex": [
       "$\\displaystyle \\cos{\\left(a \\right)} - \\cos{\\left(b \\right)}$"
      ],
      "text/plain": [
       "cos(a) - cos(b)"
      ]
     },
     "execution_count": 185,
     "metadata": {},
     "output_type": "execute_result"
    }
   ],
   "source": [
    "sym.integrate(sym.sin(x), (x, a, b))"
   ]
  },
  {
   "cell_type": "code",
   "execution_count": 187,
   "metadata": {},
   "outputs": [
    {
     "data": {
      "image/png": "[encoded data removed]",
      "text/latex": [
       "$\\displaystyle \\frac{\\sqrt{\\pi}}{2}$"
      ],
      "text/plain": [
       "√π\n",
       "──\n",
       "2 "
      ]
     },
     "execution_count": 187,
     "metadata": {},
     "output_type": "execute_result"
    }
   ],
   "source": [
    "sym.integrate(sym.exp(-x**2), (x, 0, inf))"
   ]
  },
  {
   "cell_type": "code",
   "execution_count": 192,
   "metadata": {},
   "outputs": [
    {
     "data": {
      "image/png": "[encoded data removed]",
      "text/latex": [
       "$\\displaystyle \\frac{\\pi}{2}$"
      ],
      "text/plain": [
       "π\n",
       "─\n",
       "2"
      ]
     },
     "execution_count": 192,
     "metadata": {},
     "output_type": "execute_result"
    }
   ],
   "source": [
    "sym.integrate(1/(1 + x**2), (x, 0, inf))"
   ]
  },
  {
   "cell_type": "code",
   "execution_count": 191,
   "metadata": {},
   "outputs": [
    {
     "data": {
      "image/png": "[encoded data removed]",
      "text/latex": [
       "$\\displaystyle \\pi$"
      ],
      "text/plain": [
       "π"
      ]
     },
     "execution_count": 191,
     "metadata": {},
     "output_type": "execute_result"
    }
   ],
   "source": [
    "sym.integrate(1/(1 + x**2), (x, -inf, inf))"
   ]
  },
  {
   "cell_type": "code",
   "execution_count": 193,
   "metadata": {},
   "outputs": [],
   "source": [
    "a, b, c = sym.symbols(\"a, b, c\", positive=True)"
   ]
  },
  {
   "cell_type": "code",
   "execution_count": 197,
   "metadata": {},
   "outputs": [
    {
     "data": {
      "image/png": "[encoded data removed]",
      "text/latex": [
       "$\\displaystyle \\sqrt{\\pi} a c$"
      ],
      "text/plain": [
       "√π⋅a⋅c"
      ]
     },
     "execution_count": 197,
     "metadata": {},
     "output_type": "execute_result"
    }
   ],
   "source": [
    "sym.integrate(a * sym.exp(-((x-b)/c)**2), (x, -inf, inf))"
   ]
  },
  {
   "cell_type": "code",
   "execution_count": 198,
   "metadata": {},
   "outputs": [
    {
     "data": {
      "image/png": "[encoded data removed]",
      "text/latex": [
       "$\\displaystyle \\int \\sin{\\left(x \\cos{\\left(x \\right)} \\right)}\\, dx$"
      ],
      "text/plain": [
       "⌠                 \n",
       "⎮ sin(x⋅cos(x)) dx\n",
       "⌡                 "
      ]
     },
     "execution_count": 198,
     "metadata": {},
     "output_type": "execute_result"
    }
   ],
   "source": [
    "# Computing integrals symbolically is in general a difficult problem, \n",
    "# and SymPy will not be able to give symbolic results for any integral you can come up with. \n",
    "# When SymPy fails to evaluate an integral, an instance of sympy.\n",
    "# Integral, representing the formal integral, is returned instead.\n",
    "sym.integrate(sym.sin(x * sym.cos(x)))"
   ]
  },
  {
   "cell_type": "code",
   "execution_count": null,
   "metadata": {},
   "outputs": [],
   "source": [
    "# Multivariable expressions can also be integrated\n",
    "# In the case of an indefinite integral of a multivariable expression, \n",
    "# the integration variable has to be specified explicitly"
   ]
  },
  {
   "cell_type": "code",
   "execution_count": 200,
   "metadata": {},
   "outputs": [
    {
     "data": {
      "image/png": "[encoded data removed]",
      "text/latex": [
       "$\\displaystyle \\sin{\\left(x e^{y} \\right)}$"
      ],
      "text/plain": [
       "   ⎛   y⎞\n",
       "sin⎝x⋅ℯ ⎠"
      ]
     },
     "execution_count": 200,
     "metadata": {},
     "output_type": "execute_result"
    }
   ],
   "source": [
    "w = sym.sin(x*sym.exp(y))\n",
    "w"
   ]
  },
  {
   "cell_type": "code",
   "execution_count": 201,
   "metadata": {},
   "outputs": [
    {
     "data": {
      "image/png": "[encoded data removed]",
      "text/latex": [
       "$\\displaystyle - e^{- y} \\cos{\\left(x e^{y} \\right)}$"
      ],
      "text/plain": [
       "  -y    ⎛   y⎞\n",
       "-ℯ  ⋅cos⎝x⋅ℯ ⎠"
      ]
     },
     "execution_count": 201,
     "metadata": {},
     "output_type": "execute_result"
    }
   ],
   "source": [
    "sym.integrate(w, x)"
   ]
  },
  {
   "cell_type": "code",
   "execution_count": 202,
   "metadata": {},
   "outputs": [
    {
     "data": {
      "image/png": "[encoded data removed]",
      "text/latex": [
       "$\\displaystyle \\frac{x^{3}}{3} + x^{2} y + x y^{2}$"
      ],
      "text/plain": [
       " 3              \n",
       "x     2        2\n",
       "── + x ⋅y + x⋅y \n",
       "3               "
      ]
     },
     "execution_count": 202,
     "metadata": {},
     "output_type": "execute_result"
    }
   ],
   "source": [
    "sym.integrate((x + y)**2, x)"
   ]
  },
  {
   "cell_type": "code",
   "execution_count": 203,
   "metadata": {},
   "outputs": [
    {
     "data": {
      "image/png": "[encoded data removed]",
      "text/latex": [
       "$\\displaystyle \\frac{x^{3} y}{3} + \\frac{x^{2} y^{2}}{2} + \\frac{x y^{3}}{3}$"
      ],
      "text/plain": [
       " 3      2  2      3\n",
       "x ⋅y   x ⋅y    x⋅y \n",
       "──── + ───── + ────\n",
       " 3       2      3  "
      ]
     },
     "execution_count": 203,
     "metadata": {},
     "output_type": "execute_result"
    }
   ],
   "source": [
    "# By passing more than one symbol, or multiple tuples that contain symbols and their integration limits, \n",
    "# we can carry out multiple integrations:\n",
    "sym.integrate((x + y)**2, x, y)"
   ]
  },
  {
   "cell_type": "code",
   "execution_count": 204,
   "metadata": {},
   "outputs": [
    {
     "data": {
      "image/png": "[encoded data removed]",
      "text/latex": [
       "$\\displaystyle \\frac{7}{6}$"
      ],
      "text/plain": [
       "7/6"
      ]
     },
     "execution_count": 204,
     "metadata": {},
     "output_type": "execute_result"
    }
   ],
   "source": [
    "sym.integrate((x + y)**2, (x, 0, 1), (y, 0, 1))"
   ]
  },
  {
   "cell_type": "code",
   "execution_count": null,
   "metadata": {},
   "outputs": [],
   "source": [
    "# Series"
   ]
  },
  {
   "cell_type": "code",
   "execution_count": 205,
   "metadata": {},
   "outputs": [],
   "source": [
    "x, y = sym.symbols(\"x, y\")"
   ]
  },
  {
   "cell_type": "code",
   "execution_count": 207,
   "metadata": {},
   "outputs": [],
   "source": [
    "f = sym.Function(\"f\")(x)"
   ]
  },
  {
   "cell_type": "code",
   "execution_count": 208,
   "metadata": {},
   "outputs": [
    {
     "data": {
      "text/latex": [
       "$\\displaystyle f{\\left(0 \\right)} + x \\left. \\frac{d}{d x} f{\\left(x \\right)} \\right|_{\\substack{ x=0 }} + \\frac{x^{2} \\left. \\frac{d^{2}}{d x^{2}} f{\\left(x \\right)} \\right|_{\\substack{ x=0 }}}{2} + \\frac{x^{3} \\left. \\frac{d^{3}}{d x^{3}} f{\\left(x \\right)} \\right|_{\\substack{ x=0 }}}{6} + \\frac{x^{4} \\left. \\frac{d^{4}}{d x^{4}} f{\\left(x \\right)} \\right|_{\\substack{ x=0 }}}{24} + \\frac{x^{5} \\left. \\frac{d^{5}}{d x^{5}} f{\\left(x \\right)} \\right|_{\\substack{ x=0 }}}{120} + O\\left(x^{6}\\right)$"
      ],
      "text/plain": [
       "                             ⎛  2      ⎞│         ⎛  3      ⎞│         ⎛  4   \n",
       "                           2 ⎜ d       ⎟│       3 ⎜ d       ⎟│       4 ⎜ d    \n",
       "                          x ⋅⎜───(f(x))⎟│      x ⋅⎜───(f(x))⎟│      x ⋅⎜───(f(\n",
       "                             ⎜  2      ⎟│         ⎜  3      ⎟│         ⎜  4   \n",
       "         ⎛d       ⎞│         ⎝dx       ⎠│x=0      ⎝dx       ⎠│x=0      ⎝dx    \n",
       "f(0) + x⋅⎜──(f(x))⎟│    + ────────────────── + ────────────────── + ──────────\n",
       "         ⎝dx      ⎠│x=0           2                    6                    24\n",
       "\n",
       "   ⎞│         ⎛  5      ⎞│           \n",
       "   ⎟│       5 ⎜ d       ⎟│           \n",
       "x))⎟│      x ⋅⎜───(f(x))⎟│           \n",
       "   ⎟│         ⎜  5      ⎟│           \n",
       "   ⎠│x=0      ⎝dx       ⎠│x=0    ⎛ 6⎞\n",
       "──────── + ────────────────── + O⎝x ⎠\n",
       "                  120                "
      ]
     },
     "execution_count": 208,
     "metadata": {},
     "output_type": "execute_result"
    }
   ],
   "source": [
    "# the errors due to the truncated terms are represented by the order object O()\n",
    "# by default around x0=0\n",
    "sym.series(f, x)"
   ]
  },
  {
   "cell_type": "code",
   "execution_count": 209,
   "metadata": {},
   "outputs": [
    {
     "data": {
      "text/latex": [
       "$\\displaystyle f{\\left(0 \\right)} + x \\left. \\frac{d}{d x} f{\\left(x \\right)} \\right|_{\\substack{ x=0 }} + O\\left(x^{2}\\right)$"
      ],
      "text/plain": [
       "         ⎛d       ⎞│       ⎛ 2⎞\n",
       "f(0) + x⋅⎜──(f(x))⎟│    + O⎝x ⎠\n",
       "         ⎝dx      ⎠│x=0        "
      ]
     },
     "execution_count": 209,
     "metadata": {},
     "output_type": "execute_result"
    }
   ],
   "source": [
    "# specifying the order of the expansion (using the n keyword argument, with default n=6)\n",
    "f.series(x, n=2)"
   ]
  },
  {
   "cell_type": "code",
   "execution_count": 210,
   "metadata": {},
   "outputs": [],
   "source": [
    "x0 = sym.Symbol(\"{x_0}\")"
   ]
  },
  {
   "cell_type": "code",
   "execution_count": 211,
   "metadata": {},
   "outputs": [
    {
     "data": {
      "text/latex": [
       "$\\displaystyle f{\\left({x_0} \\right)} + \\left(x - {x_0}\\right) \\left. \\frac{d}{d \\xi_{1}} f{\\left(\\xi_{1} \\right)} \\right|_{\\substack{ \\xi_{1}={x_0} }} + O\\left(\\left(x - {x_0}\\right)^{2}; x\\rightarrow {x_0}\\right)$"
      ],
      "text/plain": [
       "                       ⎛ d        ⎞│            ⎛           2           ⎞\n",
       "f({x_0}) + (x - {x_0})⋅⎜───(f(ξ₁))⎟│         + O⎝(x - {x_0}) ; x → {x_0}⎠\n",
       "                       ⎝dξ₁       ⎠│ξ₁={x_0}                             "
      ]
     },
     "execution_count": 211,
     "metadata": {},
     "output_type": "execute_result"
    }
   ],
   "source": [
    "# request a series expansion with only terms up to and including the second order.\n",
    "f.series(x, x0, n=2)"
   ]
  },
  {
   "cell_type": "code",
   "execution_count": 212,
   "metadata": {},
   "outputs": [
    {
     "data": {
      "text/latex": [
       "$\\displaystyle \\left(x - {x_0}\\right) \\left. \\frac{d}{d \\xi_{1}} f{\\left(\\xi_{1} \\right)} \\right|_{\\substack{ \\xi_{1}={x_0} }} + f{\\left({x_0} \\right)}$"
      ],
      "text/plain": [
       "            ⎛ d        ⎞│                   \n",
       "(x - {x_0})⋅⎜───(f(ξ₁))⎟│         + f({x_0})\n",
       "            ⎝dξ₁       ⎠│ξ₁={x_0}           "
      ]
     },
     "execution_count": 212,
     "metadata": {},
     "output_type": "execute_result"
    }
   ],
   "source": [
    "# for numerical evolution, it is necessary to remove the order term from the expression\n",
    "f.series(x, x0, n=2).removeO()"
   ]
  },
  {
   "cell_type": "code",
   "execution_count": 213,
   "metadata": {},
   "outputs": [
    {
     "data": {
      "image/png": "[encoded data removed]",
      "text/latex": [
       "$\\displaystyle 1 - \\frac{x^{2}}{2} + \\frac{x^{4}}{24} + O\\left(x^{6}\\right)$"
      ],
      "text/plain": [
       "     2    4        \n",
       "    x    x     ⎛ 6⎞\n",
       "1 - ── + ── + O⎝x ⎠\n",
       "    2    24        "
      ]
     },
     "execution_count": 213,
     "metadata": {},
     "output_type": "execute_result"
    }
   ],
   "source": [
    "sym.cos(x).series()"
   ]
  },
  {
   "cell_type": "code",
   "execution_count": 214,
   "metadata": {},
   "outputs": [
    {
     "data": {
      "image/png": "[encoded data removed]",
      "text/latex": [
       "$\\displaystyle x - \\frac{x^{3}}{6} + \\frac{x^{5}}{120} + O\\left(x^{6}\\right)$"
      ],
      "text/plain": [
       "     3     5        \n",
       "    x     x     ⎛ 6⎞\n",
       "x - ── + ─── + O⎝x ⎠\n",
       "    6    120        "
      ]
     },
     "execution_count": 214,
     "metadata": {},
     "output_type": "execute_result"
    }
   ],
   "source": [
    "sym.sin(x).series()"
   ]
  },
  {
   "cell_type": "code",
   "execution_count": 215,
   "metadata": {},
   "outputs": [
    {
     "data": {
      "image/png": "[encoded data removed]",
      "text/latex": [
       "$\\displaystyle 1 + x + \\frac{x^{2}}{2} + \\frac{x^{3}}{6} + \\frac{x^{4}}{24} + \\frac{x^{5}}{120} + O\\left(x^{6}\\right)$"
      ],
      "text/plain": [
       "         2    3    4     5        \n",
       "        x    x    x     x     ⎛ 6⎞\n",
       "1 + x + ── + ── + ── + ─── + O⎝x ⎠\n",
       "        2    6    24   120        "
      ]
     },
     "execution_count": 215,
     "metadata": {},
     "output_type": "execute_result"
    }
   ],
   "source": [
    "sym.exp(x).series()"
   ]
  },
  {
   "cell_type": "code",
   "execution_count": 216,
   "metadata": {},
   "outputs": [
    {
     "data": {
      "image/png": "[encoded data removed]",
      "text/latex": [
       "$\\displaystyle 1 - x + x^{2} - x^{3} + x^{4} - x^{5} + O\\left(x^{6}\\right)$"
      ],
      "text/plain": [
       "         2    3    4    5    ⎛ 6⎞\n",
       "1 - x + x  - x  + x  - x  + O⎝x ⎠"
      ]
     },
     "execution_count": 216,
     "metadata": {},
     "output_type": "execute_result"
    }
   ],
   "source": [
    "(1/(1+x)).series()"
   ]
  },
  {
   "cell_type": "code",
   "execution_count": 218,
   "metadata": {},
   "outputs": [],
   "source": [
    "s = sym.cos(x) / (1 + sym.sin(x * y))"
   ]
  },
  {
   "cell_type": "code",
   "execution_count": 219,
   "metadata": {},
   "outputs": [
    {
     "data": {
      "image/png": "[encoded data removed]",
      "text/latex": [
       "$\\displaystyle 1 - x y + x^{2} \\left(y^{2} - \\frac{1}{2}\\right) + x^{3} \\left(- \\frac{5 y^{3}}{6} + \\frac{y}{2}\\right) + O\\left(x^{4}\\right)$"
      ],
      "text/plain": [
       "                           ⎛     3    ⎞        \n",
       "           2 ⎛ 2   1⎞    3 ⎜  5⋅y    y⎟    ⎛ 4⎞\n",
       "1 - x⋅y + x ⋅⎜y  - ─⎟ + x ⋅⎜- ──── + ─⎟ + O⎝x ⎠\n",
       "             ⎝     2⎠      ⎝   6     2⎠        "
      ]
     },
     "execution_count": 219,
     "metadata": {},
     "output_type": "execute_result"
    }
   ],
   "source": [
    "s.series(x, n=4)"
   ]
  },
  {
   "cell_type": "code",
   "execution_count": 220,
   "metadata": {},
   "outputs": [
    {
     "data": {
      "image/png": "[encoded data removed]",
      "text/latex": [
       "$\\displaystyle \\cos{\\left(x \\right)} - x y \\cos{\\left(x \\right)} + x^{2} y^{2} \\cos{\\left(x \\right)} - \\frac{5 x^{3} y^{3} \\cos{\\left(x \\right)}}{6} + O\\left(y^{4}\\right)$"
      ],
      "text/plain": [
       "                                        3  3               \n",
       "                       2  2          5⋅x ⋅y ⋅cos(x)    ⎛ 4⎞\n",
       "cos(x) - x⋅y⋅cos(x) + x ⋅y ⋅cos(x) - ────────────── + O⎝y ⎠\n",
       "                                           6               "
      ]
     },
     "execution_count": 220,
     "metadata": {},
     "output_type": "execute_result"
    }
   ],
   "source": [
    "s.series(y, n=4)"
   ]
  },
  {
   "cell_type": "code",
   "execution_count": null,
   "metadata": {},
   "outputs": [],
   "source": [
    "# Limits"
   ]
  },
  {
   "cell_type": "code",
   "execution_count": 221,
   "metadata": {},
   "outputs": [
    {
     "data": {
      "image/png": "[encoded data removed]",
      "text/latex": [
       "$\\displaystyle 1$"
      ],
      "text/plain": [
       "1"
      ]
     },
     "execution_count": 221,
     "metadata": {},
     "output_type": "execute_result"
    }
   ],
   "source": [
    "sym.limit(sym.sin(x) / x, x, 0)"
   ]
  },
  {
   "cell_type": "code",
   "execution_count": 223,
   "metadata": {},
   "outputs": [],
   "source": [
    "f = sym.Function('f')\n",
    "x, h = sym.symbols(\"x, h\")"
   ]
  },
  {
   "cell_type": "code",
   "execution_count": 224,
   "metadata": {},
   "outputs": [],
   "source": [
    "diff_limit = (f(x + h) - f(x))/h"
   ]
  },
  {
   "cell_type": "code",
   "execution_count": 225,
   "metadata": {},
   "outputs": [
    {
     "data": {
      "image/png": "[encoded data removed]",
      "text/latex": [
       "$\\displaystyle - \\sin{\\left(x \\right)}$"
      ],
      "text/plain": [
       "-sin(x)"
      ]
     },
     "execution_count": 225,
     "metadata": {},
     "output_type": "execute_result"
    }
   ],
   "source": [
    "sym.limit(diff_limit.subs(f, sym.cos), h, 0)"
   ]
  },
  {
   "cell_type": "code",
   "execution_count": 226,
   "metadata": {},
   "outputs": [
    {
     "data": {
      "image/png": "[encoded data removed]",
      "text/latex": [
       "$\\displaystyle \\cos{\\left(x \\right)}$"
      ],
      "text/plain": [
       "cos(x)"
      ]
     },
     "execution_count": 226,
     "metadata": {},
     "output_type": "execute_result"
    }
   ],
   "source": [
    "sym.limit(diff_limit.subs(f, sym.sin), h, 0)"
   ]
  },
  {
   "cell_type": "code",
   "execution_count": 227,
   "metadata": {},
   "outputs": [],
   "source": [
    "w = (x**2 - 3*x) / (2*x - 2)"
   ]
  },
  {
   "cell_type": "code",
   "execution_count": 228,
   "metadata": {},
   "outputs": [],
   "source": [
    "p = sym.limit(w/x, x, inf)"
   ]
  },
  {
   "cell_type": "code",
   "execution_count": 229,
   "metadata": {},
   "outputs": [],
   "source": [
    "q = sym.limit(w - p*x, x, inf)"
   ]
  },
  {
   "cell_type": "code",
   "execution_count": 230,
   "metadata": {},
   "outputs": [
    {
     "data": {
      "image/png": "[encoded data removed]",
      "text/latex": [
       "$\\displaystyle \\left( \\frac{1}{2}, \\  -1\\right)$"
      ],
      "text/plain": [
       "(1/2, -1)"
      ]
     },
     "execution_count": 230,
     "metadata": {},
     "output_type": "execute_result"
    }
   ],
   "source": [
    "(p, q)"
   ]
  },
  {
   "cell_type": "code",
   "execution_count": null,
   "metadata": {},
   "outputs": [],
   "source": [
    "# Thus, the asymptotic behavior of f(x) as x becomes large is the linear function f(x) → x/2 − 1."
   ]
  },
  {
   "cell_type": "code",
   "execution_count": null,
   "metadata": {},
   "outputs": [],
   "source": [
    "# Sums and Products"
   ]
  },
  {
   "cell_type": "code",
   "execution_count": 232,
   "metadata": {},
   "outputs": [],
   "source": [
    "n = sym.symbols(\"n\", integer=True)"
   ]
  },
  {
   "cell_type": "code",
   "execution_count": 241,
   "metadata": {},
   "outputs": [
    {
     "data": {
      "image/png": "[encoded data removed]",
      "text/latex": [
       "$\\displaystyle \\sum_{n=1}^{\\infty} \\frac{1}{n}$"
      ],
      "text/plain": [
       "  ∞    \n",
       " ____  \n",
       " ╲     \n",
       "  ╲   1\n",
       "   ╲  ─\n",
       "   ╱  n\n",
       "  ╱    \n",
       " ╱     \n",
       " ‾‾‾‾  \n",
       "n = 1  "
      ]
     },
     "execution_count": 241,
     "metadata": {},
     "output_type": "execute_result"
    }
   ],
   "source": [
    "x = sym.Sum(1/n, (n, 1, inf))\n",
    "x"
   ]
  },
  {
   "cell_type": "code",
   "execution_count": 242,
   "metadata": {},
   "outputs": [
    {
     "data": {
      "image/png": "[encoded data removed]",
      "text/latex": [
       "$\\displaystyle \\infty$"
      ],
      "text/plain": [
       "∞"
      ]
     },
     "execution_count": 242,
     "metadata": {},
     "output_type": "execute_result"
    }
   ],
   "source": [
    "sym.Sum(1/n, (n, 1, inf)).doit()"
   ]
  },
  {
   "cell_type": "code",
   "execution_count": 235,
   "metadata": {},
   "outputs": [
    {
     "data": {
      "image/png": "[encoded data removed]",
      "text/latex": [
       "$\\displaystyle \\sum_{n=1}^{\\infty} \\frac{1}{n^{2}}$"
      ],
      "text/plain": [
       "  ∞     \n",
       " ____   \n",
       " ╲      \n",
       "  ╲   1 \n",
       "   ╲  ──\n",
       "   ╱   2\n",
       "  ╱   n \n",
       " ╱      \n",
       " ‾‾‾‾   \n",
       "n = 1   "
      ]
     },
     "execution_count": 235,
     "metadata": {},
     "output_type": "execute_result"
    }
   ],
   "source": [
    "x = sym.Sum(1/(n**2), (n, 1, inf))\n",
    "x"
   ]
  },
  {
   "cell_type": "code",
   "execution_count": 237,
   "metadata": {
    "scrolled": true
   },
   "outputs": [
    {
     "data": {
      "image/png": "[encoded data removed]",
      "text/latex": [
       "$\\displaystyle \\frac{\\pi^{2}}{6}$"
      ],
      "text/plain": [
       " 2\n",
       "π \n",
       "──\n",
       "6 "
      ]
     },
     "execution_count": 237,
     "metadata": {},
     "output_type": "execute_result"
    }
   ],
   "source": [
    "sym.Sum(1/(n**2), (n, 1, inf)).doit()"
   ]
  },
  {
   "cell_type": "code",
   "execution_count": 243,
   "metadata": {},
   "outputs": [
    {
     "name": "stdout",
     "output_type": "stream",
     "text": [
      "Sum(n**(-2), (n, 1, oo)) = pi**2/6\n"
     ]
    }
   ],
   "source": [
    "# print(sym.Sum(1/(n**2), (n, 1, inf)), \"=\", sym.Sum(1/(n**2), (n, 1, inf)).doit())"
   ]
  },
  {
   "cell_type": "code",
   "execution_count": null,
   "metadata": {},
   "outputs": [],
   "source": []
  },
  {
   "cell_type": "code",
   "execution_count": 239,
   "metadata": {},
   "outputs": [
    {
     "data": {
      "image/png": "[encoded data removed]",
      "text/latex": [
       "$\\displaystyle \\prod_{n=1}^{7} n$"
      ],
      "text/plain": [
       "  7    \n",
       "─┬─┬─  \n",
       " │ │  n\n",
       " │ │   \n",
       "n = 1  "
      ]
     },
     "execution_count": 239,
     "metadata": {},
     "output_type": "execute_result"
    }
   ],
   "source": [
    "x = sym.Product(n, (n, 1, 7))\n",
    "x"
   ]
  },
  {
   "cell_type": "code",
   "execution_count": 240,
   "metadata": {},
   "outputs": [
    {
     "data": {
      "image/png": "[encoded data removed]",
      "text/latex": [
       "$\\displaystyle 5040$"
      ],
      "text/plain": [
       "5040"
      ]
     },
     "execution_count": 240,
     "metadata": {},
     "output_type": "execute_result"
    }
   ],
   "source": [
    "sym.Product(n, (n, 1, 7)).doit()"
   ]
  },
  {
   "cell_type": "code",
   "execution_count": 248,
   "metadata": {},
   "outputs": [],
   "source": [
    "x = sym.Symbol(\"x\")\n",
    "n = sym.symbols(\"n\", integer=True)"
   ]
  },
  {
   "cell_type": "code",
   "execution_count": 249,
   "metadata": {},
   "outputs": [
    {
     "data": {
      "image/png": "[encoded data removed]",
      "text/latex": [
       "$\\displaystyle \\sum_{n=0}^{\\infty} \\frac{x^{n}}{n!}$"
      ],
      "text/plain": [
       "  ∞     \n",
       " ____   \n",
       " ╲      \n",
       "  ╲    n\n",
       "   ╲  x \n",
       "   ╱  ──\n",
       "  ╱   n!\n",
       " ╱      \n",
       " ‾‾‾‾   \n",
       "n = 0   "
      ]
     },
     "execution_count": 249,
     "metadata": {},
     "output_type": "execute_result"
    }
   ],
   "source": [
    "sym.Sum(x**n/sym.factorial(n), (n, 0, inf))"
   ]
  },
  {
   "cell_type": "code",
   "execution_count": 250,
   "metadata": {},
   "outputs": [
    {
     "data": {
      "image/png": "[encoded data removed]",
      "text/latex": [
       "$\\displaystyle e^{x}$"
      ],
      "text/plain": [
       " x\n",
       "ℯ "
      ]
     },
     "execution_count": 250,
     "metadata": {},
     "output_type": "execute_result"
    }
   ],
   "source": [
    "sym.Sum(x**n/sym.factorial(n), (n, 0, inf)).doit()"
   ]
  },
  {
   "cell_type": "code",
   "execution_count": null,
   "metadata": {},
   "outputs": [],
   "source": [
    "# Equations\n",
    "# If an equation, or a system of equations, can be solved analytically, \n",
    "# there is a good chance that SymPy is able to find the solution\n",
    "# otherwise numerical methods might be the only option."
   ]
  },
  {
   "cell_type": "code",
   "execution_count": null,
   "metadata": {},
   "outputs": [],
   "source": [
    "x = sympy.Symbol(\"x\")"
   ]
  },
  {
   "cell_type": "code",
   "execution_count": 252,
   "metadata": {},
   "outputs": [
    {
     "data": {
      "image/png": "[encoded data removed]",
      "text/latex": [
       "$\\displaystyle \\left[ -3, \\  1\\right]$"
      ],
      "text/plain": [
       "[-3, 1]"
      ]
     },
     "execution_count": 252,
     "metadata": {},
     "output_type": "execute_result"
    }
   ],
   "source": [
    "sym.solve(x**2 + 2*x - 3)"
   ]
  },
  {
   "cell_type": "code",
   "execution_count": 254,
   "metadata": {},
   "outputs": [],
   "source": [
    "a, b, c = sym.symbols(\"a, b, c\")"
   ]
  },
  {
   "cell_type": "code",
   "execution_count": 255,
   "metadata": {},
   "outputs": [
    {
     "data": {
      "image/png": "[encoded data removed]",
      "text/latex": [
       "$\\displaystyle \\left[ \\frac{- b + \\sqrt{- 4 a c + b^{2}}}{2 a}, \\  - \\frac{b + \\sqrt{- 4 a c + b^{2}}}{2 a}\\right]$"
      ],
      "text/plain": [
       "⎡        _____________   ⎛       _____________⎞ ⎤\n",
       "⎢       ╱           2    ⎜      ╱           2 ⎟ ⎥\n",
       "⎢-b + ╲╱  -4⋅a⋅c + b    -⎝b + ╲╱  -4⋅a⋅c + b  ⎠ ⎥\n",
       "⎢─────────────────────, ────────────────────────⎥\n",
       "⎣         2⋅a                     2⋅a           ⎦"
      ]
     },
     "execution_count": 255,
     "metadata": {},
     "output_type": "execute_result"
    }
   ],
   "source": [
    "sym.solve(a * x**2 + b * x + c, x)"
   ]
  },
  {
   "cell_type": "code",
   "execution_count": 257,
   "metadata": {},
   "outputs": [
    {
     "data": {
      "image/png": "[encoded data removed]",
      "text/latex": [
       "$\\displaystyle \\left[ - \\frac{3 \\pi}{4}, \\  \\frac{\\pi}{4}\\right]$"
      ],
      "text/plain": [
       "⎡-3⋅π   π⎤\n",
       "⎢─────, ─⎥\n",
       "⎣  4    4⎦"
      ]
     },
     "execution_count": 257,
     "metadata": {},
     "output_type": "execute_result"
    }
   ],
   "source": [
    "sym.solve(sym.sin(x) - sym.cos(x), x)"
   ]
  },
  {
   "cell_type": "code",
   "execution_count": 258,
   "metadata": {},
   "outputs": [
    {
     "data": {
      "image/png": "[encoded data removed]",
      "text/latex": [
       "$\\displaystyle \\left[ - \\operatorname{LambertW}{\\left(\\frac{1}{2} \\right)}\\right]$"
      ],
      "text/plain": [
       "[-LambertW(1/2)]"
      ]
     },
     "execution_count": 258,
     "metadata": {},
     "output_type": "execute_result"
    }
   ],
   "source": [
    "sym.solve(sym.exp(x) + 2 * x, x)"
   ]
  },
  {
   "cell_type": "code",
   "execution_count": 259,
   "metadata": {},
   "outputs": [
    {
     "data": {
      "image/png": "[encoded data removed]",
      "text/latex": [
       "$\\displaystyle \\left[ \\operatorname{CRootOf} {\\left(x^{5} - x^{2} + 1, 0\\right)}, \\  \\operatorname{CRootOf} {\\left(x^{5} - x^{2} + 1, 1\\right)}, \\  \\operatorname{CRootOf} {\\left(x^{5} - x^{2} + 1, 2\\right)}, \\  \\operatorname{CRootOf} {\\left(x^{5} - x^{2} + 1, 3\\right)}, \\  \\operatorname{CRootOf} {\\left(x^{5} - x^{2} + 1, 4\\right)}\\right]$"
      ],
      "text/plain": [
       "⎡       ⎛ 5    2       ⎞         ⎛ 5    2       ⎞         ⎛ 5    2       ⎞    \n",
       "⎣CRootOf⎝x  - x  + 1, 0⎠, CRootOf⎝x  - x  + 1, 1⎠, CRootOf⎝x  - x  + 1, 2⎠, CR\n",
       "\n",
       "     ⎛ 5    2       ⎞         ⎛ 5    2       ⎞⎤\n",
       "ootOf⎝x  - x  + 1, 3⎠, CRootOf⎝x  - x  + 1, 4⎠⎦"
      ]
     },
     "execution_count": 259,
     "metadata": {},
     "output_type": "execute_result"
    }
   ],
   "source": [
    "# equation is not solvable algebraically or SymPy is unable to solve\n",
    "sym.solve(x**5 - x**2 + 1, x)"
   ]
  },
  {
   "cell_type": "code",
   "execution_count": 260,
   "metadata": {},
   "outputs": [
    {
     "ename": "NotImplementedError",
     "evalue": "multiple generators [x, tan(x)]\nNo algorithms are implemented to solve equation x + tan(x)",
     "output_type": "error",
     "traceback": [
      "\u001b[1;31m---------------------------------------------------------------------------\u001b[0m",
      "\u001b[1;31mNotImplementedError\u001b[0m                       Traceback (most recent call last)",
      "\u001b[1;32m<ipython-input-260-5f815a7418d5>\u001b[0m in \u001b[0;36m<module>\u001b[1;34m\u001b[0m\n\u001b[0;32m      1\u001b[0m \u001b[1;31m# raise an error if no method is available for that particular type of equation\u001b[0m\u001b[1;33m\u001b[0m\u001b[1;33m\u001b[0m\u001b[1;33m\u001b[0m\u001b[0m\n\u001b[1;32m----> 2\u001b[1;33m \u001b[0msym\u001b[0m\u001b[1;33m.\u001b[0m\u001b[0msolve\u001b[0m\u001b[1;33m(\u001b[0m\u001b[0msym\u001b[0m\u001b[1;33m.\u001b[0m\u001b[0mtan\u001b[0m\u001b[1;33m(\u001b[0m\u001b[0mx\u001b[0m\u001b[1;33m)\u001b[0m \u001b[1;33m+\u001b[0m \u001b[0mx\u001b[0m\u001b[1;33m,\u001b[0m \u001b[0mx\u001b[0m\u001b[1;33m)\u001b[0m\u001b[1;33m\u001b[0m\u001b[1;33m\u001b[0m\u001b[0m\n\u001b[0m",
      "\u001b[1;32mC:\\ProgramData\\Anaconda3\\lib\\site-packages\\sympy\\solvers\\solvers.py\u001b[0m in \u001b[0;36msolve\u001b[1;34m(f, *symbols, **flags)\u001b[0m\n\u001b[0;32m   1169\u001b[0m     \u001b[1;31m###########################################################################\u001b[0m\u001b[1;33m\u001b[0m\u001b[1;33m\u001b[0m\u001b[1;33m\u001b[0m\u001b[0m\n\u001b[0;32m   1170\u001b[0m     \u001b[1;32mif\u001b[0m \u001b[0mbare_f\u001b[0m\u001b[1;33m:\u001b[0m\u001b[1;33m\u001b[0m\u001b[1;33m\u001b[0m\u001b[0m\n\u001b[1;32m-> 1171\u001b[1;33m         \u001b[0msolution\u001b[0m \u001b[1;33m=\u001b[0m \u001b[0m_solve\u001b[0m\u001b[1;33m(\u001b[0m\u001b[0mf\u001b[0m\u001b[1;33m[\u001b[0m\u001b[1;36m0\u001b[0m\u001b[1;33m]\u001b[0m\u001b[1;33m,\u001b[0m \u001b[1;33m*\u001b[0m\u001b[0msymbols\u001b[0m\u001b[1;33m,\u001b[0m \u001b[1;33m**\u001b[0m\u001b[0mflags\u001b[0m\u001b[1;33m)\u001b[0m\u001b[1;33m\u001b[0m\u001b[1;33m\u001b[0m\u001b[0m\n\u001b[0m\u001b[0;32m   1172\u001b[0m     \u001b[1;32melse\u001b[0m\u001b[1;33m:\u001b[0m\u001b[1;33m\u001b[0m\u001b[1;33m\u001b[0m\u001b[0m\n\u001b[0;32m   1173\u001b[0m         \u001b[0msolution\u001b[0m \u001b[1;33m=\u001b[0m \u001b[0m_solve_system\u001b[0m\u001b[1;33m(\u001b[0m\u001b[0mf\u001b[0m\u001b[1;33m,\u001b[0m \u001b[0msymbols\u001b[0m\u001b[1;33m,\u001b[0m \u001b[1;33m**\u001b[0m\u001b[0mflags\u001b[0m\u001b[1;33m)\u001b[0m\u001b[1;33m\u001b[0m\u001b[1;33m\u001b[0m\u001b[0m\n",
      "\u001b[1;32mC:\\ProgramData\\Anaconda3\\lib\\site-packages\\sympy\\solvers\\solvers.py\u001b[0m in \u001b[0;36m_solve\u001b[1;34m(f, *symbols, **flags)\u001b[0m\n\u001b[0;32m   1740\u001b[0m \u001b[1;33m\u001b[0m\u001b[0m\n\u001b[0;32m   1741\u001b[0m     \u001b[1;32mif\u001b[0m \u001b[0mresult\u001b[0m \u001b[1;32mis\u001b[0m \u001b[1;32mFalse\u001b[0m\u001b[1;33m:\u001b[0m\u001b[1;33m\u001b[0m\u001b[1;33m\u001b[0m\u001b[0m\n\u001b[1;32m-> 1742\u001b[1;33m         \u001b[1;32mraise\u001b[0m \u001b[0mNotImplementedError\u001b[0m\u001b[1;33m(\u001b[0m\u001b[1;34m'\\n'\u001b[0m\u001b[1;33m.\u001b[0m\u001b[0mjoin\u001b[0m\u001b[1;33m(\u001b[0m\u001b[1;33m[\u001b[0m\u001b[0mmsg\u001b[0m\u001b[1;33m,\u001b[0m \u001b[0mnot_impl_msg\u001b[0m \u001b[1;33m%\u001b[0m \u001b[0mf\u001b[0m\u001b[1;33m]\u001b[0m\u001b[1;33m)\u001b[0m\u001b[1;33m)\u001b[0m\u001b[1;33m\u001b[0m\u001b[1;33m\u001b[0m\u001b[0m\n\u001b[0m\u001b[0;32m   1743\u001b[0m \u001b[1;33m\u001b[0m\u001b[0m\n\u001b[0;32m   1744\u001b[0m     \u001b[1;32mif\u001b[0m \u001b[0mflags\u001b[0m\u001b[1;33m.\u001b[0m\u001b[0mget\u001b[0m\u001b[1;33m(\u001b[0m\u001b[1;34m'simplify'\u001b[0m\u001b[1;33m,\u001b[0m \u001b[1;32mTrue\u001b[0m\u001b[1;33m)\u001b[0m\u001b[1;33m:\u001b[0m\u001b[1;33m\u001b[0m\u001b[1;33m\u001b[0m\u001b[0m\n",
      "\u001b[1;31mNotImplementedError\u001b[0m: multiple generators [x, tan(x)]\nNo algorithms are implemented to solve equation x + tan(x)"
     ]
    }
   ],
   "source": [
    "# raise an error if no method is available for that particular type of equation\n",
    "sym.solve(sym.tan(x) + x, x)"
   ]
  },
  {
   "cell_type": "code",
   "execution_count": 263,
   "metadata": {},
   "outputs": [],
   "source": [
    "eq1 = x + 2 * y - 1\n",
    "eq2 = x - y + 1"
   ]
  },
  {
   "cell_type": "code",
   "execution_count": 264,
   "metadata": {},
   "outputs": [
    {
     "data": {
      "image/png": "[encoded data removed]",
      "text/latex": [
       "$\\displaystyle \\left[ \\left\\{ x : - \\frac{1}{3}, \\  y : \\frac{2}{3}\\right\\}\\right]$"
      ],
      "text/plain": [
       "[{x: -1/3, y: 2/3}]"
      ]
     },
     "execution_count": 264,
     "metadata": {},
     "output_type": "execute_result"
    }
   ],
   "source": [
    "sym.solve([eq1, eq2], [x, y], dict=True)"
   ]
  },
  {
   "cell_type": "code",
   "execution_count": 265,
   "metadata": {},
   "outputs": [],
   "source": [
    "eq1 = x**2 - y\n",
    "eq2 = y**2 - x"
   ]
  },
  {
   "cell_type": "code",
   "execution_count": 266,
   "metadata": {},
   "outputs": [
    {
     "data": {
      "image/png": "[encoded data removed]",
      "text/latex": [
       "$\\displaystyle \\left[ \\left\\{ x : 0, \\  y : 0\\right\\}, \\  \\left\\{ x : 1, \\  y : 1\\right\\}, \\  \\left\\{ x : \\left(- \\frac{1}{2} - \\frac{\\sqrt{3} i}{2}\\right)^{2}, \\  y : - \\frac{1}{2} - \\frac{\\sqrt{3} i}{2}\\right\\}, \\  \\left\\{ x : \\left(- \\frac{1}{2} + \\frac{\\sqrt{3} i}{2}\\right)^{2}, \\  y : - \\frac{1}{2} + \\frac{\\sqrt{3} i}{2}\\right\\}\\right]$"
      ],
      "text/plain": [
       "⎡                            ⎧               2               ⎫  ⎧             \n",
       "⎢                            ⎪   ⎛  1   √3⋅ⅈ⎞        1   √3⋅ⅈ⎪  ⎪   ⎛  1   √3⋅\n",
       "⎢{x: 0, y: 0}, {x: 1, y: 1}, ⎨x: ⎜- ─ - ────⎟ , y: - ─ - ────⎬, ⎨x: ⎜- ─ + ───\n",
       "⎢                            ⎪   ⎝  2    2  ⎠        2    2  ⎪  ⎪   ⎝  2    2 \n",
       "⎣                            ⎩                               ⎭  ⎩             \n",
       "\n",
       "  2               ⎫⎤\n",
       "ⅈ⎞        1   √3⋅ⅈ⎪⎥\n",
       "─⎟ , y: - ─ + ────⎬⎥\n",
       " ⎠        2    2  ⎪⎥\n",
       "                  ⎭⎦"
      ]
     },
     "execution_count": 266,
     "metadata": {},
     "output_type": "execute_result"
    }
   ],
   "source": [
    "# request that each solution is returned in dictionary format,\n",
    "# which maps the symbols that have been solved for to their values\n",
    "sym.solve([eq1, eq2], [x, y], dict=True)"
   ]
  },
  {
   "cell_type": "code",
   "execution_count": 268,
   "metadata": {},
   "outputs": [
    {
     "data": {
      "text/plain": [
       "[True, True, True, True]"
      ]
     },
     "execution_count": 268,
     "metadata": {},
     "output_type": "execute_result"
    }
   ],
   "source": [
    "# This dictionary can conveniently be used in, for example, calls to subs, \n",
    "# as in the following code that checks that each solution indeed satisfies the two equations:\n",
    "sols = sym.solve([eq1, eq2], [x, y], dict=True)\n",
    "[eq1.subs(sol).simplify() == 0 and eq2.subs(sol).simplify() == 0 for sol in sols]"
   ]
  },
  {
   "cell_type": "code",
   "execution_count": null,
   "metadata": {},
   "outputs": [],
   "source": [
    "# Linear Algebra\n",
    "\n",
    "# Linear algebra is another fundamental branch of mathematics \n",
    "# with important applications throughout scientific and technical computing.\n",
    "\n",
    "# It concerns vectors, vector spaces, and linear mappings between vector spaces, \n",
    "# which can be represented as matrices."
   ]
  },
  {
   "cell_type": "code",
   "execution_count": 269,
   "metadata": {},
   "outputs": [
    {
     "data": {
      "text/latex": [
       "$\\displaystyle \\left[\\begin{matrix}1\\\\2\\end{matrix}\\right]$"
      ],
      "text/plain": [
       "⎡1⎤\n",
       "⎢ ⎥\n",
       "⎣2⎦"
      ]
     },
     "execution_count": 269,
     "metadata": {},
     "output_type": "execute_result"
    }
   ],
   "source": [
    "sym.Matrix([1, 2])"
   ]
  },
  {
   "cell_type": "code",
   "execution_count": 270,
   "metadata": {},
   "outputs": [
    {
     "data": {
      "text/latex": [
       "$\\displaystyle \\left[\\begin{matrix}1 & 2\\end{matrix}\\right]$"
      ],
      "text/plain": [
       "[1  2]"
      ]
     },
     "execution_count": 270,
     "metadata": {},
     "output_type": "execute_result"
    }
   ],
   "source": [
    "sym.Matrix([[1, 2]])"
   ]
  },
  {
   "cell_type": "code",
   "execution_count": 271,
   "metadata": {},
   "outputs": [
    {
     "data": {
      "text/latex": [
       "$\\displaystyle \\left[\\begin{matrix}1 & 2\\\\3 & 4\\end{matrix}\\right]$"
      ],
      "text/plain": [
       "⎡1  2⎤\n",
       "⎢    ⎥\n",
       "⎣3  4⎦"
      ]
     },
     "execution_count": 271,
     "metadata": {},
     "output_type": "execute_result"
    }
   ],
   "source": [
    "sym.Matrix([[1, 2], [3, 4]])"
   ]
  },
  {
   "cell_type": "code",
   "execution_count": null,
   "metadata": {},
   "outputs": [],
   "source": [
    "# unlike the multidimensional arrays in NumPy, the sympy.Matrix object in SymPy is only for up to two-dimensional arrays,\n",
    "# i.e., vectors and matrices"
   ]
  },
  {
   "cell_type": "code",
   "execution_count": 272,
   "metadata": {},
   "outputs": [
    {
     "data": {
      "text/latex": [
       "$\\displaystyle \\left[\\begin{matrix}0 & 1 & 2 & 3\\\\10 & 11 & 12 & 13\\\\20 & 21 & 22 & 23\\end{matrix}\\right]$"
      ],
      "text/plain": [
       "⎡0   1   2   3 ⎤\n",
       "⎢              ⎥\n",
       "⎢10  11  12  13⎥\n",
       "⎢              ⎥\n",
       "⎣20  21  22  23⎦"
      ]
     },
     "execution_count": 272,
     "metadata": {},
     "output_type": "execute_result"
    }
   ],
   "source": [
    "sym.Matrix(3, 4, lambda m, n: 10 * m + n)"
   ]
  },
  {
   "cell_type": "code",
   "execution_count": 275,
   "metadata": {},
   "outputs": [],
   "source": [
    "a, b, c, d = sym.symbols(\"a, b, c, d\")\n",
    "M = sym.Matrix([[a, b], [c, d]])"
   ]
  },
  {
   "cell_type": "code",
   "execution_count": 279,
   "metadata": {},
   "outputs": [],
   "source": [
    "expM = sym.exp(M)"
   ]
  },
  {
   "cell_type": "code",
   "execution_count": null,
   "metadata": {},
   "outputs": [],
   "source": []
  },
  {
   "cell_type": "code",
   "execution_count": 280,
   "metadata": {},
   "outputs": [
    {
     "data": {
      "image/png": "[encoded data removed]",
      "text/latex": [
       "$\\displaystyle \\frac{b e^{\\frac{a}{2} + \\frac{d}{2} - \\frac{\\sqrt{a^{2} - 2 a d + 4 b c + d^{2}}}{2}}}{\\left(\\frac{b}{\\frac{a}{2} - \\frac{d}{2} + \\frac{\\sqrt{a^{2} - 2 a d + 4 b c + d^{2}}}{2}} - \\frac{b}{\\frac{a}{2} - \\frac{d}{2} - \\frac{\\sqrt{a^{2} - 2 a d + 4 b c + d^{2}}}{2}}\\right) \\left(\\frac{a}{2} - \\frac{d}{2} + \\frac{\\sqrt{a^{2} - 2 a d + 4 b c + d^{2}}}{2}\\right)} - \\frac{b e^{\\frac{a}{2} + \\frac{d}{2} + \\frac{\\sqrt{a^{2} - 2 a d + 4 b c + d^{2}}}{2}}}{\\left(\\frac{b}{\\frac{a}{2} - \\frac{d}{2} + \\frac{\\sqrt{a^{2} - 2 a d + 4 b c + d^{2}}}{2}} - \\frac{b}{\\frac{a}{2} - \\frac{d}{2} - \\frac{\\sqrt{a^{2} - 2 a d + 4 b c + d^{2}}}{2}}\\right) \\left(\\frac{a}{2} - \\frac{d}{2} - \\frac{\\sqrt{a^{2} - 2 a d + 4 b c + d^{2}}}{2}\\right)}$"
      ],
      "text/plain": [
       "                                                    _________________________ \n",
       "                                                   ╱  2                    2  \n",
       "                                         a   d   ╲╱  a  - 2⋅a⋅d + 4⋅b⋅c + d   \n",
       "                                         ─ + ─ - ──────────────────────────── \n",
       "                                         2   2                2               \n",
       "                                      b⋅ℯ                                     \n",
       "──────────────────────────────────────────────────────────────────────────────\n",
       "                                                                              \n",
       "                                                                              \n",
       "⎛                 b                                      b                  ⎞ \n",
       "⎜──────────────────────────────────── - ────────────────────────────────────⎟⋅\n",
       "⎜           _________________________              _________________________⎟ \n",
       "⎜          ╱  2                    2              ╱  2                    2 ⎟ \n",
       "⎜a   d   ╲╱  a  - 2⋅a⋅d + 4⋅b⋅c + d     a   d   ╲╱  a  - 2⋅a⋅d + 4⋅b⋅c + d  ⎟ \n",
       "⎜─ - ─ + ────────────────────────────   ─ - ─ - ────────────────────────────⎟ \n",
       "⎝2   2                2                 2   2                2              ⎠ \n",
       "\n",
       "                                                                              \n",
       "                                                                              \n",
       "                                                                              \n",
       "                                                                              \n",
       "                                                                              \n",
       "                                                                              \n",
       "────────────────────────────────────── - ─────────────────────────────────────\n",
       "⎛           _________________________⎞                                        \n",
       "⎜          ╱  2                    2 ⎟                                        \n",
       "⎜a   d   ╲╱  a  - 2⋅a⋅d + 4⋅b⋅c + d  ⎟   ⎛                 b                  \n",
       "⎜─ - ─ + ────────────────────────────⎟   ⎜────────────────────────────────────\n",
       "⎝2   2                2              ⎠   ⎜           _________________________\n",
       "                                         ⎜          ╱  2                    2 \n",
       "                                         ⎜a   d   ╲╱  a  - 2⋅a⋅d + 4⋅b⋅c + d  \n",
       "                                         ⎜─ - ─ + ────────────────────────────\n",
       "                                         ⎝2   2                2              \n",
       "\n",
       "               _________________________                                      \n",
       "              ╱  2                    2                                       \n",
       "    a   d   ╲╱  a  - 2⋅a⋅d + 4⋅b⋅c + d                                        \n",
       "    ─ + ─ + ────────────────────────────                                      \n",
       "    2   2                2                                                    \n",
       " b⋅ℯ                                                                          \n",
       "──────────────────────────────────────────────────────────────────────────────\n",
       "                                         ⎛           _________________________\n",
       "                                         ⎜          ╱  2                    2 \n",
       "                    b                  ⎞ ⎜a   d   ╲╱  a  - 2⋅a⋅d + 4⋅b⋅c + d  \n",
       " - ────────────────────────────────────⎟⋅⎜─ - ─ - ────────────────────────────\n",
       "              _________________________⎟ ⎝2   2                2              \n",
       "             ╱  2                    2 ⎟                                      \n",
       "   a   d   ╲╱  a  - 2⋅a⋅d + 4⋅b⋅c + d  ⎟                                      \n",
       "   ─ - ─ - ────────────────────────────⎟                                      \n",
       "   2   2                2              ⎠                                      \n",
       "\n",
       " \n",
       " \n",
       " \n",
       " \n",
       " \n",
       " \n",
       "─\n",
       "⎞\n",
       "⎟\n",
       "⎟\n",
       "⎟\n",
       "⎠\n",
       " \n",
       " \n",
       " \n",
       " "
      ]
     },
     "execution_count": 280,
     "metadata": {},
     "output_type": "execute_result"
    }
   ],
   "source": [
    "expM[0,0]"
   ]
  },
  {
   "cell_type": "code",
   "execution_count": 281,
   "metadata": {},
   "outputs": [
    {
     "data": {
      "image/png": "[encoded data removed]",
      "text/latex": [
       "$\\displaystyle \\frac{b^{2} e^{\\frac{a}{2} + \\frac{d}{2} - \\frac{\\sqrt{a^{2} - 2 a d + 4 b c + d^{2}}}{2}}}{\\left(\\frac{b}{\\frac{a}{2} - \\frac{d}{2} + \\frac{\\sqrt{a^{2} - 2 a d + 4 b c + d^{2}}}{2}} - \\frac{b}{\\frac{a}{2} - \\frac{d}{2} - \\frac{\\sqrt{a^{2} - 2 a d + 4 b c + d^{2}}}{2}}\\right) \\left(\\frac{a}{2} - \\frac{d}{2} - \\frac{\\sqrt{a^{2} - 2 a d + 4 b c + d^{2}}}{2}\\right) \\left(\\frac{a}{2} - \\frac{d}{2} + \\frac{\\sqrt{a^{2} - 2 a d + 4 b c + d^{2}}}{2}\\right)} - \\frac{b^{2} e^{\\frac{a}{2} + \\frac{d}{2} + \\frac{\\sqrt{a^{2} - 2 a d + 4 b c + d^{2}}}{2}}}{\\left(\\frac{b}{\\frac{a}{2} - \\frac{d}{2} + \\frac{\\sqrt{a^{2} - 2 a d + 4 b c + d^{2}}}{2}} - \\frac{b}{\\frac{a}{2} - \\frac{d}{2} - \\frac{\\sqrt{a^{2} - 2 a d + 4 b c + d^{2}}}{2}}\\right) \\left(\\frac{a}{2} - \\frac{d}{2} - \\frac{\\sqrt{a^{2} - 2 a d + 4 b c + d^{2}}}{2}\\right) \\left(\\frac{a}{2} - \\frac{d}{2} + \\frac{\\sqrt{a^{2} - 2 a d + 4 b c + d^{2}}}{2}\\right)}$"
      ],
      "text/plain": [
       "                                                                         _____\n",
       "                                                                        ╱  2  \n",
       "                                                              a   d   ╲╱  a  -\n",
       "                                                              ─ + ─ - ────────\n",
       "                                                           2  2   2           \n",
       "                                                          b ⋅ℯ                \n",
       "──────────────────────────────────────────────────────────────────────────────\n",
       "                                                                              \n",
       "                                                                              \n",
       "⎛                 b                                      b                  ⎞ \n",
       "⎜──────────────────────────────────── - ────────────────────────────────────⎟⋅\n",
       "⎜           _________________________              _________________________⎟ \n",
       "⎜          ╱  2                    2              ╱  2                    2 ⎟ \n",
       "⎜a   d   ╲╱  a  - 2⋅a⋅d + 4⋅b⋅c + d     a   d   ╲╱  a  - 2⋅a⋅d + 4⋅b⋅c + d  ⎟ \n",
       "⎜─ - ─ + ────────────────────────────   ─ - ─ - ────────────────────────────⎟ \n",
       "⎝2   2                2                 2   2                2              ⎠ \n",
       "\n",
       "____________________                                                          \n",
       "                  2                                                           \n",
       " 2⋅a⋅d + 4⋅b⋅c + d                                                            \n",
       "────────────────────                                                          \n",
       "     2                                                                        \n",
       "                                                                              \n",
       "───────────────────────────────────────────────────────────────────────────── \n",
       "⎛           _________________________⎞ ⎛           _________________________⎞ \n",
       "⎜          ╱  2                    2 ⎟ ⎜          ╱  2                    2 ⎟ \n",
       "⎜a   d   ╲╱  a  - 2⋅a⋅d + 4⋅b⋅c + d  ⎟ ⎜a   d   ╲╱  a  - 2⋅a⋅d + 4⋅b⋅c + d  ⎟ \n",
       "⎜─ - ─ - ────────────────────────────⎟⋅⎜─ - ─ + ────────────────────────────⎟ \n",
       "⎝2   2                2              ⎠ ⎝2   2                2              ⎠ \n",
       "                                                                              \n",
       "                                                                              \n",
       "                                                                              \n",
       "                                                                              \n",
       "\n",
       "                                                                           ___\n",
       "                                                                          ╱  2\n",
       "                                                                a   d   ╲╱  a \n",
       "                                                                ─ + ─ + ──────\n",
       "                                                             2  2   2         \n",
       "                                                            b ⋅ℯ              \n",
       "- ────────────────────────────────────────────────────────────────────────────\n",
       "                                                                              \n",
       "                                                                              \n",
       "  ⎛                 b                                      b                  \n",
       "  ⎜──────────────────────────────────── - ────────────────────────────────────\n",
       "  ⎜           _________________________              _________________________\n",
       "  ⎜          ╱  2                    2              ╱  2                    2 \n",
       "  ⎜a   d   ╲╱  a  - 2⋅a⋅d + 4⋅b⋅c + d     a   d   ╲╱  a  - 2⋅a⋅d + 4⋅b⋅c + d  \n",
       "  ⎜─ - ─ + ────────────────────────────   ─ - ─ - ────────────────────────────\n",
       "  ⎝2   2                2                 2   2                2              \n",
       "\n",
       "______________________                                                        \n",
       "                    2                                                         \n",
       " - 2⋅a⋅d + 4⋅b⋅c + d                                                          \n",
       "──────────────────────                                                        \n",
       "       2                                                                      \n",
       "                                                                              \n",
       "──────────────────────────────────────────────────────────────────────────────\n",
       "  ⎛           _________________________⎞ ⎛           _________________________\n",
       "  ⎜          ╱  2                    2 ⎟ ⎜          ╱  2                    2 \n",
       "⎞ ⎜a   d   ╲╱  a  - 2⋅a⋅d + 4⋅b⋅c + d  ⎟ ⎜a   d   ╲╱  a  - 2⋅a⋅d + 4⋅b⋅c + d  \n",
       "⎟⋅⎜─ - ─ - ────────────────────────────⎟⋅⎜─ - ─ + ────────────────────────────\n",
       "⎟ ⎝2   2                2              ⎠ ⎝2   2                2              \n",
       "⎟                                                                             \n",
       "⎟                                                                             \n",
       "⎟                                                                             \n",
       "⎠                                                                             \n",
       "\n",
       " \n",
       " \n",
       " \n",
       " \n",
       " \n",
       " \n",
       "─\n",
       "⎞\n",
       "⎟\n",
       "⎟\n",
       "⎟\n",
       "⎠\n",
       " \n",
       " \n",
       " \n",
       " "
      ]
     },
     "execution_count": 281,
     "metadata": {},
     "output_type": "execute_result"
    }
   ],
   "source": [
    "expM[0,1]"
   ]
  },
  {
   "cell_type": "code",
   "execution_count": 282,
   "metadata": {},
   "outputs": [
    {
     "data": {
      "image/png": "[encoded data removed]",
      "text/latex": [
       "$\\displaystyle - \\frac{e^{\\frac{a}{2} + \\frac{d}{2} - \\frac{\\sqrt{a^{2} - 2 a d + 4 b c + d^{2}}}{2}}}{\\frac{b}{\\frac{a}{2} - \\frac{d}{2} + \\frac{\\sqrt{a^{2} - 2 a d + 4 b c + d^{2}}}{2}} - \\frac{b}{\\frac{a}{2} - \\frac{d}{2} - \\frac{\\sqrt{a^{2} - 2 a d + 4 b c + d^{2}}}{2}}} + \\frac{e^{\\frac{a}{2} + \\frac{d}{2} + \\frac{\\sqrt{a^{2} - 2 a d + 4 b c + d^{2}}}{2}}}{\\frac{b}{\\frac{a}{2} - \\frac{d}{2} + \\frac{\\sqrt{a^{2} - 2 a d + 4 b c + d^{2}}}{2}} - \\frac{b}{\\frac{a}{2} - \\frac{d}{2} - \\frac{\\sqrt{a^{2} - 2 a d + 4 b c + d^{2}}}{2}}}$"
      ],
      "text/plain": [
       "                                 _________________________                    \n",
       "                                ╱  2                    2                     \n",
       "                      a   d   ╲╱  a  - 2⋅a⋅d + 4⋅b⋅c + d                      \n",
       "                      ─ + ─ - ────────────────────────────                    \n",
       "                      2   2                2                                  \n",
       "                     ℯ                                                        \n",
       "- ─────────────────────────────────────────────────────────────────────────── \n",
       "                   b                                      b                   \n",
       "  ──────────────────────────────────── - ──────────────────────────────────── \n",
       "             _________________________              _________________________ \n",
       "            ╱  2                    2              ╱  2                    2  \n",
       "  a   d   ╲╱  a  - 2⋅a⋅d + 4⋅b⋅c + d     a   d   ╲╱  a  - 2⋅a⋅d + 4⋅b⋅c + d   \n",
       "  ─ - ─ + ────────────────────────────   ─ - ─ - ──────────────────────────── \n",
       "  2   2                2                 2   2                2               \n",
       "\n",
       "                                 _________________________                   \n",
       "                                ╱  2                    2                    \n",
       "                      a   d   ╲╱  a  - 2⋅a⋅d + 4⋅b⋅c + d                     \n",
       "                      ─ + ─ + ────────────────────────────                   \n",
       "                      2   2                2                                 \n",
       "                     ℯ                                                       \n",
       "+ ───────────────────────────────────────────────────────────────────────────\n",
       "                   b                                      b                  \n",
       "  ──────────────────────────────────── - ────────────────────────────────────\n",
       "             _________________________              _________________________\n",
       "            ╱  2                    2              ╱  2                    2 \n",
       "  a   d   ╲╱  a  - 2⋅a⋅d + 4⋅b⋅c + d     a   d   ╲╱  a  - 2⋅a⋅d + 4⋅b⋅c + d  \n",
       "  ─ - ─ + ────────────────────────────   ─ - ─ - ────────────────────────────\n",
       "  2   2                2                 2   2                2              "
      ]
     },
     "execution_count": 282,
     "metadata": {},
     "output_type": "execute_result"
    }
   ],
   "source": [
    "expM[1,0]"
   ]
  },
  {
   "cell_type": "code",
   "execution_count": 283,
   "metadata": {},
   "outputs": [
    {
     "data": {
      "image/png": "[encoded data removed]",
      "text/latex": [
       "$\\displaystyle \\frac{b e^{\\frac{a}{2} + \\frac{d}{2} + \\frac{\\sqrt{a^{2} - 2 a d + 4 b c + d^{2}}}{2}}}{\\left(\\frac{b}{\\frac{a}{2} - \\frac{d}{2} + \\frac{\\sqrt{a^{2} - 2 a d + 4 b c + d^{2}}}{2}} - \\frac{b}{\\frac{a}{2} - \\frac{d}{2} - \\frac{\\sqrt{a^{2} - 2 a d + 4 b c + d^{2}}}{2}}\\right) \\left(\\frac{a}{2} - \\frac{d}{2} + \\frac{\\sqrt{a^{2} - 2 a d + 4 b c + d^{2}}}{2}\\right)} - \\frac{b e^{\\frac{a}{2} + \\frac{d}{2} - \\frac{\\sqrt{a^{2} - 2 a d + 4 b c + d^{2}}}{2}}}{\\left(\\frac{b}{\\frac{a}{2} - \\frac{d}{2} + \\frac{\\sqrt{a^{2} - 2 a d + 4 b c + d^{2}}}{2}} - \\frac{b}{\\frac{a}{2} - \\frac{d}{2} - \\frac{\\sqrt{a^{2} - 2 a d + 4 b c + d^{2}}}{2}}\\right) \\left(\\frac{a}{2} - \\frac{d}{2} - \\frac{\\sqrt{a^{2} - 2 a d + 4 b c + d^{2}}}{2}\\right)}$"
      ],
      "text/plain": [
       "                                                    _________________________ \n",
       "                                                   ╱  2                    2  \n",
       "                                         a   d   ╲╱  a  - 2⋅a⋅d + 4⋅b⋅c + d   \n",
       "                                         ─ + ─ + ──────────────────────────── \n",
       "                                         2   2                2               \n",
       "                                      b⋅ℯ                                     \n",
       "──────────────────────────────────────────────────────────────────────────────\n",
       "                                                                              \n",
       "                                                                              \n",
       "⎛                 b                                      b                  ⎞ \n",
       "⎜──────────────────────────────────── - ────────────────────────────────────⎟⋅\n",
       "⎜           _________________________              _________________________⎟ \n",
       "⎜          ╱  2                    2              ╱  2                    2 ⎟ \n",
       "⎜a   d   ╲╱  a  - 2⋅a⋅d + 4⋅b⋅c + d     a   d   ╲╱  a  - 2⋅a⋅d + 4⋅b⋅c + d  ⎟ \n",
       "⎜─ - ─ + ────────────────────────────   ─ - ─ - ────────────────────────────⎟ \n",
       "⎝2   2                2                 2   2                2              ⎠ \n",
       "\n",
       "                                                                              \n",
       "                                                                              \n",
       "                                                                              \n",
       "                                                                              \n",
       "                                                                              \n",
       "                                                                              \n",
       "────────────────────────────────────── - ─────────────────────────────────────\n",
       "⎛           _________________________⎞                                        \n",
       "⎜          ╱  2                    2 ⎟                                        \n",
       "⎜a   d   ╲╱  a  - 2⋅a⋅d + 4⋅b⋅c + d  ⎟   ⎛                 b                  \n",
       "⎜─ - ─ + ────────────────────────────⎟   ⎜────────────────────────────────────\n",
       "⎝2   2                2              ⎠   ⎜           _________________________\n",
       "                                         ⎜          ╱  2                    2 \n",
       "                                         ⎜a   d   ╲╱  a  - 2⋅a⋅d + 4⋅b⋅c + d  \n",
       "                                         ⎜─ - ─ + ────────────────────────────\n",
       "                                         ⎝2   2                2              \n",
       "\n",
       "               _________________________                                      \n",
       "              ╱  2                    2                                       \n",
       "    a   d   ╲╱  a  - 2⋅a⋅d + 4⋅b⋅c + d                                        \n",
       "    ─ + ─ - ────────────────────────────                                      \n",
       "    2   2                2                                                    \n",
       " b⋅ℯ                                                                          \n",
       "──────────────────────────────────────────────────────────────────────────────\n",
       "                                         ⎛           _________________________\n",
       "                                         ⎜          ╱  2                    2 \n",
       "                    b                  ⎞ ⎜a   d   ╲╱  a  - 2⋅a⋅d + 4⋅b⋅c + d  \n",
       " - ────────────────────────────────────⎟⋅⎜─ - ─ - ────────────────────────────\n",
       "              _________________________⎟ ⎝2   2                2              \n",
       "             ╱  2                    2 ⎟                                      \n",
       "   a   d   ╲╱  a  - 2⋅a⋅d + 4⋅b⋅c + d  ⎟                                      \n",
       "   ─ - ─ - ────────────────────────────⎟                                      \n",
       "   2   2                2              ⎠                                      \n",
       "\n",
       " \n",
       " \n",
       " \n",
       " \n",
       " \n",
       " \n",
       "─\n",
       "⎞\n",
       "⎟\n",
       "⎟\n",
       "⎟\n",
       "⎠\n",
       " \n",
       " \n",
       " \n",
       " "
      ]
     },
     "execution_count": 283,
     "metadata": {},
     "output_type": "execute_result"
    }
   ],
   "source": [
    "expM[1,1]"
   ]
  },
  {
   "cell_type": "code",
   "execution_count": 284,
   "metadata": {},
   "outputs": [
    {
     "data": {
      "text/latex": [
       "$\\displaystyle \\left[\\begin{matrix}a^{2} + b c & a b + b d\\\\a c + c d & b c + d^{2}\\end{matrix}\\right]$"
      ],
      "text/plain": [
       "⎡ 2                  ⎤\n",
       "⎢a  + b⋅c   a⋅b + b⋅d⎥\n",
       "⎢                    ⎥\n",
       "⎢                  2 ⎥\n",
       "⎣a⋅c + c⋅d  b⋅c + d  ⎦"
      ]
     },
     "execution_count": 284,
     "metadata": {},
     "output_type": "execute_result"
    }
   ],
   "source": [
    "M **2"
   ]
  },
  {
   "cell_type": "code",
   "execution_count": 285,
   "metadata": {},
   "outputs": [],
   "source": [
    "x = sym.Matrix(sym.symbols(\"x_1, x_2\"))"
   ]
  },
  {
   "cell_type": "code",
   "execution_count": 286,
   "metadata": {},
   "outputs": [
    {
     "data": {
      "text/latex": [
       "$\\displaystyle \\left[\\begin{matrix}a x_{1} + b x_{2}\\\\c x_{1} + d x_{2}\\end{matrix}\\right]$"
      ],
      "text/plain": [
       "⎡a⋅x₁ + b⋅x₂⎤\n",
       "⎢           ⎥\n",
       "⎣c⋅x₁ + d⋅x₂⎦"
      ]
     },
     "execution_count": 286,
     "metadata": {},
     "output_type": "execute_result"
    }
   ],
   "source": [
    "M * x"
   ]
  },
  {
   "cell_type": "code",
   "execution_count": null,
   "metadata": {},
   "outputs": [],
   "source": [
    "# consider the following parameterized linear equation system:"
   ]
  },
  {
   "cell_type": "code",
   "execution_count": 292,
   "metadata": {},
   "outputs": [],
   "source": [
    "p, q = sym.symbols(\"p, q\")"
   ]
  },
  {
   "cell_type": "code",
   "execution_count": 294,
   "metadata": {},
   "outputs": [
    {
     "data": {
      "text/latex": [
       "$\\displaystyle \\left[\\begin{matrix}1 & p\\\\q & 1\\end{matrix}\\right]$"
      ],
      "text/plain": [
       "⎡1  p⎤\n",
       "⎢    ⎥\n",
       "⎣q  1⎦"
      ]
     },
     "execution_count": 294,
     "metadata": {},
     "output_type": "execute_result"
    }
   ],
   "source": [
    "M = sym.Matrix([[1, p], [q, 1]])\n",
    "M"
   ]
  },
  {
   "cell_type": "code",
   "execution_count": 296,
   "metadata": {},
   "outputs": [],
   "source": [
    "b = sym.Matrix(sym.symbols(\"b_1, b_2\"))"
   ]
  },
  {
   "cell_type": "code",
   "execution_count": 300,
   "metadata": {},
   "outputs": [
    {
     "data": {
      "text/latex": [
       "$\\displaystyle \\left[\\begin{matrix}1 & q\\\\p & 1\\end{matrix}\\right]$"
      ],
      "text/plain": [
       "⎡1  q⎤\n",
       "⎢    ⎥\n",
       "⎣p  1⎦"
      ]
     },
     "execution_count": 300,
     "metadata": {},
     "output_type": "execute_result"
    }
   ],
   "source": [
    "# Compute the transpose of a matrix.\n",
    "M.T"
   ]
  },
  {
   "cell_type": "code",
   "execution_count": 302,
   "metadata": {},
   "outputs": [
    {
     "data": {
      "text/latex": [
       "$\\displaystyle \\left[\\begin{matrix}1 & q\\\\p & 1\\end{matrix}\\right]$"
      ],
      "text/plain": [
       "⎡1  q⎤\n",
       "⎢    ⎥\n",
       "⎣p  1⎦"
      ]
     },
     "execution_count": 302,
     "metadata": {},
     "output_type": "execute_result"
    }
   ],
   "source": [
    "M.transpose()"
   ]
  },
  {
   "cell_type": "code",
   "execution_count": 303,
   "metadata": {},
   "outputs": [
    {
     "data": {
      "image/png": "[encoded data removed]",
      "text/latex": [
       "$\\displaystyle 2$"
      ],
      "text/plain": [
       "2"
      ]
     },
     "execution_count": 303,
     "metadata": {},
     "output_type": "execute_result"
    }
   ],
   "source": [
    "# Compute the trace (sum of diagonal elements) of a matrix.\n",
    "M.trace()"
   ]
  },
  {
   "cell_type": "code",
   "execution_count": 304,
   "metadata": {},
   "outputs": [
    {
     "data": {
      "image/png": "[encoded data removed]",
      "text/latex": [
       "$\\displaystyle - p q + 1$"
      ],
      "text/plain": [
       "-p⋅q + 1"
      ]
     },
     "execution_count": 304,
     "metadata": {},
     "output_type": "execute_result"
    }
   ],
   "source": [
    "# Compute the determinant of a matrix.\n",
    "M.det()"
   ]
  },
  {
   "cell_type": "code",
   "execution_count": 305,
   "metadata": {},
   "outputs": [
    {
     "data": {
      "text/latex": [
       "$\\displaystyle \\left[\\begin{matrix}\\frac{1}{- p q + 1} & - \\frac{p}{- p q + 1}\\\\- \\frac{q}{- p q + 1} & \\frac{1}{- p q + 1}\\end{matrix}\\right]$"
      ],
      "text/plain": [
       "⎡   1        -p    ⎤\n",
       "⎢────────  ────────⎥\n",
       "⎢-p⋅q + 1  -p⋅q + 1⎥\n",
       "⎢                  ⎥\n",
       "⎢  -q         1    ⎥\n",
       "⎢────────  ────────⎥\n",
       "⎣-p⋅q + 1  -p⋅q + 1⎦"
      ]
     },
     "execution_count": 305,
     "metadata": {},
     "output_type": "execute_result"
    }
   ],
   "source": [
    "# Compute the inverse of a matrix.\n",
    "M.inv()"
   ]
  },
  {
   "cell_type": "code",
   "execution_count": null,
   "metadata": {},
   "outputs": [],
   "source": []
  },
  {
   "cell_type": "code",
   "execution_count": null,
   "metadata": {},
   "outputs": [],
   "source": []
  },
  {
   "cell_type": "code",
   "execution_count": null,
   "metadata": {},
   "outputs": [],
   "source": []
  },
  {
   "cell_type": "code",
   "execution_count": null,
   "metadata": {},
   "outputs": [],
   "source": []
  },
  {
   "cell_type": "code",
   "execution_count": 306,
   "metadata": {},
   "outputs": [
    {
     "data": {
      "image/png": "[encoded data removed]",
      "text/latex": [
       "$\\displaystyle \\sqrt{\\left|{p}\\right|^{2} + \\left|{q}\\right|^{2} + 2}$"
      ],
      "text/plain": [
       "   _________________\n",
       "  ╱    2      2     \n",
       "╲╱  │p│  + │q│  + 2 "
      ]
     },
     "execution_count": 306,
     "metadata": {},
     "output_type": "execute_result"
    }
   ],
   "source": [
    "# Compute the norm of a matrix.\n",
    "M.norm()"
   ]
  },
  {
   "cell_type": "code",
   "execution_count": 307,
   "metadata": {},
   "outputs": [
    {
     "data": {
      "image/png": "[encoded data removed]",
      "text/latex": [
       "$\\displaystyle 2$"
      ],
      "text/plain": [
       "2"
      ]
     },
     "execution_count": 307,
     "metadata": {},
     "output_type": "execute_result"
    }
   ],
   "source": [
    "# Compute the rank of a matrix.\n",
    "M.rank()"
   ]
  },
  {
   "cell_type": "code",
   "execution_count": 308,
   "metadata": {},
   "outputs": [
    {
     "data": {
      "image/png": "[encoded data removed]",
      "text/latex": [
       "$\\displaystyle \\left[ \\right]$"
      ],
      "text/plain": [
       "[]"
      ]
     },
     "execution_count": 308,
     "metadata": {},
     "output_type": "execute_result"
    }
   ],
   "source": [
    "# Compute a set of vectors that span the null space of a Matrix.\n",
    "M.nullspace()"
   ]
  },
  {
   "cell_type": "code",
   "execution_count": 309,
   "metadata": {},
   "outputs": [
    {
     "data": {
      "image/png": "[encoded data removed]",
      "text/latex": [
       "$\\displaystyle \\left[ \\sqrt{\\frac{p \\overline{p}}{2} + \\frac{q \\overline{q}}{2} + \\frac{\\sqrt{- 4 p q \\overline{p} \\overline{q} + 4 p q + \\left(p \\overline{p} + q \\overline{q} + 2\\right)^{2} + 4 \\overline{p} \\overline{q} - 4}}{2} + 1}, \\  \\sqrt{\\frac{p \\overline{p}}{2} + \\frac{q \\overline{q}}{2} - \\frac{\\sqrt{- 4 p q \\overline{p} \\overline{q} + 4 p q + \\left(p \\overline{p} + q \\overline{q} + 2\\right)^{2} + 4 \\overline{p} \\overline{q} - 4}}{2} + 1}\\right]$"
      ],
      "text/plain": [
       "⎡       ______________________________________________________________________\n",
       "⎢      ╱                 ____________________________________________________ \n",
       "⎢     ╱                 ╱                                      2              \n",
       "⎢    ╱     _     _     ╱          _ _           ⎛  _     _    ⎞      _ _      \n",
       "⎢   ╱    p⋅p   q⋅q   ╲╱   - 4⋅p⋅q⋅p⋅q + 4⋅p⋅q + ⎝p⋅p + q⋅q + 2⎠  + 4⋅p⋅q - 4  \n",
       "⎢  ╱     ─── + ─── + ──────────────────────────────────────────────────────── \n",
       "⎣╲╱       2     2                               2                             \n",
       "\n",
       "____         _________________________________________________________________\n",
       "            ╱                 ________________________________________________\n",
       "           ╱                 ╱                                      2         \n",
       "          ╱     _     _     ╱          _ _           ⎛  _     _    ⎞      _ _ \n",
       "         ╱    p⋅p   q⋅q   ╲╱   - 4⋅p⋅q⋅p⋅q + 4⋅p⋅q + ⎝p⋅p + q⋅q + 2⎠  + 4⋅p⋅q \n",
       "+ 1 ,   ╱     ─── + ─── - ────────────────────────────────────────────────────\n",
       "      ╲╱       2     2                               2                        \n",
       "\n",
       "_________⎤\n",
       "____     ⎥\n",
       "         ⎥\n",
       "         ⎥\n",
       "- 4      ⎥\n",
       "──── + 1 ⎥\n",
       "         ⎦"
      ]
     },
     "execution_count": 309,
     "metadata": {},
     "output_type": "execute_result"
    }
   ],
   "source": [
    "# Compute the singular values of a matrix.\n",
    "M.singular_values()"
   ]
  },
  {
   "cell_type": "code",
   "execution_count": null,
   "metadata": {},
   "outputs": [],
   "source": []
  },
  {
   "cell_type": "code",
   "execution_count": null,
   "metadata": {},
   "outputs": [],
   "source": []
  },
  {
   "cell_type": "code",
   "execution_count": null,
   "metadata": {},
   "outputs": [],
   "source": []
  },
  {
   "cell_type": "code",
   "execution_count": null,
   "metadata": {},
   "outputs": [],
   "source": [
    "'''\n",
    "adjoint/H Compute the adjoint of a matrix.\n",
    "LUdecomposition Compute the LU decomposition of a matrix.\n",
    "LUsolve Solve a linear system of equations in the form Mx = b, for the unknown\n",
    "vector x, using LU factorization.\n",
    "QRdecomposition Compute the QR decomposition of a matrix.\n",
    "\n",
    "diagonalize Diagonalize a matrix M, such that it can be written in the form D = P −1MP,\n",
    "where D is diagonal.\n",
    "\n",
    "\n",
    "\n",
    "\n",
    "\n",
    "'''"
   ]
  },
  {
   "cell_type": "code",
   "execution_count": 299,
   "metadata": {},
   "outputs": [
    {
     "data": {
      "text/latex": [
       "$\\displaystyle \\left[\\begin{matrix}\\frac{b_{1}}{- p q + 1} - \\frac{b_{2} p}{- p q + 1}\\\\- \\frac{b_{1} q}{- p q + 1} + \\frac{b_{2}}{- p q + 1}\\end{matrix}\\right]$"
      ],
      "text/plain": [
       "⎡    b₁        b₂⋅p   ⎤\n",
       "⎢ ──────── - ──────── ⎥\n",
       "⎢ -p⋅q + 1   -p⋅q + 1 ⎥\n",
       "⎢                     ⎥\n",
       "⎢    b₁⋅q        b₂   ⎥\n",
       "⎢- ──────── + ────────⎥\n",
       "⎣  -p⋅q + 1   -p⋅q + 1⎦"
      ]
     },
     "execution_count": 299,
     "metadata": {},
     "output_type": "execute_result"
    }
   ],
   "source": [
    "# directly compute the inverse of the matrix M and multiply it with the vector b\n",
    "x = M.inv() * b\n",
    "x"
   ]
  },
  {
   "cell_type": "code",
   "execution_count": 298,
   "metadata": {},
   "outputs": [
    {
     "data": {
      "text/latex": [
       "$\\displaystyle \\left[\\begin{matrix}b_{1} - \\frac{p \\left(- b_{1} q + b_{2}\\right)}{- p q + 1}\\\\\\frac{- b_{1} q + b_{2}}{- p q + 1}\\end{matrix}\\right]$"
      ],
      "text/plain": [
       "⎡     p⋅(-b₁⋅q + b₂)⎤\n",
       "⎢b₁ - ──────────────⎥\n",
       "⎢        -p⋅q + 1   ⎥\n",
       "⎢                   ⎥\n",
       "⎢    -b₁⋅q + b₂     ⎥\n",
       "⎢    ──────────     ⎥\n",
       "⎣     -p⋅q + 1      ⎦"
      ]
     },
     "execution_count": 298,
     "metadata": {},
     "output_type": "execute_result"
    }
   ],
   "source": [
    "# more efficient to use the LUsolve method to solve the linear equation system:\n",
    "x = M.LUsolve(b)\n",
    "x"
   ]
  },
  {
   "cell_type": "code",
   "execution_count": 311,
   "metadata": {},
   "outputs": [
    {
     "data": {
      "text/latex": [
       "$\\displaystyle \\left[\\begin{matrix}\\frac{b_{1} \\left(- p q + 1\\right) - p \\left(- b_{1} q + b_{2}\\right)}{- p q + 1}\\\\\\frac{- b_{1} q + b_{2}}{- p q + 1}\\end{matrix}\\right]$"
      ],
      "text/plain": [
       "⎡b₁⋅(-p⋅q + 1) - p⋅(-b₁⋅q + b₂)⎤\n",
       "⎢──────────────────────────────⎥\n",
       "⎢           -p⋅q + 1           ⎥\n",
       "⎢                              ⎥\n",
       "⎢          -b₁⋅q + b₂          ⎥\n",
       "⎢          ──────────          ⎥\n",
       "⎣           -p⋅q + 1           ⎦"
      ]
     },
     "execution_count": 311,
     "metadata": {},
     "output_type": "execute_result"
    }
   ],
   "source": [
    "# Solve a linear system of equations in the form Mx = b.\n",
    "M.solve(b)"
   ]
  },
  {
   "cell_type": "code",
   "execution_count": 312,
   "metadata": {},
   "outputs": [
    {
     "data": {
      "text/latex": [
       "$\\displaystyle \\left[\\begin{matrix}\\frac{\\frac{b_{1}}{\\sqrt{\\left|{q}\\right|^{2} + 1}} + \\frac{b_{2} q}{\\sqrt{\\left|{q}\\right|^{2} + 1}} - \\frac{\\left(\\frac{p}{\\sqrt{\\left|{q}\\right|^{2} + 1}} + \\frac{q}{\\sqrt{\\left|{q}\\right|^{2} + 1}}\\right) \\left(\\frac{b_{1} \\left(p - \\frac{\\frac{p}{\\sqrt{\\left|{q}\\right|^{2} + 1}} + \\frac{q}{\\sqrt{\\left|{q}\\right|^{2} + 1}}}{\\sqrt{\\left|{q}\\right|^{2} + 1}}\\right)}{\\sqrt{\\left|{p - \\frac{\\frac{p}{\\sqrt{\\left|{q}\\right|^{2} + 1}} + \\frac{q}{\\sqrt{\\left|{q}\\right|^{2} + 1}}}{\\sqrt{\\left|{q}\\right|^{2} + 1}}}\\right|^{2} + \\left|{\\frac{q \\left(\\frac{p}{\\sqrt{\\left|{q}\\right|^{2} + 1}} + \\frac{q}{\\sqrt{\\left|{q}\\right|^{2} + 1}}\\right)}{\\sqrt{\\left|{q}\\right|^{2} + 1}} - 1}\\right|^{2}}} + \\frac{b_{2} \\left(- \\frac{q \\left(\\frac{p}{\\sqrt{\\left|{q}\\right|^{2} + 1}} + \\frac{q}{\\sqrt{\\left|{q}\\right|^{2} + 1}}\\right)}{\\sqrt{\\left|{q}\\right|^{2} + 1}} + 1\\right)}{\\sqrt{\\left|{p - \\frac{\\frac{p}{\\sqrt{\\left|{q}\\right|^{2} + 1}} + \\frac{q}{\\sqrt{\\left|{q}\\right|^{2} + 1}}}{\\sqrt{\\left|{q}\\right|^{2} + 1}}}\\right|^{2} + \\left|{\\frac{q \\left(\\frac{p}{\\sqrt{\\left|{q}\\right|^{2} + 1}} + \\frac{q}{\\sqrt{\\left|{q}\\right|^{2} + 1}}\\right)}{\\sqrt{\\left|{q}\\right|^{2} + 1}} - 1}\\right|^{2}}}\\right)}{\\sqrt{\\left|{p - \\frac{\\frac{p}{\\sqrt{\\left|{q}\\right|^{2} + 1}} + \\frac{q}{\\sqrt{\\left|{q}\\right|^{2} + 1}}}{\\sqrt{\\left|{q}\\right|^{2} + 1}}}\\right|^{2} + \\left|{\\frac{q \\left(\\frac{p}{\\sqrt{\\left|{q}\\right|^{2} + 1}} + \\frac{q}{\\sqrt{\\left|{q}\\right|^{2} + 1}}\\right)}{\\sqrt{\\left|{q}\\right|^{2} + 1}} - 1}\\right|^{2}}}}{\\sqrt{\\left|{q}\\right|^{2} + 1}}\\\\\\frac{\\frac{b_{1} \\left(p - \\frac{\\frac{p}{\\sqrt{\\left|{q}\\right|^{2} + 1}} + \\frac{q}{\\sqrt{\\left|{q}\\right|^{2} + 1}}}{\\sqrt{\\left|{q}\\right|^{2} + 1}}\\right)}{\\sqrt{\\left|{p - \\frac{\\frac{p}{\\sqrt{\\left|{q}\\right|^{2} + 1}} + \\frac{q}{\\sqrt{\\left|{q}\\right|^{2} + 1}}}{\\sqrt{\\left|{q}\\right|^{2} + 1}}}\\right|^{2} + \\left|{\\frac{q \\left(\\frac{p}{\\sqrt{\\left|{q}\\right|^{2} + 1}} + \\frac{q}{\\sqrt{\\left|{q}\\right|^{2} + 1}}\\right)}{\\sqrt{\\left|{q}\\right|^{2} + 1}} - 1}\\right|^{2}}} + \\frac{b_{2} \\left(- \\frac{q \\left(\\frac{p}{\\sqrt{\\left|{q}\\right|^{2} + 1}} + \\frac{q}{\\sqrt{\\left|{q}\\right|^{2} + 1}}\\right)}{\\sqrt{\\left|{q}\\right|^{2} + 1}} + 1\\right)}{\\sqrt{\\left|{p - \\frac{\\frac{p}{\\sqrt{\\left|{q}\\right|^{2} + 1}} + \\frac{q}{\\sqrt{\\left|{q}\\right|^{2} + 1}}}{\\sqrt{\\left|{q}\\right|^{2} + 1}}}\\right|^{2} + \\left|{\\frac{q \\left(\\frac{p}{\\sqrt{\\left|{q}\\right|^{2} + 1}} + \\frac{q}{\\sqrt{\\left|{q}\\right|^{2} + 1}}\\right)}{\\sqrt{\\left|{q}\\right|^{2} + 1}} - 1}\\right|^{2}}}}{\\sqrt{\\left|{p - \\frac{\\frac{p}{\\sqrt{\\left|{q}\\right|^{2} + 1}} + \\frac{q}{\\sqrt{\\left|{q}\\right|^{2} + 1}}}{\\sqrt{\\left|{q}\\right|^{2} + 1}}}\\right|^{2} + \\left|{\\frac{q \\left(\\frac{p}{\\sqrt{\\left|{q}\\right|^{2} + 1}} + \\frac{q}{\\sqrt{\\left|{q}\\right|^{2} + 1}}\\right)}{\\sqrt{\\left|{q}\\right|^{2} + 1}} - 1}\\right|^{2}}}\\end{matrix}\\right]$"
      ],
      "text/plain": [
       "⎡                                                                ⎛            \n",
       "⎢                                                                ⎜            \n",
       "⎢                                                                ⎜            \n",
       "⎢                                                                ⎜            \n",
       "⎢                                                                ⎜            \n",
       "⎢                                                                ⎜            \n",
       "⎢                                                                ⎜            \n",
       "⎢                                                                ⎜            \n",
       "⎢                                ⎛      p               q      ⎞ ⎜            \n",
       "⎢                                ⎜───────────── + ─────────────⎟⋅⎜────────────\n",
       "⎢                                ⎜   __________      __________⎟ ⎜           _\n",
       "⎢                                ⎜  ╱    2          ╱    2     ⎟ ⎜          ╱ \n",
       "⎢                                ⎝╲╱  │q│  + 1    ╲╱  │q│  + 1 ⎠ ⎜         ╱  \n",
       "⎢                                                                ⎜        ╱   \n",
       "⎢                                                                ⎜       ╱    \n",
       "⎢                                                                ⎜      ╱     \n",
       "⎢                                                                ⎜     ╱      \n",
       "⎢                                                                ⎜    ╱       \n",
       "⎢                                                                ⎜   ╱        \n",
       "⎢                                                                ⎜  ╱         \n",
       "⎢      b₁             b₂⋅q                                       ⎝╲╱          \n",
       "⎢───────────── + ───────────── - ─────────────────────────────────────────────\n",
       "⎢   __________      __________                                                \n",
       "⎢  ╱    2          ╱    2                                                     \n",
       "⎢╲╱  │q│  + 1    ╲╱  │q│  + 1                                                 \n",
       "⎢                                                                             \n",
       "⎢                                                                             \n",
       "⎢                                                                             \n",
       "⎢                                                                             \n",
       "⎢                                                                             \n",
       "⎢                                                                             \n",
       "⎢                                                                             \n",
       "⎢                                                                             \n",
       "⎢─────────────────────────────────────────────────────────────────────────────\n",
       "⎢                                                                             \n",
       "⎢                                                                             \n",
       "⎢                                                                             \n",
       "⎢                                                                             \n",
       "⎢                                                               ⎛          p  \n",
       "⎢                                                               ⎜    ─────────\n",
       "⎢                                                               ⎜       ______\n",
       "⎢                                                               ⎜      ╱    2 \n",
       "⎢                                                               ⎜    ╲╱  │q│  \n",
       "⎢                                                            b₁⋅⎜p - ─────────\n",
       "⎢                                                               ⎜             \n",
       "⎢                                                               ⎜             \n",
       "⎢                                                               ⎝            ╲\n",
       "⎢                                 ────────────────────────────────────────────\n",
       "⎢                                            _________________________________\n",
       "⎢                                           ╱                                 \n",
       "⎢                                          ╱  │          p               q    \n",
       "⎢                                         ╱   │    ───────────── + ───────────\n",
       "⎢                                        ╱    │       __________      ________\n",
       "⎢                                       ╱     │      ╱    2          ╱    2   \n",
       "⎢                                      ╱      │    ╲╱  │q│  + 1    ╲╱  │q│  + \n",
       "⎢                                     ╱       │p - ───────────────────────────\n",
       "⎢                                    ╱        │               __________      \n",
       "⎢                                   ╱         │              ╱    2           \n",
       "⎢                                 ╲╱          │            ╲╱  │q│  + 1       \n",
       "⎢                                 ────────────────────────────────────────────\n",
       "⎢                                                                             \n",
       "⎢                                                                             \n",
       "⎢                                                                             \n",
       "⎢                                                                             \n",
       "⎢                                                                             \n",
       "⎢                                                                             \n",
       "⎢                                                                             \n",
       "⎢                                                                             \n",
       "⎢                                                                             \n",
       "⎢                                                                             \n",
       "⎣                                                                             \n",
       "\n",
       "                  ⎛          p               q      ⎞                         \n",
       "                  ⎜    ───────────── + ─────────────⎟                         \n",
       "                  ⎜       __________      __________⎟                         \n",
       "                  ⎜      ╱    2          ╱    2     ⎟                         \n",
       "                  ⎜    ╲╱  │q│  + 1    ╲╱  │q│  + 1 ⎟                         \n",
       "               b₁⋅⎜p - ─────────────────────────────⎟                         \n",
       "                  ⎜               __________        ⎟                         \n",
       "                  ⎜              ╱    2             ⎟                         \n",
       "                  ⎝            ╲╱  │q│  + 1         ⎠                         \n",
       "──────────────────────────────────────────────────────────────────────────────\n",
       "______________________________________________________________________________\n",
       "                                   2                                          \n",
       "│          p               q      │    │  ⎛      p               q      ⎞    │\n",
       "│    ───────────── + ─────────────│    │q⋅⎜───────────── + ─────────────⎟    │\n",
       "│       __________      __________│    │  ⎜   __________      __________⎟    │\n",
       "│      ╱    2          ╱    2     │    │  ⎜  ╱    2          ╱    2     ⎟    │\n",
       "│    ╲╱  │q│  + 1    ╲╱  │q│  + 1 │    │  ⎝╲╱  │q│  + 1    ╲╱  │q│  + 1 ⎠    │\n",
       "│p - ─────────────────────────────│  + │───────────────────────────────── - 1│\n",
       "│               __________        │    │             __________              │\n",
       "│              ╱    2             │    │            ╱    2                   │\n",
       "│            ╲╱  │q│  + 1         │    │          ╲╱  │q│  + 1               │\n",
       "──────────────────────────────────────────────────────────────────────────────\n",
       "                               _______________________________________________\n",
       "                              ╱                                    2          \n",
       "                             ╱  │          p               q      │    │  ⎛   \n",
       "                            ╱   │    ───────────── + ─────────────│    │q⋅⎜───\n",
       "                           ╱    │       __________      __________│    │  ⎜   \n",
       "                          ╱     │      ╱    2          ╱    2     │    │  ⎜  ╱\n",
       "                         ╱      │    ╲╱  │q│  + 1    ╲╱  │q│  + 1 │    │  ⎝╲╱ \n",
       "                        ╱       │p - ─────────────────────────────│  + │──────\n",
       "                       ╱        │               __________        │    │      \n",
       "                      ╱         │              ╱    2             │    │      \n",
       "                    ╲╱          │            ╲╱  │q│  + 1         │    │      \n",
       "──────────────────────────────────────────────────────────────────────────────\n",
       "                                              __________                      \n",
       "                                             ╱    2                           \n",
       "                                           ╲╱  │q│  + 1                       \n",
       "                                                                              \n",
       "             q      ⎞                                                         \n",
       "──── + ─────────────⎟                                                         \n",
       "____      __________⎟                                                         \n",
       "         ╱    2     ⎟                                                         \n",
       "+ 1    ╲╱  │q│  + 1 ⎟                                                         \n",
       "────────────────────⎟                                                      b₂⋅\n",
       "  __________        ⎟                                                         \n",
       " ╱    2             ⎟                                                         \n",
       "╱  │q│  + 1         ⎠                                                         \n",
       "──────────────────────────────────────────────── + ───────────────────────────\n",
       "________________________________________________              ________________\n",
       "   2                                          2              ╱                \n",
       "  │    │  ⎛      p               q      ⎞    │              ╱  │          p   \n",
       "──│    │q⋅⎜───────────── + ─────────────⎟    │             ╱   │    ──────────\n",
       "__│    │  ⎜   __________      __________⎟    │            ╱    │       _______\n",
       "  │    │  ⎜  ╱    2          ╱    2     ⎟    │           ╱     │      ╱    2  \n",
       "1 │    │  ⎝╲╱  │q│  + 1    ╲╱  │q│  + 1 ⎠    │          ╱      │    ╲╱  │q│  +\n",
       "──│  + │───────────────────────────────── - 1│         ╱       │p - ──────────\n",
       "  │    │             __________              │        ╱        │              \n",
       "  │    │            ╱    2                   │       ╱         │              \n",
       "  │    │          ╲╱  │q│  + 1               │     ╲╱          │            ╲╱\n",
       "──────────────────────────────────────────────────────────────────────────────\n",
       "               _______________________________________________________________\n",
       "              ╱                                    2                          \n",
       "             ╱  │          p               q      │    │  ⎛      p            \n",
       "            ╱   │    ───────────── + ─────────────│    │q⋅⎜───────────── + ───\n",
       "           ╱    │       __________      __________│    │  ⎜   __________      \n",
       "          ╱     │      ╱    2          ╱    2     │    │  ⎜  ╱    2          ╱\n",
       "         ╱      │    ╲╱  │q│  + 1    ╲╱  │q│  + 1 │    │  ⎝╲╱  │q│  + 1    ╲╱ \n",
       "        ╱       │p - ─────────────────────────────│  + │──────────────────────\n",
       "       ╱        │               __________        │    │             _________\n",
       "      ╱         │              ╱    2             │    │            ╱    2    \n",
       "    ╲╱          │            ╲╱  │q│  + 1         │    │          ╲╱  │q│  + 1\n",
       "\n",
       "                                ⎛    ⎛      p               q      ⎞    ⎞     \n",
       "                                ⎜  q⋅⎜───────────── + ─────────────⎟    ⎟     \n",
       "                                ⎜    ⎜   __________      __________⎟    ⎟     \n",
       "                                ⎜    ⎜  ╱    2          ╱    2     ⎟    ⎟     \n",
       "                                ⎜    ⎝╲╱  │q│  + 1    ╲╱  │q│  + 1 ⎠    ⎟     \n",
       "                             b₂⋅⎜- ───────────────────────────────── + 1⎟     \n",
       "                                ⎜               __________              ⎟     \n",
       "                                ⎜              ╱    2                   ⎟     \n",
       "                                ⎝            ╲╱  │q│  + 1               ⎠     \n",
       "── + ─────────────────────────────────────────────────────────────────────────\n",
       "__              ______________________________________________________________\n",
       "2              ╱                                    2                         \n",
       "              ╱  │          p               q      │    │  ⎛      p           \n",
       "             ╱   │    ───────────── + ─────────────│    │q⋅⎜───────────── + ──\n",
       "            ╱    │       __________      __________│    │  ⎜   __________     \n",
       "           ╱     │      ╱    2          ╱    2     │    │  ⎜  ╱    2          \n",
       "          ╱      │    ╲╱  │q│  + 1    ╲╱  │q│  + 1 │    │  ⎝╲╱  │q│  + 1    ╲╱\n",
       "         ╱       │p - ─────────────────────────────│  + │─────────────────────\n",
       "        ╱        │               __________        │    │             ________\n",
       "       ╱         │              ╱    2             │    │            ╱    2   \n",
       "     ╲╱          │            ╲╱  │q│  + 1         │    │          ╲╱  │q│  + \n",
       "──────────────────────────────────────────────────────────────────────────────\n",
       "__________________________________                                            \n",
       "                                2                                             \n",
       "   p               q      ⎞    │                                              \n",
       "────────── + ─────────────⎟    │                                              \n",
       "__________      __________⎟    │                                              \n",
       "    2          ╱    2     ⎟    │                                              \n",
       " │q│  + 1    ╲╱  │q│  + 1 ⎠    │                                              \n",
       "─────────────────────────── - 1│                                              \n",
       "       __________              │                                              \n",
       "      ╱    2                   │                                              \n",
       "    ╲╱  │q│  + 1               │                                              \n",
       "──────────────────────────────────────────────────────────────────────────────\n",
       "                                                                              \n",
       "                                                                              \n",
       "                                                                              \n",
       "                                                                              \n",
       "⎛    ⎛      p               q      ⎞    ⎞                                     \n",
       "⎜  q⋅⎜───────────── + ─────────────⎟    ⎟                                     \n",
       "⎜    ⎜   __________      __________⎟    ⎟                                     \n",
       "⎜    ⎜  ╱    2          ╱    2     ⎟    ⎟                                     \n",
       "⎜    ⎝╲╱  │q│  + 1    ╲╱  │q│  + 1 ⎠    ⎟                                     \n",
       "⎜- ───────────────────────────────── + 1⎟                                     \n",
       "⎜               __________              ⎟                                     \n",
       "⎜              ╱    2                   ⎟                                     \n",
       "⎝            ╲╱  │q│  + 1               ⎠                                     \n",
       "─────────────────────────────────────────────────────────────────             \n",
       "_________________________________________________________________             \n",
       "                    2                                          2              \n",
       "            q      │    │  ⎛      p               q      ⎞    │               \n",
       "─── + ─────────────│    │q⋅⎜───────────── + ─────────────⎟    │               \n",
       "___      __________│    │  ⎜   __________      __________⎟    │               \n",
       "        ╱    2     │    │  ⎜  ╱    2          ╱    2     ⎟    │               \n",
       " 1    ╲╱  │q│  + 1 │    │  ⎝╲╱  │q│  + 1    ╲╱  │q│  + 1 ⎠    │               \n",
       "───────────────────│  + │───────────────────────────────── - 1│               \n",
       " __________        │    │             __________              │               \n",
       "╱    2             │    │            ╱    2                   │               \n",
       "  │q│  + 1         │    │          ╲╱  │q│  + 1               │               \n",
       "─────────────────────────────────────────────────────────────────             \n",
       "__________________                                                            \n",
       "                2                                                             \n",
       "   q      ⎞    │                                                              \n",
       "──────────⎟    │                                                              \n",
       "__________⎟    │                                                              \n",
       "    2     ⎟    │                                                              \n",
       " │q│  + 1 ⎠    │                                                              \n",
       "─────────── - 1│                                                              \n",
       "_              │                                                              \n",
       "               │                                                              \n",
       "               │                                                              \n",
       "\n",
       "                   ⎞⎤\n",
       "                   ⎟⎥\n",
       "                   ⎟⎥\n",
       "                   ⎟⎥\n",
       "                   ⎟⎥\n",
       "                   ⎟⎥\n",
       "                   ⎟⎥\n",
       "                   ⎟⎥\n",
       "                   ⎟⎥\n",
       "───────────────────⎟⎥\n",
       "___________________⎟⎥\n",
       "                 2 ⎟⎥\n",
       "    q      ⎞    │  ⎟⎥\n",
       "───────────⎟    │  ⎟⎥\n",
       " __________⎟    │  ⎟⎥\n",
       "╱    2     ⎟    │  ⎟⎥\n",
       "  │q│  + 1 ⎠    │  ⎟⎥\n",
       "──────────── - 1│  ⎟⎥\n",
       "__              │  ⎟⎥\n",
       "                │  ⎟⎥\n",
       "1               │  ⎠⎥\n",
       "────────────────────⎥\n",
       "                    ⎥\n",
       "                    ⎥\n",
       "                    ⎥\n",
       "                    ⎥\n",
       "                    ⎥\n",
       "                    ⎥\n",
       "                    ⎥\n",
       "                    ⎥\n",
       "                    ⎥\n",
       "                    ⎥\n",
       "                    ⎥\n",
       "────────────────────⎥\n",
       "                    ⎥\n",
       "                    ⎥\n",
       "                    ⎥\n",
       "                    ⎥\n",
       "                    ⎥\n",
       "                    ⎥\n",
       "                    ⎥\n",
       "                    ⎥\n",
       "                    ⎥\n",
       "                    ⎥\n",
       "                    ⎥\n",
       "                    ⎥\n",
       "                    ⎥\n",
       "                    ⎥\n",
       "                    ⎥\n",
       "                    ⎥\n",
       "                    ⎥\n",
       "                    ⎥\n",
       "                    ⎥\n",
       "                    ⎥\n",
       "                    ⎥\n",
       "                    ⎥\n",
       "                    ⎥\n",
       "                    ⎥\n",
       "                    ⎥\n",
       "                    ⎥\n",
       "                    ⎥\n",
       "                    ⎥\n",
       "                    ⎥\n",
       "                    ⎥\n",
       "                    ⎥\n",
       "                    ⎥\n",
       "                    ⎥\n",
       "                    ⎥\n",
       "                    ⎥\n",
       "                    ⎥\n",
       "                    ⎦"
      ]
     },
     "execution_count": 312,
     "metadata": {},
     "output_type": "execute_result"
    }
   ],
   "source": [
    "# Solve a linear system of equations in the form Mx = b, for the unknown vector x, using QR factorization.\n",
    "M.QRsolve(b)"
   ]
  },
  {
   "cell_type": "code",
   "execution_count": null,
   "metadata": {},
   "outputs": [],
   "source": [
    "# Algebraic equation solving"
   ]
  },
  {
   "cell_type": "code",
   "execution_count": 1,
   "metadata": {},
   "outputs": [],
   "source": [
    "from scipy import linalg as la\n",
    "from scipy import optimize"
   ]
  },
  {
   "cell_type": "code",
   "execution_count": 2,
   "metadata": {},
   "outputs": [],
   "source": [
    "import sympy as sym\n",
    "sym.init_printing()\n",
    "import numpy as np\n",
    "import matplotlib.pyplot as plt"
   ]
  },
  {
   "cell_type": "code",
   "execution_count": null,
   "metadata": {},
   "outputs": [],
   "source": [
    "# Linear Equation Systems"
   ]
  },
  {
   "cell_type": "code",
   "execution_count": 4,
   "metadata": {},
   "outputs": [
    {
     "data": {
      "text/latex": [
       "$\\displaystyle \\left[\\begin{matrix}2 & 3\\\\5 & 4\\end{matrix}\\right]$"
      ],
      "text/plain": [
       "⎡2  3⎤\n",
       "⎢    ⎥\n",
       "⎣5  4⎦"
      ]
     },
     "execution_count": 4,
     "metadata": {},
     "output_type": "execute_result"
    }
   ],
   "source": [
    "A = sym.Matrix([[2, 3], [5, 4]])\n",
    "A"
   ]
  },
  {
   "cell_type": "code",
   "execution_count": 5,
   "metadata": {},
   "outputs": [
    {
     "data": {
      "image/png": "[encoded data removed]",
      "text/latex": [
       "$\\displaystyle 2$"
      ],
      "text/plain": [
       "2"
      ]
     },
     "execution_count": 5,
     "metadata": {},
     "output_type": "execute_result"
    }
   ],
   "source": [
    "A.rank()"
   ]
  },
  {
   "cell_type": "code",
   "execution_count": 6,
   "metadata": {},
   "outputs": [
    {
     "data": {
      "image/png": "[encoded data removed]",
      "text/latex": [
       "$\\displaystyle \\frac{\\sqrt{2 \\sqrt{170} + 27}}{\\sqrt{27 - 2 \\sqrt{170}}}$"
      ],
      "text/plain": [
       "  _____________\n",
       "╲╱ 2⋅√170 + 27 \n",
       "───────────────\n",
       "  _____________\n",
       "╲╱ 27 - 2⋅√170 "
      ]
     },
     "execution_count": 6,
     "metadata": {},
     "output_type": "execute_result"
    }
   ],
   "source": [
    "A.condition_number()"
   ]
  },
  {
   "cell_type": "code",
   "execution_count": 7,
   "metadata": {},
   "outputs": [
    {
     "data": {
      "image/png": "[encoded data removed]",
      "text/latex": [
       "$\\displaystyle 7.58240137440151$"
      ],
      "text/plain": [
       "7.58240137440151"
      ]
     },
     "execution_count": 7,
     "metadata": {},
     "output_type": "execute_result"
    }
   ],
   "source": [
    "sym.N(A.condition_number())"
   ]
  },
  {
   "cell_type": "code",
   "execution_count": 8,
   "metadata": {},
   "outputs": [
    {
     "data": {
      "image/png": "[encoded data removed]",
      "text/latex": [
       "$\\displaystyle 3 \\sqrt{6}$"
      ],
      "text/plain": [
       "3⋅√6"
      ]
     },
     "execution_count": 8,
     "metadata": {},
     "output_type": "execute_result"
    }
   ],
   "source": [
    "A.norm()"
   ]
  },
  {
   "cell_type": "code",
   "execution_count": null,
   "metadata": {},
   "outputs": [],
   "source": [
    "'''\n",
    "# We can do the same thing in NumPy/SciPy using NumPy arrays\n",
    "In [14]: A = np.array([[2, 3], [5, 4]])\n",
    "In [15]: b = np.array([4, 3])\n",
    "In [16]: np.linalg.matrix_rank(A)\n",
    "Out[16]: 2\n",
    "In [17]: np.linalg.cond(A)\n",
    "Out[17]: 7.5824013744\n",
    "In [18]: np.linalg.norm(A)\n",
    "Out[18]: 7.34846922835\n",
    "'''"
   ]
  },
  {
   "cell_type": "code",
   "execution_count": 9,
   "metadata": {},
   "outputs": [],
   "source": [
    "L, U, _ = A.LUdecomposition()"
   ]
  },
  {
   "cell_type": "code",
   "execution_count": 10,
   "metadata": {},
   "outputs": [
    {
     "data": {
      "text/latex": [
       "$\\displaystyle \\left[\\begin{matrix}1 & 0\\\\\\frac{5}{2} & 1\\end{matrix}\\right]$"
      ],
      "text/plain": [
       "⎡ 1   0⎤\n",
       "⎢      ⎥\n",
       "⎣5/2  1⎦"
      ]
     },
     "execution_count": 10,
     "metadata": {},
     "output_type": "execute_result"
    }
   ],
   "source": [
    "L"
   ]
  },
  {
   "cell_type": "code",
   "execution_count": 11,
   "metadata": {},
   "outputs": [
    {
     "data": {
      "text/latex": [
       "$\\displaystyle \\left[\\begin{matrix}2 & 3\\\\0 & - \\frac{7}{2}\\end{matrix}\\right]$"
      ],
      "text/plain": [
       "⎡2   3  ⎤\n",
       "⎢       ⎥\n",
       "⎣0  -7/2⎦"
      ]
     },
     "execution_count": 11,
     "metadata": {},
     "output_type": "execute_result"
    }
   ],
   "source": [
    "U"
   ]
  },
  {
   "cell_type": "code",
   "execution_count": 12,
   "metadata": {},
   "outputs": [
    {
     "data": {
      "text/latex": [
       "$\\displaystyle \\left[\\begin{matrix}2 & 3\\\\5 & 4\\end{matrix}\\right]$"
      ],
      "text/plain": [
       "⎡2  3⎤\n",
       "⎢    ⎥\n",
       "⎣5  4⎦"
      ]
     },
     "execution_count": 12,
     "metadata": {},
     "output_type": "execute_result"
    }
   ],
   "source": [
    "L*U"
   ]
  },
  {
   "cell_type": "code",
   "execution_count": 13,
   "metadata": {},
   "outputs": [
    {
     "data": {
      "text/plain": [
       "True"
      ]
     },
     "execution_count": 13,
     "metadata": {},
     "output_type": "execute_result"
    }
   ],
   "source": [
    "L*U == A"
   ]
  },
  {
   "cell_type": "code",
   "execution_count": 15,
   "metadata": {},
   "outputs": [
    {
     "data": {
      "text/latex": [
       "$\\displaystyle \\left[\\begin{matrix}4\\\\3\\end{matrix}\\right]$"
      ],
      "text/plain": [
       "⎡4⎤\n",
       "⎢ ⎥\n",
       "⎣3⎦"
      ]
     },
     "execution_count": 15,
     "metadata": {},
     "output_type": "execute_result"
    }
   ],
   "source": [
    "b = sym.Matrix([4, 3])\n",
    "b"
   ]
  },
  {
   "cell_type": "code",
   "execution_count": 16,
   "metadata": {},
   "outputs": [
    {
     "data": {
      "text/latex": [
       "$\\displaystyle \\left[\\begin{matrix}-1\\\\2\\end{matrix}\\right]$"
      ],
      "text/plain": [
       "⎡-1⎤\n",
       "⎢  ⎥\n",
       "⎣2 ⎦"
      ]
     },
     "execution_count": 16,
     "metadata": {},
     "output_type": "execute_result"
    }
   ],
   "source": [
    "x = A.solve(b)\n",
    "x"
   ]
  },
  {
   "cell_type": "code",
   "execution_count": 17,
   "metadata": {},
   "outputs": [
    {
     "data": {
      "text/latex": [
       "$\\displaystyle \\left[\\begin{matrix}-1\\\\2\\end{matrix}\\right]$"
      ],
      "text/plain": [
       "⎡-1⎤\n",
       "⎢  ⎥\n",
       "⎣2 ⎦"
      ]
     },
     "execution_count": 17,
     "metadata": {},
     "output_type": "execute_result"
    }
   ],
   "source": [
    "x = A.LUsolve(b)\n",
    "x"
   ]
  },
  {
   "cell_type": "code",
   "execution_count": null,
   "metadata": {},
   "outputs": [],
   "source": [
    "'''\n",
    "In [26]: A = np.array([[2, 3], [5, 4]])\n",
    "In [27]: b = np.array([4, 3])\n",
    "In [28]: P, L, U = la.lu(A)\n",
    "In [29]: L\n",
    "Out[29]: array([[ 1. , 0. ],\n",
    "[ 0.4, 1. ]])\n",
    "In [30]: U\n",
    "Out[30]: array([[ 5. , 4. ],\n",
    "[ 0. , 1.4]])\n",
    "In [31]: P.dot(L.dot(U))\n",
    "Out[31]: array([[ 2., 3.],\n",
    "[ 5., 4.]])\n",
    "In [32]: la.solve(A, b)\n",
    "Out[32]: array([-1., 2.])\n",
    "'''"
   ]
  },
  {
   "cell_type": "code",
   "execution_count": 19,
   "metadata": {},
   "outputs": [],
   "source": [
    "p = sym.symbols(\"p\", positive=True)"
   ]
  },
  {
   "cell_type": "code",
   "execution_count": 20,
   "metadata": {},
   "outputs": [
    {
     "data": {
      "text/latex": [
       "$\\displaystyle \\left[\\begin{matrix}1 & \\sqrt{p}\\\\1 & \\frac{1}{\\sqrt{p}}\\end{matrix}\\right]$"
      ],
      "text/plain": [
       "⎡1  √p⎤\n",
       "⎢     ⎥\n",
       "⎢   1 ⎥\n",
       "⎢1  ──⎥\n",
       "⎣   √p⎦"
      ]
     },
     "execution_count": 20,
     "metadata": {},
     "output_type": "execute_result"
    }
   ],
   "source": [
    "A = sym.Matrix([[1, sym.sqrt(p)], [1, 1/sym.sqrt(p)]])\n",
    "A"
   ]
  },
  {
   "cell_type": "code",
   "execution_count": 21,
   "metadata": {},
   "outputs": [
    {
     "data": {
      "text/latex": [
       "$\\displaystyle \\left[\\begin{matrix}1\\\\2\\end{matrix}\\right]$"
      ],
      "text/plain": [
       "⎡1⎤\n",
       "⎢ ⎥\n",
       "⎣2⎦"
      ]
     },
     "execution_count": 21,
     "metadata": {},
     "output_type": "execute_result"
    }
   ],
   "source": [
    "b = sym.Matrix([1, 2])\n",
    "b"
   ]
  },
  {
   "cell_type": "code",
   "execution_count": 29,
   "metadata": {},
   "outputs": [
    {
     "data": {
      "text/latex": [
       "$\\displaystyle \\left[\\begin{matrix}- \\frac{\\sqrt{p}}{- \\sqrt{p} + \\frac{1}{\\sqrt{p}}} + 1\\\\\\frac{1}{- \\sqrt{p} + \\frac{1}{\\sqrt{p}}}\\end{matrix}\\right]$"
      ],
      "text/plain": [
       "⎡     √p       ⎤\n",
       "⎢- ──────── + 1⎥\n",
       "⎢        1     ⎥\n",
       "⎢  -√p + ──    ⎥\n",
       "⎢        √p    ⎥\n",
       "⎢              ⎥\n",
       "⎢      1       ⎥\n",
       "⎢   ────────   ⎥\n",
       "⎢         1    ⎥\n",
       "⎢   -√p + ──   ⎥\n",
       "⎣         √p   ⎦"
      ]
     },
     "execution_count": 29,
     "metadata": {},
     "output_type": "execute_result"
    }
   ],
   "source": [
    "x = A.LUsolve(b)\n",
    "x"
   ]
  },
  {
   "cell_type": "code",
   "execution_count": 30,
   "metadata": {},
   "outputs": [
    {
     "data": {
      "text/latex": [
       "$\\displaystyle \\left[\\begin{matrix}\\frac{- 2 \\sqrt{p} + \\frac{1}{\\sqrt{p}}}{- \\sqrt{p} + \\frac{1}{\\sqrt{p}}}\\\\\\frac{1}{- \\sqrt{p} + \\frac{1}{\\sqrt{p}}}\\end{matrix}\\right]$"
      ],
      "text/plain": [
       "⎡        1 ⎤\n",
       "⎢-2⋅√p + ──⎥\n",
       "⎢        √p⎥\n",
       "⎢──────────⎥\n",
       "⎢       1  ⎥\n",
       "⎢ -√p + ── ⎥\n",
       "⎢       √p ⎥\n",
       "⎢          ⎥\n",
       "⎢    1     ⎥\n",
       "⎢ ──────── ⎥\n",
       "⎢       1  ⎥\n",
       "⎢ -√p + ── ⎥\n",
       "⎣       √p ⎦"
      ]
     },
     "execution_count": 30,
     "metadata": {},
     "output_type": "execute_result"
    }
   ],
   "source": [
    "x = A.solve(b)\n",
    "x"
   ]
  },
  {
   "cell_type": "code",
   "execution_count": null,
   "metadata": {},
   "outputs": [],
   "source": []
  },
  {
   "cell_type": "code",
   "execution_count": 25,
   "metadata": {},
   "outputs": [
    {
     "ename": "TypeError",
     "evalue": "'NoneType' object is not subscriptable",
     "output_type": "error",
     "traceback": [
      "\u001b[1;31m---------------------------------------------------------------------------\u001b[0m",
      "\u001b[1;31mTypeError\u001b[0m                                 Traceback (most recent call last)",
      "\u001b[1;32m<ipython-input-25-2f755f117ac9>\u001b[0m in \u001b[0;36m<module>\u001b[1;34m\u001b[0m\n\u001b[1;32m----> 1\u001b[1;33m \u001b[0mx\u001b[0m\u001b[1;33m[\u001b[0m\u001b[1;36m0\u001b[0m\u001b[1;33m]\u001b[0m\u001b[1;33m\u001b[0m\u001b[1;33m\u001b[0m\u001b[0m\n\u001b[0m",
      "\u001b[1;31mTypeError\u001b[0m: 'NoneType' object is not subscriptable"
     ]
    }
   ],
   "source": [
    "x[0]"
   ]
  },
  {
   "cell_type": "code",
   "execution_count": null,
   "metadata": {},
   "outputs": [],
   "source": []
  },
  {
   "cell_type": "code",
   "execution_count": null,
   "metadata": {},
   "outputs": [],
   "source": []
  },
  {
   "cell_type": "code",
   "execution_count": null,
   "metadata": {},
   "outputs": [],
   "source": []
  },
  {
   "cell_type": "code",
   "execution_count": null,
   "metadata": {},
   "outputs": [],
   "source": []
  },
  {
   "cell_type": "code",
   "execution_count": null,
   "metadata": {},
   "outputs": [],
   "source": []
  },
  {
   "cell_type": "code",
   "execution_count": null,
   "metadata": {},
   "outputs": [],
   "source": []
  },
  {
   "cell_type": "code",
   "execution_count": null,
   "metadata": {},
   "outputs": [],
   "source": []
  },
  {
   "cell_type": "code",
   "execution_count": null,
   "metadata": {},
   "outputs": [],
   "source": []
  },
  {
   "cell_type": "code",
   "execution_count": null,
   "metadata": {},
   "outputs": [],
   "source": []
  },
  {
   "cell_type": "code",
   "execution_count": null,
   "metadata": {},
   "outputs": [],
   "source": []
  },
  {
   "cell_type": "code",
   "execution_count": null,
   "metadata": {},
   "outputs": [],
   "source": []
  },
  {
   "cell_type": "code",
   "execution_count": null,
   "metadata": {},
   "outputs": [],
   "source": []
  },
  {
   "cell_type": "code",
   "execution_count": null,
   "metadata": {},
   "outputs": [],
   "source": []
  },
  {
   "cell_type": "code",
   "execution_count": null,
   "metadata": {},
   "outputs": [],
   "source": []
  },
  {
   "cell_type": "code",
   "execution_count": null,
   "metadata": {},
   "outputs": [],
   "source": []
  },
  {
   "cell_type": "code",
   "execution_count": null,
   "metadata": {},
   "outputs": [],
   "source": []
  },
  {
   "cell_type": "code",
   "execution_count": null,
   "metadata": {},
   "outputs": [],
   "source": []
  },
  {
   "cell_type": "code",
   "execution_count": null,
   "metadata": {},
   "outputs": [],
   "source": []
  },
  {
   "cell_type": "code",
   "execution_count": null,
   "metadata": {},
   "outputs": [],
   "source": []
  },
  {
   "cell_type": "code",
   "execution_count": null,
   "metadata": {},
   "outputs": [],
   "source": []
  },
  {
   "cell_type": "code",
   "execution_count": null,
   "metadata": {},
   "outputs": [],
   "source": []
  },
  {
   "cell_type": "code",
   "execution_count": null,
   "metadata": {},
   "outputs": [],
   "source": []
  },
  {
   "cell_type": "code",
   "execution_count": null,
   "metadata": {},
   "outputs": [],
   "source": []
  },
  {
   "cell_type": "code",
   "execution_count": null,
   "metadata": {},
   "outputs": [],
   "source": []
  },
  {
   "cell_type": "code",
   "execution_count": null,
   "metadata": {},
   "outputs": [],
   "source": []
  },
  {
   "cell_type": "code",
   "execution_count": null,
   "metadata": {},
   "outputs": [],
   "source": []
  },
  {
   "cell_type": "code",
   "execution_count": null,
   "metadata": {},
   "outputs": [],
   "source": []
  },
  {
   "cell_type": "code",
   "execution_count": null,
   "metadata": {},
   "outputs": [],
   "source": []
  },
  {
   "cell_type": "code",
   "execution_count": 34,
   "metadata": {},
   "outputs": [
    {
     "data": {
      "image/png": "[encoded data removed]",
      "text/latex": [
       "$\\displaystyle d^{1.0}$"
      ],
      "text/plain": [
       " 1.0\n",
       "d   "
      ]
     },
     "execution_count": 34,
     "metadata": {},
     "output_type": "execute_result"
    }
   ],
   "source": [
    "d = sympy.Symbol(\"d\", positive=True)\n",
    "t = sympy.sqrt(d**2)\n",
    "t"
   ]
  },
  {
   "cell_type": "code",
   "execution_count": 37,
   "metadata": {},
   "outputs": [
    {
     "data": {
      "image/png": "[encoded data removed]",
      "text/latex": [
       "$\\displaystyle 2$"
      ],
      "text/plain": [
       "2"
      ]
     },
     "execution_count": 37,
     "metadata": {},
     "output_type": "execute_result"
    }
   ],
   "source": [
    "a = sympy.sympify(2)\n",
    "a"
   ]
  },
  {
   "cell_type": "code",
   "execution_count": 38,
   "metadata": {},
   "outputs": [
    {
     "data": {
      "image/png": "[encoded data removed]",
      "text/latex": [
       "$\\displaystyle \\frac{1}{2}$"
      ],
      "text/plain": [
       "1/2"
      ]
     },
     "execution_count": 38,
     "metadata": {},
     "output_type": "execute_result"
    }
   ],
   "source": [
    "b = sympy.Rational(1, a)\n",
    "b"
   ]
  },
  {
   "cell_type": "code",
   "execution_count": 40,
   "metadata": {},
   "outputs": [
    {
     "data": {
      "image/png": "[encoded data removed]",
      "text/latex": [
       "$\\displaystyle d$"
      ],
      "text/plain": [
       "d"
      ]
     },
     "execution_count": 40,
     "metadata": {},
     "output_type": "execute_result"
    }
   ],
   "source": [
    "d = sympy.Symbol(\"d\", positive=True)\n",
    "t = (d**a) ** (b)\n",
    "t"
   ]
  },
  {
   "cell_type": "code",
   "execution_count": 39,
   "metadata": {},
   "outputs": [
    {
     "data": {
      "image/png": "[encoded data removed]",
      "text/latex": [
       "$\\displaystyle \\left|{d}\\right|$"
      ],
      "text/plain": [
       "│d│"
      ]
     },
     "execution_count": 39,
     "metadata": {},
     "output_type": "execute_result"
    }
   ],
   "source": [
    "d = sympy.Symbol(\"d\", real=True)\n",
    "t = (d**a) ** (b)\n",
    "t"
   ]
  },
  {
   "cell_type": "code",
   "execution_count": 42,
   "metadata": {},
   "outputs": [
    {
     "data": {
      "image/png": "[encoded data removed]",
      "text/latex": [
       "$\\displaystyle e$"
      ],
      "text/plain": [
       "ℯ"
      ]
     },
     "execution_count": 42,
     "metadata": {},
     "output_type": "execute_result"
    }
   ],
   "source": [
    "e = sympy.E\n",
    "e"
   ]
  },
  {
   "cell_type": "code",
   "execution_count": 43,
   "metadata": {},
   "outputs": [
    {
     "data": {
      "image/png": "[encoded data removed]",
      "text/latex": [
       "$\\displaystyle i$"
      ],
      "text/plain": [
       "ⅈ"
      ]
     },
     "execution_count": 43,
     "metadata": {},
     "output_type": "execute_result"
    }
   ],
   "source": [
    "i = sympy.I\n",
    "i"
   ]
  },
  {
   "cell_type": "code",
   "execution_count": 44,
   "metadata": {},
   "outputs": [
    {
     "data": {
      "image/png": "[encoded data removed]",
      "text/latex": [
       "$\\displaystyle \\infty$"
      ],
      "text/plain": [
       "∞"
      ]
     },
     "execution_count": 44,
     "metadata": {},
     "output_type": "execute_result"
    }
   ],
   "source": [
    "inf = sympy.oo\n",
    "inf"
   ]
  },
  {
   "cell_type": "code",
   "execution_count": 45,
   "metadata": {},
   "outputs": [],
   "source": [
    "pi = sympy.pi"
   ]
  },
  {
   "cell_type": "code",
   "execution_count": null,
   "metadata": {},
   "outputs": [],
   "source": []
  },
  {
   "cell_type": "code",
   "execution_count": null,
   "metadata": {},
   "outputs": [],
   "source": []
  },
  {
   "cell_type": "code",
   "execution_count": null,
   "metadata": {},
   "outputs": [],
   "source": []
  },
  {
   "cell_type": "code",
   "execution_count": null,
   "metadata": {},
   "outputs": [],
   "source": []
  },
  {
   "cell_type": "code",
   "execution_count": null,
   "metadata": {},
   "outputs": [],
   "source": []
  },
  {
   "cell_type": "code",
   "execution_count": 46,
   "metadata": {},
   "outputs": [
    {
     "data": {
      "image/png": "[encoded data removed]",
      "text/latex": [
       "$\\displaystyle 1$"
      ],
      "text/plain": [
       "1"
      ]
     },
     "execution_count": 46,
     "metadata": {},
     "output_type": "execute_result"
    }
   ],
   "source": [
    "g = (sympy.cos(d)) ** 2 + (sympy.sin(d)) ** 2\n",
    "g = sympy.simplify(g)\n",
    "g"
   ]
  },
  {
   "cell_type": "code",
   "execution_count": 47,
   "metadata": {},
   "outputs": [
    {
     "data": {
      "image/png": "[encoded data removed]",
      "text/latex": [
       "$\\displaystyle \\log{\\left(a \\right)} + \\log{\\left(b \\right)}$"
      ],
      "text/plain": [
       "log(a) + log(b)"
      ]
     },
     "execution_count": 47,
     "metadata": {},
     "output_type": "execute_result"
    }
   ],
   "source": [
    "a, b = sympy.symbols(\"a, b\", positive=True)\n",
    "sympy.log(a * b).expand(log=True)"
   ]
  },
  {
   "cell_type": "code",
   "execution_count": 48,
   "metadata": {},
   "outputs": [
    {
     "data": {
      "image/png": "[encoded data removed]",
      "text/latex": [
       "$\\displaystyle 2 b$"
      ],
      "text/plain": [
       "2⋅b"
      ]
     },
     "execution_count": 48,
     "metadata": {},
     "output_type": "execute_result"
    }
   ],
   "source": [
    "(a + b).subs(a, b)"
   ]
  },
  {
   "cell_type": "code",
   "execution_count": null,
   "metadata": {},
   "outputs": [],
   "source": []
  },
  {
   "cell_type": "code",
   "execution_count": 29,
   "metadata": {},
   "outputs": [],
   "source": [
    "a, b, c = sympy.symbols(\"a, b, c\", negative=True)"
   ]
  },
  {
   "cell_type": "code",
   "execution_count": null,
   "metadata": {},
   "outputs": [],
   "source": []
  },
  {
   "cell_type": "code",
   "execution_count": null,
   "metadata": {},
   "outputs": [],
   "source": []
  },
  {
   "cell_type": "code",
   "execution_count": null,
   "metadata": {},
   "outputs": [],
   "source": [
    "x1, x2 = sympy.symbols(\"a, b\", positive=True)"
   ]
  },
  {
   "cell_type": "code",
   "execution_count": 52,
   "metadata": {},
   "outputs": [],
   "source": [
    "def A(p,d):\n",
    "    M = np.zeros((p,d))\n",
    "    for i in range(p):\n",
    "        for j in range(d):\n",
    "            if j == i:\n",
    "                M[i, j] = 1\n",
    "            elif j == i - 1:\n",
    "                M[i, j] = -(i+1)/d\n",
    "            elif j == i + 1:\n",
    "                M[i, j] = -(d-(i+1))/d\n",
    "    return np.matrix(M)"
   ]
  },
  {
   "cell_type": "code",
   "execution_count": 53,
   "metadata": {},
   "outputs": [
    {
     "data": {
      "text/plain": [
       "matrix([[ 1.        , -0.66666667,  0.        ],\n",
       "        [-0.66666667,  1.        , -0.33333333],\n",
       "        [ 0.        , -1.        ,  1.        ]])"
      ]
     },
     "execution_count": 53,
     "metadata": {},
     "output_type": "execute_result"
    }
   ],
   "source": [
    "A(3,3)"
   ]
  },
  {
   "cell_type": "code",
   "execution_count": 61,
   "metadata": {},
   "outputs": [],
   "source": [
    "def x(d):\n",
    "    if d==0:\n",
    "        return 0\n",
    "    else:\n",
    "        return np.linalg.solve(A(d,d),np.ones(d))[-1]"
   ]
  },
  {
   "cell_type": "code",
   "execution_count": 59,
   "metadata": {},
   "outputs": [
    {
     "data": {
      "text/plain": [
       "42.66666666666668"
      ]
     },
     "execution_count": 59,
     "metadata": {},
     "output_type": "execute_result"
    }
   ],
   "source": [
    "x(5)"
   ]
  },
  {
   "cell_type": "code",
   "execution_count": 62,
   "metadata": {},
   "outputs": [
    {
     "data": {
      "text/plain": [
       "[0, 1.0, 4.0, 9.999999999999998, 21.33333333333334]"
      ]
     },
     "execution_count": 62,
     "metadata": {},
     "output_type": "execute_result"
    }
   ],
   "source": [
    "[x(n) for n in range(5)]"
   ]
  },
  {
   "cell_type": "code",
   "execution_count": 14,
   "metadata": {},
   "outputs": [
    {
     "name": "stdout",
     "output_type": "stream",
     "text": [
      "[[1.]\n",
      " [1.]\n",
      " [1.]\n",
      " [1.]]\n"
     ]
    }
   ],
   "source": [
    "A(4,1)"
   ]
  },
  {
   "cell_type": "code",
   "execution_count": 63,
   "metadata": {},
   "outputs": [
    {
     "data": {
      "text/latex": [
       "$\\displaystyle \\left[\\begin{matrix}0 & 0 & 0\\\\0 & 0 & 0\\\\0 & 0 & 0\\end{matrix}\\right]$"
      ],
      "text/plain": [
       "Matrix([\n",
       "[0, 0, 0],\n",
       "[0, 0, 0],\n",
       "[0, 0, 0]])"
      ]
     },
     "execution_count": 63,
     "metadata": {},
     "output_type": "execute_result"
    }
   ],
   "source": [
    "A=sympy.zeros(3)"
   ]
  },
  {
   "cell_type": "code",
   "execution_count": 65,
   "metadata": {},
   "outputs": [],
   "source": [
    "d=sympy.Symbol('d',integer=True)"
   ]
  },
  {
   "cell_type": "code",
   "execution_count": 69,
   "metadata": {},
   "outputs": [],
   "source": [
    "A=sympy.zeros(10)"
   ]
  },
  {
   "cell_type": "code",
   "execution_count": 78,
   "metadata": {},
   "outputs": [],
   "source": [
    "def A(d):\n",
    "    d = sympy.Symbol('d',integer=True)\n",
    "    M = sympy.zeros(10)\n",
    "    for i in range(10):\n",
    "        for j in range(10):\n",
    "            if j == i:\n",
    "                M[i, j] = 1\n",
    "            elif j == i - 1:\n",
    "                M[i, j] = -(i+1)/d\n",
    "            elif j == i + 1:\n",
    "                M[i, j] = -(d-(i+1))/d\n",
    "    return M"
   ]
  },
  {
   "cell_type": "code",
   "execution_count": 79,
   "metadata": {},
   "outputs": [
    {
     "data": {
      "text/latex": [
       "$\\displaystyle \\left[\\begin{matrix}1 & \\frac{1 - d}{d} & 0 & 0 & 0 & 0 & 0 & 0 & 0 & 0\\\\- \\frac{2}{d} & 1 & \\frac{2 - d}{d} & 0 & 0 & 0 & 0 & 0 & 0 & 0\\\\0 & - \\frac{3}{d} & 1 & \\frac{3 - d}{d} & 0 & 0 & 0 & 0 & 0 & 0\\\\0 & 0 & - \\frac{4}{d} & 1 & \\frac{4 - d}{d} & 0 & 0 & 0 & 0 & 0\\\\0 & 0 & 0 & - \\frac{5}{d} & 1 & \\frac{5 - d}{d} & 0 & 0 & 0 & 0\\\\0 & 0 & 0 & 0 & - \\frac{6}{d} & 1 & \\frac{6 - d}{d} & 0 & 0 & 0\\\\0 & 0 & 0 & 0 & 0 & - \\frac{7}{d} & 1 & \\frac{7 - d}{d} & 0 & 0\\\\0 & 0 & 0 & 0 & 0 & 0 & - \\frac{8}{d} & 1 & \\frac{8 - d}{d} & 0\\\\0 & 0 & 0 & 0 & 0 & 0 & 0 & - \\frac{9}{d} & 1 & \\frac{9 - d}{d}\\\\0 & 0 & 0 & 0 & 0 & 0 & 0 & 0 & - \\frac{10}{d} & 1\\end{matrix}\\right]$"
      ],
      "text/plain": [
       "Matrix([\n",
       "[   1, (1 - d)/d,         0,         0,         0,         0,         0,         0,         0,         0],\n",
       "[-2/d,         1, (2 - d)/d,         0,         0,         0,         0,         0,         0,         0],\n",
       "[   0,      -3/d,         1, (3 - d)/d,         0,         0,         0,         0,         0,         0],\n",
       "[   0,         0,      -4/d,         1, (4 - d)/d,         0,         0,         0,         0,         0],\n",
       "[   0,         0,         0,      -5/d,         1, (5 - d)/d,         0,         0,         0,         0],\n",
       "[   0,         0,         0,         0,      -6/d,         1, (6 - d)/d,         0,         0,         0],\n",
       "[   0,         0,         0,         0,         0,      -7/d,         1, (7 - d)/d,         0,         0],\n",
       "[   0,         0,         0,         0,         0,         0,      -8/d,         1, (8 - d)/d,         0],\n",
       "[   0,         0,         0,         0,         0,         0,         0,      -9/d,         1, (9 - d)/d],\n",
       "[   0,         0,         0,         0,         0,         0,         0,         0,     -10/d,         1]])"
      ]
     },
     "execution_count": 79,
     "metadata": {},
     "output_type": "execute_result"
    }
   ],
   "source": [
    "A(3)"
   ]
  },
  {
   "cell_type": "code",
   "execution_count": 10,
   "metadata": {},
   "outputs": [
    {
     "data": {
      "text/plain": [
       "array([[0.],\n",
       "       [0.]])"
      ]
     },
     "execution_count": 10,
     "metadata": {},
     "output_type": "execute_result"
    }
   ],
   "source": [
    "sympy.ones()\n",
    "solve(A(3)*, x)"
   ]
  },
  {
   "cell_type": "code",
   "execution_count": 8,
   "metadata": {},
   "outputs": [],
   "source": [
    "def xx(d_val):\n",
    "    if d_val==0:\n",
    "        return 0\n",
    "    else:\n",
    "        d = sp.Symbol('d',integer=True)\n",
    "        M = sp.zeros(d_val)\n",
    "    for i in range(d_val):\n",
    "        for j in range(d_val):\n",
    "            if j == i:\n",
    "                M[i, j] = 1\n",
    "            elif j == i - 1:\n",
    "                M[i, j] = -(i+1)/d\n",
    "            elif j == i + 1:\n",
    "                M[i, j] = -(d-(i+1))/d\n",
    "    \n",
    "    #x = np.linalg.solve(M,sp.ones(d_val))[-1]\n",
    "    # x = x.simplyfy()\n",
    "    return M"
   ]
  },
  {
   "cell_type": "code",
   "execution_count": 11,
   "metadata": {},
   "outputs": [
    {
     "data": {
      "text/latex": [
       "$\\displaystyle \\left[\\begin{matrix}1 & \\frac{1 - d}{d} & 0 & 0 & 0\\\\- \\frac{2}{d} & 1 & \\frac{2 - d}{d} & 0 & 0\\\\0 & - \\frac{3}{d} & 1 & \\frac{3 - d}{d} & 0\\\\0 & 0 & - \\frac{4}{d} & 1 & \\frac{4 - d}{d}\\\\0 & 0 & 0 & - \\frac{5}{d} & 1\\end{matrix}\\right]$"
      ],
      "text/plain": [
       "Matrix([\n",
       "[   1, (1 - d)/d,         0,         0,         0],\n",
       "[-2/d,         1, (2 - d)/d,         0,         0],\n",
       "[   0,      -3/d,         1, (3 - d)/d,         0],\n",
       "[   0,         0,      -4/d,         1, (4 - d)/d],\n",
       "[   0,         0,         0,      -5/d,         1]])"
      ]
     },
     "execution_count": 11,
     "metadata": {},
     "output_type": "execute_result"
    }
   ],
   "source": [
    "G=xx(5)\n",
    "G"
   ]
  },
  {
   "cell_type": "code",
   "execution_count": 15,
   "metadata": {},
   "outputs": [
    {
     "data": {
      "text/plain": [
       "[1, 1, 1]"
      ]
     },
     "execution_count": 15,
     "metadata": {},
     "output_type": "execute_result"
    }
   ],
   "source": [
    "b=sp.ones(3)[:3]\n",
    "b"
   ]
  },
  {
   "cell_type": "code",
   "execution_count": 16,
   "metadata": {},
   "outputs": [
    {
     "ename": "TypeError",
     "evalue": "can't multiply sequence by non-int of type 'MutableDenseMatrix'",
     "output_type": "error",
     "traceback": [
      "\u001b[1;31m---------------------------------------------------------------------------\u001b[0m",
      "\u001b[1;31mTypeError\u001b[0m                                 Traceback (most recent call last)",
      "\u001b[1;32m<ipython-input-16-a0a9a92f99ac>\u001b[0m in \u001b[0;36m<module>\u001b[1;34m\u001b[0m\n\u001b[1;32m----> 1\u001b[1;33m \u001b[0mG\u001b[0m\u001b[1;33m*\u001b[0m\u001b[0mb\u001b[0m\u001b[1;33m\u001b[0m\u001b[1;33m\u001b[0m\u001b[0m\n\u001b[0m",
      "\u001b[1;31mTypeError\u001b[0m: can't multiply sequence by non-int of type 'MutableDenseMatrix'"
     ]
    }
   ],
   "source": [
    "G*b"
   ]
  },
  {
   "cell_type": "code",
   "execution_count": 17,
   "metadata": {},
   "outputs": [
    {
     "ename": "AttributeError",
     "evalue": "'list' object has no attribute 'rows'",
     "output_type": "error",
     "traceback": [
      "\u001b[1;31m---------------------------------------------------------------------------\u001b[0m",
      "\u001b[1;31mAttributeError\u001b[0m                            Traceback (most recent call last)",
      "\u001b[1;32m<ipython-input-17-4e87233cfdd6>\u001b[0m in \u001b[0;36m<module>\u001b[1;34m\u001b[0m\n\u001b[1;32m----> 1\u001b[1;33m \u001b[0mx\u001b[0m \u001b[1;33m=\u001b[0m \u001b[0mG\u001b[0m\u001b[1;33m.\u001b[0m\u001b[0mLUsolve\u001b[0m\u001b[1;33m(\u001b[0m\u001b[0mb\u001b[0m\u001b[1;33m)\u001b[0m\u001b[1;33m\u001b[0m\u001b[1;33m\u001b[0m\u001b[0m\n\u001b[0m",
      "\u001b[1;32mC:\\ProgramData\\Anaconda3\\lib\\site-packages\\sympy\\matrices\\matrices.py\u001b[0m in \u001b[0;36mLUsolve\u001b[1;34m(self, rhs, iszerofunc)\u001b[0m\n\u001b[0;32m   3752\u001b[0m         \u001b[0mLUdecomposition\u001b[0m\u001b[1;33m\u001b[0m\u001b[1;33m\u001b[0m\u001b[0m\n\u001b[0;32m   3753\u001b[0m         \"\"\"\n\u001b[1;32m-> 3754\u001b[1;33m         \u001b[1;32mif\u001b[0m \u001b[0mrhs\u001b[0m\u001b[1;33m.\u001b[0m\u001b[0mrows\u001b[0m \u001b[1;33m!=\u001b[0m \u001b[0mself\u001b[0m\u001b[1;33m.\u001b[0m\u001b[0mrows\u001b[0m\u001b[1;33m:\u001b[0m\u001b[1;33m\u001b[0m\u001b[1;33m\u001b[0m\u001b[0m\n\u001b[0m\u001b[0;32m   3755\u001b[0m             raise ShapeError(\n\u001b[0;32m   3756\u001b[0m                 \"``self`` and ``rhs`` must have the same number of rows.\")\n",
      "\u001b[1;31mAttributeError\u001b[0m: 'list' object has no attribute 'rows'"
     ]
    }
   ],
   "source": [
    "x = G.LUsolve(b)"
   ]
  },
  {
   "cell_type": "code",
   "execution_count": 20,
   "metadata": {},
   "outputs": [],
   "source": [
    "A = G.LUdecomposition()"
   ]
  },
  {
   "cell_type": "code",
   "execution_count": 25,
   "metadata": {},
   "outputs": [
    {
     "data": {
      "text/latex": [
       "$\\displaystyle \\left[\\begin{matrix}1 & 0 & 0 & 0 & 0\\\\- \\frac{2}{d} & 1 & 0 & 0 & 0\\\\0 & - \\frac{3}{d \\left(1 + \\frac{2 \\left(1 - d\\right)}{d^{2}}\\right)} & 1 & 0 & 0\\\\0 & 0 & - \\frac{4}{d \\left(1 + \\frac{3 \\left(2 - d\\right)}{d^{2} \\left(1 + \\frac{2 \\left(1 - d\\right)}{d^{2}}\\right)}\\right)} & 1 & 0\\\\0 & 0 & 0 & - \\frac{5}{d \\left(1 + \\frac{4 \\left(3 - d\\right)}{d^{2} \\left(1 + \\frac{3 \\left(2 - d\\right)}{d^{2} \\left(1 + \\frac{2 \\left(1 - d\\right)}{d^{2}}\\right)}\\right)}\\right)} & 1\\end{matrix}\\right]$"
      ],
      "text/plain": [
       "⎡ 1           0                      0                                0       \n",
       "⎢                                                                             \n",
       "⎢-2                                                                           \n",
       "⎢───          1                      0                                0       \n",
       "⎢ d                                                                           \n",
       "⎢                                                                             \n",
       "⎢            -3                                                               \n",
       "⎢ 0   ─────────────────              1                                0       \n",
       "⎢       ⎛    2⋅(1 - d)⎞                                                       \n",
       "⎢     d⋅⎜1 + ─────────⎟                                                       \n",
       "⎢       ⎜         2   ⎟                                                       \n",
       "⎢       ⎝        d    ⎠                                                       \n",
       "⎢                                                                             \n",
       "⎢                                   -4                                        \n",
       "⎢ 0           0          ──────────────────────────                   1       \n",
       "⎢                          ⎛        3⋅(2 - d)     ⎞                           \n",
       "⎢                        d⋅⎜1 + ──────────────────⎟                           \n",
       "⎢                          ⎜     2 ⎛    2⋅(1 - d)⎞⎟                           \n",
       "⎢                          ⎜    d ⋅⎜1 + ─────────⎟⎟                           \n",
       "⎢                          ⎜       ⎜         2   ⎟⎟                           \n",
       "⎢                          ⎝       ⎝        d    ⎠⎠                           \n",
       "⎢                                                                             \n",
       "⎢                                                                    -5       \n",
       "⎢ 0           0                      0               ─────────────────────────\n",
       "⎢                                                      ⎛             4⋅(3 - d)\n",
       "⎢                                                    d⋅⎜1 + ──────────────────\n",
       "⎢                                                      ⎜     2 ⎛        3⋅(2 -\n",
       "⎢                                                      ⎜    d ⋅⎜1 + ──────────\n",
       "⎢                                                      ⎜       ⎜     2 ⎛    2⋅\n",
       "⎢                                                      ⎜       ⎜    d ⋅⎜1 + ──\n",
       "⎢                                                      ⎜       ⎜       ⎜      \n",
       "⎣                                                      ⎝       ⎝       ⎝      \n",
       "\n",
       "            0⎤\n",
       "             ⎥\n",
       "             ⎥\n",
       "            0⎥\n",
       "             ⎥\n",
       "             ⎥\n",
       "             ⎥\n",
       "            0⎥\n",
       "             ⎥\n",
       "             ⎥\n",
       "             ⎥\n",
       "             ⎥\n",
       "             ⎥\n",
       "             ⎥\n",
       "            0⎥\n",
       "             ⎥\n",
       "             ⎥\n",
       "             ⎥\n",
       "             ⎥\n",
       "             ⎥\n",
       "             ⎥\n",
       "             ⎥\n",
       "             ⎥\n",
       "──────────  1⎥\n",
       "         ⎞   ⎥\n",
       "─────────⎟   ⎥\n",
       " d)     ⎞⎟   ⎥\n",
       "────────⎟⎟   ⎥\n",
       "(1 - d)⎞⎟⎟   ⎥\n",
       "───────⎟⎟⎟   ⎥\n",
       "   2   ⎟⎟⎟   ⎥\n",
       "  d    ⎠⎠⎠   ⎦"
      ]
     },
     "execution_count": 25,
     "metadata": {},
     "output_type": "execute_result"
    }
   ],
   "source": [
    "A[0]"
   ]
  },
  {
   "cell_type": "code",
   "execution_count": 26,
   "metadata": {},
   "outputs": [
    {
     "data": {
      "text/latex": [
       "$\\displaystyle \\left[\\begin{matrix}1 & \\frac{1 - d}{d} & 0 & 0 & 0\\\\0 & 1 + \\frac{2 \\left(1 - d\\right)}{d^{2}} & \\frac{2 - d}{d} & 0 & 0\\\\0 & 0 & 1 + \\frac{3 \\left(2 - d\\right)}{d^{2} \\left(1 + \\frac{2 \\left(1 - d\\right)}{d^{2}}\\right)} & \\frac{3 - d}{d} & 0\\\\0 & 0 & 0 & 1 + \\frac{4 \\left(3 - d\\right)}{d^{2} \\left(1 + \\frac{3 \\left(2 - d\\right)}{d^{2} \\left(1 + \\frac{2 \\left(1 - d\\right)}{d^{2}}\\right)}\\right)} & \\frac{4 - d}{d}\\\\0 & 0 & 0 & 0 & 1 + \\frac{5 \\left(4 - d\\right)}{d^{2} \\left(1 + \\frac{4 \\left(3 - d\\right)}{d^{2} \\left(1 + \\frac{3 \\left(2 - d\\right)}{d^{2} \\left(1 + \\frac{2 \\left(1 - d\\right)}{d^{2}}\\right)}\\right)}\\right)}\\end{matrix}\\right]$"
      ],
      "text/plain": [
       "⎡       1 - d                                                                 \n",
       "⎢1      ─────                0                            0                   \n",
       "⎢         d                                                                   \n",
       "⎢                                                                             \n",
       "⎢       2⋅(1 - d)          2 - d                                              \n",
       "⎢0  1 + ─────────          ─────                          0                   \n",
       "⎢            2               d                                                \n",
       "⎢           d                                                                 \n",
       "⎢                                                                             \n",
       "⎢                          3⋅(2 - d)                    3 - d                 \n",
       "⎢0        0        1 + ──────────────────               ─────                 \n",
       "⎢                       2 ⎛    2⋅(1 - d)⎞                 d                   \n",
       "⎢                      d ⋅⎜1 + ─────────⎟                                     \n",
       "⎢                         ⎜         2   ⎟                                     \n",
       "⎢                         ⎝        d    ⎠                                     \n",
       "⎢                                                                             \n",
       "⎢                                                       4⋅(3 - d)             \n",
       "⎢0        0                  0             1 + ───────────────────────────    \n",
       "⎢                                               2 ⎛        3⋅(2 - d)     ⎞    \n",
       "⎢                                              d ⋅⎜1 + ──────────────────⎟    \n",
       "⎢                                                 ⎜     2 ⎛    2⋅(1 - d)⎞⎟    \n",
       "⎢                                                 ⎜    d ⋅⎜1 + ─────────⎟⎟    \n",
       "⎢                                                 ⎜       ⎜         2   ⎟⎟    \n",
       "⎢                                                 ⎝       ⎝        d    ⎠⎠    \n",
       "⎢                                                                             \n",
       "⎢                                                                             \n",
       "⎢0        0                  0                            0                 1 \n",
       "⎢                                                                             \n",
       "⎢                                                                             \n",
       "⎢                                                                             \n",
       "⎢                                                                             \n",
       "⎢                                                                             \n",
       "⎢                                                                             \n",
       "⎢                                                                             \n",
       "⎣                                                                             \n",
       "\n",
       "                                      ⎤\n",
       "                 0                    ⎥\n",
       "                                      ⎥\n",
       "                                      ⎥\n",
       "                                      ⎥\n",
       "                 0                    ⎥\n",
       "                                      ⎥\n",
       "                                      ⎥\n",
       "                                      ⎥\n",
       "                                      ⎥\n",
       "                 0                    ⎥\n",
       "                                      ⎥\n",
       "                                      ⎥\n",
       "                                      ⎥\n",
       "                                      ⎥\n",
       "                                      ⎥\n",
       "               4 - d                  ⎥\n",
       "               ─────                  ⎥\n",
       "                 d                    ⎥\n",
       "                                      ⎥\n",
       "                                      ⎥\n",
       "                                      ⎥\n",
       "                                      ⎥\n",
       "                                      ⎥\n",
       "                                      ⎥\n",
       "               5⋅(4 - d)              ⎥\n",
       "+ ────────────────────────────────────⎥\n",
       "   2 ⎛             4⋅(3 - d)         ⎞⎥\n",
       "  d ⋅⎜1 + ───────────────────────────⎟⎥\n",
       "     ⎜     2 ⎛        3⋅(2 - d)     ⎞⎟⎥\n",
       "     ⎜    d ⋅⎜1 + ──────────────────⎟⎟⎥\n",
       "     ⎜       ⎜     2 ⎛    2⋅(1 - d)⎞⎟⎟⎥\n",
       "     ⎜       ⎜    d ⋅⎜1 + ─────────⎟⎟⎟⎥\n",
       "     ⎜       ⎜       ⎜         2   ⎟⎟⎟⎥\n",
       "     ⎝       ⎝       ⎝        d    ⎠⎠⎠⎦"
      ]
     },
     "execution_count": 26,
     "metadata": {},
     "output_type": "execute_result"
    }
   ],
   "source": [
    "A[1]"
   ]
  },
  {
   "cell_type": "code",
   "execution_count": 27,
   "metadata": {},
   "outputs": [
    {
     "data": {
      "text/latex": [
       "$\\displaystyle \\left[\\begin{matrix}\\frac{\\left(\\left(1 + \\frac{2 \\left(1 - d\\right)}{d^{2}} + \\frac{3 \\left(2 - d\\right)}{d^{2}} + \\frac{6 \\left(1 - d\\right) \\left(2 - d\\right)}{d^{4}}\\right) \\left(1 + \\frac{2 \\left(1 - d\\right)}{d^{2}} + \\frac{4 \\left(1 + \\frac{2 \\left(1 - d\\right)}{d^{2}}\\right) \\left(3 - d\\right)}{d^{2}} + \\frac{3 \\left(2 - d\\right)}{d^{2}}\\right) - \\frac{24 \\left(1 - d\\right) \\left(1 + \\frac{2 \\left(1 - d\\right)}{d^{2}}\\right) \\left(2 - d\\right) \\left(3 - d\\right)}{d^{6}}\\right) \\left(1 + \\frac{2 \\left(1 - d\\right)}{d^{2}} + \\frac{4 \\left(1 + \\frac{2 \\left(1 - d\\right)}{d^{2}}\\right) \\left(3 - d\\right)}{d^{2}} + \\frac{3 \\left(2 - d\\right)}{d^{2}} + \\frac{5 \\left(4 - d\\right) \\left(1 + \\frac{2 \\left(1 - d\\right)}{d^{2}} + \\frac{3 \\left(2 - d\\right)}{d^{2}}\\right)}{d^{2}}\\right) + \\frac{120 \\left(1 - d\\right) \\left(1 + \\frac{2 \\left(1 - d\\right)}{d^{2}}\\right) \\left(2 - d\\right) \\left(3 - d\\right) \\left(4 - d\\right) \\left(1 + \\frac{2 \\left(1 - d\\right)}{d^{2}} + \\frac{3 \\left(2 - d\\right)}{d^{2}}\\right)}{d^{8}}}{\\left(1 + \\frac{2 \\left(1 - d\\right)}{d^{2}}\\right) \\left(1 + \\frac{2 \\left(1 - d\\right)}{d^{2}} + \\frac{3 \\left(2 - d\\right)}{d^{2}}\\right) \\left(1 + \\frac{2 \\left(1 - d\\right)}{d^{2}} + \\frac{4 \\left(1 + \\frac{2 \\left(1 - d\\right)}{d^{2}}\\right) \\left(3 - d\\right)}{d^{2}} + \\frac{3 \\left(2 - d\\right)}{d^{2}}\\right) \\left(1 + \\frac{2 \\left(1 - d\\right)}{d^{2}} + \\frac{4 \\left(1 + \\frac{2 \\left(1 - d\\right)}{d^{2}}\\right) \\left(3 - d\\right)}{d^{2}} + \\frac{3 \\left(2 - d\\right)}{d^{2}} + \\frac{5 \\left(4 - d\\right) \\left(1 + \\frac{2 \\left(1 - d\\right)}{d^{2}} + \\frac{3 \\left(2 - d\\right)}{d^{2}}\\right)}{d^{2}}\\right)} & \\frac{\\left(\\left(- \\frac{\\left(1 - d\\right) \\left(1 + \\frac{2 \\left(1 - d\\right)}{d^{2}} + \\frac{3 \\left(2 - d\\right)}{d^{2}}\\right)}{d} + \\frac{3 \\left(1 - d\\right) \\left(2 - d\\right)}{d^{3}}\\right) \\left(1 + \\frac{2 \\left(1 - d\\right)}{d^{2}} + \\frac{4 \\left(1 + \\frac{2 \\left(1 - d\\right)}{d^{2}}\\right) \\left(3 - d\\right)}{d^{2}} + \\frac{3 \\left(2 - d\\right)}{d^{2}}\\right) - \\frac{12 \\left(1 - d\\right) \\left(1 + \\frac{2 \\left(1 - d\\right)}{d^{2}}\\right) \\left(2 - d\\right) \\left(3 - d\\right)}{d^{5}}\\right) \\left(1 + \\frac{2 \\left(1 - d\\right)}{d^{2}} + \\frac{4 \\left(1 + \\frac{2 \\left(1 - d\\right)}{d^{2}}\\right) \\left(3 - d\\right)}{d^{2}} + \\frac{3 \\left(2 - d\\right)}{d^{2}} + \\frac{5 \\left(4 - d\\right) \\left(1 + \\frac{2 \\left(1 - d\\right)}{d^{2}} + \\frac{3 \\left(2 - d\\right)}{d^{2}}\\right)}{d^{2}}\\right) + \\frac{60 \\left(1 - d\\right) \\left(1 + \\frac{2 \\left(1 - d\\right)}{d^{2}}\\right) \\left(2 - d\\right) \\left(3 - d\\right) \\left(4 - d\\right) \\left(1 + \\frac{2 \\left(1 - d\\right)}{d^{2}} + \\frac{3 \\left(2 - d\\right)}{d^{2}}\\right)}{d^{7}}}{\\left(1 + \\frac{2 \\left(1 - d\\right)}{d^{2}}\\right) \\left(1 + \\frac{2 \\left(1 - d\\right)}{d^{2}} + \\frac{3 \\left(2 - d\\right)}{d^{2}}\\right) \\left(1 + \\frac{2 \\left(1 - d\\right)}{d^{2}} + \\frac{4 \\left(1 + \\frac{2 \\left(1 - d\\right)}{d^{2}}\\right) \\left(3 - d\\right)}{d^{2}} + \\frac{3 \\left(2 - d\\right)}{d^{2}}\\right) \\left(1 + \\frac{2 \\left(1 - d\\right)}{d^{2}} + \\frac{4 \\left(1 + \\frac{2 \\left(1 - d\\right)}{d^{2}}\\right) \\left(3 - d\\right)}{d^{2}} + \\frac{3 \\left(2 - d\\right)}{d^{2}} + \\frac{5 \\left(4 - d\\right) \\left(1 + \\frac{2 \\left(1 - d\\right)}{d^{2}} + \\frac{3 \\left(2 - d\\right)}{d^{2}}\\right)}{d^{2}}\\right)} & \\frac{\\left(\\frac{\\left(1 - d\\right) \\left(1 + \\frac{2 \\left(1 - d\\right)}{d^{2}}\\right) \\left(2 - d\\right) \\left(1 + \\frac{2 \\left(1 - d\\right)}{d^{2}} + \\frac{4 \\left(1 + \\frac{2 \\left(1 - d\\right)}{d^{2}}\\right) \\left(3 - d\\right)}{d^{2}} + \\frac{3 \\left(2 - d\\right)}{d^{2}}\\right)}{d^{2}} - \\frac{4 \\left(1 - d\\right) \\left(1 + \\frac{2 \\left(1 - d\\right)}{d^{2}}\\right)^{2} \\left(2 - d\\right) \\left(3 - d\\right)}{d^{4}}\\right) \\left(1 + \\frac{2 \\left(1 - d\\right)}{d^{2}} + \\frac{4 \\left(1 + \\frac{2 \\left(1 - d\\right)}{d^{2}}\\right) \\left(3 - d\\right)}{d^{2}} + \\frac{3 \\left(2 - d\\right)}{d^{2}} + \\frac{5 \\left(4 - d\\right) \\left(1 + \\frac{2 \\left(1 - d\\right)}{d^{2}} + \\frac{3 \\left(2 - d\\right)}{d^{2}}\\right)}{d^{2}}\\right) + \\frac{20 \\left(1 - d\\right) \\left(1 + \\frac{2 \\left(1 - d\\right)}{d^{2}}\\right)^{2} \\left(2 - d\\right) \\left(3 - d\\right) \\left(4 - d\\right) \\left(1 + \\frac{2 \\left(1 - d\\right)}{d^{2}} + \\frac{3 \\left(2 - d\\right)}{d^{2}}\\right)}{d^{6}}}{\\left(1 + \\frac{2 \\left(1 - d\\right)}{d^{2}}\\right) \\left(1 + \\frac{2 \\left(1 - d\\right)}{d^{2}} + \\frac{3 \\left(2 - d\\right)}{d^{2}}\\right) \\left(1 + \\frac{2 \\left(1 - d\\right)}{d^{2}} + \\frac{4 \\left(1 + \\frac{2 \\left(1 - d\\right)}{d^{2}}\\right) \\left(3 - d\\right)}{d^{2}} + \\frac{3 \\left(2 - d\\right)}{d^{2}}\\right) \\left(1 + \\frac{2 \\left(1 - d\\right)}{d^{2}} + \\frac{4 \\left(1 + \\frac{2 \\left(1 - d\\right)}{d^{2}}\\right) \\left(3 - d\\right)}{d^{2}} + \\frac{3 \\left(2 - d\\right)}{d^{2}} + \\frac{5 \\left(4 - d\\right) \\left(1 + \\frac{2 \\left(1 - d\\right)}{d^{2}} + \\frac{3 \\left(2 - d\\right)}{d^{2}}\\right)}{d^{2}}\\right)} & \\frac{- \\frac{\\left(1 - d\\right) \\left(1 + \\frac{2 \\left(1 - d\\right)}{d^{2}}\\right) \\left(2 - d\\right) \\left(3 - d\\right) \\left(1 + \\frac{2 \\left(1 - d\\right)}{d^{2}} + \\frac{3 \\left(2 - d\\right)}{d^{2}}\\right) \\left(1 + \\frac{2 \\left(1 - d\\right)}{d^{2}} + \\frac{4 \\left(1 + \\frac{2 \\left(1 - d\\right)}{d^{2}}\\right) \\left(3 - d\\right)}{d^{2}} + \\frac{3 \\left(2 - d\\right)}{d^{2}} + \\frac{5 \\left(4 - d\\right) \\left(1 + \\frac{2 \\left(1 - d\\right)}{d^{2}} + \\frac{3 \\left(2 - d\\right)}{d^{2}}\\right)}{d^{2}}\\right)}{d^{3}} + \\frac{5 \\left(1 - d\\right) \\left(1 + \\frac{2 \\left(1 - d\\right)}{d^{2}}\\right) \\left(2 - d\\right) \\left(3 - d\\right) \\left(4 - d\\right) \\left(1 + \\frac{2 \\left(1 - d\\right)}{d^{2}} + \\frac{3 \\left(2 - d\\right)}{d^{2}}\\right)^{2}}{d^{5}}}{\\left(1 + \\frac{2 \\left(1 - d\\right)}{d^{2}}\\right) \\left(1 + \\frac{2 \\left(1 - d\\right)}{d^{2}} + \\frac{3 \\left(2 - d\\right)}{d^{2}}\\right) \\left(1 + \\frac{2 \\left(1 - d\\right)}{d^{2}} + \\frac{4 \\left(1 + \\frac{2 \\left(1 - d\\right)}{d^{2}}\\right) \\left(3 - d\\right)}{d^{2}} + \\frac{3 \\left(2 - d\\right)}{d^{2}}\\right) \\left(1 + \\frac{2 \\left(1 - d\\right)}{d^{2}} + \\frac{4 \\left(1 + \\frac{2 \\left(1 - d\\right)}{d^{2}}\\right) \\left(3 - d\\right)}{d^{2}} + \\frac{3 \\left(2 - d\\right)}{d^{2}} + \\frac{5 \\left(4 - d\\right) \\left(1 + \\frac{2 \\left(1 - d\\right)}{d^{2}} + \\frac{3 \\left(2 - d\\right)}{d^{2}}\\right)}{d^{2}}\\right)} & \\frac{\\left(1 - d\\right) \\left(2 - d\\right) \\left(3 - d\\right) \\left(4 - d\\right)}{d^{4} \\left(1 + \\frac{2 \\left(1 - d\\right)}{d^{2}} + \\frac{4 \\left(1 + \\frac{2 \\left(1 - d\\right)}{d^{2}}\\right) \\left(3 - d\\right)}{d^{2}} + \\frac{3 \\left(2 - d\\right)}{d^{2}} + \\frac{5 \\left(4 - d\\right) \\left(1 + \\frac{2 \\left(1 - d\\right)}{d^{2}} + \\frac{3 \\left(2 - d\\right)}{d^{2}}\\right)}{d^{2}}\\right)}\\\\\\frac{\\left(\\left(\\frac{2 \\left(1 + \\frac{2 \\left(1 - d\\right)}{d^{2}} + \\frac{3 \\left(2 - d\\right)}{d^{2}}\\right)}{d} - \\frac{6 \\left(2 - d\\right)}{d^{3}}\\right) \\left(1 + \\frac{2 \\left(1 - d\\right)}{d^{2}} + \\frac{4 \\left(1 + \\frac{2 \\left(1 - d\\right)}{d^{2}}\\right) \\left(3 - d\\right)}{d^{2}} + \\frac{3 \\left(2 - d\\right)}{d^{2}}\\right) + \\frac{24 \\left(1 + \\frac{2 \\left(1 - d\\right)}{d^{2}}\\right) \\left(2 - d\\right) \\left(3 - d\\right)}{d^{5}}\\right) \\left(1 + \\frac{2 \\left(1 - d\\right)}{d^{2}} + \\frac{4 \\left(1 + \\frac{2 \\left(1 - d\\right)}{d^{2}}\\right) \\left(3 - d\\right)}{d^{2}} + \\frac{3 \\left(2 - d\\right)}{d^{2}} + \\frac{5 \\left(4 - d\\right) \\left(1 + \\frac{2 \\left(1 - d\\right)}{d^{2}} + \\frac{3 \\left(2 - d\\right)}{d^{2}}\\right)}{d^{2}}\\right) - \\frac{120 \\left(1 + \\frac{2 \\left(1 - d\\right)}{d^{2}}\\right) \\left(2 - d\\right) \\left(3 - d\\right) \\left(4 - d\\right) \\left(1 + \\frac{2 \\left(1 - d\\right)}{d^{2}} + \\frac{3 \\left(2 - d\\right)}{d^{2}}\\right)}{d^{7}}}{\\left(1 + \\frac{2 \\left(1 - d\\right)}{d^{2}}\\right) \\left(1 + \\frac{2 \\left(1 - d\\right)}{d^{2}} + \\frac{3 \\left(2 - d\\right)}{d^{2}}\\right) \\left(1 + \\frac{2 \\left(1 - d\\right)}{d^{2}} + \\frac{4 \\left(1 + \\frac{2 \\left(1 - d\\right)}{d^{2}}\\right) \\left(3 - d\\right)}{d^{2}} + \\frac{3 \\left(2 - d\\right)}{d^{2}}\\right) \\left(1 + \\frac{2 \\left(1 - d\\right)}{d^{2}} + \\frac{4 \\left(1 + \\frac{2 \\left(1 - d\\right)}{d^{2}}\\right) \\left(3 - d\\right)}{d^{2}} + \\frac{3 \\left(2 - d\\right)}{d^{2}} + \\frac{5 \\left(4 - d\\right) \\left(1 + \\frac{2 \\left(1 - d\\right)}{d^{2}} + \\frac{3 \\left(2 - d\\right)}{d^{2}}\\right)}{d^{2}}\\right)} & \\frac{\\left(\\left(1 + \\frac{2 \\left(1 - d\\right)}{d^{2}}\\right) \\left(1 + \\frac{2 \\left(1 - d\\right)}{d^{2}} + \\frac{4 \\left(1 + \\frac{2 \\left(1 - d\\right)}{d^{2}}\\right) \\left(3 - d\\right)}{d^{2}} + \\frac{3 \\left(2 - d\\right)}{d^{2}}\\right) + \\frac{12 \\left(1 + \\frac{2 \\left(1 - d\\right)}{d^{2}}\\right) \\left(2 - d\\right) \\left(3 - d\\right)}{d^{4}}\\right) \\left(1 + \\frac{2 \\left(1 - d\\right)}{d^{2}} + \\frac{4 \\left(1 + \\frac{2 \\left(1 - d\\right)}{d^{2}}\\right) \\left(3 - d\\right)}{d^{2}} + \\frac{3 \\left(2 - d\\right)}{d^{2}} + \\frac{5 \\left(4 - d\\right) \\left(1 + \\frac{2 \\left(1 - d\\right)}{d^{2}} + \\frac{3 \\left(2 - d\\right)}{d^{2}}\\right)}{d^{2}}\\right) - \\frac{60 \\left(1 + \\frac{2 \\left(1 - d\\right)}{d^{2}}\\right) \\left(2 - d\\right) \\left(3 - d\\right) \\left(4 - d\\right) \\left(1 + \\frac{2 \\left(1 - d\\right)}{d^{2}} + \\frac{3 \\left(2 - d\\right)}{d^{2}}\\right)}{d^{6}}}{\\left(1 + \\frac{2 \\left(1 - d\\right)}{d^{2}}\\right) \\left(1 + \\frac{2 \\left(1 - d\\right)}{d^{2}} + \\frac{3 \\left(2 - d\\right)}{d^{2}}\\right) \\left(1 + \\frac{2 \\left(1 - d\\right)}{d^{2}} + \\frac{4 \\left(1 + \\frac{2 \\left(1 - d\\right)}{d^{2}}\\right) \\left(3 - d\\right)}{d^{2}} + \\frac{3 \\left(2 - d\\right)}{d^{2}}\\right) \\left(1 + \\frac{2 \\left(1 - d\\right)}{d^{2}} + \\frac{4 \\left(1 + \\frac{2 \\left(1 - d\\right)}{d^{2}}\\right) \\left(3 - d\\right)}{d^{2}} + \\frac{3 \\left(2 - d\\right)}{d^{2}} + \\frac{5 \\left(4 - d\\right) \\left(1 + \\frac{2 \\left(1 - d\\right)}{d^{2}} + \\frac{3 \\left(2 - d\\right)}{d^{2}}\\right)}{d^{2}}\\right)} & \\frac{\\left(- \\frac{\\left(1 + \\frac{2 \\left(1 - d\\right)}{d^{2}}\\right) \\left(2 - d\\right) \\left(1 + \\frac{2 \\left(1 - d\\right)}{d^{2}} + \\frac{4 \\left(1 + \\frac{2 \\left(1 - d\\right)}{d^{2}}\\right) \\left(3 - d\\right)}{d^{2}} + \\frac{3 \\left(2 - d\\right)}{d^{2}}\\right)}{d} + \\frac{4 \\left(1 + \\frac{2 \\left(1 - d\\right)}{d^{2}}\\right)^{2} \\left(2 - d\\right) \\left(3 - d\\right)}{d^{3}}\\right) \\left(1 + \\frac{2 \\left(1 - d\\right)}{d^{2}} + \\frac{4 \\left(1 + \\frac{2 \\left(1 - d\\right)}{d^{2}}\\right) \\left(3 - d\\right)}{d^{2}} + \\frac{3 \\left(2 - d\\right)}{d^{2}} + \\frac{5 \\left(4 - d\\right) \\left(1 + \\frac{2 \\left(1 - d\\right)}{d^{2}} + \\frac{3 \\left(2 - d\\right)}{d^{2}}\\right)}{d^{2}}\\right) - \\frac{20 \\left(1 + \\frac{2 \\left(1 - d\\right)}{d^{2}}\\right)^{2} \\left(2 - d\\right) \\left(3 - d\\right) \\left(4 - d\\right) \\left(1 + \\frac{2 \\left(1 - d\\right)}{d^{2}} + \\frac{3 \\left(2 - d\\right)}{d^{2}}\\right)}{d^{5}}}{\\left(1 + \\frac{2 \\left(1 - d\\right)}{d^{2}}\\right) \\left(1 + \\frac{2 \\left(1 - d\\right)}{d^{2}} + \\frac{3 \\left(2 - d\\right)}{d^{2}}\\right) \\left(1 + \\frac{2 \\left(1 - d\\right)}{d^{2}} + \\frac{4 \\left(1 + \\frac{2 \\left(1 - d\\right)}{d^{2}}\\right) \\left(3 - d\\right)}{d^{2}} + \\frac{3 \\left(2 - d\\right)}{d^{2}}\\right) \\left(1 + \\frac{2 \\left(1 - d\\right)}{d^{2}} + \\frac{4 \\left(1 + \\frac{2 \\left(1 - d\\right)}{d^{2}}\\right) \\left(3 - d\\right)}{d^{2}} + \\frac{3 \\left(2 - d\\right)}{d^{2}} + \\frac{5 \\left(4 - d\\right) \\left(1 + \\frac{2 \\left(1 - d\\right)}{d^{2}} + \\frac{3 \\left(2 - d\\right)}{d^{2}}\\right)}{d^{2}}\\right)} & \\frac{\\frac{\\left(1 + \\frac{2 \\left(1 - d\\right)}{d^{2}}\\right) \\left(2 - d\\right) \\left(3 - d\\right) \\left(1 + \\frac{2 \\left(1 - d\\right)}{d^{2}} + \\frac{3 \\left(2 - d\\right)}{d^{2}}\\right) \\left(1 + \\frac{2 \\left(1 - d\\right)}{d^{2}} + \\frac{4 \\left(1 + \\frac{2 \\left(1 - d\\right)}{d^{2}}\\right) \\left(3 - d\\right)}{d^{2}} + \\frac{3 \\left(2 - d\\right)}{d^{2}} + \\frac{5 \\left(4 - d\\right) \\left(1 + \\frac{2 \\left(1 - d\\right)}{d^{2}} + \\frac{3 \\left(2 - d\\right)}{d^{2}}\\right)}{d^{2}}\\right)}{d^{2}} - \\frac{5 \\left(1 + \\frac{2 \\left(1 - d\\right)}{d^{2}}\\right) \\left(2 - d\\right) \\left(3 - d\\right) \\left(4 - d\\right) \\left(1 + \\frac{2 \\left(1 - d\\right)}{d^{2}} + \\frac{3 \\left(2 - d\\right)}{d^{2}}\\right)^{2}}{d^{4}}}{\\left(1 + \\frac{2 \\left(1 - d\\right)}{d^{2}}\\right) \\left(1 + \\frac{2 \\left(1 - d\\right)}{d^{2}} + \\frac{3 \\left(2 - d\\right)}{d^{2}}\\right) \\left(1 + \\frac{2 \\left(1 - d\\right)}{d^{2}} + \\frac{4 \\left(1 + \\frac{2 \\left(1 - d\\right)}{d^{2}}\\right) \\left(3 - d\\right)}{d^{2}} + \\frac{3 \\left(2 - d\\right)}{d^{2}}\\right) \\left(1 + \\frac{2 \\left(1 - d\\right)}{d^{2}} + \\frac{4 \\left(1 + \\frac{2 \\left(1 - d\\right)}{d^{2}}\\right) \\left(3 - d\\right)}{d^{2}} + \\frac{3 \\left(2 - d\\right)}{d^{2}} + \\frac{5 \\left(4 - d\\right) \\left(1 + \\frac{2 \\left(1 - d\\right)}{d^{2}} + \\frac{3 \\left(2 - d\\right)}{d^{2}}\\right)}{d^{2}}\\right)} & - \\frac{\\left(2 - d\\right) \\left(3 - d\\right) \\left(4 - d\\right)}{d^{3} \\left(1 + \\frac{2 \\left(1 - d\\right)}{d^{2}} + \\frac{4 \\left(1 + \\frac{2 \\left(1 - d\\right)}{d^{2}}\\right) \\left(3 - d\\right)}{d^{2}} + \\frac{3 \\left(2 - d\\right)}{d^{2}} + \\frac{5 \\left(4 - d\\right) \\left(1 + \\frac{2 \\left(1 - d\\right)}{d^{2}} + \\frac{3 \\left(2 - d\\right)}{d^{2}}\\right)}{d^{2}}\\right)}\\\\\\frac{\\left(\\frac{6 \\left(1 + \\frac{2 \\left(1 - d\\right)}{d^{2}} + \\frac{4 \\left(1 + \\frac{2 \\left(1 - d\\right)}{d^{2}}\\right) \\left(3 - d\\right)}{d^{2}} + \\frac{3 \\left(2 - d\\right)}{d^{2}}\\right)}{d^{2}} - \\frac{24 \\left(1 + \\frac{2 \\left(1 - d\\right)}{d^{2}}\\right) \\left(3 - d\\right)}{d^{4}}\\right) \\left(1 + \\frac{2 \\left(1 - d\\right)}{d^{2}} + \\frac{4 \\left(1 + \\frac{2 \\left(1 - d\\right)}{d^{2}}\\right) \\left(3 - d\\right)}{d^{2}} + \\frac{3 \\left(2 - d\\right)}{d^{2}} + \\frac{5 \\left(4 - d\\right) \\left(1 + \\frac{2 \\left(1 - d\\right)}{d^{2}} + \\frac{3 \\left(2 - d\\right)}{d^{2}}\\right)}{d^{2}}\\right) + \\frac{120 \\left(1 + \\frac{2 \\left(1 - d\\right)}{d^{2}}\\right) \\left(3 - d\\right) \\left(4 - d\\right) \\left(1 + \\frac{2 \\left(1 - d\\right)}{d^{2}} + \\frac{3 \\left(2 - d\\right)}{d^{2}}\\right)}{d^{6}}}{\\left(1 + \\frac{2 \\left(1 - d\\right)}{d^{2}} + \\frac{3 \\left(2 - d\\right)}{d^{2}}\\right) \\left(1 + \\frac{2 \\left(1 - d\\right)}{d^{2}} + \\frac{4 \\left(1 + \\frac{2 \\left(1 - d\\right)}{d^{2}}\\right) \\left(3 - d\\right)}{d^{2}} + \\frac{3 \\left(2 - d\\right)}{d^{2}}\\right) \\left(1 + \\frac{2 \\left(1 - d\\right)}{d^{2}} + \\frac{4 \\left(1 + \\frac{2 \\left(1 - d\\right)}{d^{2}}\\right) \\left(3 - d\\right)}{d^{2}} + \\frac{3 \\left(2 - d\\right)}{d^{2}} + \\frac{5 \\left(4 - d\\right) \\left(1 + \\frac{2 \\left(1 - d\\right)}{d^{2}} + \\frac{3 \\left(2 - d\\right)}{d^{2}}\\right)}{d^{2}}\\right)} & \\frac{\\left(\\frac{3 \\left(1 + \\frac{2 \\left(1 - d\\right)}{d^{2}} + \\frac{4 \\left(1 + \\frac{2 \\left(1 - d\\right)}{d^{2}}\\right) \\left(3 - d\\right)}{d^{2}} + \\frac{3 \\left(2 - d\\right)}{d^{2}}\\right)}{d} - \\frac{12 \\left(1 + \\frac{2 \\left(1 - d\\right)}{d^{2}}\\right) \\left(3 - d\\right)}{d^{3}}\\right) \\left(1 + \\frac{2 \\left(1 - d\\right)}{d^{2}} + \\frac{4 \\left(1 + \\frac{2 \\left(1 - d\\right)}{d^{2}}\\right) \\left(3 - d\\right)}{d^{2}} + \\frac{3 \\left(2 - d\\right)}{d^{2}} + \\frac{5 \\left(4 - d\\right) \\left(1 + \\frac{2 \\left(1 - d\\right)}{d^{2}} + \\frac{3 \\left(2 - d\\right)}{d^{2}}\\right)}{d^{2}}\\right) + \\frac{60 \\left(1 + \\frac{2 \\left(1 - d\\right)}{d^{2}}\\right) \\left(3 - d\\right) \\left(4 - d\\right) \\left(1 + \\frac{2 \\left(1 - d\\right)}{d^{2}} + \\frac{3 \\left(2 - d\\right)}{d^{2}}\\right)}{d^{5}}}{\\left(1 + \\frac{2 \\left(1 - d\\right)}{d^{2}} + \\frac{3 \\left(2 - d\\right)}{d^{2}}\\right) \\left(1 + \\frac{2 \\left(1 - d\\right)}{d^{2}} + \\frac{4 \\left(1 + \\frac{2 \\left(1 - d\\right)}{d^{2}}\\right) \\left(3 - d\\right)}{d^{2}} + \\frac{3 \\left(2 - d\\right)}{d^{2}}\\right) \\left(1 + \\frac{2 \\left(1 - d\\right)}{d^{2}} + \\frac{4 \\left(1 + \\frac{2 \\left(1 - d\\right)}{d^{2}}\\right) \\left(3 - d\\right)}{d^{2}} + \\frac{3 \\left(2 - d\\right)}{d^{2}} + \\frac{5 \\left(4 - d\\right) \\left(1 + \\frac{2 \\left(1 - d\\right)}{d^{2}} + \\frac{3 \\left(2 - d\\right)}{d^{2}}\\right)}{d^{2}}\\right)} & \\frac{\\left(\\left(1 + \\frac{2 \\left(1 - d\\right)}{d^{2}}\\right) \\left(1 + \\frac{2 \\left(1 - d\\right)}{d^{2}} + \\frac{4 \\left(1 + \\frac{2 \\left(1 - d\\right)}{d^{2}}\\right) \\left(3 - d\\right)}{d^{2}} + \\frac{3 \\left(2 - d\\right)}{d^{2}}\\right) - \\frac{4 \\left(1 + \\frac{2 \\left(1 - d\\right)}{d^{2}}\\right)^{2} \\left(3 - d\\right)}{d^{2}}\\right) \\left(1 + \\frac{2 \\left(1 - d\\right)}{d^{2}} + \\frac{4 \\left(1 + \\frac{2 \\left(1 - d\\right)}{d^{2}}\\right) \\left(3 - d\\right)}{d^{2}} + \\frac{3 \\left(2 - d\\right)}{d^{2}} + \\frac{5 \\left(4 - d\\right) \\left(1 + \\frac{2 \\left(1 - d\\right)}{d^{2}} + \\frac{3 \\left(2 - d\\right)}{d^{2}}\\right)}{d^{2}}\\right) + \\frac{20 \\left(1 + \\frac{2 \\left(1 - d\\right)}{d^{2}}\\right)^{2} \\left(3 - d\\right) \\left(4 - d\\right) \\left(1 + \\frac{2 \\left(1 - d\\right)}{d^{2}} + \\frac{3 \\left(2 - d\\right)}{d^{2}}\\right)}{d^{4}}}{\\left(1 + \\frac{2 \\left(1 - d\\right)}{d^{2}} + \\frac{3 \\left(2 - d\\right)}{d^{2}}\\right) \\left(1 + \\frac{2 \\left(1 - d\\right)}{d^{2}} + \\frac{4 \\left(1 + \\frac{2 \\left(1 - d\\right)}{d^{2}}\\right) \\left(3 - d\\right)}{d^{2}} + \\frac{3 \\left(2 - d\\right)}{d^{2}}\\right) \\left(1 + \\frac{2 \\left(1 - d\\right)}{d^{2}} + \\frac{4 \\left(1 + \\frac{2 \\left(1 - d\\right)}{d^{2}}\\right) \\left(3 - d\\right)}{d^{2}} + \\frac{3 \\left(2 - d\\right)}{d^{2}} + \\frac{5 \\left(4 - d\\right) \\left(1 + \\frac{2 \\left(1 - d\\right)}{d^{2}} + \\frac{3 \\left(2 - d\\right)}{d^{2}}\\right)}{d^{2}}\\right)} & \\frac{- \\frac{\\left(1 + \\frac{2 \\left(1 - d\\right)}{d^{2}}\\right) \\left(3 - d\\right) \\left(1 + \\frac{2 \\left(1 - d\\right)}{d^{2}} + \\frac{3 \\left(2 - d\\right)}{d^{2}}\\right) \\left(1 + \\frac{2 \\left(1 - d\\right)}{d^{2}} + \\frac{4 \\left(1 + \\frac{2 \\left(1 - d\\right)}{d^{2}}\\right) \\left(3 - d\\right)}{d^{2}} + \\frac{3 \\left(2 - d\\right)}{d^{2}} + \\frac{5 \\left(4 - d\\right) \\left(1 + \\frac{2 \\left(1 - d\\right)}{d^{2}} + \\frac{3 \\left(2 - d\\right)}{d^{2}}\\right)}{d^{2}}\\right)}{d} + \\frac{5 \\left(1 + \\frac{2 \\left(1 - d\\right)}{d^{2}}\\right) \\left(3 - d\\right) \\left(4 - d\\right) \\left(1 + \\frac{2 \\left(1 - d\\right)}{d^{2}} + \\frac{3 \\left(2 - d\\right)}{d^{2}}\\right)^{2}}{d^{3}}}{\\left(1 + \\frac{2 \\left(1 - d\\right)}{d^{2}} + \\frac{3 \\left(2 - d\\right)}{d^{2}}\\right) \\left(1 + \\frac{2 \\left(1 - d\\right)}{d^{2}} + \\frac{4 \\left(1 + \\frac{2 \\left(1 - d\\right)}{d^{2}}\\right) \\left(3 - d\\right)}{d^{2}} + \\frac{3 \\left(2 - d\\right)}{d^{2}}\\right) \\left(1 + \\frac{2 \\left(1 - d\\right)}{d^{2}} + \\frac{4 \\left(1 + \\frac{2 \\left(1 - d\\right)}{d^{2}}\\right) \\left(3 - d\\right)}{d^{2}} + \\frac{3 \\left(2 - d\\right)}{d^{2}} + \\frac{5 \\left(4 - d\\right) \\left(1 + \\frac{2 \\left(1 - d\\right)}{d^{2}} + \\frac{3 \\left(2 - d\\right)}{d^{2}}\\right)}{d^{2}}\\right)} & \\frac{\\left(1 + \\frac{2 \\left(1 - d\\right)}{d^{2}}\\right) \\left(3 - d\\right) \\left(4 - d\\right)}{d^{2} \\left(1 + \\frac{2 \\left(1 - d\\right)}{d^{2}} + \\frac{4 \\left(1 + \\frac{2 \\left(1 - d\\right)}{d^{2}}\\right) \\left(3 - d\\right)}{d^{2}} + \\frac{3 \\left(2 - d\\right)}{d^{2}} + \\frac{5 \\left(4 - d\\right) \\left(1 + \\frac{2 \\left(1 - d\\right)}{d^{2}} + \\frac{3 \\left(2 - d\\right)}{d^{2}}\\right)}{d^{2}}\\right)}\\\\\\frac{\\frac{24 \\left(1 + \\frac{2 \\left(1 - d\\right)}{d^{2}} + \\frac{4 \\left(1 + \\frac{2 \\left(1 - d\\right)}{d^{2}}\\right) \\left(3 - d\\right)}{d^{2}} + \\frac{3 \\left(2 - d\\right)}{d^{2}} + \\frac{5 \\left(4 - d\\right) \\left(1 + \\frac{2 \\left(1 - d\\right)}{d^{2}} + \\frac{3 \\left(2 - d\\right)}{d^{2}}\\right)}{d^{2}}\\right)}{d^{3}} - \\frac{120 \\left(4 - d\\right) \\left(1 + \\frac{2 \\left(1 - d\\right)}{d^{2}} + \\frac{3 \\left(2 - d\\right)}{d^{2}}\\right)}{d^{5}}}{\\left(1 + \\frac{2 \\left(1 - d\\right)}{d^{2}} + \\frac{4 \\left(1 + \\frac{2 \\left(1 - d\\right)}{d^{2}}\\right) \\left(3 - d\\right)}{d^{2}} + \\frac{3 \\left(2 - d\\right)}{d^{2}}\\right) \\left(1 + \\frac{2 \\left(1 - d\\right)}{d^{2}} + \\frac{4 \\left(1 + \\frac{2 \\left(1 - d\\right)}{d^{2}}\\right) \\left(3 - d\\right)}{d^{2}} + \\frac{3 \\left(2 - d\\right)}{d^{2}} + \\frac{5 \\left(4 - d\\right) \\left(1 + \\frac{2 \\left(1 - d\\right)}{d^{2}} + \\frac{3 \\left(2 - d\\right)}{d^{2}}\\right)}{d^{2}}\\right)} & \\frac{\\frac{12 \\left(1 + \\frac{2 \\left(1 - d\\right)}{d^{2}} + \\frac{4 \\left(1 + \\frac{2 \\left(1 - d\\right)}{d^{2}}\\right) \\left(3 - d\\right)}{d^{2}} + \\frac{3 \\left(2 - d\\right)}{d^{2}} + \\frac{5 \\left(4 - d\\right) \\left(1 + \\frac{2 \\left(1 - d\\right)}{d^{2}} + \\frac{3 \\left(2 - d\\right)}{d^{2}}\\right)}{d^{2}}\\right)}{d^{2}} - \\frac{60 \\left(4 - d\\right) \\left(1 + \\frac{2 \\left(1 - d\\right)}{d^{2}} + \\frac{3 \\left(2 - d\\right)}{d^{2}}\\right)}{d^{4}}}{\\left(1 + \\frac{2 \\left(1 - d\\right)}{d^{2}} + \\frac{4 \\left(1 + \\frac{2 \\left(1 - d\\right)}{d^{2}}\\right) \\left(3 - d\\right)}{d^{2}} + \\frac{3 \\left(2 - d\\right)}{d^{2}}\\right) \\left(1 + \\frac{2 \\left(1 - d\\right)}{d^{2}} + \\frac{4 \\left(1 + \\frac{2 \\left(1 - d\\right)}{d^{2}}\\right) \\left(3 - d\\right)}{d^{2}} + \\frac{3 \\left(2 - d\\right)}{d^{2}} + \\frac{5 \\left(4 - d\\right) \\left(1 + \\frac{2 \\left(1 - d\\right)}{d^{2}} + \\frac{3 \\left(2 - d\\right)}{d^{2}}\\right)}{d^{2}}\\right)} & \\frac{\\frac{4 \\left(1 + \\frac{2 \\left(1 - d\\right)}{d^{2}}\\right) \\left(1 + \\frac{2 \\left(1 - d\\right)}{d^{2}} + \\frac{4 \\left(1 + \\frac{2 \\left(1 - d\\right)}{d^{2}}\\right) \\left(3 - d\\right)}{d^{2}} + \\frac{3 \\left(2 - d\\right)}{d^{2}} + \\frac{5 \\left(4 - d\\right) \\left(1 + \\frac{2 \\left(1 - d\\right)}{d^{2}} + \\frac{3 \\left(2 - d\\right)}{d^{2}}\\right)}{d^{2}}\\right)}{d} - \\frac{20 \\left(1 + \\frac{2 \\left(1 - d\\right)}{d^{2}}\\right) \\left(4 - d\\right) \\left(1 + \\frac{2 \\left(1 - d\\right)}{d^{2}} + \\frac{3 \\left(2 - d\\right)}{d^{2}}\\right)}{d^{3}}}{\\left(1 + \\frac{2 \\left(1 - d\\right)}{d^{2}} + \\frac{4 \\left(1 + \\frac{2 \\left(1 - d\\right)}{d^{2}}\\right) \\left(3 - d\\right)}{d^{2}} + \\frac{3 \\left(2 - d\\right)}{d^{2}}\\right) \\left(1 + \\frac{2 \\left(1 - d\\right)}{d^{2}} + \\frac{4 \\left(1 + \\frac{2 \\left(1 - d\\right)}{d^{2}}\\right) \\left(3 - d\\right)}{d^{2}} + \\frac{3 \\left(2 - d\\right)}{d^{2}} + \\frac{5 \\left(4 - d\\right) \\left(1 + \\frac{2 \\left(1 - d\\right)}{d^{2}} + \\frac{3 \\left(2 - d\\right)}{d^{2}}\\right)}{d^{2}}\\right)} & \\frac{\\left(1 + \\frac{2 \\left(1 - d\\right)}{d^{2}} + \\frac{3 \\left(2 - d\\right)}{d^{2}}\\right) \\left(1 + \\frac{2 \\left(1 - d\\right)}{d^{2}} + \\frac{4 \\left(1 + \\frac{2 \\left(1 - d\\right)}{d^{2}}\\right) \\left(3 - d\\right)}{d^{2}} + \\frac{3 \\left(2 - d\\right)}{d^{2}} + \\frac{5 \\left(4 - d\\right) \\left(1 + \\frac{2 \\left(1 - d\\right)}{d^{2}} + \\frac{3 \\left(2 - d\\right)}{d^{2}}\\right)}{d^{2}}\\right) - \\frac{5 \\left(4 - d\\right) \\left(1 + \\frac{2 \\left(1 - d\\right)}{d^{2}} + \\frac{3 \\left(2 - d\\right)}{d^{2}}\\right)^{2}}{d^{2}}}{\\left(1 + \\frac{2 \\left(1 - d\\right)}{d^{2}} + \\frac{4 \\left(1 + \\frac{2 \\left(1 - d\\right)}{d^{2}}\\right) \\left(3 - d\\right)}{d^{2}} + \\frac{3 \\left(2 - d\\right)}{d^{2}}\\right) \\left(1 + \\frac{2 \\left(1 - d\\right)}{d^{2}} + \\frac{4 \\left(1 + \\frac{2 \\left(1 - d\\right)}{d^{2}}\\right) \\left(3 - d\\right)}{d^{2}} + \\frac{3 \\left(2 - d\\right)}{d^{2}} + \\frac{5 \\left(4 - d\\right) \\left(1 + \\frac{2 \\left(1 - d\\right)}{d^{2}} + \\frac{3 \\left(2 - d\\right)}{d^{2}}\\right)}{d^{2}}\\right)} & - \\frac{\\left(4 - d\\right) \\left(1 + \\frac{2 \\left(1 - d\\right)}{d^{2}} + \\frac{3 \\left(2 - d\\right)}{d^{2}}\\right)}{d \\left(1 + \\frac{2 \\left(1 - d\\right)}{d^{2}} + \\frac{4 \\left(1 + \\frac{2 \\left(1 - d\\right)}{d^{2}}\\right) \\left(3 - d\\right)}{d^{2}} + \\frac{3 \\left(2 - d\\right)}{d^{2}} + \\frac{5 \\left(4 - d\\right) \\left(1 + \\frac{2 \\left(1 - d\\right)}{d^{2}} + \\frac{3 \\left(2 - d\\right)}{d^{2}}\\right)}{d^{2}}\\right)}\\\\\\frac{120}{d^{4} \\left(1 + \\frac{2 \\left(1 - d\\right)}{d^{2}} + \\frac{4 \\left(1 + \\frac{2 \\left(1 - d\\right)}{d^{2}}\\right) \\left(3 - d\\right)}{d^{2}} + \\frac{3 \\left(2 - d\\right)}{d^{2}} + \\frac{5 \\left(4 - d\\right) \\left(1 + \\frac{2 \\left(1 - d\\right)}{d^{2}} + \\frac{3 \\left(2 - d\\right)}{d^{2}}\\right)}{d^{2}}\\right)} & \\frac{60}{d^{3} \\left(1 + \\frac{2 \\left(1 - d\\right)}{d^{2}} + \\frac{4 \\left(1 + \\frac{2 \\left(1 - d\\right)}{d^{2}}\\right) \\left(3 - d\\right)}{d^{2}} + \\frac{3 \\left(2 - d\\right)}{d^{2}} + \\frac{5 \\left(4 - d\\right) \\left(1 + \\frac{2 \\left(1 - d\\right)}{d^{2}} + \\frac{3 \\left(2 - d\\right)}{d^{2}}\\right)}{d^{2}}\\right)} & \\frac{20 \\left(1 + \\frac{2 \\left(1 - d\\right)}{d^{2}}\\right)}{d^{2} \\left(1 + \\frac{2 \\left(1 - d\\right)}{d^{2}} + \\frac{4 \\left(1 + \\frac{2 \\left(1 - d\\right)}{d^{2}}\\right) \\left(3 - d\\right)}{d^{2}} + \\frac{3 \\left(2 - d\\right)}{d^{2}} + \\frac{5 \\left(4 - d\\right) \\left(1 + \\frac{2 \\left(1 - d\\right)}{d^{2}} + \\frac{3 \\left(2 - d\\right)}{d^{2}}\\right)}{d^{2}}\\right)} & \\frac{5 \\left(1 + \\frac{2 \\left(1 - d\\right)}{d^{2}} + \\frac{3 \\left(2 - d\\right)}{d^{2}}\\right)}{d \\left(1 + \\frac{2 \\left(1 - d\\right)}{d^{2}} + \\frac{4 \\left(1 + \\frac{2 \\left(1 - d\\right)}{d^{2}}\\right) \\left(3 - d\\right)}{d^{2}} + \\frac{3 \\left(2 - d\\right)}{d^{2}} + \\frac{5 \\left(4 - d\\right) \\left(1 + \\frac{2 \\left(1 - d\\right)}{d^{2}} + \\frac{3 \\left(2 - d\\right)}{d^{2}}\\right)}{d^{2}}\\right)} & \\frac{1 + \\frac{2 \\left(1 - d\\right)}{d^{2}} + \\frac{4 \\left(1 + \\frac{2 \\left(1 - d\\right)}{d^{2}}\\right) \\left(3 - d\\right)}{d^{2}} + \\frac{3 \\left(2 - d\\right)}{d^{2}}}{1 + \\frac{2 \\left(1 - d\\right)}{d^{2}} + \\frac{4 \\left(1 + \\frac{2 \\left(1 - d\\right)}{d^{2}}\\right) \\left(3 - d\\right)}{d^{2}} + \\frac{3 \\left(2 - d\\right)}{d^{2}} + \\frac{5 \\left(4 - d\\right) \\left(1 + \\frac{2 \\left(1 - d\\right)}{d^{2}} + \\frac{3 \\left(2 - d\\right)}{d^{2}}\\right)}{d^{2}}}\\end{matrix}\\right]$"
      ],
      "text/plain": [
       "⎡                                                                             \n",
       "⎢                                                                             \n",
       "⎢                                                                             \n",
       "⎢⎛                                                ⎛                  ⎛    2⋅(1\n",
       "⎢⎜                                                ⎜                4⋅⎜1 + ────\n",
       "⎢⎜                                                ⎜                  ⎜        \n",
       "⎢⎜⎛    2⋅(1 - d)   3⋅(2 - d)   6⋅(1 - d)⋅(2 - d)⎞ ⎜    2⋅(1 - d)     ⎝        \n",
       "⎢⎜⎜1 + ───────── + ───────── + ─────────────────⎟⋅⎜1 + ───────── + ───────────\n",
       "⎢⎜⎜         2           2               4       ⎟ ⎜         2                 \n",
       "⎢⎝⎝        d           d               d        ⎠ ⎝        d                  \n",
       "⎢─────────────────────────────────────────────────────────────────────────────\n",
       "⎢                                                                             \n",
       "⎢                                                                             \n",
       "⎢                                                                             \n",
       "⎢                                                                  ⎛    2⋅(1 -\n",
       "⎢                                                                  ⎜1 + ──────\n",
       "⎢                                                                  ⎜         2\n",
       "⎢                                                                  ⎝        d \n",
       "⎢                                                                             \n",
       "⎢                                                                             \n",
       "⎢                                                                             \n",
       "⎢                                                                             \n",
       "⎢          ⎛⎛  ⎛    2⋅(1 - d)   3⋅(2 - d)⎞            ⎞ ⎛                  ⎛  \n",
       "⎢          ⎜⎜2⋅⎜1 + ───────── + ─────────⎟            ⎟ ⎜                4⋅⎜1 \n",
       "⎢          ⎜⎜  ⎜         2           2   ⎟            ⎟ ⎜                  ⎜  \n",
       "⎢          ⎜⎜  ⎝        d           d    ⎠   6⋅(2 - d)⎟ ⎜    2⋅(1 - d)     ⎝  \n",
       "⎢          ⎜⎜───────────────────────────── - ─────────⎟⋅⎜1 + ───────── + ─────\n",
       "⎢          ⎜⎜              d                      3   ⎟ ⎜         2           \n",
       "⎢          ⎝⎝                                    d    ⎠ ⎝        d            \n",
       "⎢          ───────────────────────────────────────────────────────────────────\n",
       "⎢                                                                             \n",
       "⎢                                                                             \n",
       "⎢                                                                             \n",
       "⎢                                                                  ⎛    2⋅(1 -\n",
       "⎢                                                                  ⎜1 + ──────\n",
       "⎢                                                                  ⎜         2\n",
       "⎢                                                                  ⎝        d \n",
       "⎢                                                                             \n",
       "⎢                                       ⎛  ⎛                  ⎛    2⋅(1 - d)⎞ \n",
       "⎢                                       ⎜  ⎜                4⋅⎜1 + ─────────⎟⋅\n",
       "⎢                                       ⎜  ⎜                  ⎜         2   ⎟ \n",
       "⎢                                       ⎜  ⎜    2⋅(1 - d)     ⎝        d    ⎠ \n",
       "⎢                                       ⎜6⋅⎜1 + ───────── + ──────────────────\n",
       "⎢                                       ⎜  ⎜         2                   2    \n",
       "⎢                                       ⎜  ⎝        d                   d     \n",
       "⎢                                       ⎜─────────────────────────────────────\n",
       "⎢                                       ⎜                             2       \n",
       "⎢                                       ⎝                            d        \n",
       "⎢                                       ──────────────────────────────────────\n",
       "⎢                                                                             \n",
       "⎢                                                                             \n",
       "⎢                                                                             \n",
       "⎢                                                                          ⎛  \n",
       "⎢                                                                          ⎜1 \n",
       "⎢                                                                          ⎜  \n",
       "⎢                                                                          ⎝  \n",
       "⎢                                                                             \n",
       "⎢                                                                             \n",
       "⎢                                                                             \n",
       "⎢                                                                             \n",
       "⎢                                                                             \n",
       "⎢                                                                             \n",
       "⎢                                                                             \n",
       "⎢                                                                             \n",
       "⎢                                                                             \n",
       "⎢                                                                             \n",
       "⎢                                                                             \n",
       "⎢                                                                             \n",
       "⎢                                                                             \n",
       "⎢                                                                             \n",
       "⎢                                                                             \n",
       "⎢                                                                             \n",
       "⎢                                                                             \n",
       "⎢                                                                             \n",
       "⎢                                                                             \n",
       "⎢                                                                             \n",
       "⎢                                                                             \n",
       "⎢                                                                             \n",
       "⎢                                                                             \n",
       "⎢                                                                             \n",
       "⎢                                                                             \n",
       "⎢                                                                             \n",
       "⎢                                                                             \n",
       "⎢                                                                             \n",
       "⎢                                                                             \n",
       "⎢                                                                             \n",
       "⎢                                                                             \n",
       "⎢                                                                             \n",
       "⎢                                                                             \n",
       "⎢                                                                             \n",
       "⎣                                                                             \n",
       "\n",
       "                                                                              \n",
       "                                                                              \n",
       "                                                                              \n",
       " - d)⎞                    ⎞              ⎛    2⋅(1 - d)⎞                ⎞ ⎛   \n",
       "─────⎟⋅(3 - d)            ⎟   24⋅(1 - d)⋅⎜1 + ─────────⎟⋅(2 - d)⋅(3 - d)⎟ ⎜   \n",
       " 2   ⎟                    ⎟              ⎜         2   ⎟                ⎟ ⎜   \n",
       "d    ⎠           3⋅(2 - d)⎟              ⎝        d    ⎠                ⎟ ⎜   \n",
       "────────────── + ─────────⎟ - ──────────────────────────────────────────⎟⋅⎜1 +\n",
       "  2                   2   ⎟                        6                    ⎟ ⎜   \n",
       " d                   d    ⎠                       d                     ⎠ ⎝   \n",
       "──────────────────────────────────────────────────────────────────────────────\n",
       "                                 ⎛                  ⎛    2⋅(1 - d)⎞           \n",
       "                                 ⎜                4⋅⎜1 + ─────────⎟⋅(3 - d)   \n",
       "                                 ⎜                  ⎜         2   ⎟           \n",
       " d)⎞ ⎛    2⋅(1 - d)   3⋅(2 - d)⎞ ⎜    2⋅(1 - d)     ⎝        d    ⎠           \n",
       "───⎟⋅⎜1 + ───────── + ─────────⎟⋅⎜1 + ───────── + ───────────────────────── + \n",
       "   ⎟ ⎜         2           2   ⎟ ⎜         2                   2              \n",
       "   ⎠ ⎝        d           d    ⎠ ⎝        d                   d               \n",
       "                                                                              \n",
       "                                                                              \n",
       "                                                                              \n",
       "                                                                              \n",
       "  2⋅(1 - d)⎞                    ⎞      ⎛    2⋅(1 - d)⎞                ⎞ ⎛     \n",
       "+ ─────────⎟⋅(3 - d)            ⎟   24⋅⎜1 + ─────────⎟⋅(2 - d)⋅(3 - d)⎟ ⎜     \n",
       "       2   ⎟                    ⎟      ⎜         2   ⎟                ⎟ ⎜     \n",
       "      d    ⎠           3⋅(2 - d)⎟      ⎝        d    ⎠                ⎟ ⎜    2\n",
       "──────────────────── + ─────────⎟ + ──────────────────────────────────⎟⋅⎜1 + ─\n",
       "        2                   2   ⎟                    5                ⎟ ⎜     \n",
       "       d                   d    ⎠                   d                 ⎠ ⎝     \n",
       "──────────────────────────────────────────────────────────────────────────────\n",
       "                                 ⎛                  ⎛    2⋅(1 - d)⎞           \n",
       "                                 ⎜                4⋅⎜1 + ─────────⎟⋅(3 - d)   \n",
       "                                 ⎜                  ⎜         2   ⎟           \n",
       " d)⎞ ⎛    2⋅(1 - d)   3⋅(2 - d)⎞ ⎜    2⋅(1 - d)     ⎝        d    ⎠           \n",
       "───⎟⋅⎜1 + ───────── + ─────────⎟⋅⎜1 + ───────── + ───────────────────────── + \n",
       "   ⎟ ⎜         2           2   ⎟ ⎜         2                   2              \n",
       "   ⎠ ⎝        d           d    ⎠ ⎝        d                   d               \n",
       "                                                                              \n",
       "                   ⎞                             ⎞                            \n",
       "(3 - d)            ⎟                             ⎟                            \n",
       "                   ⎟                             ⎟                            \n",
       "          3⋅(2 - d)⎟      ⎛    2⋅(1 - d)⎞        ⎟ ⎛                  ⎛    2⋅(\n",
       "─────── + ─────────⎟   24⋅⎜1 + ─────────⎟⋅(3 - d)⎟ ⎜                4⋅⎜1 + ───\n",
       "               2   ⎟      ⎜         2   ⎟        ⎟ ⎜                  ⎜       \n",
       "              d    ⎠      ⎝        d    ⎠        ⎟ ⎜    2⋅(1 - d)     ⎝       \n",
       "──────────────────── - ──────────────────────────⎟⋅⎜1 + ───────── + ──────────\n",
       "                                    4            ⎟ ⎜         2                \n",
       "                                   d             ⎠ ⎝        d                 \n",
       "──────────────────────────────────────────────────────────────────────────────\n",
       "                         ⎛                  ⎛    2⋅(1 - d)⎞                   \n",
       "                         ⎜                4⋅⎜1 + ─────────⎟⋅(3 - d)           \n",
       "                         ⎜                  ⎜         2   ⎟                   \n",
       "  2⋅(1 - d)   3⋅(2 - d)⎞ ⎜    2⋅(1 - d)     ⎝        d    ⎠           3⋅(2 - d\n",
       "+ ───────── + ─────────⎟⋅⎜1 + ───────── + ───────────────────────── + ────────\n",
       "       2           2   ⎟ ⎜         2                   2                   2  \n",
       "      d           d    ⎠ ⎝        d                   d                   d   \n",
       "                                                                              \n",
       "                    ⎛                  ⎛    2⋅(1 - d)⎞                        \n",
       "                    ⎜                4⋅⎜1 + ─────────⎟⋅(3 - d)               5\n",
       "                    ⎜                  ⎜         2   ⎟                        \n",
       "                    ⎜    2⋅(1 - d)     ⎝        d    ⎠           3⋅(2 - d)    \n",
       "                 24⋅⎜1 + ───────── + ───────────────────────── + ───────── + ─\n",
       "                    ⎜         2                   2                   2       \n",
       "                    ⎝        d                   d                   d        \n",
       "                 ─────────────────────────────────────────────────────────────\n",
       "                                                                  3           \n",
       "                                                                 d            \n",
       "           ───────────────────────────────────────────────────────────────────\n",
       "           ⎛                  ⎛    2⋅(1 - d)⎞                    ⎞ ⎛          \n",
       "           ⎜                4⋅⎜1 + ─────────⎟⋅(3 - d)            ⎟ ⎜          \n",
       "           ⎜                  ⎜         2   ⎟                    ⎟ ⎜          \n",
       "           ⎜    2⋅(1 - d)     ⎝        d    ⎠           3⋅(2 - d)⎟ ⎜    2⋅(1 -\n",
       "           ⎜1 + ───────── + ───────────────────────── + ─────────⎟⋅⎜1 + ──────\n",
       "           ⎜         2                   2                   2   ⎟ ⎜         2\n",
       "           ⎝        d                   d                   d    ⎠ ⎝        d \n",
       "                                                                              \n",
       "                                                                              \n",
       "                                                                              \n",
       "                                                                              \n",
       "                                                                              \n",
       "                                                                              \n",
       "                                                                              \n",
       "                                                                              \n",
       "                                      ────────────────────────────────────────\n",
       "                                         ⎛                  ⎛    2⋅(1 - d)⎞   \n",
       "                                         ⎜                4⋅⎜1 + ─────────⎟⋅(3\n",
       "                                         ⎜                  ⎜         2   ⎟   \n",
       "                                       4 ⎜    2⋅(1 - d)     ⎝        d    ⎠   \n",
       "                                      d ⋅⎜1 + ───────── + ────────────────────\n",
       "                                         ⎜         2                   2      \n",
       "                                         ⎝        d                   d       \n",
       "\n",
       "                                                                              \n",
       "                                                                              \n",
       "                                                                              \n",
       "               ⎛    2⋅(1 - d)⎞                                 ⎛    2⋅(1 - d) \n",
       "             4⋅⎜1 + ─────────⎟⋅(3 - d)               5⋅(4 - d)⋅⎜1 + ───────── \n",
       "               ⎜         2   ⎟                                 ⎜         2    \n",
       " 2⋅(1 - d)     ⎝        d    ⎠           3⋅(2 - d)             ⎝        d     \n",
       " ───────── + ───────────────────────── + ───────── + ─────────────────────────\n",
       "      2                   2                   2                         2     \n",
       "     d                   d                   d                         d      \n",
       "──────────────────────────────────────────────────────────────────────────────\n",
       "         ⎞ ⎛                  ⎛    2⋅(1 - d)⎞                                 \n",
       "         ⎟ ⎜                4⋅⎜1 + ─────────⎟⋅(3 - d)               5⋅(4 - d)⋅\n",
       "         ⎟ ⎜                  ⎜         2   ⎟                                 \n",
       "3⋅(2 - d)⎟ ⎜    2⋅(1 - d)     ⎝        d    ⎠           3⋅(2 - d)             \n",
       "─────────⎟⋅⎜1 + ───────── + ───────────────────────── + ───────── + ──────────\n",
       "     2   ⎟ ⎜         2                   2                   2                \n",
       "    d    ⎠ ⎝        d                   d                   d                 \n",
       "                                                                              \n",
       "                                                                              \n",
       "                                                                              \n",
       "                                                                              \n",
       "             ⎛    2⋅(1 - d)⎞                                 ⎛    2⋅(1 - d)   \n",
       "           4⋅⎜1 + ─────────⎟⋅(3 - d)               5⋅(4 - d)⋅⎜1 + ───────── + \n",
       "             ⎜         2   ⎟                                 ⎜         2      \n",
       "⋅(1 - d)     ⎝        d    ⎠           3⋅(2 - d)             ⎝        d       \n",
       "──────── + ───────────────────────── + ───────── + ───────────────────────────\n",
       "    2                   2                   2                         2       \n",
       "   d                   d                   d                         d        \n",
       "──────────────────────────────────────────────────────────────────────────────\n",
       "         ⎞ ⎛                  ⎛    2⋅(1 - d)⎞                                 \n",
       "         ⎟ ⎜                4⋅⎜1 + ─────────⎟⋅(3 - d)               5⋅(4 - d)⋅\n",
       "         ⎟ ⎜                  ⎜         2   ⎟                                 \n",
       "3⋅(2 - d)⎟ ⎜    2⋅(1 - d)     ⎝        d    ⎠           3⋅(2 - d)             \n",
       "─────────⎟⋅⎜1 + ───────── + ───────────────────────── + ───────── + ──────────\n",
       "     2   ⎟ ⎜         2                   2                   2                \n",
       "    d    ⎠ ⎝        d                   d                   d                 \n",
       "                                                                              \n",
       "                                                                              \n",
       "                                                                              \n",
       "                                                                              \n",
       "1 - d)⎞                                 ⎛    2⋅(1 - d)   3⋅(2 - d)⎞⎞       ⎛  \n",
       "──────⎟⋅(3 - d)               5⋅(4 - d)⋅⎜1 + ───────── + ─────────⎟⎟   120⋅⎜1 \n",
       "  2   ⎟                                 ⎜         2           2   ⎟⎟       ⎜  \n",
       " d    ⎠           3⋅(2 - d)             ⎝        d           d    ⎠⎟       ⎝  \n",
       "─────────────── + ───────── + ─────────────────────────────────────⎟ + ───────\n",
       "   2                   2                         2                 ⎟          \n",
       "  d                   d                         d                  ⎠          \n",
       "──────────────────────────────────────────────────────────────────────────────\n",
       " ⎞ ⎛                  ⎛    2⋅(1 - d)⎞                                 ⎛    2⋅(\n",
       " ⎟ ⎜                4⋅⎜1 + ─────────⎟⋅(3 - d)               5⋅(4 - d)⋅⎜1 + ───\n",
       " ⎟ ⎜                  ⎜         2   ⎟                                 ⎜       \n",
       ")⎟ ⎜    2⋅(1 - d)     ⎝        d    ⎠           3⋅(2 - d)             ⎝       \n",
       "─⎟⋅⎜1 + ───────── + ───────────────────────── + ───────── + ──────────────────\n",
       " ⎟ ⎜         2                   2                   2                        \n",
       " ⎠ ⎝        d                   d                   d                         \n",
       "                                                                              \n",
       "         ⎛    2⋅(1 - d)   3⋅(2 - d)⎞⎞                                         \n",
       "⋅(4 - d)⋅⎜1 + ───────── + ─────────⎟⎟                                         \n",
       "         ⎜         2           2   ⎟⎟                                         \n",
       "         ⎝        d           d    ⎠⎟               ⎛    2⋅(1 - d)   3⋅(2 - d)\n",
       "────────────────────────────────────⎟   120⋅(4 - d)⋅⎜1 + ───────── + ─────────\n",
       "                  2                 ⎟               ⎜         2           2   \n",
       "                 d                  ⎠               ⎝        d           d    \n",
       "───────────────────────────────────── - ──────────────────────────────────────\n",
       "                                                            5                 \n",
       "                                                           d                  \n",
       "──────────────────────────────────────────────────────────────────────────────\n",
       "        ⎛    2⋅(1 - d)⎞                                 ⎛    2⋅(1 - d)   3⋅(2 \n",
       "      4⋅⎜1 + ─────────⎟⋅(3 - d)               5⋅(4 - d)⋅⎜1 + ───────── + ─────\n",
       "        ⎜         2   ⎟                                 ⎜         2           \n",
       " d)     ⎝        d    ⎠           3⋅(2 - d)             ⎝        d           d\n",
       "─── + ───────────────────────── + ───────── + ────────────────────────────────\n",
       "                   2                   2                         2            \n",
       "                  d                   d                         d             \n",
       "                                                                              \n",
       "                                                                              \n",
       "                                                                              \n",
       "                                                                              \n",
       "                                                                              \n",
       "                                                                              \n",
       "                                                                              \n",
       "       120                                                                    \n",
       "──────────────────────────────────────────────────────────                    \n",
       "                              ⎛    2⋅(1 - d)   3⋅(2 - d)⎞⎞                    \n",
       " - d)               5⋅(4 - d)⋅⎜1 + ───────── + ─────────⎟⎟                    \n",
       "                              ⎜         2           2   ⎟⎟                    \n",
       "        3⋅(2 - d)             ⎝        d           d    ⎠⎟                    \n",
       "───── + ───────── + ─────────────────────────────────────⎟                    \n",
       "             2                         2                 ⎟                    \n",
       "            d                         d                  ⎠                    \n",
       "\n",
       "                                                                              \n",
       "                                                                              \n",
       "                                                                              \n",
       "  3⋅(2 - d)⎞⎞               ⎛    2⋅(1 - d)⎞                         ⎛    2⋅(1 \n",
       "+ ─────────⎟⎟   120⋅(1 - d)⋅⎜1 + ─────────⎟⋅(2 - d)⋅(3 - d)⋅(4 - d)⋅⎜1 + ─────\n",
       "       2   ⎟⎟               ⎜         2   ⎟                         ⎜         \n",
       "      d    ⎠⎟               ⎝        d    ⎠                         ⎝        d\n",
       "────────────⎟ + ──────────────────────────────────────────────────────────────\n",
       "            ⎟                                           8                     \n",
       "            ⎠                                          d                      \n",
       "──────────────────────────────────────────────────────────────────────────────\n",
       "⎛    2⋅(1 - d)   3⋅(2 - d)⎞⎞                                                  \n",
       "⎜1 + ───────── + ─────────⎟⎟                                                  \n",
       "⎜         2           2   ⎟⎟                                                  \n",
       "⎝        d           d    ⎠⎟                                                  \n",
       "───────────────────────────⎟                                                  \n",
       "         2                 ⎟                                                  \n",
       "        d                  ⎠                                                  \n",
       "                                                                              \n",
       "                                                                              \n",
       "                                                                              \n",
       "                                                                              \n",
       "3⋅(2 - d)⎞⎞       ⎛    2⋅(1 - d)⎞                         ⎛    2⋅(1 - d)   3⋅(\n",
       "─────────⎟⎟   120⋅⎜1 + ─────────⎟⋅(2 - d)⋅(3 - d)⋅(4 - d)⋅⎜1 + ───────── + ───\n",
       "     2   ⎟⎟       ⎜         2   ⎟                         ⎜         2         \n",
       "    d    ⎠⎟       ⎝        d    ⎠                         ⎝        d          \n",
       "──────────⎟ - ────────────────────────────────────────────────────────────────\n",
       "          ⎟                                       7                           \n",
       "          ⎠                                      d                            \n",
       "──────────────────────────────────────────────────────────────────────────────\n",
       "⎛    2⋅(1 - d)   3⋅(2 - d)⎞⎞                                                  \n",
       "⎜1 + ───────── + ─────────⎟⎟                                                  \n",
       "⎜         2           2   ⎟⎟                                                  \n",
       "⎝        d           d    ⎠⎟                                                  \n",
       "───────────────────────────⎟                                                  \n",
       "         2                 ⎟                                                  \n",
       "        d                  ⎠                                                  \n",
       "                                                                              \n",
       "                                                                              \n",
       "                                                                              \n",
       "                                                                              \n",
       "  2⋅(1 - d)⎞                 ⎛    2⋅(1 - d)   3⋅(2 - d)⎞                      \n",
       "+ ─────────⎟⋅(3 - d)⋅(4 - d)⋅⎜1 + ───────── + ─────────⎟                      \n",
       "       2   ⎟                 ⎜         2           2   ⎟                      \n",
       "      d    ⎠                 ⎝        d           d    ⎠                      \n",
       "────────────────────────────────────────────────────────                      \n",
       "                         6                                                    \n",
       "                        d                                                     \n",
       "────────────────────────────────────────────────────────                      \n",
       "1 - d)   3⋅(2 - d)⎞⎞                                                          \n",
       "────── + ─────────⎟⎟                                                          \n",
       "  2           2   ⎟⎟                                                          \n",
       " d           d    ⎠⎟                                                          \n",
       "───────────────────⎟                                                          \n",
       " 2                 ⎟                                                          \n",
       "d                  ⎠                                                          \n",
       "                                                                              \n",
       "                                                                              \n",
       "                                                                              \n",
       "                                                                              \n",
       "⎞                                                                             \n",
       "⎟                                                                             \n",
       "⎟                                                                             \n",
       "⎠                                                                             \n",
       "─                                                                             \n",
       "                                                                              \n",
       "                                                                              \n",
       "──────                                                                        \n",
       "- d)⎞⎞                                                                        \n",
       "────⎟⎟                                                                        \n",
       "2   ⎟⎟                                                                        \n",
       "    ⎠⎟                                                                        \n",
       "─────⎟                                                                        \n",
       "     ⎟                                                                        \n",
       "     ⎠                                                                        \n",
       "                                                                              \n",
       "                                                                              \n",
       "                                                                              \n",
       "                                                                              \n",
       "                                                                              \n",
       "                                                                              \n",
       "                                                                              \n",
       "                                                                              \n",
       "                                                                              \n",
       "                                                                              \n",
       "                                                                              \n",
       "                                                                              \n",
       "                                                                              \n",
       "                                                                              \n",
       "                                                                              \n",
       "                                                                              \n",
       "\n",
       "                                                                              \n",
       "                                                                              \n",
       "                                                                              \n",
       "- d)   3⋅(2 - d)⎞  ⎛⎛          ⎛    2⋅(1 - d)   3⋅(2 - d)⎞                    \n",
       "──── + ─────────⎟  ⎜⎜  (1 - d)⋅⎜1 + ───────── + ─────────⎟                    \n",
       "2           2   ⎟  ⎜⎜          ⎜         2           2   ⎟                    \n",
       "           d    ⎠  ⎜⎜          ⎝        d           d    ⎠   3⋅(1 - d)⋅(2 - d)\n",
       "─────────────────  ⎜⎜- ─────────────────────────────────── + ─────────────────\n",
       "                   ⎜⎜                   d                             3       \n",
       "                   ⎝⎝                                                d        \n",
       "─────────────────  ───────────────────────────────────────────────────────────\n",
       "                                                                              \n",
       "                                                                              \n",
       "                                                                              \n",
       "                                                                              \n",
       "                                                                              \n",
       "                                                                              \n",
       "                                                                              \n",
       "                                                                              \n",
       "                                                                              \n",
       "                                                                              \n",
       "                                                                              \n",
       "2 - d)⎞                                          ⎛                ⎛           \n",
       "──────⎟                                          ⎜                ⎜           \n",
       "  2   ⎟                                          ⎜                ⎜           \n",
       " d    ⎠                                          ⎜⎛    2⋅(1 - d)⎞ ⎜    2⋅(1 - \n",
       "───────                                          ⎜⎜1 + ─────────⎟⋅⎜1 + ───────\n",
       "                                                 ⎜⎜         2   ⎟ ⎜         2 \n",
       "                                                 ⎝⎝        d    ⎠ ⎝        d  \n",
       "───────                                          ─────────────────────────────\n",
       "                                                                              \n",
       "                                                                              \n",
       "                                                                              \n",
       "                                                                              \n",
       "                                                                              \n",
       "                                                                              \n",
       "                                                                              \n",
       "                                                                              \n",
       "                                                                ⎛  ⎛          \n",
       "                                                                ⎜  ⎜          \n",
       "                                                                ⎜  ⎜          \n",
       "                                                                ⎜  ⎜    2⋅(1 -\n",
       "                                                                ⎜3⋅⎜1 + ──────\n",
       "                                                                ⎜  ⎜         2\n",
       "                                                                ⎜  ⎝        d \n",
       "                                                                ⎜─────────────\n",
       "                                                                ⎜             \n",
       "                                                                ⎝             \n",
       "                                                                ──────────────\n",
       "                                                                              \n",
       "                                                                              \n",
       "                                                                              \n",
       "                                                                              \n",
       "                                                                              \n",
       "                                                                              \n",
       "                                                                              \n",
       "                                                                              \n",
       "                                                                              \n",
       "                                                                              \n",
       "                                                                              \n",
       "                                                                              \n",
       "                                                                              \n",
       "                                                                              \n",
       "                                                                              \n",
       "                                                                              \n",
       "                                                                              \n",
       "                                                                              \n",
       "                                                                              \n",
       "                                                                              \n",
       "                                                                              \n",
       "                                                                              \n",
       "                                                                              \n",
       "                                                                              \n",
       "                                                                              \n",
       "                                                                              \n",
       "                                                                              \n",
       "                                                                              \n",
       "                                                                              \n",
       "                                                                              \n",
       "                                                                              \n",
       "                                                                              \n",
       "                                                                              \n",
       "                                                                              \n",
       "                                                                              \n",
       "                                                                              \n",
       "                                                                              \n",
       "                                                                              \n",
       "                                                                              \n",
       "                                                                              \n",
       "                                                                              \n",
       "                                                                              \n",
       "\n",
       "                                                                              \n",
       "                                                                              \n",
       "                                                                              \n",
       "⎞ ⎛                  ⎛    2⋅(1 - d)⎞                    ⎞              ⎛    2⋅\n",
       "⎟ ⎜                4⋅⎜1 + ─────────⎟⋅(3 - d)            ⎟   12⋅(1 - d)⋅⎜1 + ──\n",
       "⎟ ⎜                  ⎜         2   ⎟                    ⎟              ⎜      \n",
       "⎟ ⎜    2⋅(1 - d)     ⎝        d    ⎠           3⋅(2 - d)⎟              ⎝      \n",
       "⎟⋅⎜1 + ───────── + ───────────────────────── + ─────────⎟ - ──────────────────\n",
       "⎟ ⎜         2                   2                   2   ⎟                     \n",
       "⎠ ⎝        d                   d                   d    ⎠                     \n",
       "──────────────────────────────────────────────────────────────────────────────\n",
       "                                                         ⎛                  ⎛ \n",
       "                                                         ⎜                4⋅⎜1\n",
       "                                                         ⎜                  ⎜ \n",
       "             ⎛    2⋅(1 - d)⎞ ⎛    2⋅(1 - d)   3⋅(2 - d)⎞ ⎜    2⋅(1 - d)     ⎝ \n",
       "             ⎜1 + ─────────⎟⋅⎜1 + ───────── + ─────────⎟⋅⎜1 + ───────── + ────\n",
       "             ⎜         2   ⎟ ⎜         2           2   ⎟ ⎜         2          \n",
       "             ⎝        d    ⎠ ⎝        d           d    ⎠ ⎝        d           \n",
       "                                                                              \n",
       "                                                                              \n",
       "                                                                              \n",
       "                                                                              \n",
       "       ⎛    2⋅(1 - d)⎞                    ⎞      ⎛    2⋅(1 - d)⎞              \n",
       "     4⋅⎜1 + ─────────⎟⋅(3 - d)            ⎟   12⋅⎜1 + ─────────⎟⋅(2 - d)⋅(3 - \n",
       "       ⎜         2   ⎟                    ⎟      ⎜         2   ⎟              \n",
       "d)     ⎝        d    ⎠           3⋅(2 - d)⎟      ⎝        d    ⎠              \n",
       "── + ───────────────────────── + ─────────⎟ + ────────────────────────────────\n",
       "                  2                   2   ⎟                    4              \n",
       "                 d                   d    ⎠                   d               \n",
       "──────────────────────────────────────────────────────────────────────────────\n",
       "                                                         ⎛                  ⎛ \n",
       "                                                         ⎜                4⋅⎜1\n",
       "                                                         ⎜                  ⎜ \n",
       "             ⎛    2⋅(1 - d)⎞ ⎛    2⋅(1 - d)   3⋅(2 - d)⎞ ⎜    2⋅(1 - d)     ⎝ \n",
       "             ⎜1 + ─────────⎟⋅⎜1 + ───────── + ─────────⎟⋅⎜1 + ───────── + ────\n",
       "             ⎜         2   ⎟ ⎜         2           2   ⎟ ⎜         2          \n",
       "             ⎝        d    ⎠ ⎝        d           d    ⎠ ⎝        d           \n",
       "                                                                              \n",
       "        ⎛    2⋅(1 - d)⎞                    ⎞                             ⎞    \n",
       "      4⋅⎜1 + ─────────⎟⋅(3 - d)            ⎟                             ⎟    \n",
       "        ⎜         2   ⎟                    ⎟                             ⎟    \n",
       " d)     ⎝        d    ⎠           3⋅(2 - d)⎟      ⎛    2⋅(1 - d)⎞        ⎟ ⎛  \n",
       "─── + ───────────────────────── + ─────────⎟   12⋅⎜1 + ─────────⎟⋅(3 - d)⎟ ⎜  \n",
       "                   2                   2   ⎟      ⎜         2   ⎟        ⎟ ⎜  \n",
       "                  d                   d    ⎠      ⎝        d    ⎠        ⎟ ⎜  \n",
       "──────────────────────────────────────────── - ──────────────────────────⎟⋅⎜1 \n",
       "               d                                            3            ⎟ ⎜  \n",
       "                                                           d             ⎠ ⎝  \n",
       "──────────────────────────────────────────────────────────────────────────────\n",
       "                                                 ⎛                  ⎛    2⋅(1 \n",
       "                                                 ⎜                4⋅⎜1 + ─────\n",
       "                                                 ⎜                  ⎜         \n",
       "                     ⎛    2⋅(1 - d)   3⋅(2 - d)⎞ ⎜    2⋅(1 - d)     ⎝        d\n",
       "                     ⎜1 + ───────── + ─────────⎟⋅⎜1 + ───────── + ────────────\n",
       "                     ⎜         2           2   ⎟ ⎜         2                  \n",
       "                     ⎝        d           d    ⎠ ⎝        d                   \n",
       "                                                                              \n",
       "                                            ⎛                  ⎛    2⋅(1 - d)⎞\n",
       "                                            ⎜                4⋅⎜1 + ─────────⎟\n",
       "                                            ⎜                  ⎜         2   ⎟\n",
       "                                            ⎜    2⋅(1 - d)     ⎝        d    ⎠\n",
       "                                         12⋅⎜1 + ───────── + ─────────────────\n",
       "                                            ⎜         2                   2   \n",
       "                                            ⎝        d                   d    \n",
       "                                         ─────────────────────────────────────\n",
       "                                                                              \n",
       "                                                                              \n",
       "                                   ───────────────────────────────────────────\n",
       "                                   ⎛                  ⎛    2⋅(1 - d)⎞         \n",
       "                                   ⎜                4⋅⎜1 + ─────────⎟⋅(3 - d) \n",
       "                                   ⎜                  ⎜         2   ⎟         \n",
       "                                   ⎜    2⋅(1 - d)     ⎝        d    ⎠         \n",
       "                                   ⎜1 + ───────── + ───────────────────────── \n",
       "                                   ⎜         2                   2            \n",
       "                                   ⎝        d                   d             \n",
       "                                                                              \n",
       "                                                                              \n",
       "                                                                              \n",
       "                                                                              \n",
       "                                                                              \n",
       "                                                                              \n",
       "                                                                              \n",
       "                                                                              \n",
       "                                                             ─────────────────\n",
       "                                                                ⎛             \n",
       "                                                                ⎜             \n",
       "                                                                ⎜             \n",
       "                                                              3 ⎜    2⋅(1 - d)\n",
       "                                                             d ⋅⎜1 + ─────────\n",
       "                                                                ⎜         2   \n",
       "                                                                ⎝        d    \n",
       "\n",
       "                                                                              \n",
       "                                                                              \n",
       "                                                                              \n",
       "(1 - d)⎞                ⎞ ⎛                  ⎛    2⋅(1 - d)⎞                  \n",
       "───────⎟⋅(2 - d)⋅(3 - d)⎟ ⎜                4⋅⎜1 + ─────────⎟⋅(3 - d)          \n",
       "   2   ⎟                ⎟ ⎜                  ⎜         2   ⎟                  \n",
       "  d    ⎠                ⎟ ⎜    2⋅(1 - d)     ⎝        d    ⎠           3⋅(2 - \n",
       "────────────────────────⎟⋅⎜1 + ───────── + ───────────────────────── + ───────\n",
       "   5                    ⎟ ⎜         2                   2                   2 \n",
       "  d                     ⎠ ⎝        d                   d                   d  \n",
       "──────────────────────────────────────────────────────────────────────────────\n",
       "   2⋅(1 - d)⎞                    ⎞ ⎛                  ⎛    2⋅(1 - d)⎞         \n",
       " + ─────────⎟⋅(3 - d)            ⎟ ⎜                4⋅⎜1 + ─────────⎟⋅(3 - d) \n",
       "        2   ⎟                    ⎟ ⎜                  ⎜         2   ⎟         \n",
       "       d    ⎠           3⋅(2 - d)⎟ ⎜    2⋅(1 - d)     ⎝        d    ⎠         \n",
       "───────────────────── + ─────────⎟⋅⎜1 + ───────── + ───────────────────────── \n",
       "         2                   2   ⎟ ⎜         2                   2            \n",
       "        d                   d    ⎠ ⎝        d                   d             \n",
       "                                                                              \n",
       "                                                                              \n",
       "                                                                              \n",
       "                                                                              \n",
       "  ⎞ ⎛                  ⎛    2⋅(1 - d)⎞                                 ⎛    2⋅\n",
       "d)⎟ ⎜                4⋅⎜1 + ─────────⎟⋅(3 - d)               5⋅(4 - d)⋅⎜1 + ──\n",
       "  ⎟ ⎜                  ⎜         2   ⎟                                 ⎜      \n",
       "  ⎟ ⎜    2⋅(1 - d)     ⎝        d    ⎠           3⋅(2 - d)             ⎝      \n",
       "──⎟⋅⎜1 + ───────── + ───────────────────────── + ───────── + ─────────────────\n",
       "  ⎟ ⎜         2                   2                   2                       \n",
       "  ⎠ ⎝        d                   d                   d                        \n",
       "──────────────────────────────────────────────────────────────────────────────\n",
       "   2⋅(1 - d)⎞                    ⎞ ⎛                  ⎛    2⋅(1 - d)⎞         \n",
       " + ─────────⎟⋅(3 - d)            ⎟ ⎜                4⋅⎜1 + ─────────⎟⋅(3 - d) \n",
       "        2   ⎟                    ⎟ ⎜                  ⎜         2   ⎟         \n",
       "       d    ⎠           3⋅(2 - d)⎟ ⎜    2⋅(1 - d)     ⎝        d    ⎠         \n",
       "───────────────────── + ─────────⎟⋅⎜1 + ───────── + ───────────────────────── \n",
       "         2                   2   ⎟ ⎜         2                   2            \n",
       "        d                   d    ⎠ ⎝        d                   d             \n",
       "                                                                              \n",
       "                                                                              \n",
       "                                                                              \n",
       "                                                                              \n",
       "                ⎛    2⋅(1 - d)⎞                                 ⎛    2⋅(1 - d)\n",
       "              4⋅⎜1 + ─────────⎟⋅(3 - d)               5⋅(4 - d)⋅⎜1 + ─────────\n",
       "                ⎜         2   ⎟                                 ⎜         2   \n",
       "  2⋅(1 - d)     ⎝        d    ⎠           3⋅(2 - d)             ⎝        d    \n",
       "+ ───────── + ───────────────────────── + ───────── + ────────────────────────\n",
       "       2                   2                   2                         2    \n",
       "      d                   d                   d                         d     \n",
       "──────────────────────────────────────────────────────────────────────────────\n",
       "- d)⎞                    ⎞ ⎛                  ⎛    2⋅(1 - d)⎞                 \n",
       "────⎟⋅(3 - d)            ⎟ ⎜                4⋅⎜1 + ─────────⎟⋅(3 - d)         \n",
       "2   ⎟                    ⎟ ⎜                  ⎜         2   ⎟                 \n",
       "    ⎠           3⋅(2 - d)⎟ ⎜    2⋅(1 - d)     ⎝        d    ⎠           3⋅(2 -\n",
       "───────────── + ─────────⎟⋅⎜1 + ───────── + ───────────────────────── + ──────\n",
       " 2                   2   ⎟ ⎜         2                   2                   2\n",
       "d                   d    ⎠ ⎝        d                   d                   d \n",
       "                                                                              \n",
       "                                 ⎛    2⋅(1 - d)   3⋅(2 - d)⎞⎞                 \n",
       "⋅(3 - d)               5⋅(4 - d)⋅⎜1 + ───────── + ─────────⎟⎟                 \n",
       "                                 ⎜         2           2   ⎟⎟                 \n",
       "           3⋅(2 - d)             ⎝        d           d    ⎠⎟              ⎛  \n",
       "──────── + ───────── + ─────────────────────────────────────⎟   60⋅(4 - d)⋅⎜1 \n",
       "                2                         2                 ⎟              ⎜  \n",
       "               d                         d                  ⎠              ⎝  \n",
       "───────────────────────────────────────────────────────────── - ──────────────\n",
       "            2                                                                 \n",
       "           d                                                                  \n",
       "──────────────────────────────────────────────────────────────────────────────\n",
       "           ⎞ ⎛                  ⎛    2⋅(1 - d)⎞                               \n",
       "           ⎟ ⎜                4⋅⎜1 + ─────────⎟⋅(3 - d)               5⋅(4 - d\n",
       "           ⎟ ⎜                  ⎜         2   ⎟                               \n",
       "  3⋅(2 - d)⎟ ⎜    2⋅(1 - d)     ⎝        d    ⎠           3⋅(2 - d)           \n",
       "+ ─────────⎟⋅⎜1 + ───────── + ───────────────────────── + ───────── + ────────\n",
       "       2   ⎟ ⎜         2                   2                   2              \n",
       "      d    ⎠ ⎝        d                   d                   d               \n",
       "                                                                              \n",
       "                                                                              \n",
       "                                                                              \n",
       "                                                                              \n",
       "                                                                              \n",
       "                                                                              \n",
       "                                                                              \n",
       "                               60                                             \n",
       "──────────────────────────────────────────────────────────────────────────────\n",
       "     ⎛    2⋅(1 - d)⎞                                 ⎛    2⋅(1 - d)   3⋅(2 - d\n",
       "   4⋅⎜1 + ─────────⎟⋅(3 - d)               5⋅(4 - d)⋅⎜1 + ───────── + ────────\n",
       "     ⎜         2   ⎟                                 ⎜         2           2  \n",
       "     ⎝        d    ⎠           3⋅(2 - d)             ⎝        d           d   \n",
       " + ───────────────────────── + ───────── + ───────────────────────────────────\n",
       "                2                   2                         2               \n",
       "               d                   d                         d                \n",
       "\n",
       "                                                                              \n",
       "                                                                              \n",
       "                                                                              \n",
       "               ⎛    2⋅(1 - d)   3⋅(2 - d)⎞⎞              ⎛    2⋅(1 - d)⎞      \n",
       "     5⋅(4 - d)⋅⎜1 + ───────── + ─────────⎟⎟   60⋅(1 - d)⋅⎜1 + ─────────⎟⋅(2 - \n",
       "               ⎜         2           2   ⎟⎟              ⎜         2   ⎟      \n",
       "d)             ⎝        d           d    ⎠⎟              ⎝        d    ⎠      \n",
       "── + ─────────────────────────────────────⎟ + ────────────────────────────────\n",
       "                        2                 ⎟                                   \n",
       "                       d                  ⎠                                   \n",
       "──────────────────────────────────────────────────────────────────────────────\n",
       "                        ⎛    2⋅(1 - d)   3⋅(2 - d)⎞⎞                          \n",
       "              5⋅(4 - d)⋅⎜1 + ───────── + ─────────⎟⎟                          \n",
       "                        ⎜         2           2   ⎟⎟                          \n",
       "  3⋅(2 - d)             ⎝        d           d    ⎠⎟                          \n",
       "+ ───────── + ─────────────────────────────────────⎟                          \n",
       "       2                         2                 ⎟                          \n",
       "      d                         d                  ⎠                          \n",
       "                                                                              \n",
       "                                                                              \n",
       "                                                                              \n",
       "                                                                              \n",
       "(1 - d)   3⋅(2 - d)⎞⎞      ⎛    2⋅(1 - d)⎞                         ⎛    2⋅(1 -\n",
       "─────── + ─────────⎟⎟   60⋅⎜1 + ─────────⎟⋅(2 - d)⋅(3 - d)⋅(4 - d)⋅⎜1 + ──────\n",
       "   2           2   ⎟⎟      ⎜         2   ⎟                         ⎜         2\n",
       "  d           d    ⎠⎟      ⎝        d    ⎠                         ⎝        d \n",
       "────────────────────⎟ - ──────────────────────────────────────────────────────\n",
       "  2                 ⎟                                      6                  \n",
       " d                  ⎠                                     d                   \n",
       "──────────────────────────────────────────────────────────────────────────────\n",
       "                        ⎛    2⋅(1 - d)   3⋅(2 - d)⎞⎞                          \n",
       "              5⋅(4 - d)⋅⎜1 + ───────── + ─────────⎟⎟                          \n",
       "                        ⎜         2           2   ⎟⎟                          \n",
       "  3⋅(2 - d)             ⎝        d           d    ⎠⎟                          \n",
       "+ ───────── + ─────────────────────────────────────⎟                          \n",
       "       2                         2                 ⎟                          \n",
       "      d                         d                  ⎠                          \n",
       "                                                                              \n",
       "                                                                              \n",
       "                                                                              \n",
       "                                                                              \n",
       "   3⋅(2 - d)⎞⎞      ⎛    2⋅(1 - d)⎞                 ⎛    2⋅(1 - d)   3⋅(2 - d)\n",
       " + ─────────⎟⎟   60⋅⎜1 + ─────────⎟⋅(3 - d)⋅(4 - d)⋅⎜1 + ───────── + ─────────\n",
       "        2   ⎟⎟      ⎜         2   ⎟                 ⎜         2           2   \n",
       "       d    ⎠⎟      ⎝        d    ⎠                 ⎝        d           d    \n",
       "─────────────⎟ + ─────────────────────────────────────────────────────────────\n",
       "             ⎟                                  5                             \n",
       "             ⎠                                 d                              \n",
       "──────────────────────────────────────────────────────────────────────────────\n",
       "                ⎛    2⋅(1 - d)   3⋅(2 - d)⎞⎞                                  \n",
       "      5⋅(4 - d)⋅⎜1 + ───────── + ─────────⎟⎟                                  \n",
       "                ⎜         2           2   ⎟⎟                                  \n",
       " d)             ⎝        d           d    ⎠⎟                                  \n",
       "─── + ─────────────────────────────────────⎟                                  \n",
       "                         2                 ⎟                                  \n",
       "                        d                  ⎠                                  \n",
       "                                                                              \n",
       "                                                                              \n",
       "                                                                              \n",
       "                                                                              \n",
       "  2⋅(1 - d)   3⋅(2 - d)⎞                                                      \n",
       "+ ───────── + ─────────⎟                                                      \n",
       "       2           2   ⎟                                                      \n",
       "      d           d    ⎠                                                      \n",
       "────────────────────────                                                      \n",
       "     4                                                                        \n",
       "    d                                                                         \n",
       "──────────────────────────────                                                \n",
       "  ⎛    2⋅(1 - d)   3⋅(2 - d)⎞⎞                                                \n",
       ")⋅⎜1 + ───────── + ─────────⎟⎟                                                \n",
       "  ⎜         2           2   ⎟⎟                                                \n",
       "  ⎝        d           d    ⎠⎟                                                \n",
       "─────────────────────────────⎟                                                \n",
       "           2                 ⎟                                                \n",
       "          d                  ⎠                                                \n",
       "                                                                              \n",
       "                                                                              \n",
       "                                                                              \n",
       "                                                                              \n",
       "                                                                              \n",
       "                                                                              \n",
       "                                                                              \n",
       "                                                                              \n",
       "───                                                                           \n",
       ")⎞⎞                                                                           \n",
       "─⎟⎟                                                                           \n",
       " ⎟⎟                                                                           \n",
       " ⎠⎟                                                                           \n",
       "──⎟                                                                           \n",
       "  ⎟                                                                           \n",
       "  ⎠                                                                           \n",
       "\n",
       "                                                ⎛                             \n",
       "                                                ⎜                             \n",
       "                                                ⎜                             \n",
       "                   ⎛    2⋅(1 - d)   3⋅(2 - d)⎞  ⎜        ⎛    2⋅(1 - d)⎞      \n",
       "d)⋅(3 - d)⋅(4 - d)⋅⎜1 + ───────── + ─────────⎟  ⎜(1 - d)⋅⎜1 + ─────────⎟⋅(2 - \n",
       "                   ⎜         2           2   ⎟  ⎜        ⎜         2   ⎟      \n",
       "                   ⎝        d           d    ⎠  ⎜        ⎝        d    ⎠      \n",
       "──────────────────────────────────────────────  ⎜─────────────────────────────\n",
       "       7                                        ⎜                             \n",
       "      d                                         ⎝                             \n",
       "──────────────────────────────────────────────  ──────────────────────────────\n",
       "                                                                              \n",
       "                                                                              \n",
       "                                                                              \n",
       "                                                                              \n",
       "                                                                              \n",
       "                                                                              \n",
       "                                                                              \n",
       "                                                                              \n",
       "                                                           ⎛                  \n",
       "                                                           ⎜                  \n",
       "                                                           ⎜                  \n",
       " d)   3⋅(2 - d)⎞                                           ⎜  ⎛    2⋅(1 - d)⎞ \n",
       "─── + ─────────⎟                                           ⎜  ⎜1 + ─────────⎟⋅\n",
       "           2   ⎟                                           ⎜  ⎜         2   ⎟ \n",
       "          d    ⎠                                           ⎜  ⎝        d    ⎠ \n",
       "────────────────                                           ⎜- ────────────────\n",
       "                                                           ⎜                  \n",
       "                                                           ⎝                  \n",
       "────────────────                                           ───────────────────\n",
       "                                                                              \n",
       "                                                                              \n",
       "                                                                              \n",
       "                                                                              \n",
       "                                                                              \n",
       "                                                                              \n",
       "                                                                              \n",
       "                                                                              \n",
       "                                                                              \n",
       "                                                                              \n",
       "                                                                        ⎛     \n",
       "⎞                                                                       ⎜     \n",
       "⎟                                                                       ⎜     \n",
       "⎟                                                                       ⎜     \n",
       "⎠                                                                       ⎜⎛    \n",
       "─                                                                       ⎜⎜1 + \n",
       "                                                                        ⎜⎜    \n",
       "                                                                        ⎝⎝    \n",
       "─                                                                       ──────\n",
       "                                                                              \n",
       "                                                                              \n",
       "                                                                              \n",
       "                                                                              \n",
       "                                                                              \n",
       "                                                                              \n",
       "                                                                              \n",
       "                                                                              \n",
       "                                                                              \n",
       "                                                                              \n",
       "                                                                              \n",
       "                                                                              \n",
       "                                                                              \n",
       "                                                                              \n",
       "                                                                              \n",
       "                                                                              \n",
       "                                                                              \n",
       "                                                                              \n",
       "                                                                              \n",
       "                                                                              \n",
       "                                                                              \n",
       "                                                                              \n",
       "                                                                              \n",
       "                                                                              \n",
       "                                                                              \n",
       "                                                                              \n",
       "                                                                              \n",
       "                                                                              \n",
       "                                                                              \n",
       "                                                                              \n",
       "                                                                              \n",
       "                                                                              \n",
       "                                                                              \n",
       "                                                                              \n",
       "                                                                              \n",
       "                                                                              \n",
       "                                                                              \n",
       "                                                                              \n",
       "                                                                              \n",
       "                                                                              \n",
       "                                                                              \n",
       "                                                                              \n",
       "\n",
       "   ⎛                  ⎛    2⋅(1 - d)⎞                    ⎞                    \n",
       "   ⎜                4⋅⎜1 + ─────────⎟⋅(3 - d)            ⎟                    \n",
       "   ⎜                  ⎜         2   ⎟                    ⎟                    \n",
       "   ⎜    2⋅(1 - d)     ⎝        d    ⎠           3⋅(2 - d)⎟             ⎛    2⋅\n",
       "d)⋅⎜1 + ───────── + ───────────────────────── + ─────────⎟   4⋅(1 - d)⋅⎜1 + ──\n",
       "   ⎜         2                   2                   2   ⎟             ⎜      \n",
       "   ⎝        d                   d                   d    ⎠             ⎝      \n",
       "────────────────────────────────────────────────────────── - ─────────────────\n",
       "               2                                                              \n",
       "              d                                                               \n",
       "──────────────────────────────────────────────────────────────────────────────\n",
       "                                                                        ⎛     \n",
       "                                                                        ⎜     \n",
       "                                                                        ⎜     \n",
       "                            ⎛    2⋅(1 - d)⎞ ⎛    2⋅(1 - d)   3⋅(2 - d)⎞ ⎜    2\n",
       "                            ⎜1 + ─────────⎟⋅⎜1 + ───────── + ─────────⎟⋅⎜1 + ─\n",
       "                            ⎜         2   ⎟ ⎜         2           2   ⎟ ⎜     \n",
       "                            ⎝        d    ⎠ ⎝        d           d    ⎠ ⎝     \n",
       "                                                                              \n",
       "        ⎛                  ⎛    2⋅(1 - d)⎞                    ⎞               \n",
       "        ⎜                4⋅⎜1 + ─────────⎟⋅(3 - d)            ⎟               \n",
       "        ⎜                  ⎜         2   ⎟                    ⎟               \n",
       "        ⎜    2⋅(1 - d)     ⎝        d    ⎠           3⋅(2 - d)⎟     ⎛    2⋅(1 \n",
       "(2 - d)⋅⎜1 + ───────── + ───────────────────────── + ─────────⎟   4⋅⎜1 + ─────\n",
       "        ⎜         2                   2                   2   ⎟     ⎜         \n",
       "        ⎝        d                   d                   d    ⎠     ⎝        d\n",
       "─────────────────────────────────────────────────────────────── + ────────────\n",
       "                       d                                                      \n",
       "                                                                              \n",
       "──────────────────────────────────────────────────────────────────────────────\n",
       "                                                                        ⎛     \n",
       "                                                                        ⎜     \n",
       "                                                                        ⎜     \n",
       "                            ⎛    2⋅(1 - d)⎞ ⎛    2⋅(1 - d)   3⋅(2 - d)⎞ ⎜    2\n",
       "                            ⎜1 + ─────────⎟⋅⎜1 + ───────── + ─────────⎟⋅⎜1 + ─\n",
       "                            ⎜         2   ⎟ ⎜         2           2   ⎟ ⎜     \n",
       "                            ⎝        d    ⎠ ⎝        d           d    ⎠ ⎝     \n",
       "                                                                              \n",
       "                                                                              \n",
       "                                                                              \n",
       "                                                                              \n",
       "           ⎛                  ⎛    2⋅(1 - d)⎞                    ⎞     ⎛    2⋅\n",
       "           ⎜                4⋅⎜1 + ─────────⎟⋅(3 - d)            ⎟   4⋅⎜1 + ──\n",
       "           ⎜                  ⎜         2   ⎟                    ⎟     ⎜      \n",
       "2⋅(1 - d)⎞ ⎜    2⋅(1 - d)     ⎝        d    ⎠           3⋅(2 - d)⎟     ⎝      \n",
       "─────────⎟⋅⎜1 + ───────── + ───────────────────────── + ─────────⎟ - ─────────\n",
       "     2   ⎟ ⎜         2                   2                   2   ⎟            \n",
       "    d    ⎠ ⎝        d                   d                   d    ⎠            \n",
       "──────────────────────────────────────────────────────────────────────────────\n",
       "                                                                ⎛             \n",
       "                                                                ⎜             \n",
       "                                                                ⎜             \n",
       "                                    ⎛    2⋅(1 - d)   3⋅(2 - d)⎞ ⎜    2⋅(1 - d)\n",
       "                                    ⎜1 + ───────── + ─────────⎟⋅⎜1 + ─────────\n",
       "                                    ⎜         2           2   ⎟ ⎜         2   \n",
       "                                    ⎝        d           d    ⎠ ⎝        d    \n",
       "                                                                              \n",
       "                                                           ⎛                  \n",
       "                                                           ⎜                4⋅\n",
       "                                                           ⎜                  \n",
       "                                           ⎛    2⋅(1 - d)⎞ ⎜    2⋅(1 - d)     \n",
       "                                         4⋅⎜1 + ─────────⎟⋅⎜1 + ───────── + ──\n",
       "                                           ⎜         2   ⎟ ⎜         2        \n",
       "                                           ⎝        d    ⎠ ⎝        d         \n",
       "                                         ─────────────────────────────────────\n",
       "                                                                              \n",
       "                                                                              \n",
       "                                         ─────────────────────────────────────\n",
       "                                                  ⎛                  ⎛    2⋅(1\n",
       "                                                  ⎜                4⋅⎜1 + ────\n",
       "                                                  ⎜                  ⎜        \n",
       "                                                  ⎜    2⋅(1 - d)     ⎝        \n",
       "                                                  ⎜1 + ───────── + ───────────\n",
       "                                                  ⎜         2                 \n",
       "                                                  ⎝        d                  \n",
       "                                                                              \n",
       "                                                                              \n",
       "                                                                              \n",
       "                                                                              \n",
       "                                                                              \n",
       "                                                                              \n",
       "                                                                              \n",
       "                                                                              \n",
       "                                                                             ─\n",
       "                                                                              \n",
       "                                                                              \n",
       "                                                                              \n",
       "                                                                              \n",
       "                                                                             d\n",
       "                                                                              \n",
       "                                                                              \n",
       "\n",
       "                         ⎞                                                    \n",
       "                         ⎟                                                    \n",
       "        2                ⎟                                                    \n",
       "(1 - d)⎞                 ⎟ ⎛                  ⎛    2⋅(1 - d)⎞                 \n",
       "───────⎟ ⋅(2 - d)⋅(3 - d)⎟ ⎜                4⋅⎜1 + ─────────⎟⋅(3 - d)         \n",
       "   2   ⎟                 ⎟ ⎜                  ⎜         2   ⎟                 \n",
       "  d    ⎠                 ⎟ ⎜    2⋅(1 - d)     ⎝        d    ⎠           3⋅(2 -\n",
       "─────────────────────────⎟⋅⎜1 + ───────── + ───────────────────────── + ──────\n",
       "    4                    ⎟ ⎜         2                   2                   2\n",
       "   d                     ⎠ ⎝        d                   d                   d \n",
       "──────────────────────────────────────────────────────────────────────────────\n",
       "             ⎛    2⋅(1 - d)⎞                    ⎞ ⎛                  ⎛    2⋅(1\n",
       "           4⋅⎜1 + ─────────⎟⋅(3 - d)            ⎟ ⎜                4⋅⎜1 + ────\n",
       "             ⎜         2   ⎟                    ⎟ ⎜                  ⎜        \n",
       "⋅(1 - d)     ⎝        d    ⎠           3⋅(2 - d)⎟ ⎜    2⋅(1 - d)     ⎝        \n",
       "──────── + ───────────────────────── + ─────────⎟⋅⎜1 + ───────── + ───────────\n",
       "    2                   2                   2   ⎟ ⎜         2                 \n",
       "   d                   d                   d    ⎠ ⎝        d                  \n",
       "                                                                              \n",
       "                      ⎞                                                       \n",
       "                      ⎟                                                       \n",
       "     2                ⎟                                                       \n",
       "- d)⎞                 ⎟ ⎛                  ⎛    2⋅(1 - d)⎞                    \n",
       "────⎟ ⋅(2 - d)⋅(3 - d)⎟ ⎜                4⋅⎜1 + ─────────⎟⋅(3 - d)            \n",
       "2   ⎟                 ⎟ ⎜                  ⎜         2   ⎟                    \n",
       "    ⎠                 ⎟ ⎜    2⋅(1 - d)     ⎝        d    ⎠           3⋅(2 - d)\n",
       "──────────────────────⎟⋅⎜1 + ───────── + ───────────────────────── + ─────────\n",
       "     3                ⎟ ⎜         2                   2                   2   \n",
       "    d                 ⎠ ⎝        d                   d                   d    \n",
       "──────────────────────────────────────────────────────────────────────────────\n",
       "             ⎛    2⋅(1 - d)⎞                    ⎞ ⎛                  ⎛    2⋅(1\n",
       "           4⋅⎜1 + ─────────⎟⋅(3 - d)            ⎟ ⎜                4⋅⎜1 + ────\n",
       "             ⎜         2   ⎟                    ⎟ ⎜                  ⎜        \n",
       "⋅(1 - d)     ⎝        d    ⎠           3⋅(2 - d)⎟ ⎜    2⋅(1 - d)     ⎝        \n",
       "──────── + ───────────────────────── + ─────────⎟⋅⎜1 + ───────── + ───────────\n",
       "    2                   2                   2   ⎟ ⎜         2                 \n",
       "   d                   d                   d    ⎠ ⎝        d                  \n",
       "                                                                              \n",
       "                                                                              \n",
       "                                                                              \n",
       "        2        ⎞                                                            \n",
       "(1 - d)⎞         ⎟ ⎛                  ⎛    2⋅(1 - d)⎞                         \n",
       "───────⎟ ⋅(3 - d)⎟ ⎜                4⋅⎜1 + ─────────⎟⋅(3 - d)               5⋅\n",
       "   2   ⎟         ⎟ ⎜                  ⎜         2   ⎟                         \n",
       "  d    ⎠         ⎟ ⎜    2⋅(1 - d)     ⎝        d    ⎠           3⋅(2 - d)     \n",
       "─────────────────⎟⋅⎜1 + ───────── + ───────────────────────── + ───────── + ──\n",
       "    2            ⎟ ⎜         2                   2                   2        \n",
       "   d             ⎠ ⎝        d                   d                   d         \n",
       "──────────────────────────────────────────────────────────────────────────────\n",
       "     ⎛    2⋅(1 - d)⎞                    ⎞ ⎛                  ⎛    2⋅(1 - d)⎞  \n",
       "   4⋅⎜1 + ─────────⎟⋅(3 - d)            ⎟ ⎜                4⋅⎜1 + ─────────⎟⋅(\n",
       "     ⎜         2   ⎟                    ⎟ ⎜                  ⎜         2   ⎟  \n",
       "     ⎝        d    ⎠           3⋅(2 - d)⎟ ⎜    2⋅(1 - d)     ⎝        d    ⎠  \n",
       " + ───────────────────────── + ─────────⎟⋅⎜1 + ───────── + ───────────────────\n",
       "                2                   2   ⎟ ⎜         2                   2     \n",
       "               d                   d    ⎠ ⎝        d                   d      \n",
       "                                                                              \n",
       "⎛    2⋅(1 - d)⎞                                 ⎛    2⋅(1 - d)   3⋅(2 - d)⎞⎞  \n",
       "⎜1 + ─────────⎟⋅(3 - d)               5⋅(4 - d)⋅⎜1 + ───────── + ─────────⎟⎟  \n",
       "⎜         2   ⎟                                 ⎜         2           2   ⎟⎟  \n",
       "⎝        d    ⎠           3⋅(2 - d)             ⎝        d           d    ⎠⎟  \n",
       "─────────────────────── + ───────── + ─────────────────────────────────────⎟  \n",
       "           2                   2                         2                 ⎟  \n",
       "          d                   d                         d                  ⎠  \n",
       "──────────────────────────────────────────────────────────────────────────── -\n",
       "                   d                                                          \n",
       "                                                                              \n",
       "──────────────────────────────────────────────────────────────────────────────\n",
       " - d)⎞                    ⎞ ⎛                  ⎛    2⋅(1 - d)⎞                \n",
       "─────⎟⋅(3 - d)            ⎟ ⎜                4⋅⎜1 + ─────────⎟⋅(3 - d)        \n",
       " 2   ⎟                    ⎟ ⎜                  ⎜         2   ⎟                \n",
       "d    ⎠           3⋅(2 - d)⎟ ⎜    2⋅(1 - d)     ⎝        d    ⎠           3⋅(2 \n",
       "────────────── + ─────────⎟⋅⎜1 + ───────── + ───────────────────────── + ─────\n",
       "  2                   2   ⎟ ⎜         2                   2                   \n",
       " d                   d    ⎠ ⎝        d                   d                   d\n",
       "                                                                              \n",
       "                                                                              \n",
       "                                                                              \n",
       "                                                                              \n",
       "                                          ⎛    2⋅(1 - d)⎞                     \n",
       "                                       20⋅⎜1 + ─────────⎟                     \n",
       "                                          ⎜         2   ⎟                     \n",
       "                                          ⎝        d    ⎠                     \n",
       "──────────────────────────────────────────────────────────────────────────────\n",
       "  ⎛                  ⎛    2⋅(1 - d)⎞                                 ⎛    2⋅(1\n",
       "  ⎜                4⋅⎜1 + ─────────⎟⋅(3 - d)               5⋅(4 - d)⋅⎜1 + ────\n",
       "  ⎜                  ⎜         2   ⎟                                 ⎜        \n",
       "2 ⎜    2⋅(1 - d)     ⎝        d    ⎠           3⋅(2 - d)             ⎝        \n",
       " ⋅⎜1 + ───────── + ───────────────────────── + ───────── + ───────────────────\n",
       "  ⎜         2                   2                   2                         \n",
       "  ⎝        d                   d                   d                         d\n",
       "\n",
       "                                                                              \n",
       "                                                                              \n",
       "                                                                         2    \n",
       "                ⎛    2⋅(1 - d)   3⋅(2 - d)⎞⎞              ⎛    2⋅(1 - d)⎞     \n",
       "      5⋅(4 - d)⋅⎜1 + ───────── + ─────────⎟⎟   20⋅(1 - d)⋅⎜1 + ─────────⎟ ⋅(2 \n",
       "                ⎜         2           2   ⎟⎟              ⎜         2   ⎟     \n",
       " d)             ⎝        d           d    ⎠⎟              ⎝        d    ⎠     \n",
       "─── + ─────────────────────────────────────⎟ + ───────────────────────────────\n",
       "                         2                 ⎟                                  \n",
       "                        d                  ⎠                                  \n",
       "──────────────────────────────────────────────────────────────────────────────\n",
       " - d)⎞                                 ⎛    2⋅(1 - d)   3⋅(2 - d)⎞⎞           \n",
       "─────⎟⋅(3 - d)               5⋅(4 - d)⋅⎜1 + ───────── + ─────────⎟⎟           \n",
       " 2   ⎟                                 ⎜         2           2   ⎟⎟           \n",
       "d    ⎠           3⋅(2 - d)             ⎝        d           d    ⎠⎟           \n",
       "────────────── + ───────── + ─────────────────────────────────────⎟           \n",
       "  2                   2                         2                 ⎟           \n",
       " d                   d                         d                  ⎠           \n",
       "                                                                              \n",
       "                                                                              \n",
       "                                                                              \n",
       "                                                              2               \n",
       "             ⎛    2⋅(1 - d)   3⋅(2 - d)⎞⎞      ⎛    2⋅(1 - d)⎞                \n",
       "   5⋅(4 - d)⋅⎜1 + ───────── + ─────────⎟⎟   20⋅⎜1 + ─────────⎟ ⋅(2 - d)⋅(3 - d\n",
       "             ⎜         2           2   ⎟⎟      ⎜         2   ⎟                \n",
       "             ⎝        d           d    ⎠⎟      ⎝        d    ⎠                \n",
       " + ─────────────────────────────────────⎟ - ──────────────────────────────────\n",
       "                      2                 ⎟                                     \n",
       "                     d                  ⎠                                     \n",
       "──────────────────────────────────────────────────────────────────────────────\n",
       " - d)⎞                                 ⎛    2⋅(1 - d)   3⋅(2 - d)⎞⎞           \n",
       "─────⎟⋅(3 - d)               5⋅(4 - d)⋅⎜1 + ───────── + ─────────⎟⎟           \n",
       " 2   ⎟                                 ⎜         2           2   ⎟⎟           \n",
       "d    ⎠           3⋅(2 - d)             ⎝        d           d    ⎠⎟           \n",
       "────────────── + ───────── + ─────────────────────────────────────⎟           \n",
       "  2                   2                         2                 ⎟           \n",
       " d                   d                         d                  ⎠           \n",
       "                                                                              \n",
       "                                                                              \n",
       "                                                                              \n",
       "                                                         2                    \n",
       "        ⎛    2⋅(1 - d)   3⋅(2 - d)⎞⎞      ⎛    2⋅(1 - d)⎞                  ⎛  \n",
       "(4 - d)⋅⎜1 + ───────── + ─────────⎟⎟   20⋅⎜1 + ─────────⎟ ⋅(3 - d)⋅(4 - d)⋅⎜1 \n",
       "        ⎜         2           2   ⎟⎟      ⎜         2   ⎟                  ⎜  \n",
       "        ⎝        d           d    ⎠⎟      ⎝        d    ⎠                  ⎝  \n",
       "───────────────────────────────────⎟ + ───────────────────────────────────────\n",
       "                 2                 ⎟                                   4      \n",
       "                d                  ⎠                                  d       \n",
       "──────────────────────────────────────────────────────────────────────────────\n",
       "                               ⎛    2⋅(1 - d)   3⋅(2 - d)⎞⎞                   \n",
       "3 - d)               5⋅(4 - d)⋅⎜1 + ───────── + ─────────⎟⎟                   \n",
       "                               ⎜         2           2   ⎟⎟                   \n",
       "         3⋅(2 - d)             ⎝        d           d    ⎠⎟                   \n",
       "────── + ───────── + ─────────────────────────────────────⎟                   \n",
       "              2                         2                 ⎟                   \n",
       "             d                         d                  ⎠                   \n",
       "                                                                              \n",
       "                                                                              \n",
       "                                                                              \n",
       "                                                                              \n",
       "    ⎛    2⋅(1 - d)⎞         ⎛    2⋅(1 - d)   3⋅(2 - d)⎞                       \n",
       " 20⋅⎜1 + ─────────⎟⋅(4 - d)⋅⎜1 + ───────── + ─────────⎟                       \n",
       "    ⎜         2   ⎟         ⎜         2           2   ⎟                       \n",
       "    ⎝        d    ⎠         ⎝        d           d    ⎠                       \n",
       " ──────────────────────────────────────────────────────                       \n",
       "                            3                                                 \n",
       "                           d                                                  \n",
       "───────────────────────────────────────────────────────                       \n",
       "                 ⎛    2⋅(1 - d)   3⋅(2 - d)⎞⎞                                 \n",
       "       5⋅(4 - d)⋅⎜1 + ───────── + ─────────⎟⎟                                 \n",
       "                 ⎜         2           2   ⎟⎟                                 \n",
       "- d)             ⎝        d           d    ⎠⎟                                 \n",
       "──── + ─────────────────────────────────────⎟                                 \n",
       "2                         2                 ⎟                                 \n",
       "                         d                  ⎠                                 \n",
       "                                                                              \n",
       "                                                                              \n",
       "                                                                              \n",
       "                                                                              \n",
       "                                                                              \n",
       "                                                                              \n",
       "                                                                              \n",
       "                                                                              \n",
       "───────────────────                                                           \n",
       " - d)   3⋅(2 - d)⎞⎞                                                           \n",
       "───── + ─────────⎟⎟                                                           \n",
       " 2           2   ⎟⎟                                                           \n",
       "d           d    ⎠⎟                                                           \n",
       "──────────────────⎟                                                           \n",
       "2                 ⎟                                                           \n",
       "                  ⎠                                                           \n",
       "\n",
       "                                                                              \n",
       "                                                                              \n",
       "                                                                              \n",
       "                     ⎛    2⋅(1 - d)   3⋅(2 - d)⎞            ⎛    2⋅(1 - d)⎞   \n",
       "- d)⋅(3 - d)⋅(4 - d)⋅⎜1 + ───────── + ─────────⎟    (1 - d)⋅⎜1 + ─────────⎟⋅(2\n",
       "                     ⎜         2           2   ⎟            ⎜         2   ⎟   \n",
       "                     ⎝        d           d    ⎠            ⎝        d    ⎠   \n",
       "────────────────────────────────────────────────  - ──────────────────────────\n",
       "         6                                                                    \n",
       "        d                                                                     \n",
       "────────────────────────────────────────────────  ────────────────────────────\n",
       "                                                                              \n",
       "                                                                              \n",
       "                                                                              \n",
       "                                                                           ⎛  \n",
       "                                                                           ⎜1 \n",
       "                                                                           ⎜  \n",
       "                                                                           ⎝  \n",
       "                                                                              \n",
       "                                                                              \n",
       "                                                                              \n",
       "                                                                              \n",
       "          ⎛    2⋅(1 - d)   3⋅(2 - d)⎞                      ⎛    2⋅(1 - d)⎞    \n",
       ")⋅(4 - d)⋅⎜1 + ───────── + ─────────⎟                      ⎜1 + ─────────⎟⋅(2 \n",
       "          ⎜         2           2   ⎟                      ⎜         2   ⎟    \n",
       "          ⎝        d           d    ⎠                      ⎝        d    ⎠    \n",
       "─────────────────────────────────────                      ───────────────────\n",
       "  5                                                                           \n",
       " d                                                                            \n",
       "─────────────────────────────────────                      ───────────────────\n",
       "                                                                              \n",
       "                                                                              \n",
       "                                                                              \n",
       "                                                                           ⎛  \n",
       "                                                                           ⎜1 \n",
       "                                                                           ⎜  \n",
       "                                                                           ⎝  \n",
       "                                                                              \n",
       "                                                                              \n",
       "                                                                              \n",
       "                                                                              \n",
       "  2⋅(1 - d)   3⋅(2 - d)⎞                                            ⎛    2⋅(1 \n",
       "+ ───────── + ─────────⎟                                            ⎜1 + ─────\n",
       "       2           2   ⎟                                            ⎜         \n",
       "      d           d    ⎠                                            ⎝        d\n",
       "────────────────────────                                          - ──────────\n",
       "                                                                              \n",
       "                                                                              \n",
       "────────────────────────                                          ────────────\n",
       "                                                                              \n",
       "                                                                              \n",
       "                                                                              \n",
       "                                                                              \n",
       "                                                                              \n",
       "                                                                              \n",
       "                                                                              \n",
       "                                                                              \n",
       "                                                                              \n",
       "                                                                              \n",
       "                                                                              \n",
       "                                                                              \n",
       "                                                                              \n",
       "                                                                              \n",
       "                                                                              \n",
       "                                                                              \n",
       "                                                                              \n",
       "                                                                              \n",
       "                                                                              \n",
       "                                                                              \n",
       "                                                                              \n",
       "                                                                              \n",
       "                                                                              \n",
       "                                                                              \n",
       "                                                                              \n",
       "                                                                              \n",
       "                                                                              \n",
       "                                                                              \n",
       "                                                                              \n",
       "                                                                              \n",
       "                                                                              \n",
       "                                                                              \n",
       "                                                                              \n",
       "                                                                              \n",
       "                                                                              \n",
       "                                                                              \n",
       "                                                                              \n",
       "                                                                              \n",
       "                                                                              \n",
       "                                                                              \n",
       "                                                                              \n",
       "                                                                              \n",
       "\n",
       "                                          ⎛                  ⎛    2⋅(1 - d)⎞  \n",
       "                                          ⎜                4⋅⎜1 + ─────────⎟⋅(\n",
       "                                          ⎜                  ⎜         2   ⎟  \n",
       "              ⎛    2⋅(1 - d)   3⋅(2 - d)⎞ ⎜    2⋅(1 - d)     ⎝        d    ⎠  \n",
       " - d)⋅(3 - d)⋅⎜1 + ───────── + ─────────⎟⋅⎜1 + ───────── + ───────────────────\n",
       "              ⎜         2           2   ⎟ ⎜         2                   2     \n",
       "              ⎝        d           d    ⎠ ⎝        d                   d      \n",
       "──────────────────────────────────────────────────────────────────────────────\n",
       "                                                        3                     \n",
       "                                                       d                      \n",
       "──────────────────────────────────────────────────────────────────────────────\n",
       "                                         ⎛                  ⎛    2⋅(1 - d)⎞   \n",
       "                                         ⎜                4⋅⎜1 + ─────────⎟⋅(3\n",
       "                                         ⎜                  ⎜         2   ⎟   \n",
       "  2⋅(1 - d)⎞ ⎛    2⋅(1 - d)   3⋅(2 - d)⎞ ⎜    2⋅(1 - d)     ⎝        d    ⎠   \n",
       "+ ─────────⎟⋅⎜1 + ───────── + ─────────⎟⋅⎜1 + ───────── + ────────────────────\n",
       "       2   ⎟ ⎜         2           2   ⎟ ⎜         2                   2      \n",
       "      d    ⎠ ⎝        d           d    ⎠ ⎝        d                   d       \n",
       "                                                                              \n",
       "                                         ⎛                  ⎛    2⋅(1 - d)⎞   \n",
       "                                         ⎜                4⋅⎜1 + ─────────⎟⋅(3\n",
       "                                         ⎜                  ⎜         2   ⎟   \n",
       "             ⎛    2⋅(1 - d)   3⋅(2 - d)⎞ ⎜    2⋅(1 - d)     ⎝        d    ⎠   \n",
       "- d)⋅(3 - d)⋅⎜1 + ───────── + ─────────⎟⋅⎜1 + ───────── + ────────────────────\n",
       "             ⎜         2           2   ⎟ ⎜         2                   2      \n",
       "             ⎝        d           d    ⎠ ⎝        d                   d       \n",
       "──────────────────────────────────────────────────────────────────────────────\n",
       "                                                           2                  \n",
       "                                                          d                   \n",
       "──────────────────────────────────────────────────────────────────────────────\n",
       "                                         ⎛                  ⎛    2⋅(1 - d)⎞   \n",
       "                                         ⎜                4⋅⎜1 + ─────────⎟⋅(3\n",
       "                                         ⎜                  ⎜         2   ⎟   \n",
       "  2⋅(1 - d)⎞ ⎛    2⋅(1 - d)   3⋅(2 - d)⎞ ⎜    2⋅(1 - d)     ⎝        d    ⎠   \n",
       "+ ─────────⎟⋅⎜1 + ───────── + ─────────⎟⋅⎜1 + ───────── + ────────────────────\n",
       "       2   ⎟ ⎜         2           2   ⎟ ⎜         2                   2      \n",
       "      d    ⎠ ⎝        d           d    ⎠ ⎝        d                   d       \n",
       "                                                                              \n",
       "                                          ⎛                  ⎛    2⋅(1 - d)⎞  \n",
       "                                          ⎜                4⋅⎜1 + ─────────⎟⋅(\n",
       "                                          ⎜                  ⎜         2   ⎟  \n",
       "- d)⎞         ⎛    2⋅(1 - d)   3⋅(2 - d)⎞ ⎜    2⋅(1 - d)     ⎝        d    ⎠  \n",
       "────⎟⋅(3 - d)⋅⎜1 + ───────── + ─────────⎟⋅⎜1 + ───────── + ───────────────────\n",
       "2   ⎟         ⎜         2           2   ⎟ ⎜         2                   2     \n",
       "    ⎠         ⎝        d           d    ⎠ ⎝        d                   d      \n",
       "──────────────────────────────────────────────────────────────────────────────\n",
       "                                                               d              \n",
       "                                                                              \n",
       "──────────────────────────────────────────────────────────────────────────────\n",
       "                                 ⎛                  ⎛    2⋅(1 - d)⎞           \n",
       "                                 ⎜                4⋅⎜1 + ─────────⎟⋅(3 - d)   \n",
       "                                 ⎜                  ⎜         2   ⎟           \n",
       "     ⎛    2⋅(1 - d)   3⋅(2 - d)⎞ ⎜    2⋅(1 - d)     ⎝        d    ⎠           \n",
       "     ⎜1 + ───────── + ─────────⎟⋅⎜1 + ───────── + ───────────────────────── + \n",
       "     ⎜         2           2   ⎟ ⎜         2                   2              \n",
       "     ⎝        d           d    ⎠ ⎝        d                   d               \n",
       "                                                                              \n",
       "                                                                              \n",
       "                                                                              \n",
       "                                                                              \n",
       "                                         ⎛                  ⎛    2⋅(1 - d)⎞   \n",
       "                                         ⎜                4⋅⎜1 + ─────────⎟⋅(3\n",
       "                                         ⎜                  ⎜         2   ⎟   \n",
       "             ⎛    2⋅(1 - d)   3⋅(2 - d)⎞ ⎜    2⋅(1 - d)     ⎝        d    ⎠   \n",
       "             ⎜1 + ───────── + ─────────⎟⋅⎜1 + ───────── + ────────────────────\n",
       "             ⎜         2           2   ⎟ ⎜         2                   2      \n",
       "             ⎝        d           d    ⎠ ⎝        d                   d       \n",
       "             ─────────────────────────────────────────────────────────────────\n",
       "                   ⎛                  ⎛    2⋅(1 - d)⎞                    ⎞ ⎛  \n",
       "                   ⎜                4⋅⎜1 + ─────────⎟⋅(3 - d)            ⎟ ⎜  \n",
       "                   ⎜                  ⎜         2   ⎟                    ⎟ ⎜  \n",
       "                   ⎜    2⋅(1 - d)     ⎝        d    ⎠           3⋅(2 - d)⎟ ⎜  \n",
       "                   ⎜1 + ───────── + ───────────────────────── + ─────────⎟⋅⎜1 \n",
       "                   ⎜         2                   2                   2   ⎟ ⎜  \n",
       "                   ⎝        d                   d                   d    ⎠ ⎝  \n",
       "                                                                              \n",
       "                                                                              \n",
       "                                                                              \n",
       "                                                                              \n",
       "                                                                              \n",
       "                                                                              \n",
       "                                                                              \n",
       "                                                                              \n",
       "                                              ────────────────────────────────\n",
       "                                                ⎛                  ⎛    2⋅(1 -\n",
       "                                                ⎜                4⋅⎜1 + ──────\n",
       "                                                ⎜                  ⎜         2\n",
       "                                                ⎜    2⋅(1 - d)     ⎝        d \n",
       "                                              d⋅⎜1 + ───────── + ─────────────\n",
       "                                                ⎜         2                   \n",
       "                                                ⎝        d                   d\n",
       "\n",
       "                               ⎛    2⋅(1 - d)   3⋅(2 - d)⎞⎞                   \n",
       "3 - d)               5⋅(4 - d)⋅⎜1 + ───────── + ─────────⎟⎟                   \n",
       "                               ⎜         2           2   ⎟⎟                   \n",
       "         3⋅(2 - d)             ⎝        d           d    ⎠⎟             ⎛    2\n",
       "────── + ───────── + ─────────────────────────────────────⎟   5⋅(1 - d)⋅⎜1 + ─\n",
       "              2                         2                 ⎟             ⎜     \n",
       "             d                         d                  ⎠             ⎝     \n",
       "─────────────────────────────────────────────────────────── + ────────────────\n",
       "                                                                              \n",
       "                                                                              \n",
       "──────────────────────────────────────────────────────────────────────────────\n",
       "                 ⎞ ⎛                  ⎛    2⋅(1 - d)⎞                         \n",
       " - d)            ⎟ ⎜                4⋅⎜1 + ─────────⎟⋅(3 - d)               5⋅\n",
       "                 ⎟ ⎜                  ⎜         2   ⎟                         \n",
       "        3⋅(2 - d)⎟ ⎜    2⋅(1 - d)     ⎝        d    ⎠           3⋅(2 - d)     \n",
       "───── + ─────────⎟⋅⎜1 + ───────── + ───────────────────────── + ───────── + ──\n",
       "             2   ⎟ ⎜         2                   2                   2        \n",
       "            d    ⎠ ⎝        d                   d                   d         \n",
       "                                                                              \n",
       "                              ⎛    2⋅(1 - d)   3⋅(2 - d)⎞⎞                    \n",
       " - d)               5⋅(4 - d)⋅⎜1 + ───────── + ─────────⎟⎟                    \n",
       "                              ⎜         2           2   ⎟⎟                    \n",
       "        3⋅(2 - d)             ⎝        d           d    ⎠⎟     ⎛    2⋅(1 - d)⎞\n",
       "───── + ───────── + ─────────────────────────────────────⎟   5⋅⎜1 + ─────────⎟\n",
       "             2                         2                 ⎟     ⎜         2   ⎟\n",
       "            d                         d                  ⎠     ⎝        d    ⎠\n",
       "────────────────────────────────────────────────────────── - ─────────────────\n",
       "                                                                              \n",
       "                                                                              \n",
       "──────────────────────────────────────────────────────────────────────────────\n",
       "                 ⎞ ⎛                  ⎛    2⋅(1 - d)⎞                         \n",
       " - d)            ⎟ ⎜                4⋅⎜1 + ─────────⎟⋅(3 - d)               5⋅\n",
       "                 ⎟ ⎜                  ⎜         2   ⎟                         \n",
       "        3⋅(2 - d)⎟ ⎜    2⋅(1 - d)     ⎝        d    ⎠           3⋅(2 - d)     \n",
       "───── + ─────────⎟⋅⎜1 + ───────── + ───────────────────────── + ───────── + ──\n",
       "             2   ⎟ ⎜         2                   2                   2        \n",
       "            d    ⎠ ⎝        d                   d                   d         \n",
       "                                                                              \n",
       "                               ⎛    2⋅(1 - d)   3⋅(2 - d)⎞⎞                   \n",
       "3 - d)               5⋅(4 - d)⋅⎜1 + ───────── + ─────────⎟⎟                   \n",
       "                               ⎜         2           2   ⎟⎟                   \n",
       "         3⋅(2 - d)             ⎝        d           d    ⎠⎟     ⎛    2⋅(1 - d)\n",
       "────── + ───────── + ─────────────────────────────────────⎟   5⋅⎜1 + ─────────\n",
       "              2                         2                 ⎟     ⎜         2   \n",
       "             d                         d                  ⎠     ⎝        d    \n",
       "─────────────────────────────────────────────────────────── + ────────────────\n",
       "                                                                              \n",
       "                                                                              \n",
       "──────────────────────────────────────────────────────────────────────────────\n",
       "         ⎞ ⎛                  ⎛    2⋅(1 - d)⎞                                 \n",
       "         ⎟ ⎜                4⋅⎜1 + ─────────⎟⋅(3 - d)               5⋅(4 - d)⋅\n",
       "         ⎟ ⎜                  ⎜         2   ⎟                                 \n",
       "3⋅(2 - d)⎟ ⎜    2⋅(1 - d)     ⎝        d    ⎠           3⋅(2 - d)             \n",
       "─────────⎟⋅⎜1 + ───────── + ───────────────────────── + ───────── + ──────────\n",
       "     2   ⎟ ⎜         2                   2                   2                \n",
       "    d    ⎠ ⎝        d                   d                   d                 \n",
       "                                                                              \n",
       "                                                                              \n",
       "                                                                              \n",
       "                                                                              \n",
       "                              ⎛    2⋅(1 - d)   3⋅(2 - d)⎞⎞             ⎛    2⋅\n",
       " - d)               5⋅(4 - d)⋅⎜1 + ───────── + ─────────⎟⎟   5⋅(4 - d)⋅⎜1 + ──\n",
       "                              ⎜         2           2   ⎟⎟             ⎜      \n",
       "        3⋅(2 - d)             ⎝        d           d    ⎠⎟             ⎝      \n",
       "───── + ───────── + ─────────────────────────────────────⎟ - ─────────────────\n",
       "             2                         2                 ⎟                    \n",
       "            d                         d                  ⎠                    \n",
       "──────────────────────────────────────────────────────────────────────────────\n",
       "                ⎛    2⋅(1 - d)⎞                                 ⎛    2⋅(1 - d)\n",
       "              4⋅⎜1 + ─────────⎟⋅(3 - d)               5⋅(4 - d)⋅⎜1 + ─────────\n",
       "                ⎜         2   ⎟                                 ⎜         2   \n",
       "  2⋅(1 - d)     ⎝        d    ⎠           3⋅(2 - d)             ⎝        d    \n",
       "+ ───────── + ───────────────────────── + ───────── + ────────────────────────\n",
       "       2                   2                   2                         2    \n",
       "      d                   d                   d                         d     \n",
       "                                                                              \n",
       "                                                                              \n",
       "                                                                              \n",
       "                                                                              \n",
       "    ⎛    2⋅(1 - d)   3⋅(2 - d)⎞                                               \n",
       "  5⋅⎜1 + ───────── + ─────────⎟                                               \n",
       "    ⎜         2           2   ⎟                                               \n",
       "    ⎝        d           d    ⎠                                               \n",
       "─────────────────────────────────────────────────────────────────             \n",
       " d)⎞                                 ⎛    2⋅(1 - d)   3⋅(2 - d)⎞⎞             \n",
       "───⎟⋅(3 - d)               5⋅(4 - d)⋅⎜1 + ───────── + ─────────⎟⎟             \n",
       "   ⎟                                 ⎜         2           2   ⎟⎟             \n",
       "   ⎠           3⋅(2 - d)             ⎝        d           d    ⎠⎟             \n",
       "──────────── + ───────── + ─────────────────────────────────────⎟             \n",
       "2                   2                         2                 ⎟             \n",
       "                   d                         d                  ⎠             \n",
       "\n",
       "                                                                              \n",
       "                                                                              \n",
       "                                                             2                \n",
       "⋅(1 - d)⎞                         ⎛    2⋅(1 - d)   3⋅(2 - d)⎞                 \n",
       "────────⎟⋅(2 - d)⋅(3 - d)⋅(4 - d)⋅⎜1 + ───────── + ─────────⎟                 \n",
       "    2   ⎟                         ⎜         2           2   ⎟                 \n",
       "   d    ⎠                         ⎝        d           d    ⎠                 \n",
       "──────────────────────────────────────────────────────────────                \n",
       "                       5                                                      \n",
       "                      d                                                       \n",
       "──────────────────────────────────────────────────────────────  ──────────────\n",
       "        ⎛    2⋅(1 - d)   3⋅(2 - d)⎞⎞                               ⎛          \n",
       "(4 - d)⋅⎜1 + ───────── + ─────────⎟⎟                               ⎜          \n",
       "        ⎜         2           2   ⎟⎟                               ⎜          \n",
       "        ⎝        d           d    ⎠⎟                             4 ⎜    2⋅(1 -\n",
       "───────────────────────────────────⎟                            d ⋅⎜1 + ──────\n",
       "                 2                 ⎟                               ⎜         2\n",
       "                d                  ⎠                               ⎝        d \n",
       "                                                                              \n",
       "                                                                              \n",
       "                                                                              \n",
       "                                                    2                         \n",
       "                         ⎛    2⋅(1 - d)   3⋅(2 - d)⎞                          \n",
       "⋅(2 - d)⋅(3 - d)⋅(4 - d)⋅⎜1 + ───────── + ─────────⎟                          \n",
       "                         ⎜         2           2   ⎟                          \n",
       "                         ⎝        d           d    ⎠                          \n",
       "─────────────────────────────────────────────────────                         \n",
       "                  4                                                           \n",
       "                 d                                                            \n",
       "─────────────────────────────────────────────────────           ──────────────\n",
       "        ⎛    2⋅(1 - d)   3⋅(2 - d)⎞⎞                               ⎛          \n",
       "(4 - d)⋅⎜1 + ───────── + ─────────⎟⎟                               ⎜          \n",
       "        ⎜         2           2   ⎟⎟                               ⎜          \n",
       "        ⎝        d           d    ⎠⎟                             3 ⎜    2⋅(1 -\n",
       "───────────────────────────────────⎟                            d ⋅⎜1 + ──────\n",
       "                 2                 ⎟                               ⎜         2\n",
       "                d                  ⎠                               ⎝        d \n",
       "                                                                              \n",
       "                                                                              \n",
       "                                                                              \n",
       "                                             2                                \n",
       "⎞                 ⎛    2⋅(1 - d)   3⋅(2 - d)⎞                                 \n",
       "⎟⋅(3 - d)⋅(4 - d)⋅⎜1 + ───────── + ─────────⎟                                 \n",
       "⎟                 ⎜         2           2   ⎟                                 \n",
       "⎠                 ⎝        d           d    ⎠                                 \n",
       "──────────────────────────────────────────────                                \n",
       "               3                                                              \n",
       "              d                                                               \n",
       "──────────────────────────────────────────────                  ──────────────\n",
       "⎛    2⋅(1 - d)   3⋅(2 - d)⎞⎞                                       ⎛          \n",
       "⎜1 + ───────── + ─────────⎟⎟                                       ⎜          \n",
       "⎜         2           2   ⎟⎟                                       ⎜          \n",
       "⎝        d           d    ⎠⎟                                     2 ⎜    2⋅(1 -\n",
       "───────────────────────────⎟                                    d ⋅⎜1 + ──────\n",
       "         2                 ⎟                                       ⎜         2\n",
       "        d                  ⎠                                       ⎝        d \n",
       "                                                                              \n",
       "                                                                              \n",
       "                                                                              \n",
       "                    2                                                         \n",
       "(1 - d)   3⋅(2 - d)⎞                                                          \n",
       "─────── + ─────────⎟                                                          \n",
       "   2           2   ⎟                                                          \n",
       "  d           d    ⎠                                                          \n",
       "─────────────────────                                                         \n",
       "  2                                                                           \n",
       " d                                                                            \n",
       "─────────────────────                                           ──────────────\n",
       "   3⋅(2 - d)⎞⎞                                                    ⎛           \n",
       " + ─────────⎟⎟                                                    ⎜           \n",
       "        2   ⎟⎟                                                    ⎜           \n",
       "       d    ⎠⎟                                                    ⎜    2⋅(1 - \n",
       "─────────────⎟                                                  d⋅⎜1 + ───────\n",
       "             ⎟                                                    ⎜         2 \n",
       "             ⎠                                                    ⎝        d  \n",
       "                                                                              \n",
       "                                                                              \n",
       "                                                                              \n",
       "                                                                              \n",
       "                                                                              \n",
       "                                                                              \n",
       "                                                                              \n",
       "                                                                              \n",
       "                                                                  ────────────\n",
       "                                                                              \n",
       "                                                                              \n",
       "                                                                              \n",
       "                                                                      2⋅(1 - d\n",
       "                                                                  1 + ────────\n",
       "                                                                           2  \n",
       "                                                                          d   \n",
       "\n",
       "                                                                              \n",
       "                                                                              \n",
       "                                                                              \n",
       "                                                                              \n",
       "                                                                              \n",
       "                                                                              \n",
       "                                                                              \n",
       "                                                                              \n",
       "                                                                              \n",
       "                   (1 - d)⋅(2 - d)⋅(3 - d)⋅(4 - d)                            \n",
       "──────────────────────────────────────────────────────────────────────────────\n",
       "        ⎛    2⋅(1 - d)⎞                                 ⎛    2⋅(1 - d)   3⋅(2 \n",
       "      4⋅⎜1 + ─────────⎟⋅(3 - d)               5⋅(4 - d)⋅⎜1 + ───────── + ─────\n",
       "        ⎜         2   ⎟                                 ⎜         2           \n",
       " d)     ⎝        d    ⎠           3⋅(2 - d)             ⎝        d           d\n",
       "─── + ───────────────────────── + ───────── + ────────────────────────────────\n",
       "                   2                   2                         2            \n",
       "                  d                   d                         d             \n",
       "                                                                              \n",
       "                                                                              \n",
       "                                                                              \n",
       "                                                                              \n",
       "                                                                              \n",
       "                                                                              \n",
       "                                                                              \n",
       "                                                                              \n",
       "                                                                              \n",
       "                                                                              \n",
       "                      -(2 - d)⋅(3 - d)⋅(4 - d)                                \n",
       "──────────────────────────────────────────────────────────────────────────────\n",
       "        ⎛    2⋅(1 - d)⎞                                 ⎛    2⋅(1 - d)   3⋅(2 \n",
       "      4⋅⎜1 + ─────────⎟⋅(3 - d)               5⋅(4 - d)⋅⎜1 + ───────── + ─────\n",
       "        ⎜         2   ⎟                                 ⎜         2           \n",
       " d)     ⎝        d    ⎠           3⋅(2 - d)             ⎝        d           d\n",
       "─── + ───────────────────────── + ───────── + ────────────────────────────────\n",
       "                   2                   2                         2            \n",
       "                  d                   d                         d             \n",
       "                                                                              \n",
       "                                                                              \n",
       "                                                                              \n",
       "                                                                              \n",
       "                                                                              \n",
       "                                                                              \n",
       "                                                                              \n",
       "                   ⎛    2⋅(1 - d)⎞                                            \n",
       "                   ⎜1 + ─────────⎟⋅(3 - d)⋅(4 - d)                            \n",
       "                   ⎜         2   ⎟                                            \n",
       "                   ⎝        d    ⎠                                            \n",
       "──────────────────────────────────────────────────────────────────────────────\n",
       "        ⎛    2⋅(1 - d)⎞                                 ⎛    2⋅(1 - d)   3⋅(2 \n",
       "      4⋅⎜1 + ─────────⎟⋅(3 - d)               5⋅(4 - d)⋅⎜1 + ───────── + ─────\n",
       "        ⎜         2   ⎟                                 ⎜         2           \n",
       " d)     ⎝        d    ⎠           3⋅(2 - d)             ⎝        d           d\n",
       "─── + ───────────────────────── + ───────── + ────────────────────────────────\n",
       "                   2                   2                         2            \n",
       "                  d                   d                         d             \n",
       "                                                                              \n",
       "                                                                              \n",
       "                                                                              \n",
       "                                                                              \n",
       "                                                                              \n",
       "                                                                              \n",
       "                                                                              \n",
       "                         ⎛    2⋅(1 - d)   3⋅(2 - d)⎞                          \n",
       "                -(4 - d)⋅⎜1 + ───────── + ─────────⎟                          \n",
       "                         ⎜         2           2   ⎟                          \n",
       "                         ⎝        d           d    ⎠                          \n",
       "──────────────────────────────────────────────────────────────────────────────\n",
       "       ⎛    2⋅(1 - d)⎞                                 ⎛    2⋅(1 - d)   3⋅(2 -\n",
       "     4⋅⎜1 + ─────────⎟⋅(3 - d)               5⋅(4 - d)⋅⎜1 + ───────── + ──────\n",
       "       ⎜         2   ⎟                                 ⎜         2           2\n",
       "d)     ⎝        d    ⎠           3⋅(2 - d)             ⎝        d           d \n",
       "── + ───────────────────────── + ───────── + ─────────────────────────────────\n",
       "                  2                   2                         2             \n",
       "                 d                   d                         d              \n",
       "                                                                              \n",
       "                          ⎛    2⋅(1 - d)⎞                                     \n",
       "                        4⋅⎜1 + ─────────⎟⋅(3 - d)                             \n",
       "                          ⎜         2   ⎟                                     \n",
       "            2⋅(1 - d)     ⎝        d    ⎠           3⋅(2 - d)                 \n",
       "        1 + ───────── + ───────────────────────── + ─────────                 \n",
       "                 2                   2                   2                    \n",
       "                d                   d                   d                     \n",
       "──────────────────────────────────────────────────────────────────────────────\n",
       "      ⎛    2⋅(1 - d)⎞                                 ⎛    2⋅(1 - d)   3⋅(2 - \n",
       "    4⋅⎜1 + ─────────⎟⋅(3 - d)               5⋅(4 - d)⋅⎜1 + ───────── + ───────\n",
       "      ⎜         2   ⎟                                 ⎜         2           2 \n",
       ")     ⎝        d    ⎠           3⋅(2 - d)             ⎝        d           d  \n",
       "─ + ───────────────────────── + ───────── + ──────────────────────────────────\n",
       "                 2                   2                         2              \n",
       "                d                   d                         d               \n",
       "\n",
       "      ⎤\n",
       "      ⎥\n",
       "      ⎥\n",
       "      ⎥\n",
       "      ⎥\n",
       "      ⎥\n",
       "      ⎥\n",
       "      ⎥\n",
       "      ⎥\n",
       "      ⎥\n",
       "──────⎥\n",
       "- d)⎞⎞⎥\n",
       "────⎟⎟⎥\n",
       "2   ⎟⎟⎥\n",
       "    ⎠⎟⎥\n",
       "─────⎟⎥\n",
       "     ⎟⎥\n",
       "     ⎠⎥\n",
       "      ⎥\n",
       "      ⎥\n",
       "      ⎥\n",
       "      ⎥\n",
       "      ⎥\n",
       "      ⎥\n",
       "      ⎥\n",
       "      ⎥\n",
       "      ⎥\n",
       "      ⎥\n",
       "      ⎥\n",
       "──────⎥\n",
       "- d)⎞⎞⎥\n",
       "────⎟⎟⎥\n",
       "2   ⎟⎟⎥\n",
       "    ⎠⎟⎥\n",
       "─────⎟⎥\n",
       "     ⎟⎥\n",
       "     ⎠⎥\n",
       "      ⎥\n",
       "      ⎥\n",
       "      ⎥\n",
       "      ⎥\n",
       "      ⎥\n",
       "      ⎥\n",
       "      ⎥\n",
       "      ⎥\n",
       "      ⎥\n",
       "      ⎥\n",
       "      ⎥\n",
       "──────⎥\n",
       "- d)⎞⎞⎥\n",
       "────⎟⎟⎥\n",
       "2   ⎟⎟⎥\n",
       "    ⎠⎟⎥\n",
       "─────⎟⎥\n",
       "     ⎟⎥\n",
       "     ⎠⎥\n",
       "      ⎥\n",
       "      ⎥\n",
       "      ⎥\n",
       "      ⎥\n",
       "      ⎥\n",
       "      ⎥\n",
       "      ⎥\n",
       "      ⎥\n",
       "      ⎥\n",
       "      ⎥\n",
       "      ⎥\n",
       "───── ⎥\n",
       " d)⎞⎞ ⎥\n",
       "───⎟⎟ ⎥\n",
       "   ⎟⎟ ⎥\n",
       "   ⎠⎟ ⎥\n",
       "────⎟ ⎥\n",
       "    ⎟ ⎥\n",
       "    ⎠ ⎥\n",
       "      ⎥\n",
       "      ⎥\n",
       "      ⎥\n",
       "      ⎥\n",
       "      ⎥\n",
       "      ⎥\n",
       "      ⎥\n",
       "      ⎥\n",
       "───   ⎥\n",
       "d)⎞   ⎥\n",
       "──⎟   ⎥\n",
       "  ⎟   ⎥\n",
       "  ⎠   ⎥\n",
       "───   ⎥\n",
       "      ⎥\n",
       "      ⎦"
      ]
     },
     "execution_count": 27,
     "metadata": {},
     "output_type": "execute_result"
    }
   ],
   "source": [
    "G.inv()"
   ]
  },
  {
   "cell_type": "code",
   "execution_count": null,
   "metadata": {},
   "outputs": [],
   "source": []
  },
  {
   "cell_type": "code",
   "execution_count": null,
   "metadata": {},
   "outputs": [],
   "source": []
  },
  {
   "cell_type": "code",
   "execution_count": null,
   "metadata": {},
   "outputs": [],
   "source": []
  },
  {
   "cell_type": "code",
   "execution_count": null,
   "metadata": {},
   "outputs": [],
   "source": []
  },
  {
   "cell_type": "code",
   "execution_count": null,
   "metadata": {},
   "outputs": [],
   "source": []
  },
  {
   "cell_type": "code",
   "execution_count": null,
   "metadata": {},
   "outputs": [],
   "source": []
  },
  {
   "cell_type": "code",
   "execution_count": null,
   "metadata": {},
   "outputs": [],
   "source": []
  },
  {
   "cell_type": "code",
   "execution_count": null,
   "metadata": {},
   "outputs": [],
   "source": []
  },
  {
   "cell_type": "code",
   "execution_count": null,
   "metadata": {},
   "outputs": [],
   "source": [
    "xx(0)"
   ]
  },
  {
   "cell_type": "code",
   "execution_count": 5,
   "metadata": {},
   "outputs": [
    {
     "data": {
      "text/plain": [
       "[1, 1, 1]"
      ]
     },
     "execution_count": 5,
     "metadata": {},
     "output_type": "execute_result"
    }
   ],
   "source": []
  },
  {
   "cell_type": "code",
   "execution_count": null,
   "metadata": {},
   "outputs": [],
   "source": []
  },
  {
   "cell_type": "code",
   "execution_count": null,
   "metadata": {},
   "outputs": [],
   "source": []
  },
  {
   "cell_type": "code",
   "execution_count": null,
   "metadata": {},
   "outputs": [],
   "source": []
  },
  {
   "cell_type": "code",
   "execution_count": null,
   "metadata": {},
   "outputs": [],
   "source": []
  },
  {
   "cell_type": "code",
   "execution_count": null,
   "metadata": {},
   "outputs": [],
   "source": []
  },
  {
   "cell_type": "code",
   "execution_count": null,
   "metadata": {},
   "outputs": [],
   "source": []
  },
  {
   "cell_type": "code",
   "execution_count": null,
   "metadata": {},
   "outputs": [],
   "source": []
  },
  {
   "cell_type": "code",
   "execution_count": null,
   "metadata": {},
   "outputs": [],
   "source": []
  }
 ],
 "metadata": {
  "kernelspec": {
   "display_name": "Python 3",
   "language": "python",
   "name": "python3"
  },
  "language_info": {
   "codemirror_mode": {
    "name": "ipython",
    "version": 3
   },
   "file_extension": ".py",
   "mimetype": "text/x-python",
   "name": "python",
   "nbconvert_exporter": "python",
   "pygments_lexer": "ipython3",
   "version": "3.7.4"
  }
 },
 "nbformat": 4,
 "nbformat_minor": 2
}
