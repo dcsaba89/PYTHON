{
 "cells": [
  {
   "cell_type": "code",
   "execution_count": null,
   "metadata": {},
   "outputs": [],
   "source": [
    "// There have been four official versions of C++, each named after the \n",
    "// year in which the corresponding ISO Standard was adopted\n",
    "// C++98, C++03, C++11, C++14, C++17"
   ]
  },
  {
   "cell_type": "code",
   "execution_count": null,
   "metadata": {},
   "outputs": [],
   "source": [
    "// C++98 and C++03 differ only in technical details\n",
    "// C++14 is effectively a superset of C++11"
   ]
  },
  {
   "cell_type": "code",
   "execution_count": null,
   "metadata": {},
   "outputs": [],
   "source": [
    "// C++ places a premium on efficiency"
   ]
  },
  {
   "cell_type": "code",
   "execution_count": null,
   "metadata": {},
   "outputs": [],
   "source": [
    "// C++11 supports lambda expressions"
   ]
  },
  {
   "cell_type": "code",
   "execution_count": null,
   "metadata": {},
   "outputs": [],
   "source": [
    "// C++14 offers generalized function return type deduction"
   ]
  },
  {
   "cell_type": "code",
   "execution_count": null,
   "metadata": {},
   "outputs": [],
   "source": [
    "// rvalues indicate objects eligible for move operations, \n",
    "// while lvalues generally do not"
   ]
  },
  {
   "cell_type": "code",
   "execution_count": null,
   "metadata": {},
   "outputs": [],
   "source": [
    "// rvalues correspond to temporary objects returned from functions, \n",
    "// while lvalues correspond to objects you can refer to, either by name or by following a pointer or lvalue reference."
   ]
  },
  {
   "cell_type": "code",
   "execution_count": null,
   "metadata": {},
   "outputs": [],
   "source": [
    "// To determine whether an expression is an lvalue is to ask if you can take its address. \n",
    "// If you can, it typically is. If you can’t, it’s usually an rvalue."
   ]
  },
  {
   "cell_type": "code",
   "execution_count": null,
   "metadata": {},
   "outputs": [],
   "source": [
    "// given a type T, you can have lvalues of type T as well as rvalues of type T"
   ]
  },
  {
   "cell_type": "code",
   "execution_count": null,
   "metadata": {},
   "outputs": [],
   "source": [
    "class Widget \n",
    "{\n",
    "    public:\n",
    "    Widget(Widget&& rhs); // rhs is an lvalue, though it has an rvalue reference type\n",
    "};"
   ]
  },
  {
   "cell_type": "code",
   "execution_count": null,
   "metadata": {},
   "outputs": [],
   "source": [
    "// rhs is an lvalue, even though its type is an rvalue reference"
   ]
  },
  {
   "cell_type": "code",
   "execution_count": null,
   "metadata": {},
   "outputs": [],
   "source": [
    "// When an object is initialized with another object of the same type, the new object is\n",
    "// said to be a copy of the initializing object, even if the copy was created via the move\n",
    "// constructor. Regrettably, there’s no terminology in C++ that distinguishes between\n",
    "// an object that’s a copy-constructed copy and one that’s a move-constructed copy:"
   ]
  },
  {
   "cell_type": "code",
   "execution_count": null,
   "metadata": {},
   "outputs": [],
   "source": [
    "// someFunc's parameter w is passed by value\n",
    "void someFunc(Widget w);"
   ]
  },
  {
   "cell_type": "code",
   "execution_count": null,
   "metadata": {},
   "outputs": [],
   "source": [
    "// wid is some Widget\n",
    "Widget wid;"
   ]
  },
  {
   "cell_type": "code",
   "execution_count": null,
   "metadata": {},
   "outputs": [],
   "source": [
    "// in this call to someFunc, w is a copy of wid that's created via copy construction\n",
    "// function call parameter is w and the argument is wid\n",
    "someFunc(wid);"
   ]
  },
  {
   "cell_type": "code",
   "execution_count": null,
   "metadata": {},
   "outputs": [],
   "source": [
    "// in this call to SomeFunc, w is a copy of wid that's created via move construction\n",
    "// function call parameter is w and the argument is std::move(wid)\n",
    "someFunc(std::move(wid));"
   ]
  },
  {
   "cell_type": "code",
   "execution_count": null,
   "metadata": {},
   "outputs": [],
   "source": [
    "// Copies of rvalues are generally move constructed, while copies of lvalues are usually copy constructed."
   ]
  },
  {
   "cell_type": "code",
   "execution_count": null,
   "metadata": {},
   "outputs": [],
   "source": [
    "// An implication is that if you know only that an object is a copy of another object, \n",
    "// it’s not possible to say how expensive it was to construct the copy. \n",
    "// In the code above, for example, there’s no way to say how expensive it is to create the parameter w \n",
    "// without knowing whether rvalues or lvalues are passed to someFunc.\n",
    "\n",
    "// (You’d also have to know the cost of moving and copying Widgets.)"
   ]
  },
  {
   "cell_type": "code",
   "execution_count": null,
   "metadata": {},
   "outputs": [],
   "source": [
    "// The distinction between arguments and parameters is important, \n",
    "// because parameters are lvalues, but the arguments with which they are initialized may be rvalues or lvalues."
   ]
  },
  {
   "cell_type": "code",
   "execution_count": null,
   "metadata": {},
   "outputs": [],
   "source": [
    "// In a function call, the expressions passed at the call site are the function’s arguments.\n",
    "// The arguments are used to initialize the function’s parameters."
   ]
  },
  {
   "cell_type": "code",
   "execution_count": null,
   "metadata": {},
   "outputs": [],
   "source": []
  },
  {
   "cell_type": "code",
   "execution_count": null,
   "metadata": {},
   "outputs": [],
   "source": []
  },
  {
   "cell_type": "code",
   "execution_count": null,
   "metadata": {},
   "outputs": [],
   "source": [
    "// Function objects created through lambda expressions are known as closures."
   ]
  },
  {
   "cell_type": "code",
   "execution_count": null,
   "metadata": {},
   "outputs": [],
   "source": []
  },
  {
   "cell_type": "code",
   "execution_count": null,
   "metadata": {},
   "outputs": [],
   "source": [
    "// Many things in C++ can be both declared and defined."
   ]
  },
  {
   "cell_type": "code",
   "execution_count": null,
   "metadata": {},
   "outputs": [],
   "source": [
    "// Declarations introduce names and types without giving details, \n",
    "// such as where storage is located or how things are implemented:"
   ]
  },
  {
   "cell_type": "code",
   "execution_count": null,
   "metadata": {},
   "outputs": [],
   "source": [
    "// object declaration\n",
    "extern int x;"
   ]
  },
  {
   "cell_type": "code",
   "execution_count": null,
   "metadata": {},
   "outputs": [],
   "source": [
    "// class declaration\n",
    "class Widget;"
   ]
  },
  {
   "cell_type": "code",
   "execution_count": null,
   "metadata": {},
   "outputs": [],
   "source": [
    "// function declaration\n",
    "bool func(const Widget& w);"
   ]
  },
  {
   "cell_type": "code",
   "execution_count": null,
   "metadata": {},
   "outputs": [],
   "source": [
    "// scoped enum declaration\n",
    "enum class Color;"
   ]
  },
  {
   "cell_type": "code",
   "execution_count": null,
   "metadata": {},
   "outputs": [],
   "source": [
    "// Definitions provide the storage locations or implementation details:"
   ]
  },
  {
   "cell_type": "code",
   "execution_count": null,
   "metadata": {},
   "outputs": [],
   "source": [
    "// object definition\n",
    "int x;"
   ]
  },
  {
   "cell_type": "code",
   "execution_count": null,
   "metadata": {},
   "outputs": [],
   "source": [
    "// class definition\n",
    "class Widget\n",
    "{\n",
    "    ...\n",
    "};"
   ]
  },
  {
   "cell_type": "code",
   "execution_count": null,
   "metadata": {},
   "outputs": [],
   "source": [
    "// function definition\n",
    "bool func(const Widget& w)\n",
    "{\n",
    "    return w.size() < 10;\n",
    "}"
   ]
  },
  {
   "cell_type": "code",
   "execution_count": null,
   "metadata": {},
   "outputs": [],
   "source": [
    "// scoped enum definition\n",
    "enum class Color\n",
    "{\n",
    "    Yellow, \n",
    "    Red, \n",
    "    Blue\n",
    "};"
   ]
  },
  {
   "cell_type": "code",
   "execution_count": null,
   "metadata": {},
   "outputs": [],
   "source": [
    "// a function’s signature is a declaration that specifies parameter and return types\n",
    "// function and parameter names are not part of the signature\n",
    "\n",
    "// elements of a function’s declaration other than its parameter and return types \n",
    "// (e.g., noexcept or constexpr, if present), are excluded."
   ]
  },
  {
   "cell_type": "code",
   "execution_count": null,
   "metadata": {},
   "outputs": [],
   "source": [
    "// bool(const Widget&) is the func function’s signature"
   ]
  },
  {
   "cell_type": "code",
   "execution_count": null,
   "metadata": {},
   "outputs": [],
   "source": [
    "// std::auto_ptr is deprecated in C++11, because std::unique_ptr does the same job, only better"
   ]
  },
  {
   "cell_type": "code",
   "execution_count": null,
   "metadata": {},
   "outputs": [],
   "source": [
    "// I call built-in pointers, such as those returned from new, raw pointers. \n",
    "// The opposite of a raw pointer is a smart pointer. \n",
    "// Smart pointers normally overload the pointerdereferencing operators (operator-> and operator*), \n",
    "// though Item 20 explains that std::weak_ptr is an exception."
   ]
  },
  {
   "cell_type": "code",
   "execution_count": null,
   "metadata": {},
   "outputs": [],
   "source": [
    "// in source code comments, abbreviate “constructor” as ctor and “destructor” as dtor"
   ]
  },
  {
   "cell_type": "code",
   "execution_count": null,
   "metadata": {},
   "outputs": [],
   "source": []
  },
  {
   "cell_type": "code",
   "execution_count": null,
   "metadata": {},
   "outputs": [],
   "source": [
    "// chapter 1"
   ]
  },
  {
   "cell_type": "code",
   "execution_count": null,
   "metadata": {},
   "outputs": [],
   "source": [
    "// Deducing Types"
   ]
  },
  {
   "cell_type": "code",
   "execution_count": null,
   "metadata": {},
   "outputs": [],
   "source": [
    "// Item 1: Understand template type deduction."
   ]
  },
  {
   "cell_type": "code",
   "execution_count": null,
   "metadata": {},
   "outputs": [],
   "source": [
    "template<typename T>\n",
    "void f(ParamType param);"
   ]
  },
  {
   "cell_type": "code",
   "execution_count": null,
   "metadata": {},
   "outputs": [],
   "source": [
    "// call f with some expression\n",
    "f(expr);"
   ]
  },
  {
   "cell_type": "code",
   "execution_count": null,
   "metadata": {},
   "outputs": [],
   "source": [
    "// During compilation, compilers use expr to deduce two types: one for T and one for ParamType. \n",
    "// These types are frequently different, because ParamType often contains adornments, e.g., const or reference qualifiers."
   ]
  },
  {
   "cell_type": "code",
   "execution_count": null,
   "metadata": {},
   "outputs": [],
   "source": [
    "// ParamType is const T&\n",
    "template<typename T>\n",
    "void f(const T& param);"
   ]
  },
  {
   "cell_type": "code",
   "execution_count": null,
   "metadata": {},
   "outputs": [],
   "source": [
    "// call f with an int\n",
    "// in this case T is deduced to be int, but ParamType is deduced to be const int&\n",
    "int x = 0;\n",
    "f(x);"
   ]
  },
  {
   "cell_type": "code",
   "execution_count": null,
   "metadata": {},
   "outputs": [],
   "source": [
    "// The type deduced for T is dependent not just on the type of expr, but also on the form of ParamType.\n",
    "\n",
    "// 1) ParamType is a pointer or reference type, but not a universal reference\n",
    "//    In this case, type deduction works like this:\n",
    "//         If expr’s type is a reference, ignore the reference part.\n",
    "//         Then pattern-match expr’s type against ParamType to determine T.\n"
   ]
  },
  {
   "cell_type": "code",
   "execution_count": null,
   "metadata": {},
   "outputs": [],
   "source": [
    "// param is a reference\n",
    "template<typename T>\n",
    "void f(T& param);"
   ]
  },
  {
   "cell_type": "code",
   "execution_count": null,
   "metadata": {},
   "outputs": [],
   "source": [
    "// x is an int\n",
    "int x = 27;\n",
    "// T is int, param’s type is int&\n",
    "f(x);\n",
    "\n",
    "// cx is a const int\n",
    "const int cx = x;\n",
    "// T is const int, param’s type is const int&\n",
    "f(cx);\n",
    "\n",
    "// rx is a reference to x as a const int\n",
    "const int& rx = x;\n",
    "// T is const int, param’s type is const int&\n",
    "f(rx);"
   ]
  },
  {
   "cell_type": "code",
   "execution_count": null,
   "metadata": {},
   "outputs": [],
   "source": []
  },
  {
   "cell_type": "code",
   "execution_count": null,
   "metadata": {},
   "outputs": [],
   "source": [
    "// passing a const object to a template taking a T& parameter is safe:\n",
    "// the constness of the object becomes part of the type deduced for T."
   ]
  },
  {
   "cell_type": "code",
   "execution_count": null,
   "metadata": {},
   "outputs": [],
   "source": []
  },
  {
   "cell_type": "code",
   "execution_count": null,
   "metadata": {},
   "outputs": [],
   "source": [
    "//If we change the type of f’s parameter from T& to const T&, things change a little, but not in any really surprising ways."
   ]
  },
  {
   "cell_type": "code",
   "execution_count": null,
   "metadata": {},
   "outputs": [],
   "source": [
    "// param is now a ref-to-const\n",
    "template<typename T>\n",
    "void f(const T& param);"
   ]
  },
  {
   "cell_type": "code",
   "execution_count": null,
   "metadata": {},
   "outputs": [],
   "source": [
    "int x = 27;\n",
    "// T is int, param’s type is const int&\n",
    "f(x);"
   ]
  },
  {
   "cell_type": "code",
   "execution_count": null,
   "metadata": {},
   "outputs": [],
   "source": [
    "const int cx = x;\n",
    "// T is int, param's type is const int&\n",
    "f(cx);"
   ]
  },
  {
   "cell_type": "code",
   "execution_count": null,
   "metadata": {},
   "outputs": [],
   "source": [
    "const int& rx = x;\n",
    "// T is int, param's type is const int&\n",
    "f(rx);"
   ]
  },
  {
   "cell_type": "code",
   "execution_count": null,
   "metadata": {},
   "outputs": [],
   "source": [
    "// As before, rx’s reference-ness is ignored during type deduction."
   ]
  },
  {
   "cell_type": "code",
   "execution_count": null,
   "metadata": {},
   "outputs": [],
   "source": [
    "// If param were a pointer (or a pointer to const) instead of a reference, things would work essentially the same way:"
   ]
  },
  {
   "cell_type": "code",
   "execution_count": null,
   "metadata": {},
   "outputs": [],
   "source": [
    "// param is now a pointer\n",
    "template<typename T>\n",
    "void f(T* param);"
   ]
  },
  {
   "cell_type": "code",
   "execution_count": null,
   "metadata": {},
   "outputs": [],
   "source": [
    "int x = 27;\n",
    "// px is a ptr to x as a const int\n",
    "const int *px = &x;"
   ]
  },
  {
   "cell_type": "code",
   "execution_count": null,
   "metadata": {},
   "outputs": [],
   "source": [
    "// T is int, param's type is int*\n",
    "f(&x);"
   ]
  },
  {
   "cell_type": "code",
   "execution_count": null,
   "metadata": {},
   "outputs": [],
   "source": [
    "// T is const int, param's type is const int*\n",
    "f(px);"
   ]
  },
  {
   "cell_type": "code",
   "execution_count": null,
   "metadata": {},
   "outputs": [],
   "source": []
  },
  {
   "cell_type": "code",
   "execution_count": null,
   "metadata": {},
   "outputs": [],
   "source": []
  },
  {
   "cell_type": "code",
   "execution_count": null,
   "metadata": {},
   "outputs": [],
   "source": [
    "// 2) ParamType is a universal reference."
   ]
  },
  {
   "cell_type": "code",
   "execution_count": null,
   "metadata": {},
   "outputs": [],
   "source": [
    "// Things are less obvious for templates taking universal reference parameters. (a universal reference’s declared type is T&&)"
   ]
  },
  {
   "cell_type": "code",
   "execution_count": null,
   "metadata": {},
   "outputs": [],
   "source": [
    "// If expr is an lvalue, both T and ParamType are deduced to be lvalue references."
   ]
  },
  {
   "cell_type": "code",
   "execution_count": null,
   "metadata": {},
   "outputs": [],
   "source": []
  },
  {
   "cell_type": "code",
   "execution_count": null,
   "metadata": {},
   "outputs": [],
   "source": []
  },
  {
   "cell_type": "code",
   "execution_count": null,
   "metadata": {},
   "outputs": [],
   "source": []
  },
  {
   "cell_type": "code",
   "execution_count": null,
   "metadata": {},
   "outputs": [],
   "source": [
    "// 3) ParamType is neither a pointer nor a reference."
   ]
  },
  {
   "cell_type": "code",
   "execution_count": null,
   "metadata": {},
   "outputs": [],
   "source": []
  }
 ],
 "metadata": {
  "kernelspec": {
   "display_name": "Python 3",
   "language": "python",
   "name": "python3"
  },
  "language_info": {
   "codemirror_mode": {
    "name": "ipython",
    "version": 3
   },
   "file_extension": ".py",
   "mimetype": "text/x-python",
   "name": "python",
   "nbconvert_exporter": "python",
   "pygments_lexer": "ipython3",
   "version": "3.7.3"
  }
 },
 "nbformat": 4,
 "nbformat_minor": 2
}
