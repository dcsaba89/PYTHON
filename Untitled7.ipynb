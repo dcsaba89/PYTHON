{
 "cells": [
  {
   "cell_type": "code",
   "execution_count": 1,
   "metadata": {},
   "outputs": [],
   "source": [
    "# Plotting and Visualization\n",
    "# The most popular general-purpose visualization library is Matplotlib, \n",
    "# which mainly focuses on generating static publication-quality 2D and 3D graphs.\n",
    "\n",
    "# Seaborn is a high-level plotting library which targets statistical data analysis, based on the Matplotlib library.\n",
    "# line plots, bar plots, contour plots, colormap plots, and 3D surface plots"
   ]
  },
  {
   "cell_type": "code",
   "execution_count": 3,
   "metadata": {},
   "outputs": [],
   "source": [
    "# To use the object-oriented Matplotlib API, we first need to import its Python modules.\n",
    "# Matplotlib is imported using the following standard convention:\n",
    "\n",
    "# as we are working in an IPython environment and more specifically in the Jupyter Notebook\n",
    "# we have to configure Matplotlib to use the “inline” backend, \n",
    "# which results the created figures being displayed directly in this Notebook, rather than in a new window\n",
    "%matplotlib inline\n",
    "\n",
    "# import the main Matplotlib module\n",
    "import matplotlib as mpl\n",
    "\n",
    "# access to the pyplot submodule from matplotlib that provides the functions that we will use to create new Figure instances\n",
    "import matplotlib.pyplot as plt\n",
    "from mpl_toolkits.mplot3d.axes3d import Axes3D"
   ]
  },
  {
   "cell_type": "code",
   "execution_count": 4,
   "metadata": {},
   "outputs": [],
   "source": [
    "import numpy as np"
   ]
  },
  {
   "cell_type": "code",
   "execution_count": 5,
   "metadata": {},
   "outputs": [],
   "source": [
    "import sympy"
   ]
  },
  {
   "cell_type": "code",
   "execution_count": null,
   "metadata": {},
   "outputs": [],
   "source": []
  },
  {
   "cell_type": "code",
   "execution_count": null,
   "metadata": {},
   "outputs": [],
   "source": []
  }
 ],
 "metadata": {
  "kernelspec": {
   "display_name": "Python 3",
   "language": "python",
   "name": "python3"
  },
  "language_info": {
   "codemirror_mode": {
    "name": "ipython",
    "version": 3
   },
   "file_extension": ".py",
   "mimetype": "text/x-python",
   "name": "python",
   "nbconvert_exporter": "python",
   "pygments_lexer": "ipython3",
   "version": "3.7.3"
  }
 },
 "nbformat": 4,
 "nbformat_minor": 2
}
